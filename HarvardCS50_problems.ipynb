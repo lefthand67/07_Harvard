{
 "cells": [
  {
   "cell_type": "markdown",
   "id": "f9d20777-7200-4783-8e29-a318e8d7c756",
   "metadata": {},
   "source": [
    "# CS50 from [Harvard](https://learning.edx.org/course/course-v1:HarvardX+CS50+X/home) PROBLEMS"
   ]
  },
  {
   "cell_type": "markdown",
   "id": "5ebe8274-4549-48f6-a8e0-3ec78fff75f6",
   "metadata": {},
   "source": [
    "# Required installations "
   ]
  },
  {
   "cell_type": "markdown",
   "id": "384d2b04-cac7-449f-a783-75c450140e57",
   "metadata": {},
   "source": [
    "(using bash or bash kernel):\n",
    "\n",
    "- jupyter [C kernel](https://github.com/brendan-rius/jupyter-c-kernel)"
   ]
  },
  {
   "cell_type": "code",
   "execution_count": null,
   "id": "83a74834-cb07-45cc-a39b-137823bfdcef",
   "metadata": {},
   "outputs": [],
   "source": [
    "# pip install --upgrade\n",
    "# pip install jupyter-c-kernel"
   ]
  },
  {
   "cell_type": "code",
   "execution_count": null,
   "id": "798e2afe-a651-4ce0-9641-e3dd7c8fd016",
   "metadata": {},
   "outputs": [],
   "source": [
    "# install_c_kernel"
   ]
  },
  {
   "cell_type": "markdown",
   "id": "883c3de0-a8ca-451c-a8c1-045f21a44e24",
   "metadata": {},
   "source": [
    "- [cs50 library](https://cs50.readthedocs.io/libraries/cs50/c/)"
   ]
  },
  {
   "cell_type": "code",
   "execution_count": null,
   "id": "a69a0ec0-a810-496f-abda-3fab2a0944a9",
   "metadata": {},
   "outputs": [],
   "source": [
    "# curl -s https://packagecloud.io/install/repositories/cs50/repo/script.deb.sh | sudo bash"
   ]
  },
  {
   "cell_type": "code",
   "execution_count": 1,
   "id": "c4084c40-d9c0-481e-b951-dc1b3c8e01bb",
   "metadata": {
    "tags": []
   },
   "outputs": [],
   "source": [
    "# sudo apt install libcs50"
   ]
  },
  {
   "cell_type": "markdown",
   "id": "d076d32f-76f5-41d3-9337-074ba15b4cf8",
   "metadata": {
    "jp-MarkdownHeadingCollapsed": true,
    "tags": [],
    "toc-hr-collapsed": true
   },
   "source": [
    "# <b>Week 1 C</b>"
   ]
  },
  {
   "cell_type": "markdown",
   "id": "6b6e67c2-225d-4d79-b8b3-cc9c9d1ef3e8",
   "metadata": {},
   "source": [
    "## W1 Prime numbers in a given range \n",
    "from [Harvard CS50](https://cs50.harvard.edu/x/2023/problems/1/prime/) 2023 Lecture 1"
   ]
  },
  {
   "cell_type": "code",
   "execution_count": 72,
   "id": "217acbcb-8995-49d7-b6b2-abd43445cdcc",
   "metadata": {
    "execution": {
     "iopub.execute_input": "2023-04-15T21:18:08.422593Z",
     "iopub.status.busy": "2023-04-15T21:18:08.421593Z",
     "iopub.status.idle": "2023-04-15T21:18:16.784528Z",
     "shell.execute_reply": "2023-04-15T21:18:16.783525Z",
     "shell.execute_reply.started": "2023-04-15T21:18:08.422593Z"
    },
    "tags": []
   },
   "outputs": [
    {
     "name": "stdin",
     "output_type": "stream",
     "text": [
      "Enter the range max:  10000\n"
     ]
    },
    {
     "name": "stdout",
     "output_type": "stream",
     "text": [
      "Total time: 5.18043065 sec.\n"
     ]
    }
   ],
   "source": [
    "import time\n",
    "\n",
    "rng = int(input(\"Enter the range max: \"))\n",
    "\n",
    "starting_time = time.time()\n",
    "primes = [] * rng\n",
    "primes.extend([1, 2, 3])\n",
    "for i in range(5, rng):\n",
    "    if i%2 == 0:\n",
    "        continue\n",
    "    else:\n",
    "        for j in primes[2:]:\n",
    "            if i%j == 0:\n",
    "                break\n",
    "            elif (i%j != 0 and\n",
    "                  primes.index(j) == len(primes) - 1):\n",
    "                primes.append(i)\n",
    "\n",
    "print(f'Total time: {((time.time() - starting_time)):.8f} sec.')"
   ]
  },
  {
   "cell_type": "code",
   "execution_count": 73,
   "id": "18982406-ad02-4c35-a698-698259ae296e",
   "metadata": {
    "execution": {
     "iopub.execute_input": "2023-04-15T21:54:15.477605Z",
     "iopub.status.busy": "2023-04-15T21:54:15.477605Z",
     "iopub.status.idle": "2023-04-15T21:54:24.596260Z",
     "shell.execute_reply": "2023-04-15T21:54:24.596260Z",
     "shell.execute_reply.started": "2023-04-15T21:54:15.477605Z"
    },
    "tags": []
   },
   "outputs": [
    {
     "name": "stdin",
     "output_type": "stream",
     "text": [
      "Enter the range max:  10000\n"
     ]
    },
    {
     "name": "stdout",
     "output_type": "stream",
     "text": [
      "Total time: 5.20025849 sec.\n"
     ]
    }
   ],
   "source": [
    "import time\n",
    "# import numpy as np\n",
    "\n",
    "rng = int(input(\"Enter the range max: \"))\n",
    "\n",
    "starting_time = time.time()\n",
    "primes = [] * int(rng/2)\n",
    "primes.extend([1, 2, 3])\n",
    "\n",
    "for i in range(5, rng, 2):\n",
    "    for j in primes[2:]:\n",
    "        if i%j == 0:\n",
    "            break\n",
    "        elif (i%j != 0 and\n",
    "              primes.index(j) == len(primes) - 1):\n",
    "            primes.append(i)\n",
    "\n",
    "print(f'Total time: {((time.time() - starting_time)):.8f} sec.')"
   ]
  },
  {
   "cell_type": "markdown",
   "id": "0de236f0-54df-453c-88d2-a1c2ed7faebc",
   "metadata": {},
   "source": [
    "## W1 Mario\n",
    "from [Harvard CS50](https://cs50.harvard.edu/x/2023/psets/1/mario/more/) 2023 Lecture 1"
   ]
  },
  {
   "cell_type": "markdown",
   "id": "210af605-7bb8-4f6b-85cb-700da89b6dd3",
   "metadata": {},
   "source": [
    "```\n",
    "   #  #\n",
    "  ##  ##\n",
    " ###  ###\n",
    "####  ####\n",
    "```"
   ]
  },
  {
   "cell_type": "code",
   "execution_count": 23,
   "id": "644b8857-a851-49a6-99dc-489a3c1594e2",
   "metadata": {
    "execution": {
     "iopub.execute_input": "2023-04-21T20:47:26.876351Z",
     "iopub.status.busy": "2023-04-21T20:47:26.875351Z",
     "iopub.status.idle": "2023-04-21T20:47:35.782690Z",
     "shell.execute_reply": "2023-04-21T20:47:35.781694Z",
     "shell.execute_reply.started": "2023-04-21T20:47:26.876351Z"
    },
    "tags": []
   },
   "outputs": [
    {
     "name": "stdin",
     "output_type": "stream",
     "text": [
      "Enter number between 1 and 8:  10\n",
      "Enter number between 1 and 8:  0\n",
      "Enter number between 1 and 8:  5\n"
     ]
    },
    {
     "name": "stdout",
     "output_type": "stream",
     "text": [
      "       \n",
      "    #  #\n",
      "   ##  ##\n",
      "  ###  ###\n",
      " ####  ####\n",
      "#####  #####\n"
     ]
    }
   ],
   "source": [
    "move = True\n",
    "while move:\n",
    "    n = int(input(\"Enter number between 1 and 8: \"))\n",
    "    if n > 0 and n < 9:\n",
    "        move = False\n",
    "\n",
    "for i in range(n+1):\n",
    "    str1 = ' ' * (n - i) + '#' * i\n",
    "    str2 = '#' * i\n",
    "    print(str1 + '  ' + str2)"
   ]
  },
  {
   "cell_type": "markdown",
   "id": "5bcd17c3-a77f-4aea-9e5e-6057c53d56e6",
   "metadata": {},
   "source": [
    "## W1 Credit cards"
   ]
  },
  {
   "cell_type": "markdown",
   "id": "b5315681-6ec1-419d-baf0-be966b3f4baf",
   "metadata": {},
   "source": [
    "from [Harvard CS50](https://cs50.harvard.edu/x/2023/psets/1/credit/) 2023 Lecture 1\n",
    "\n",
    "A credit (or debit) card, of course, is a plastic card with which you can pay for goods and services. Printed on that card is a number that’s also stored in a database somewhere, so that when your card is used to buy something, the creditor knows whom to bill. There are a lot of people with credit cards in this world, so those numbers are pretty long: American Express uses 15-digit numbers, MasterCard uses 16-digit numbers, and Visa uses 13- and 16-digit numbers. And those are decimal numbers (0 through 9), not binary, which means, for instance, that American Express could print as many as 10^15 = 1,000,000,000,000,000 unique cards! (That’s, um, a quadrillion.)\n",
    "\n",
    "Actually, that’s a bit of an exaggeration, because credit card numbers actually have some structure to them. All American Express numbers start with 34 or 37; most MasterCard numbers start with 51, 52, 53, 54, or 55 (they also have some other potential starting numbers which we won’t concern ourselves with for this problem); and all Visa numbers start with 4. But credit card numbers also have a “checksum” built into them, a mathematical relationship between at least one number and others. That checksum enables computers (or humans who like math) to detect typos (e.g., transpositions), if not fraudulent numbers, without having to query a database, which can be slow. Of course, a dishonest mathematician could certainly craft a fake number that nonetheless respects the mathematical constraint, so a database lookup is still necessary for more rigorous checks.\n",
    "\n",
    "So what’s the secret formula? Well, most cards use an algorithm invented by Hans Peter Luhn of IBM. According to Luhn’s algorithm, you can determine if a credit card number is (syntactically) valid as follows:\n",
    "\n",
    "1. Multiply every other digit by 2, starting with the number’s second-to-last digit, and then add those products’ digits together.\n",
    "2. Add the sum to the sum of the digits that weren’t multiplied by 2.\n",
    "3. If the total’s last digit is 0 (or, put more formally, if the total modulo 10 is congruent to 0), the number is valid!\n",
    "\n",
    "That’s kind of confusing, so let’s try an example with David’s Visa: 4003600000000014.\n",
    "\n",
    "1. For the sake of discussion, let’s first underline every other digit, starting with the number’s second-to-last digit:\n",
    "\n",
    "    <p><u>4</u>0<u>0</u>3<u>6</u>0<u>0</u>0<u>0</u>0<u>0</u>0<u>0</u>0<u>1</u>4</p>\n",
    "\n",
    "    Okay, let’s multiply each of the underlined digits by 2:\n",
    "\n",
    "    1•2 + 0•2 + 0•2 + 0•2 + 0•2 + 6•2 + 0•2 + 4•2\n",
    "\n",
    "    That gives us:\n",
    "\n",
    "    2 + 0 + 0 + 0 + 0 + 12 + 0 + 8\n",
    "\n",
    "2. Now let’s add those products’ digits (i.e., not the products themselves) together:\n",
    "\n",
    "    2 + 0 + 0 + 0 + 0 + 1 + 2 + 0 + 8 = 13\n",
    "\n",
    "    Now let’s add that sum (13) to the sum of the digits that weren’t multiplied by 2 (starting from the end):\n",
    "\n",
    "    13 + 4 + 0 + 0 + 0 + 0 + 0 + 3 + 0 = 20\n",
    "\n",
    "3. Yup, the last digit in that sum (20) is a 0, so David’s card is legit!\n",
    "\n",
    "So, validating credit card numbers isn’t hard, but it does get a bit tedious by hand. Let’s write a program."
   ]
  },
  {
   "cell_type": "code",
   "execution_count": 2,
   "id": "d1dad4fc-4efc-4f78-b236-b2a00ae4f84e",
   "metadata": {
    "execution": {
     "iopub.execute_input": "2023-08-04T05:08:26.539591Z",
     "iopub.status.busy": "2023-08-04T05:08:26.534581Z",
     "iopub.status.idle": "2023-08-04T05:08:26.556656Z",
     "shell.execute_reply": "2023-08-04T05:08:26.554907Z",
     "shell.execute_reply.started": "2023-08-04T05:08:26.539447Z"
    },
    "tags": []
   },
   "outputs": [
    {
     "name": "stdout",
     "output_type": "stream",
     "text": [
      "VISA\n"
     ]
    }
   ],
   "source": [
    "# number = input(\"Number: \")\n",
    "\n",
    "number = '4003600000000014'\n",
    "\n",
    "summ = int()\n",
    "for i in range(len(number)-2, -1, -2):\n",
    "    # adding every second-to-last digit\n",
    "    digit = int(number[i])*2\n",
    "    if digit > 10:\n",
    "        chars = str(digit)\n",
    "        for char in chars:\n",
    "                summ += int(char)\n",
    "    else:\n",
    "        summ += digit\n",
    "    # adding the rest of digits to sum\n",
    "    summ += int(number[i+1])\n",
    "\n",
    "if summ % 10 == 0:\n",
    "    print('VISA')\n",
    "else:\n",
    "    print('Invalid'.upper())"
   ]
  },
  {
   "cell_type": "markdown",
   "id": "044212cd-2898-468e-90a4-e1ba2f65aba7",
   "metadata": {
    "jp-MarkdownHeadingCollapsed": true,
    "toc-hr-collapsed": true
   },
   "source": [
    "# <b>Week 2 Arrays</b>"
   ]
  },
  {
   "cell_type": "markdown",
   "id": "4920dc23-1a0c-4a9d-8a05-e15abecd54d4",
   "metadata": {},
   "source": [
    "## W2 [Scrabble](https://cs50.harvard.edu/x/2023/labs/2/)"
   ]
  },
  {
   "cell_type": "markdown",
   "id": "eeaec739-a777-4c78-b301-c326cc69f993",
   "metadata": {},
   "source": [
    "In the game of Scrabble, players create words to score points, and the number of points is the sum of the point values of each letter in the word.\n",
    "\n",
    "```\n",
    "// Points assigned to each letter of the alphabet\n",
    "int POINTS[] = {1, 3, 3, 2, 1, 4, 2, 4, 1, 8, 5, 1, 3, 1, 1, 3, 10, 1, 1, 1, 1, 4, 4, 8, 4, 10};\n",
    "```\n",
    "\n",
    "For example, if we wanted to score the word `Code`, we would note that in general Scrabble rules, the `C` is worth 3 points, the `o` is worth 1 point, the `d` is worth 2 points, and the `e` is worth 1 point. Summing these, we get that Code is worth `3 + 1 + 2 + 1 = 7` points.\n",
    "\n",
    "The program should determine the winner of a short scrabble-like game, where two players each enter their word, and the higher scoring player wins.\n",
    "\n",
    "Your program should compute, using the POINTS array, and return the score for the string argument. Characters that are not letters should be given zero points, and uppercase and lowercase letters should be given the same point values. For example, `!` is worth 0 points while `A` and `a` are both worth 1 point.\n",
    "\n",
    "Though Scrabble rules normally require that a word be in the dictionary, no need to check for that in this problem!\n",
    "\n",
    "In main(), your program should print, depending on the players’ scores, `Player 1 wins!`, `Player 2 wins!`, or `Tie!`."
   ]
  },
  {
   "cell_type": "code",
   "execution_count": 20,
   "id": "dc60e480-cab3-433c-93f7-fb3717b69618",
   "metadata": {
    "execution": {
     "iopub.execute_input": "2023-05-03T10:13:49.641767Z",
     "iopub.status.busy": "2023-05-03T10:13:49.639771Z",
     "iopub.status.idle": "2023-05-03T10:13:49.654836Z",
     "shell.execute_reply": "2023-05-03T10:13:49.653830Z",
     "shell.execute_reply.started": "2023-05-03T10:13:49.641767Z"
    },
    "tags": []
   },
   "outputs": [
    {
     "name": "stdout",
     "output_type": "stream",
     "text": [
      "Player 1 wins!\n"
     ]
    }
   ],
   "source": [
    "points = (1, 3, 3, 2, 1, 4, 2, 4, 1, 8, 5, 1, 3, 1, 1, 3, 10, 1, 1, 1, 1, 4, 4, 8, 4, 10)\n",
    "\n",
    "def get_score(word):\n",
    "    word = word.lower()\n",
    "    decrement_idx = ord('a')\n",
    "    score = 0\n",
    "    for i in word:\n",
    "        letter_idx = ord(i) - decrement_idx\n",
    "        if letter_idx >= 0 and letter_idx < 26:\n",
    "            score += points[letter_idx]\n",
    "    return score\n",
    "\n",
    "\n",
    "# word1 = input(\"First player's word: \")\n",
    "# word2 = input(\"Second player's word: \")\n",
    "\n",
    "word1 = '!aBc'\n",
    "word2 = 'Бабац a,C,'\n",
    "\n",
    "score1 = get_score(word1)\n",
    "score2 = get_score(word2)\n",
    "\n",
    "if score1 > score2:\n",
    "    print(\"Player 1 wins!\")\n",
    "elif score1 < score2:\n",
    "    print(\"Player 2 wins!\")\n",
    "else:\n",
    "    print(\"Tie!\")\n"
   ]
  },
  {
   "cell_type": "markdown",
   "id": "cb9709a3-8d75-4c3c-9a4f-89ab9060a713",
   "metadata": {},
   "source": [
    "## W2 [Substitution](https://cs50.harvard.edu/x/2023/psets/2/substitution/)"
   ]
  },
  {
   "cell_type": "markdown",
   "id": "2a9c1e9f-9538-43a0-8a9d-caece6e5c254",
   "metadata": {},
   "source": [
    "For this problem, you’ll write a program that implements a substitution cipher, per the below.\n",
    "\n",
    "```\n",
    "plaintext:  HELLO\n",
    "ciphertext: VKXXN\n",
    "```\n",
    "\n",
    "In a substitution cipher, we “encrypt” (i.e., conceal in a reversible way) a message by replacing every letter with another letter. To do so, we use a key: in this case, a mapping of each of the letters of the alphabet to the letter it should correspond to when we encrypt it. To “decrypt” the message, the receiver of the message would need to know the key, so that they can reverse the process: translating the encrypt text (generally called **ciphertext**) back into the original message (generally called **plaintext**).\n",
    "\n",
    "A key, for example, might be the string `NQXPOMAFTRHLZGECYJIUWSKDVB`. This 26-character key means that `A` (the first letter of the alphabet) should be converted into `N` (the first character of the key), `B` (the second letter of the alphabet) should be converted into `Q` (the second character of the key), and so forth.\n",
    "\n",
    "A message like `HELLO`, then, would be encrypted as `FOLLE`, replacing each of the letters according to the mapping determined by the key.\n",
    "\n",
    "Let’s write a program called `substitution` that enables you to encrypt messages using a substitution cipher. At the time the user executes the program, they should decide, by providing a command-line argument, on what the key should be in the secret message they’ll provide at runtime.\n",
    "\n",
    "Here are a few examples of how the program might work. For example, if the user inputs a key of `YTNSHKVEFXRBAUQZCLWDMIPGJO` and a plaintext of `HELLO`:\n",
    "\n",
    "```\n",
    "plaintext:  HELLO\n",
    "ciphertext: EHBBQ\n",
    "```\n",
    "\n",
    "Here’s how the program might work if the user provides a key of `VCHPRZGJNTLSKFBDQWAXEUYMOI` and a plaintext of `hello, world`:\n",
    "\n",
    "```\n",
    "plaintext:  hello, world\n",
    "ciphertext: jrssb, ybwsp\n",
    "```\n",
    "\n",
    "Notice that neither the comma nor the space were substituted by the cipher. Only substitute alphabetical characters! Notice, too, that the case of the original message has been preserved. Lowercase letters remain lowercase, and uppercase letters remain uppercase.\n",
    "\n",
    "Whether the characters in the key itself are uppercase or lowercase doesn’t matter. A key of `VCHPRZGJNTLSKFBDQWAXEUYMOI` is functionally identical to a key of `vchprzgjntlskfbdqwaxeuymoi` (as is, for that matter, `VcHpRzGjNtLsKfBdQwAxEuYmOi`).\n",
    "\n",
    "And what if a user doesn’t provide a valid key? The program should explain with an error message:\n",
    "\n",
    "```\n",
    "Key must contain 26 characters.\n",
    "```\n",
    "\n",
    "Or really doesn’t cooperate, providing no command-line argument at all? The program should remind the user how to use the program:\n",
    "\n",
    "```\n",
    "   \n",
    "Usage: ./substitution key\n",
    "```\n",
    "\n",
    "Or really, really doesn’t cooperate, providing too many command-line arguments? The program should also remind the user how to use the program:\n",
    "\n",
    "```\n",
    "1 2 3\n",
    "Usage: ./substitution key\n",
    "```\n",
    "\n",
    "**Specification**\n",
    "\n",
    "Design and implement a program, substitution, that encrypts messages using a substitution cipher.\n",
    "\n",
    "- Implement your program in a file called substitution.c in a directory called substitution.\n",
    "- Your program must accept a single command-line argument, the `key` to use for the substitution. The `key` itself should be case-insensitive, so whether any character in the `key` is uppercase or lowercase should not affect the behavior of your program.\n",
    "- If your program is executed without any command-line arguments or with more than one command-line argument, your program should print an error message of your choice (with `printf`) and return from main a value of `1` (which tends to signify an error) immediately.\n",
    "- If the `key` is invalid (as by not containing 26 characters, containing any character that is not an alphabetic character, or not containing each letter exactly once), your program should print an error message of your choice (with `printf`) and return from `main` a value of `1` immediately.\n",
    "- Your program must output `plaintext`: (without a newline) and then prompt the user for a string of `plaintext` (using `get_string`).\n",
    "- Your program must output `ciphertext`: (without a newline) followed by the plaintext’s corresponding ciphertext, with each alphabetical character in the plaintext substituted for the corresponding character in the ciphertext; non-alphabetical characters should be outputted unchanged.\n",
    "- Your program must preserve case: capitalized letters must remain capitalized letters; lowercase letters must remain lowercase letters.\n",
    "- After outputting ciphertext, you should print a newline. Your program should then exit by returning `0` from main."
   ]
  },
  {
   "cell_type": "markdown",
   "id": "a472df61-04ea-4e46-b487-ca807130b014",
   "metadata": {},
   "source": [
    "Solution given in java."
   ]
  },
  {
   "cell_type": "markdown",
   "id": "36417432-7b21-41dc-9280-4f75ea8c99ea",
   "metadata": {},
   "source": [
    "## W2 [Hours](https://cs50.harvard.edu/x/2023/problems/2/hours/)"
   ]
  },
  {
   "cell_type": "markdown",
   "id": "3c9d33a5-42c2-4051-81f9-c87820185e66",
   "metadata": {},
   "source": [
    "**Learning Goals**\n",
    "\n",
    "- Practice using arrays\n",
    "- Using an array as a parameter to a function\n",
    "- Adding values in a loop\n",
    "- Integer division and type casting"
   ]
  },
  {
   "cell_type": "markdown",
   "id": "9252a826-68e0-48ec-856c-75daca76871d",
   "metadata": {},
   "source": [
    "**Background**\n",
    "\n",
    "Suppose you’re taking CS50 (if you’re reading this you probably are!) and spending time every week on each problem set. You may be wondering how many hours you’ve spent learning computer science, on average or in total! In this program, you’ll complete a function that calculates, based on a user’s input, a total number of hours or an average number of hours across a given number of days.\n",
    "\n",
    "![demo](data/images/hoursDemo.gif)"
   ]
  },
  {
   "cell_type": "markdown",
   "id": "c20fd8c6-c69c-49d4-ab9e-a8fc63e61c33",
   "metadata": {},
   "source": [
    "**Implementation Details**\n",
    "\n",
    "The main function prompts the user for the number of weeks a user has been taking CS50, then creates an array with as many elements. Notice that, after retrieving some data, the program prompts the user to type in either “T” or “A”—”T” should (but doesn’t yet!) print the total number of hours the user entered, while “A” should (but doesn’t yet!) print the average hours the user entered. Notice that the `do while` loop uses `toupper` to capitalize the letter that’s input before it is saved in the variable output. Then, the printf function calls `calc_hours`. Note the syntax involved when passing an array to a function.\n",
    "\n",
    "To complete `calc_hours`, first total up the hours saved in the array into a new variable. Then, depending on the value of output, return either this sum, or the average number of hours."
   ]
  },
  {
   "cell_type": "markdown",
   "id": "605f1a2c-0e82-41c1-9306-e4c80db1f51a",
   "metadata": {},
   "source": [
    "**Thought Question**\n",
    "\n",
    "What is the advantage of using a function to calculate hours?"
   ]
  },
  {
   "cell_type": "markdown",
   "id": "ed793966-cb91-49e5-96a8-ecc70d65963b",
   "metadata": {},
   "source": [
    "**Your program should behave per the examples below**\n",
    "\n",
    "```\n",
    "hours/ $ ./hours\n",
    "Number of weeks taking CS50: 3\n",
    "Week 0 HW Hours: 3\n",
    "Week 1 HW Hours: 7\n",
    "Week 2 HW Hours: 10\n",
    "Enter T for total hours, A for average hours per week: A\n",
    "6.7 hours\n",
    "\n",
    "hours/ $ ./hours\n",
    "Number of weeks taking CS50: 2\n",
    "Week 0 HW Hours: 2\n",
    "Week 1 HW Hours: 8\n",
    "Enter T for total hours, A for average hours per week: T\n",
    "10.0 hours\n",
    "```"
   ]
  },
  {
   "cell_type": "markdown",
   "id": "3889222c-21e7-4934-9341-dba389eee274",
   "metadata": {},
   "source": [
    "## W2 [N0 V0w3ls](https://cs50.harvard.edu/x/2023/problems/2/no-vowels/)"
   ]
  },
  {
   "cell_type": "markdown",
   "id": "089fda56-58fe-4e62-a749-78eb128368b9",
   "metadata": {},
   "source": [
    "**Learning Goals**\n",
    "\n",
    "- Practice using strings\n",
    "- Practice using command-line arguments\n",
    "- Write a program entirely from scratch\n",
    "\n",
    "**Background**\n",
    "\n",
    "If you’ve been on the internet, you might have seen “[leetspeak](https://en.wikipedia.org/wiki/Leet)” (or “l33tsp36k” for our purposes!), which involves the substitution of symbols for alphabetical characters, where those symbols somewhat resemble their alphabetical counterparts. In this lab, you’ll write a program to replace certain vowels with digits!\n",
    "\n",
    "Up until now, you’ve frequently written programs for which you’ve been provided distribution code. You’ll notice when downloading the “distro” for this problem, you start with nothing more than a couple of commonly used libraries and an empty main function. In this problem, you will convert a word, which you will input at the command line, to a corresponding word with numbers replacing vowels.\n",
    "\n",
    "- Do note that the main function in the distribution code uses `argc` and `argv`. Be sure to use these!\n",
    "- Be sure to check for the correct number of command-line arguments before doing anything else in your main function.\n",
    "\n",
    "![demo](data/images/no-vowelsDemo.gif)"
   ]
  },
  {
   "cell_type": "markdown",
   "id": "86005bd0-37cc-41be-9ba7-4f71a619f872",
   "metadata": {},
   "source": [
    "**Implementation Details**\n",
    "\n",
    "1. Implement your program in a file called `no-vowels.c` in a directory called `no-vowels`.\n",
    "1. Your program must accept a single command-line argument, which will be the word that you want to convert.\n",
    "1. If your program is executed without any command-line arguments or with more than one command-line argument, your program should print an error message of your choice (with printf) and return from main a value of 1 (which tends to signify an error) immediately.\n",
    "1. Your program must contain a function called `replace` which takes a string input and returns a string output.\n",
    "1. This function will change the following vowels to numbers: `a` becomes 6, `e` becomes 3, `i` becomes 1, `o` becomes 0 and `u` does not change.\n",
    "1. The input parameter for the `replace` function will be `argv[1]` and the return value is the converted word.\n",
    "1. The main function will then print the converted word, followed by `\\n`.\n",
    "1. You may want to try using the `switch` statement in your replace function."
   ]
  },
  {
   "cell_type": "markdown",
   "id": "48c240ef-5326-4a76-adac-89634de2da38",
   "metadata": {},
   "source": [
    "**Thought Question**\n",
    "\n",
    "Why might you want to use command-line arguments rather than `get_string`, `get_int`, etc?\n",
    "\n",
    "**Your program should behave per the examples below.**\n",
    "\n",
    "```\n",
    "no-vowels/ $ ./no-vowels\n",
    "Usage: ./no-vowels word\n",
    "\n",
    "no-vowels/ $ ./no-vowels hello\n",
    "h3ll0\n",
    "\n",
    "no-vowels/ $ ./no-vowels pseudocode\n",
    "ps3ud0c0d3\n",
    "```"
   ]
  },
  {
   "cell_type": "markdown",
   "id": "b6660659-3f0c-4551-a6da-b0a72737341d",
   "metadata": {},
   "source": [
    "## W2 [Password](https://cs50.harvard.edu/x/2023/problems/2/password/)"
   ]
  },
  {
   "cell_type": "markdown",
   "id": "c684a4b0-cbd4-4030-a4b3-a438b97a724a",
   "metadata": {},
   "source": [
    "**Learning Goals**\n",
    "\n",
    "- Practice iterating through a string\n",
    "- Practice using the ctype library\n",
    "- Practice using Boolean variables\n",
    "\n",
    "As we all know by now, it’s important to use passwords that are not easy to guess! Many web apps now require passwords that require not only alphabetical characters, but also number and symbols.\n",
    "\n",
    "In this lab, the user is prompted for a password, which will then be validated using a function check that you will complete. If the password contains at least one upper case letter, one lower case letter, a number, and a symbol (meaning a printable character that’s not a letter or number, such as ‘!’, ‘$’ and ‘#’), the function should return `true`. If not it should return `false`.\n",
    "\n",
    "**Implementation Details**\n",
    "\n",
    "Your function will iterate through the password that’s supplied to it as an argument. Since you have to find at least \n",
    "- one lower case letter, \n",
    "- one upper case letter, \n",
    "- one number, and \n",
    "- one symbol, \n",
    "\n",
    "you may want to create a boolean variable for each and set each to false before you iterate through the string. If you then find a number, for instance you can set that boolean to `true`. If all booleans are `true` at the end of the function, it means all criteria are met, and you would return `true`.\n",
    "\n",
    "**Thought Question**\n",
    "\n",
    "How many different passwords do you think can be made that are 8 letters long, can use any of 95 printable ASCII characters?"
   ]
  },
  {
   "cell_type": "code",
   "execution_count": 1,
   "id": "725d5130-6547-4de2-981a-e2a4fbdda4f2",
   "metadata": {
    "execution": {
     "iopub.execute_input": "2023-06-16T17:48:10.147500Z",
     "iopub.status.busy": "2023-06-16T17:48:10.146500Z",
     "iopub.status.idle": "2023-06-16T17:48:10.882233Z",
     "shell.execute_reply": "2023-06-16T17:48:10.881241Z",
     "shell.execute_reply.started": "2023-06-16T17:48:10.147500Z"
    }
   },
   "outputs": [
    {
     "data": {
      "text/plain": [
       "6634204312890625"
      ]
     },
     "execution_count": 1,
     "metadata": {},
     "output_type": "execute_result"
    }
   ],
   "source": [
    "95**8"
   ]
  },
  {
   "cell_type": "markdown",
   "id": "7e5829fe-702f-4367-88d1-1303d068fade",
   "metadata": {
    "execution": {
     "iopub.execute_input": "2023-06-16T17:50:53.488478Z",
     "iopub.status.busy": "2023-06-16T17:50:53.488478Z",
     "iopub.status.idle": "2023-06-16T17:50:53.500468Z",
     "shell.execute_reply": "2023-06-16T17:50:53.499470Z",
     "shell.execute_reply.started": "2023-06-16T17:50:53.488478Z"
    }
   },
   "source": [
    "**How to Test Your Code**\n",
    "\n",
    "Your program should behave per the examples below.\n",
    "\n",
    "```\n",
    "password/ $ ./password\n",
    "Enter your password: hello\n",
    "Your password needs at least one uppercase letter, lowercase letter, number and symbol!\n",
    "\n",
    "password/ $ ./password\n",
    "Enter your password: h3ll(\n",
    "Your password needs at least one uppercase letter, lowercase letter, number and symbol!\n",
    "\n",
    "password/ $ ./password\n",
    "Enter your password: h3LL0!\n",
    "Your password is valid!\n",
    "```"
   ]
  },
  {
   "cell_type": "markdown",
   "id": "cf00dee0-1df6-4c15-9fc3-abf1cc80ff0c",
   "metadata": {
    "jp-MarkdownHeadingCollapsed": true,
    "tags": [],
    "toc-hr-collapsed": true
   },
   "source": [
    "# <b>Week 3 Algorithms</b>"
   ]
  },
  {
   "cell_type": "markdown",
   "id": "f5e152ba-e77b-47bb-8795-2226e65aba4d",
   "metadata": {},
   "source": [
    "## W3 Recursion examples"
   ]
  },
  {
   "cell_type": "code",
   "execution_count": 3,
   "id": "ba691e8d-f3d5-436e-a0db-128c44b29c9d",
   "metadata": {
    "execution": {
     "iopub.execute_input": "2023-07-31T21:20:25.888364Z",
     "iopub.status.busy": "2023-07-31T21:20:25.887821Z",
     "iopub.status.idle": "2023-07-31T21:20:29.720803Z",
     "shell.execute_reply": "2023-07-31T21:20:29.719982Z",
     "shell.execute_reply.started": "2023-07-31T21:20:25.888326Z"
    },
    "tags": []
   },
   "outputs": [
    {
     "name": "stdin",
     "output_type": "stream",
     "text": [
      "Height:  4\n"
     ]
    },
    {
     "name": "stdout",
     "output_type": "stream",
     "text": [
      "#\n",
      "##\n",
      "###\n",
      "####\n"
     ]
    }
   ],
   "source": [
    "height = int(input(\"Height: \"))\n",
    "\n",
    "def draw(n):\n",
    "\n",
    "    # base case\n",
    "    if n < 1:\n",
    "        return None\n",
    "\n",
    "    # recursive case\n",
    "    draw(n - 1)\n",
    "    for i in range(n):\n",
    "        print('#', end='')\n",
    "    print('\\n', end='')\n",
    "\n",
    "draw(height)"
   ]
  },
  {
   "cell_type": "markdown",
   "id": "e76c55c9-d4b9-40b9-9360-c519a194ee88",
   "metadata": {},
   "source": [
    "Multiple recursive cases"
   ]
  },
  {
   "cell_type": "code",
   "execution_count": 4,
   "id": "fcb055de-a6d5-4d81-9093-4aa0bb54c1a0",
   "metadata": {
    "execution": {
     "iopub.execute_input": "2023-07-31T21:21:35.381701Z",
     "iopub.status.busy": "2023-07-31T21:21:35.380454Z",
     "iopub.status.idle": "2023-07-31T21:21:35.392046Z",
     "shell.execute_reply": "2023-07-31T21:21:35.390742Z",
     "shell.execute_reply.started": "2023-07-31T21:21:35.381633Z"
    },
    "tags": []
   },
   "outputs": [
    {
     "data": {
      "text/plain": [
       "7"
      ]
     },
     "execution_count": 4,
     "metadata": {},
     "output_type": "execute_result"
    }
   ],
   "source": [
    "def collatz(n):\n",
    "    # base case\n",
    "    if n == 1:\n",
    "        return 0\n",
    "    # even case\n",
    "    elif n%2 == 0:\n",
    "        return 1 + collatz(n/2)\n",
    "    # odd case\n",
    "    else:\n",
    "        return 1 + collatz(3*n + 1)\n",
    "\n",
    "collatz(3)"
   ]
  },
  {
   "cell_type": "markdown",
   "id": "3310ef0f-9a0e-41ba-b178-7cde280405dd",
   "metadata": {
    "tags": []
   },
   "source": [
    "## W3 Factorial exercise"
   ]
  },
  {
   "cell_type": "markdown",
   "id": "917f4d41-70f2-41f8-94d8-c79dd9a3163f",
   "metadata": {},
   "source": [
    "Recursive function"
   ]
  },
  {
   "cell_type": "code",
   "execution_count": 4,
   "id": "d70a4887-fab1-46ac-8288-30633162d312",
   "metadata": {
    "execution": {
     "iopub.execute_input": "2023-07-07T18:58:35.053044Z",
     "iopub.status.busy": "2023-07-07T18:58:35.052467Z",
     "iopub.status.idle": "2023-07-07T18:58:35.064502Z",
     "shell.execute_reply": "2023-07-07T18:58:35.063222Z",
     "shell.execute_reply.started": "2023-07-07T18:58:35.052989Z"
    },
    "tags": []
   },
   "outputs": [
    {
     "data": {
      "text/plain": [
       "24"
      ]
     },
     "execution_count": 4,
     "metadata": {},
     "output_type": "execute_result"
    }
   ],
   "source": [
    "def factorial(n):\n",
    "\n",
    "    # base case\n",
    "    if n == 1:\n",
    "        return 1\n",
    "    # recursive case\n",
    "    elif n > 1:\n",
    "        return n * factorial(n-1)\n",
    "    else:\n",
    "        print(\"The number is not natural\")\n",
    "        exit(1)\n",
    "\n",
    "factorial(4)"
   ]
  },
  {
   "cell_type": "code",
   "execution_count": 2,
   "id": "795f67ea-7b5c-4149-9d83-9147062d138e",
   "metadata": {
    "execution": {
     "iopub.execute_input": "2023-07-28T19:41:16.910472Z",
     "iopub.status.busy": "2023-07-28T19:41:16.909670Z",
     "iopub.status.idle": "2023-07-28T19:41:16.921492Z",
     "shell.execute_reply": "2023-07-28T19:41:16.920248Z",
     "shell.execute_reply.started": "2023-07-28T19:41:16.910436Z"
    },
    "tags": []
   },
   "outputs": [
    {
     "data": {
      "text/plain": [
       "24"
      ]
     },
     "execution_count": 2,
     "metadata": {},
     "output_type": "execute_result"
    }
   ],
   "source": [
    "def factorial(n):\n",
    "    # base case\n",
    "    if n == 1:\n",
    "        return 1\n",
    "    # recursive case\n",
    "    return n * factorial(n-1)\n",
    "\n",
    "factorial(4)"
   ]
  },
  {
   "cell_type": "markdown",
   "id": "3465a740-d62b-44ba-8d95-2d2517724ea0",
   "metadata": {},
   "source": [
    "## W3 [Plurality](https://cs50.harvard.edu/x/2023/psets/3/plurality/)"
   ]
  },
  {
   "cell_type": "markdown",
   "id": "d43bac8e-523a-4aee-b44b-6e0f403b2e8e",
   "metadata": {},
   "source": [
    "For this program, you’ll implement a program that runs a plurality election, per the below.\n",
    "\n",
    "```sh\n",
    "$ ./plurality Alice Bob Charlie\n",
    "Number of voters: 4\n",
    "Vote: Alice\n",
    "Vote: Bob\n",
    "Vote: Charlie\n",
    "Vote: Alice\n",
    "Alice\n",
    "```\n",
    "\n",
    "**Background**\n",
    "\n",
    "Elections come in all shapes and sizes. In the UK, the Prime Minister is officially appointed by the monarch, who generally chooses the leader of the political party that wins the most seats in the House of Commons. The United States uses a multi-step Electoral College process where citizens vote on how each state should allocate Electors who then elect the President.\n",
    "\n",
    "Perhaps the simplest way to hold an election, though, is via a method commonly known as the “plurality vote” (also known as “first-past-the-post” or “winner take all”). In the plurality vote, every voter gets to vote for one candidate. At the end of the election, whichever candidate has the greatest number of votes is declared the winner of the election.\n",
    "\n",
    "**Understanding**\n",
    "\n",
    "Let’s take a look at `plurality.c` and read through the distribution code that’s been provided to you.\n",
    "\n",
    "The line `#define MAX 9` is some syntax used here to mean that `MAX` is a constant (equal to `9`) that can be used throughout the program. Here, it represents the maximum number of candidates an election can have.\n",
    "\n",
    "The file then defines a `struct` called a `candidate`. Each candidate has two fields: a `string` called `name` representing the candidate’s name, and an `int` called `votes` representing the number of votes the candidate has. Next, the file defines a `global array` of candidates, where each element is itself a candidate.\n",
    "\n",
    "Now, take a look at the `main` function itself. See if you can find where the program sets a global variable `candidate_count` representing the number of candidates in the election, copies command-line arguments into the array candidates, and asks the user to type in the number of voters. Then, the program lets every voter type in a vote (see how?), calling the vote function on each candidate voted for. Finally, main makes a call to the print_winner function to print out the winner (or winners) of the election.\n",
    "\n",
    "If you look further down in the file, though, you’ll notice that the `vote` and `print_winner` functions have been left blank. This part is up to you to complete!\n",
    "\n",
    "**Specification**\n",
    "\n",
    "Complete the implementation of `plurality.c` in such a way that the program simulates a plurality vote election.\n",
    "\n",
    "- Complete the `vote` function. `vote` takes a single argument, a string called name, representing the name of the candidate who was voted for.\n",
    "    - If name matches one of the names of the candidates in the election, then update that candidate’s vote total to account for the new vote. The vote function in this case should return `true` to indicate a successful ballot.\n",
    "    - If name does not match the name of any of the candidates in the election, no vote totals should change, and the `vote` function should return `false` to indicate an invalid ballot.\n",
    "    - You may assume that no two candidates will have the same name.\n",
    "\n",
    "- Complete the `print_winner` function.\n",
    "    - The function should print out the name of the candidate who received the most votes in the election, and then print a newline.\n",
    "    - It is possible that the election could end in a tie if multiple candidates each have the maximum number of votes. In that case, you should output the names of each of the winning candidates, each on a separate line.\n",
    "    \n",
    "You should not modify anything else in `plurality.c` other than the implementations of the `vote` and `print_winner` functions (and the inclusion of additional header files, if you’d like).\n",
    "\n",
    "**Usage**\n",
    "\n",
    "Your program should behave per the examples below.\n",
    "\n",
    "```sh\n",
    "$ ./plurality Alice Bob\n",
    "Number of voters: 3\n",
    "Vote: Alice\n",
    "Vote: Bob\n",
    "Vote: Alice\n",
    "Alice\n",
    "\n",
    "$ ./plurality Alice Bob\n",
    "Number of voters: 3\n",
    "Vote: Alice\n",
    "Vote: Charlie\n",
    "Invalid vote.\n",
    "Vote: Alice\n",
    "Alice\n",
    "\n",
    "$ ./plurality Alice Bob Charlie\n",
    "Number of voters: 5\n",
    "Vote: Alice\n",
    "Vote: Charlie\n",
    "Vote: Bob\n",
    "Vote: Bob\n",
    "Vote: Alice\n",
    "Alice\n",
    "Bob\n",
    "```"
   ]
  },
  {
   "cell_type": "markdown",
   "id": "48c540aa-5760-4614-b954-a6accbbfd9b7",
   "metadata": {},
   "source": [
    "```c\n",
    "#include <cs50.h>\n",
    "#include <stdio.h>\n",
    "#include <string.h>\n",
    "\n",
    "// Max number of candidates\n",
    "#define MAX 9\n",
    "\n",
    "// Candidates have name and vote count\n",
    "typedef struct\n",
    "{\n",
    "    string name;\n",
    "    int votes;\n",
    "}\n",
    "candidate;\n",
    "\n",
    "// Array of candidates\n",
    "candidate candidates[MAX];\n",
    "\n",
    "// Number of candidates\n",
    "int candidate_count;\n",
    "\n",
    "// Function prototypes\n",
    "bool vote(string name);\n",
    "void print_winner(void);\n",
    "\n",
    "int main(int argc, string argv[])\n",
    "{\n",
    "    // Check for invalid usage\n",
    "    if (argc < 2)\n",
    "    {\n",
    "        printf(\"Usage: plurality [candidate ...]\\n\");\n",
    "        return 1;\n",
    "    }\n",
    "\n",
    "    // Populate array of candidates\n",
    "    candidate_count = argc - 1;\n",
    "    if (candidate_count > MAX)\n",
    "    {\n",
    "        printf(\"Maximum number of candidates is %i\\n\", MAX);\n",
    "        return 2;\n",
    "    }\n",
    "    for (int i = 0; i < candidate_count; i++)\n",
    "    {\n",
    "        candidates[i].name = argv[i + 1];\n",
    "        candidates[i].votes = 0;\n",
    "    }\n",
    "\n",
    "    int voter_count = get_int(\"Number of voters: \");\n",
    "\n",
    "    // Loop over all voters\n",
    "    for (int i = 0; i < voter_count; i++)\n",
    "    {\n",
    "        string name = get_string(\"Vote: \");\n",
    "\n",
    "        // Check for invalid vote\n",
    "        if (!vote(name))\n",
    "        {\n",
    "            printf(\"Invalid vote.\\n\");\n",
    "        }\n",
    "    }\n",
    "\n",
    "    // Display winner of election\n",
    "    print_winner();\n",
    "}\n",
    "\n",
    "// Update vote totals given a new vote\n",
    "bool vote(string name)\n",
    "{\n",
    "    // TODO\n",
    "    return false;\n",
    "}\n",
    "\n",
    "// Print the winner (or winners) of the election\n",
    "void print_winner(void)\n",
    "{\n",
    "    // TODO\n",
    "    return;\n",
    "}\n",
    "```"
   ]
  },
  {
   "cell_type": "markdown",
   "id": "43481c9b-9e3b-42f0-a3ab-1ab264edd4d7",
   "metadata": {},
   "source": [
    "## W3 [Tideman](https://cs50.harvard.edu/x/2023/psets/3/tideman/)"
   ]
  },
  {
   "cell_type": "markdown",
   "id": "c666c262-2c25-46ac-afb4-a3f169a7ba09",
   "metadata": {},
   "source": [
    "For this program, you’ll implement a program that runs a Tideman election, per the below.\n",
    "\n",
    "```\n",
    "$ ./tideman Alice Bob Charlie\n",
    "Number of voters: 5\n",
    "Rank 1: Alice\n",
    "Rank 2: Charlie\n",
    "Rank 3: Bob\n",
    "\n",
    "Rank 1: Alice\n",
    "Rank 2: Charlie\n",
    "Rank 3: Bob\n",
    "\n",
    "Rank 1: Bob\n",
    "Rank 2: Charlie\n",
    "Rank 3: Alice\n",
    "\n",
    "Rank 1: Bob\n",
    "Rank 2: Charlie\n",
    "Rank 3: Alice\n",
    "\n",
    "Rank 1: Charlie\n",
    "Rank 2: Alice\n",
    "Rank 3: Bob\n",
    "\n",
    "Charlie\n",
    "```\n",
    "\n",
    "**Background**\n",
    "\n",
    "You already know about plurality elections, which follow a very simple algorithm for determining the winner of an election: every voter gets one vote, and the candidate with the most votes wins.\n",
    "\n",
    "But the plurality vote does have some disadvantages. What happens, for instance, in an election with three candidates, and the ballots below are cast?"
   ]
  },
  {
   "cell_type": "markdown",
   "id": "6d00066e-4c5f-41c1-ad2e-cec0cfba5260",
   "metadata": {},
   "source": [
    "<center>\n",
    "    <a name=\"\"><img src=\"data/images/fptp_ballot_1.png\" style=\"width: 900px\"></a>\n",
    "    <p style=\"text-align: center\"><i></i></p>"
   ]
  },
  {
   "cell_type": "markdown",
   "id": "e7d0befc-4c90-4c95-89c5-5ff455f4619b",
   "metadata": {},
   "source": [
    "A plurality vote would here declare a tie between Alice and Bob, since each has two votes. But is that the right outcome?\n",
    "\n",
    "There’s another kind of voting system known as a **ranked-choice voting system**. In a ranked-choice system, voters can vote for more than one candidate. Instead of just voting for their top choice, they can rank the candidates in order of preference. The resulting ballots might therefore look like the below."
   ]
  },
  {
   "cell_type": "markdown",
   "id": "3e64e79f-97cb-417a-8ffe-a87bf36091f7",
   "metadata": {},
   "source": [
    "<center>\n",
    "    <a name=\"\"><img src=\"data/images/ranked_ballot_1.png\" style=\"width: 900px\"></a>\n",
    "    <p style=\"text-align: center\"><i></i></p>"
   ]
  },
  {
   "cell_type": "markdown",
   "id": "0cee251f-058d-4553-a52a-38b8c4ecd782",
   "metadata": {},
   "source": [
    "Here, each voter, in addition to specifying their first preference candidate, has also indicated their second and third choices. And now, what was previously a tied election could now have a winner. The race was originally tied between Alice and Bob. But the voter who chose Charlie preferred Alice over Bob, so Alice could here be declared the winner.\n",
    "\n",
    "Ranked choice voting can also solve yet another potential drawback of plurality voting. Take a look at the following ballots."
   ]
  },
  {
   "cell_type": "markdown",
   "id": "75f5d829-7d8d-4dcd-bf3b-9eb89a696436",
   "metadata": {},
   "source": [
    "<center>\n",
    "    <a name=\"\"><img src=\"data/images/condorcet_1.png\" style=\"width: 900px\"></a>\n",
    "    <p style=\"text-align: center\"><i></i></p>"
   ]
  },
  {
   "cell_type": "markdown",
   "id": "d80fa758-9abe-48fc-b8be-3abb9460b801",
   "metadata": {},
   "source": [
    "Who should win this election? In a **plurality vote** where each voter chooses their first preference only, Charlie wins this election with four votes compared to only three for Bob and two for Alice. (Note that, if you’re familiar with the instant **runoff voting system**, Charlie wins here under that system as well). Alice, however, might reasonably make the argument that she should be the winner of the election instead of Charlie: after all, of the nine voters, a majority (five of them) preferred Alice over Charlie, so most people would be happier with Alice as the winner instead of Charlie.\n",
    "\n",
    "Alice is, in this election, the so-called “Condorcet winner” of the election: the person who would have won any head-to-head matchup against another candidate. If the election had been just Alice and Bob, or just Alice and Charlie, Alice would have won.\n",
    "\n",
    "The **Tideman voting method** (also known as “**ranked pairs**”) is a ranked-choice voting method that’s guaranteed to produce the Condorcet winner of the election if one exists.\n",
    "\n",
    "Generally speaking, the Tideman method works by constructing a “graph” of candidates, where an arrow (i.e. edge) from candidate `A` to candidate `B` indicates that candidate `A` wins against candidate `B` in a head-to-head matchup. The graph for the above election, then, would look like the below."
   ]
  },
  {
   "cell_type": "markdown",
   "id": "d279b19e-fe6f-400f-ad40-fa8618feef89",
   "metadata": {},
   "source": [
    "<center>\n",
    "    <a name=\"\"><img src=\"data/images/condorcet_graph_1.png\" style=\"width: 350px\"></a>\n",
    "    <p style=\"text-align: center\"><i></i></p>"
   ]
  },
  {
   "cell_type": "markdown",
   "id": "bf5335bc-f225-40ed-92b4-ad9345dacd99",
   "metadata": {},
   "source": [
    "The arrow from Alice to Bob means that more voters prefer Alice to Bob (5 prefer Alice, 4 prefer Bob). Likewise, the other arrows mean that more voters prefer Alice to Charlie, and more voters prefer Charlie to Bob.\n",
    "\n",
    "Looking at this graph, the Tideman method says the winner of the election should be the “source” of the graph (i.e. the candidate that has no arrow pointing at them). In this case, the source is Alice — Alice is the only one who has no arrow pointing at her, which means nobody is preferred head-to-head over Alice. Alice is thus declared the winner of the election.\n",
    "\n",
    "It’s possible, however, that when the arrows are drawn, there is no Condorcet winner. Consider the below ballots."
   ]
  },
  {
   "cell_type": "markdown",
   "id": "58edae25-bc16-4703-b346-ce829ed9618f",
   "metadata": {},
   "source": [
    "<center>\n",
    "    <a name=\"\"><img src=\"data/images/no_condorcet_1.png\" style=\"width: 900px\"></a>\n",
    "    <p style=\"text-align: center\"><i></i></p>"
   ]
  },
  {
   "cell_type": "code",
   "execution_count": 1,
   "id": "7bc4c41b-92dc-443b-9e52-49b7043d07a9",
   "metadata": {
    "execution": {
     "iopub.execute_input": "2023-07-01T18:22:06.803740Z",
     "iopub.status.busy": "2023-07-01T18:22:06.803382Z",
     "iopub.status.idle": "2023-07-01T18:22:07.106639Z",
     "shell.execute_reply": "2023-07-01T18:22:07.105433Z",
     "shell.execute_reply.started": "2023-07-01T18:22:06.803696Z"
    },
    "tags": []
   },
   "outputs": [
    {
     "name": "stdout",
     "output_type": "stream",
     "text": [
      "1.8888888888888888 2.2222222222222223 1.8888888888888888\n"
     ]
    }
   ],
   "source": [
    "import numpy as np\n",
    "\n",
    "alice = np.mean([1, 1, 1, 3, 3, 2, 2, 2, 2])\n",
    "bob = np.mean([2, 2, 2, 1, 1, 3, 3, 3, 3])\n",
    "charlie = np.mean([3, 3, 3, 2, 2, 1, 1, 1, 1])\n",
    "\n",
    "print(alice, bob, charlie)"
   ]
  },
  {
   "cell_type": "markdown",
   "id": "9edb621e-c629-4e48-90c1-43d103af11b0",
   "metadata": {},
   "source": [
    "Between Alice and Bob, Alice is preferred over Bob by a 7-2 margin. Between Bob and Charlie, Bob is preferred over Charlie by a 5-4 margin. But between Charlie and Alice, Charlie is preferred over Alice by a 6-3 margin. If we draw out the graph, there is no source! We have a cycle of candidates, where Alice beats Bob who beats Charlie who beats Alice (much like a game of rock-paper-scissors). In this case, it looks like there’s no way to pick a winner.\n",
    "\n",
    "To handle this, the Tideman algorithm must be careful to avoid creating cycles in the candidate graph. How does it do this? The algorithm locks in the strongest edges first, since those are arguably the most significant. In particular, the Tideman algorithm specifies that matchup edges should be “locked in” to the graph one at a time, based on the “strength” of the victory (the more people who prefer a candidate over their opponent, the stronger the victory). So long as the edge can be locked into the graph without creating a cycle, the edge is added; otherwise, the edge is ignored.\n",
    "\n",
    "How would this work in the case of the votes above? Well, the biggest margin of victory for a pair is Alice beating Bob, since 7 voters prefer Alice over Bob (no other head-to-head matchup has a winner preferred by more than 7 voters). So the Alice-Bob arrow is locked into the graph first. The next biggest margin of victory is Charlie’s 6-3 victory over Alice, so that arrow is locked in next.\n",
    "\n",
    "Next up is Bob’s 5-4 victory over Charlie. But notice: if we were to add an arrow from Bob to Charlie now, we would create a cycle! Since the graph can’t allow cycles, we should skip this edge, and not add it to the graph at all. If there were more arrows to consider, we would look to those next, but that was the last arrow, so the graph is complete.\n",
    "\n",
    "This step-by-step process is shown below, with the final graph at right."
   ]
  },
  {
   "cell_type": "markdown",
   "id": "deb9184e-9cd4-4aae-a4f9-5d17b0340d0f",
   "metadata": {},
   "source": [
    "<center>\n",
    "    <a name=\"\"><img src=\"data/images/lockin.png\" style=\"width: 900px\"></a>\n",
    "    <p style=\"text-align: center\"><i></i></p>"
   ]
  },
  {
   "cell_type": "markdown",
   "id": "15d38e1c-027f-43f0-a481-34af8ad969c1",
   "metadata": {},
   "source": [
    "Based on the resulting graph, Charlie is the source (there’s no arrow pointing towards Charlie), so Charlie is declared the winner of this election.\n",
    "\n",
    "Put more formally, the Tideman voting method consists of three parts:\n",
    "\n",
    "- Tally: Once all of the voters have indicated all of their preferences, determine, for each pair of candidates, who the preferred candidate is and by what margin they are preferred.\n",
    "- Sort: Sort the pairs of candidates in decreasing order of strength of victory, where strength of victory is defined to be the number of voters who prefer the preferred candidate.\n",
    "- Lock: Starting with the strongest pair, go through the pairs of candidates in order and “lock in” each pair to the candidate graph, so long as locking in that pair does not create a cycle in the graph.\n",
    "\n",
    "Once the graph is complete, the source of the graph (the one with no edges pointing towards it) is the winner!\n",
    "\n",
    "**Understanding**\n",
    "\n",
    "Let’s take a look at `tideman.c`.\n",
    "\n",
    "First, notice the two-dimensional array preferences. The integer `preferences[i][j]` will represent the number of voters who prefer candidate `i` over candidate `j`.\n",
    "\n",
    "The file also defines another two-dimensional array, called `locked`, which will represent the candidate graph. `locked` is a `boolean` array, so `locked[i][j]` being `true` represents the existence of an edge pointing from candidate `i` to candidate `j`; `false` means there is no edge. (If curious, this representation of a graph is known as an “[adjacency matrix](https://www.geeksforgeeks.org/graph-and-its-representations/)”).\n",
    "\n",
    "Next up is a `struct` called `pair`, used to represent a pair of candidates: each pair includes the `winner`’s candidate index and the `loser`’s candidate index.\n",
    "\n",
    "The candidates themselves are stored in the array `candidates`, which is an array of strings representing the names of each of the candidates. There’s also an array of `pairs`, which will represent all of the pairs of candidates (for which one is preferred over the other) in the election.\n",
    "\n",
    "The program also has two global variables: `pair_count` and `candidate_count`, representing the number of pairs and number of candidates in the arrays pairs and candidates, respectively.\n",
    "\n",
    "Now onto `main`. Notice that after determining the number of candidates, the program loops through the `locked` graph and initially sets all of the values to `false`, which means our initial graph will have no edges in it.\n",
    "\n",
    "Next, the program loops over all of the voters and collects their preferences in an array called `ranks` (via a call to `vote`), where `ranks[i]` is the index of the candidate who is the `i`th preference for the voter. These ranks are passed into the `record_preference` function, whose job is to take those ranks and update the global `preferences` variable.\n",
    "\n",
    "Once all of the votes are in, the pairs of candidates are added to the `pairs` array via a call to `add_pairs`, sorted via a call to `sort_pairs`, and locked into the graph via a call to `lock_pairs`. Finally, `print_winner` is called to print out the name of the election’s winner!\n",
    "\n",
    "Further down in the file, you’ll see that the functions vote, record_preference, add_pairs,sort_pairs, lock_pairs, and print_winner are left blank. That’s up to you!\n",
    "\n",
    "**Specification**\n",
    "\n",
    "Complete the implementation of `tideman.c` in such a way that it simulates a Tideman election.\n",
    "\n",
    "- Complete the `vote` function.\n",
    "    - The function takes arguments `rank`, `name`, and `ranks`. \n",
    "    - If name is a match for the name of a valid candidate, then you should update the `ranks` array to indicate that the voter has the candidate as their rank preference (where `0` is the first preference, `1` is the second preference, etc.). Recall that `ranks[i]` here represents the user’s `i`th preference.\n",
    "    - The function should return `true` if the rank was successfully recorded, and `false` otherwise (if, for instance, `name` is not the name of one of the candidates).\n",
    "    - You may assume that no two candidates will have the same name.\n",
    "- Complete the `record_preferences` function.\n",
    "    - The function is called once for each voter, and takes as argument the `ranks` array (recall that `ranks[i]` is the voter’s `i`th preference, where `ranks[0]` is the first preference). \n",
    "    - The function should update the global `preferences` array to add the current voter’s preferences. Recall that `preferences[i][j]` should represent the number of voters who prefer candidate `i` over candidate `j`.\n",
    "    - You may assume that every voter will rank each of the candidates.\n",
    "- Complete the `add_pairs` function.\n",
    "    - The function should add all pairs of candidates where one candidate is preferred to the `pairs` array. A pair of candidates who are tied (one is not preferred over the other) should not be added to the array. \n",
    "    - The function should update the global variable `pair_count` to be the number of pairs of candidates. (The pairs should thus all be stored between `pairs[0]` and `pairs[pair_count - 1]`, inclusive).\n",
    "- Complete the `sort_pairs` function.\n",
    "    - The function should sort the `pairs` array in decreasing order of strength of victory, where strength of victory is defined to be the number of voters who prefer the preferred candidate. \n",
    "    - If multiple pairs have the same strength of victory, you may assume that the order does not matter.\n",
    "- Complete the `lock_pairs` function.\n",
    "    - The function should create the `locked` graph, adding all edges in decreasing order of victory strength so long as the edge would not create a cycle.\n",
    "- Complete the `print_winner` function.\n",
    "    - The function should print out the name of the candidate who is the source of the graph. You may assume there will not be more than one source.\n",
    "    \n",
    "You should not modify anything else in `tideman.c` other than the implementations of the `vote`, `record_preferences`, `add_pairs`, `sort_pairs`, `lock_pairs`, and `print_winner` functions (and the inclusion of additional header files, if you’d like). You are permitted to add additional functions to `tideman.c`, so long as you do not change the declarations of any of the existing functions."
   ]
  },
  {
   "cell_type": "markdown",
   "id": "85e4a64d-a26c-4c63-b1ec-3c3cbc053b6b",
   "metadata": {},
   "source": [
    "```c\n",
    "#include <cs50.h>\n",
    "#include <stdio.h>\n",
    "\n",
    "// Max number of candidates\n",
    "#define MAX 9\n",
    "\n",
    "// preferences[i][j] is number of voters who prefer i over j\n",
    "int preferences[MAX][MAX];\n",
    "\n",
    "// locked[i][j] means i is locked in over j\n",
    "bool locked[MAX][MAX];\n",
    "\n",
    "// Each pair has a winner, loser\n",
    "typedef struct\n",
    "{\n",
    "    int winner;\n",
    "    int loser;\n",
    "}\n",
    "pair;\n",
    "\n",
    "// Array of candidates\n",
    "string candidates[MAX];\n",
    "pair pairs[MAX * (MAX - 1) / 2];\n",
    "\n",
    "int pair_count;\n",
    "int candidate_count;\n",
    "\n",
    "// Function prototypes\n",
    "bool vote(int rank, string name, int ranks[]);\n",
    "void record_preferences(int ranks[]);\n",
    "void add_pairs(void);\n",
    "void sort_pairs(void);\n",
    "void lock_pairs(void);\n",
    "void print_winner(void);\n",
    "\n",
    "int main(int argc, string argv[])\n",
    "{\n",
    "    // Check for invalid usage\n",
    "    if (argc < 2)\n",
    "    {\n",
    "        printf(\"Usage: tideman [candidate ...]\\n\");\n",
    "        return 1;\n",
    "    }\n",
    "\n",
    "    // Populate array of candidates\n",
    "    candidate_count = argc - 1;\n",
    "    if (candidate_count > MAX)\n",
    "    {\n",
    "        printf(\"Maximum number of candidates is %i\\n\", MAX);\n",
    "        return 2;\n",
    "    }\n",
    "    for (int i = 0; i < candidate_count; i++)\n",
    "    {\n",
    "        candidates[i] = argv[i + 1];\n",
    "    }\n",
    "\n",
    "    // Clear graph of locked in pairs\n",
    "    for (int i = 0; i < candidate_count; i++)\n",
    "    {\n",
    "        for (int j = 0; j < candidate_count; j++)\n",
    "        {\n",
    "            locked[i][j] = false;\n",
    "        }\n",
    "    }\n",
    "\n",
    "    pair_count = 0;\n",
    "    int voter_count = get_int(\"Number of voters: \");\n",
    "\n",
    "    // Query for votes\n",
    "    for (int i = 0; i < voter_count; i++)\n",
    "    {\n",
    "        // ranks[i] is voter's ith preference\n",
    "        int ranks[candidate_count];\n",
    "\n",
    "        // Query for each rank\n",
    "        for (int j = 0; j < candidate_count; j++)\n",
    "        {\n",
    "            string name = get_string(\"Rank %i: \", j + 1);\n",
    "\n",
    "            if (!vote(j, name, ranks))\n",
    "            {\n",
    "                printf(\"Invalid vote.\\n\");\n",
    "                return 3;\n",
    "            }\n",
    "        }\n",
    "\n",
    "        record_preferences(ranks);\n",
    "\n",
    "        printf(\"\\n\");\n",
    "    }\n",
    "\n",
    "    add_pairs();\n",
    "    sort_pairs();\n",
    "    lock_pairs();\n",
    "    print_winner();\n",
    "    return 0;\n",
    "}\n",
    "\n",
    "// Update ranks given a new vote\n",
    "bool vote(int rank, string name, int ranks[])\n",
    "{\n",
    "    // TODO\n",
    "    return false;\n",
    "}\n",
    "\n",
    "// Update preferences given one voter's ranks\n",
    "void record_preferences(int ranks[])\n",
    "{\n",
    "    // TODO\n",
    "    return;\n",
    "}\n",
    "\n",
    "// Record pairs of candidates where one is preferred over the other\n",
    "void add_pairs(void)\n",
    "{\n",
    "    // TODO\n",
    "    return;\n",
    "}\n",
    "\n",
    "// Sort pairs in decreasing order by strength of victory\n",
    "void sort_pairs(void)\n",
    "{\n",
    "    // TODO\n",
    "    return;\n",
    "}\n",
    "\n",
    "// Lock pairs into the candidate graph in order, without creating cycles\n",
    "void lock_pairs(void)\n",
    "{\n",
    "    // TODO\n",
    "    return;\n",
    "}\n",
    "\n",
    "// Print the winner of the election\n",
    "void print_winner(void)\n",
    "{\n",
    "    // TODO\n",
    "    return;\n",
    "}\n",
    "```"
   ]
  },
  {
   "cell_type": "markdown",
   "id": "f325761f-c781-497b-89cb-b3eb303abbd8",
   "metadata": {},
   "source": [
    "**Usage**\n",
    "\n",
    "Your program should behave per the example below:\n",
    "\n",
    "```\n",
    "./tideman Alice Bob Charlie\n",
    "Number of voters: 5\n",
    "Rank 1: Alice\n",
    "Rank 2: Charlie\n",
    "Rank 3: Bob\n",
    "\n",
    "Rank 1: Alice\n",
    "Rank 2: Charlie\n",
    "Rank 3: Bob\n",
    "\n",
    "Rank 1: Bob\n",
    "Rank 2: Charlie\n",
    "Rank 3: Alice\n",
    "\n",
    "Rank 1: Bob\n",
    "Rank 2: Charlie\n",
    "Rank 3: Alice\n",
    "\n",
    "Rank 1: Charlie\n",
    "Rank 2: Alice\n",
    "Rank 3: Bob\n",
    "\n",
    "Charlie\n",
    "```\n",
    "\n",
    "**Testing**\n",
    "\n",
    "Be sure to test your code to make sure it handles…\n",
    "\n",
    "- An election with any number of candidate (up to the MAX of 9)\n",
    "- Voting for a candidate by name\n",
    "- Invalid votes for candidates who are not on the ballot\n",
    "- Printing the winner of the election."
   ]
  },
  {
   "cell_type": "markdown",
   "id": "fb7b60b4-9f6a-4128-aa95-d9e479d15c8f",
   "metadata": {},
   "source": [
    "## W3 [Recursive `atoi`](https://cs50.harvard.edu/x/2023/problems/3/atoi/)"
   ]
  },
  {
   "cell_type": "markdown",
   "id": "c7740c5f-3641-47c3-8865-b7cf0f57c490",
   "metadata": {},
   "source": [
    "**Learning Goals**\n",
    "\n",
    "- Deepen an understanding of strings\n",
    "- Practice creating recursive functions\n",
    "\n",
    "**Background**\n",
    "\n",
    "Imagine that you travel back in time to the 1970’s, when the C programming language was first created. You are hired as a programmer to come up with a way to convert strings to ints. (You may have used a function just like this in Week 2, called [atoi](https://manual.cs50.io/3/atoi)). You want to be thorough in your development process and plan to try several approaches before deciding on the most efficient.\n",
    "\n",
    "In this problem, you will start with a simple implementation of `atoi` that handles positive ints using loops. You want to rework this into an implementation that uses recursion. Recusive functions can be memory intensive and are not always the best solution, but there are some problems in which using recursion can provide a simpler and more elegant solution.\n",
    "\n",
    "(Scroll to the [bottom](#atoi_recursive) of this page to see what an implementation of `atoi` might actually look like.)\n",
    "\n",
    "**Implementation Details**\n",
    "\n",
    "In the recursive version of convert, start with the last `char` and `convert` it into an integer value. Then shorten the string, removing the last `char`, and then recursively call `convert` using the shortened string as input, where the next `char` will be processed.\n",
    "\n",
    "**Thought Question**\n",
    "\n",
    "Why do you need a base case whenever you create a recursive function?\n",
    "\n",
    "**How to Test Your Code**\n",
    "\n",
    "Your program should behave per the examples below.\n",
    "\n",
    "```\n",
    "atoi/ $ ./atoi\n",
    "Enter a positive integer: 3432\n",
    "3432\n",
    "atoi/ $ ./atoi\n",
    "Enter a positive integer: 98765\n",
    "98765\n",
    "```\n",
    "\n",
    "<a name=\"atoi_recursive\">**A More Thorough Implementation**</a>\n",
    "\n",
    "The actual version of `atoi` must handle negative numbers, as well as leading spaces and non-numeric characters. It might look something like this:\n",
    "\n",
    "```c\n",
    "#include <stdio.h>\n",
    " \n",
    "// Iterative function to implement `atoi()` function in C\n",
    "long atoi(const char S[])\n",
    "{\n",
    "    long num = 0;\n",
    "    int i = 0, sign = 1;\n",
    " \n",
    "    // skip white space characters\n",
    "    while (S[i] == ' ' || S[i] == '\\n' || S[i] == '\\t') {\n",
    "        i++;\n",
    "    }\n",
    " \n",
    "    // note sign of the number\n",
    "    if (S[i] == '+' || S[i] == '-')\n",
    "    {\n",
    "        if (S[i] == '-') {\n",
    "            sign = -1;\n",
    "        }\n",
    "        i++;\n",
    "    }\n",
    " \n",
    "    // run till the end of the string is reached, or the\n",
    "    // current character is non-numeric\n",
    "    while (S[i] && (S[i] >= '0' && S[i] <= '9'))\n",
    "    {\n",
    "        num = num * 10 + (S[i] - '0');\n",
    "        i++;\n",
    "    }\n",
    " \n",
    "    return sign * num;\n",
    "}\n",
    " \n",
    "// Implement `atoi()` function in C\n",
    "int main(void)\n",
    "{\n",
    "    char S[] = \" -1234567890\";\n",
    " \n",
    "    printf(\"%ld \", atoi(S));\n",
    " \n",
    "    return 0;\n",
    "}\n",
    "```\n",
    "\n",
    "From techiedelight.com/implement-atoi-function-c-iterative-recursive."
   ]
  },
  {
   "cell_type": "code",
   "execution_count": 3,
   "id": "6e24551e-c3df-429b-a937-820afc698325",
   "metadata": {
    "execution": {
     "iopub.execute_input": "2023-07-28T19:54:47.630915Z",
     "iopub.status.busy": "2023-07-28T19:54:47.630389Z",
     "iopub.status.idle": "2023-07-28T19:54:47.723863Z",
     "shell.execute_reply": "2023-07-28T19:54:47.722123Z",
     "shell.execute_reply.started": "2023-07-28T19:54:47.630879Z"
    },
    "tags": []
   },
   "outputs": [
    {
     "name": "stdout",
     "output_type": "stream",
     "text": [
      "-1234567890 "
     ]
    }
   ],
   "source": [
    "#include <stdio.h>\n",
    " \n",
    "// Iterative function to implement `atoi()` function in C\n",
    "long atoi(const char S[])\n",
    "{\n",
    "    long num = 0;\n",
    "    int i = 0, sign = 1;\n",
    " \n",
    "    // skip white space characters\n",
    "    while (S[i] == ' ' || S[i] == '\\n' || S[i] == '\\t') {\n",
    "        i++;\n",
    "    }\n",
    " \n",
    "    // note sign of the number\n",
    "    if (S[i] == '+' || S[i] == '-')\n",
    "    {\n",
    "        if (S[i] == '-') {\n",
    "            sign = -1;\n",
    "        }\n",
    "        i++;\n",
    "    }\n",
    " \n",
    "    // run till the end of the string is reached, or the\n",
    "    // current character is non-numeric\n",
    "    while (S[i] && (S[i] >= '0' && S[i] <= '9'))\n",
    "    {\n",
    "        num = num * 10 + (S[i] - '0');\n",
    "        i++;\n",
    "    }\n",
    " \n",
    "    return sign * num;\n",
    "}\n",
    " \n",
    "// Implement `atoi()` function in C\n",
    "int main(void)\n",
    "{\n",
    "    char S[] = \" -1234567890\";\n",
    "    printf(\"%ld \", atoi(S));\n",
    "    return 0;\n",
    "}"
   ]
  },
  {
   "cell_type": "markdown",
   "id": "d12b91b9-a5ef-4450-8ee1-9924ba83a280",
   "metadata": {},
   "source": [
    "# <b>Week 4 Memory</b>"
   ]
  },
  {
   "cell_type": "markdown",
   "id": "f572b0dd-f4ce-4b4a-9a3c-3b320f5fc90a",
   "metadata": {},
   "source": [
    "## Lab 4: [Smiley](https://cs50.harvard.edu/x/2023/labs/4/smiley/)"
   ]
  },
  {
   "cell_type": "markdown",
   "id": "719c7455-a0e8-46de-8aa3-7ec13ba24022",
   "metadata": {},
   "source": [
    "- Learn how to work with images\n",
    "- Practice manipulating pixels\n",
    "\n",
    "**Background**\n",
    "\n",
    "![](data/images/smiley_spec_image.png)"
   ]
  },
  {
   "cell_type": "markdown",
   "id": "70779421-b766-4d8c-839a-6a5510be8498",
   "metadata": {},
   "source": [
    "You’ve seen in lecture a bit about how images are stored on a computer. In this lab, you’ll practice working with a BMP file, actually the smiley face pictured here, and change all the black pixels to a color of your choosing.\n",
    "\n",
    "However, the smiley face you’ll be working with is not just made of of 0’s and 1’s, or black and white pixels, but consists of 24 bits per pixel. It uses eight bits to represent red values, eight bits for green and eight bits for blue. Since each color uses eight bits or one byte, we can use a number in the range of `0` to `255` to represent its color value. In hexadecimal, this is represented by `0x00` to `0xff`. By mixing together these red, green and blue values, we can create millions of possible colors.\n",
    "\n",
    "If you look at `bmp.h`, one of the the helper files in the distribution code, you’ll see how each RGB triple is represented by a `struct` like:\n",
    "\n",
    "```c\n",
    "typedef struct\n",
    "{\n",
    "    BYTE rgbtBlue;\n",
    "    BYTE rgbtGreen;\n",
    "    BYTE rgbtRed;\n",
    "}\n",
    "RGBTRIPLE;\n",
    "```\n",
    "\n",
    "where `BYTE` is defined as an 8-bit integer.\n",
    "\n",
    "You’ll notice several files provided in the distribution code to handle the reading and writing of an image file, as well as handling the image’s metadata or “headers”. You’ll be completing the function colorize in `helpers.c`, which already has as input parameters, the image’s height, width, and a two-dimensional array of `RGBTRIPLE`’s which create the image itself.\n",
    "\n",
    "> Hints: If we were to save the first pixel as `RGBTRIPLE pixel = image[0][0]` we could then access each of the individual colors of pixel as `pixel.rgbtBlue`, `pixel.rgbtGreen`, and `pixel.rgbtRed`."
   ]
  },
  {
   "cell_type": "markdown",
   "id": "f67c7ffe-a89d-4f1c-90ce-a2efd60e0e16",
   "metadata": {},
   "source": [
    "**Getting Started**\n",
    "\n",
    "Use Bash:"
   ]
  },
  {
   "cell_type": "code",
   "execution_count": 1,
   "id": "a705f21c-f15f-40ac-8438-a4081d675b76",
   "metadata": {
    "execution": {
     "iopub.execute_input": "2023-08-14T19:42:18.090964Z",
     "iopub.status.busy": "2023-08-14T19:42:18.089421Z",
     "iopub.status.idle": "2023-08-14T19:42:19.319096Z",
     "shell.execute_reply": "2023-08-14T19:42:19.317647Z",
     "shell.execute_reply.started": "2023-08-14T19:42:18.090910Z"
    },
    "tags": []
   },
   "outputs": [
    {
     "name": "stdout",
     "output_type": "stream",
     "text": [
      "--2023-08-15 00:42:18--  https://cdn.cs50.net/2022/fall/labs/4/smiley.zip\n",
      "Resolving cdn.cs50.net (cdn.cs50.net)... 65.9.55.119, 65.9.55.9, 65.9.55.69, ...\n",
      "Connecting to cdn.cs50.net (cdn.cs50.net)|65.9.55.119|:443... connected.\n",
      "HTTP request sent, awaiting response... 200 OK\n",
      "Length: 3155 (3,1K) [application/zip]\n",
      "Saving to: ‘smiley.zip’\n",
      "\n",
      "smiley.zip          100%[===================>]   3,08K  --.-KB/s    in 0s      \n",
      "\n",
      "2023-08-15 00:42:19 (49,8 MB/s) - ‘smiley.zip’ saved [3155/3155]\n",
      "\n",
      "Archive:  smiley.zip\n",
      "   creating: smiley/\n",
      "  inflating: smiley/Makefile         \n",
      "  inflating: smiley/bmp.h            \n",
      "  inflating: smiley/helpers.c        \n",
      "  inflating: smiley/smiley.bmp       \n",
      "  inflating: smiley/helpers.h        \n",
      "  inflating: smiley/colorize.c       \n",
      "bmp.h  colorize.c  helpers.c  helpers.h  Makefile  \u001b[0m\u001b[01;35msmiley.bmp\u001b[0m\n"
     ]
    }
   ],
   "source": [
    "cd Solutions\n",
    "wget https://cdn.cs50.net/2022/fall/labs/4/smiley.zip\n",
    "unzip smiley.zip\n",
    "rm smiley.zip\n",
    "cd smiley\n",
    "ls"
   ]
  },
  {
   "cell_type": "markdown",
   "id": "7b33d061-9e1a-4fe4-88a8-0cd2609f7482",
   "metadata": {},
   "source": [
    "and you should see `bmp.h`, `colorize.c`, `helpers.c`, `helpers.h`, `Makefile`, and `smiley.bmp`."
   ]
  },
  {
   "cell_type": "markdown",
   "id": "969fc21f-bd8a-4ded-87ce-3f2740712b2d",
   "metadata": {},
   "source": [
    "**Implementation Details**\n",
    "\n",
    "Open up `helpers.c` and notice that the `colorize` function is incomplete. Note that the image’s height, width and a two-dimensional array of pixels is set up as the input parameters for this function. You are to implement this function to change all the black pixels in the image to a color of your choosing.\n",
    "\n",
    "You can compile your code by simply typing `make` at the `$` prompt.\n",
    "\n",
    "You then execute the program by typing:\n",
    "\n",
    "`./colorize smiley.bmp outfile.bmp`\n",
    "\n",
    "where `outfile.bmp` is the name of the new bmp you are creating."
   ]
  },
  {
   "cell_type": "code",
   "execution_count": 3,
   "id": "47a8ee0a-ded1-4311-b1a7-5e695e30e583",
   "metadata": {
    "execution": {
     "iopub.execute_input": "2023-08-14T19:50:39.972360Z",
     "iopub.status.busy": "2023-08-14T19:50:39.971804Z",
     "iopub.status.idle": "2023-08-14T19:50:40.081570Z",
     "shell.execute_reply": "2023-08-14T19:50:40.079780Z",
     "shell.execute_reply.started": "2023-08-14T19:50:39.972322Z"
    },
    "tags": []
   },
   "outputs": [
    {
     "name": "stdout",
     "output_type": "stream",
     "text": [
      "#include \"helpers.h\"\n",
      "\n",
      "void colorize(int height, int width, RGBTRIPLE image[height][width])\n",
      "{\n",
      "    // Change all black pixels to a color of your choosing\n",
      "}\n"
     ]
    }
   ],
   "source": [
    "cat helpers.c"
   ]
  },
  {
   "cell_type": "code",
   "execution_count": 4,
   "id": "0e7888f3-b510-4f81-bd6b-4b398fb08cec",
   "metadata": {
    "collapsed": true,
    "execution": {
     "iopub.execute_input": "2023-08-14T19:55:39.816771Z",
     "iopub.status.busy": "2023-08-14T19:55:39.815772Z",
     "iopub.status.idle": "2023-08-14T19:55:39.964769Z",
     "shell.execute_reply": "2023-08-14T19:55:39.963318Z",
     "shell.execute_reply.started": "2023-08-14T19:55:39.816719Z"
    },
    "jupyter": {
     "outputs_hidden": true
    },
    "tags": []
   },
   "outputs": [
    {
     "name": "stdout",
     "output_type": "stream",
     "text": [
      "#include <stdio.h>\n",
      "#include <stdlib.h>\n",
      "\n",
      "#include \"helpers.h\"\n",
      "\n",
      "int main(int argc, char *argv[])\n",
      "{\n",
      "    // ensure proper usage\n",
      "    if (argc != 3)\n",
      "    {\n",
      "        printf(\"Usage: colorize infile outfile\\n\");\n",
      "        return 1;\n",
      "    }\n",
      "\n",
      "    // remember filenames\n",
      "    char *infile = argv[1];\n",
      "    char *outfile = argv[2];\n",
      "\n",
      "    // open input file\n",
      "    FILE *inptr = fopen(infile, \"r\");\n",
      "    if (inptr == NULL)\n",
      "    {\n",
      "        printf(\"Could not open %s.\\n\", infile);\n",
      "        return 4;\n",
      "    }\n",
      "\n",
      "    // open output file\n",
      "    FILE *outptr = fopen(outfile, \"w\");\n",
      "    if (outptr == NULL)\n",
      "    {\n",
      "        fclose(inptr);\n",
      "        printf(\"Could not create %s.\\n\", outfile);\n",
      "        return 5;\n",
      "    }\n",
      "\n",
      "    // read infile's BITMAPFILEHEADER\n",
      "    BITMAPFILEHEADER bf;\n",
      "    fread(&bf, sizeof(BITMAPFILEHEADER), 1, inptr);\n",
      "\n",
      "    // read infile's BITMAPINFOHEADER\n",
      "    BITMAPINFOHEADER bi;\n",
      "    fread(&bi, sizeof(BITMAPINFOHEADER), 1, inptr);\n",
      "\n",
      "    // ensure infile is (likely) a 24-bit uncompressed BMP 4.0\n",
      "    if (bf.bfType != 0x4d42 || bf.bfOffBits != 54 || bi.biSize != 40 ||\n",
      "        bi.biBitCount != 24 || bi.biCompression != 0)\n",
      "    {\n",
      "        fclose(outptr);\n",
      "        fclose(inptr);\n",
      "        printf(\"Unsupported file format.\\n\");\n",
      "        return 6;\n",
      "    }\n",
      "\n",
      "    int height = abs(bi.biHeight);\n",
      "    int width = bi.biWidth;\n",
      "\n",
      "    // allocate memory for image\n",
      "    RGBTRIPLE (*image)[width] = calloc(height, width * sizeof(RGBTRIPLE));\n",
      "    if (image == NULL)\n",
      "    {\n",
      "        printf(\"Not enough memory to store image.\\n\");\n",
      "        fclose(outptr);\n",
      "        fclose(inptr);\n",
      "        return 7;\n",
      "    }\n",
      "\n",
      "    // determine padding for scanlines\n",
      "    int padding =  (4 - (width * sizeof(RGBTRIPLE)) % 4) % 4;\n",
      "\n",
      "    // iterate over infile's scanlines\n",
      "    for (int i = 0; i < height; i++)\n",
      "    {\n",
      "        // read row into pixel array\n",
      "        fread(image[i], sizeof(RGBTRIPLE), width, inptr);\n",
      "\n",
      "        // skip over padding\n",
      "        fseek(inptr, padding, SEEK_CUR);\n",
      "    }\n",
      "\n",
      "    colorize(height, width, image);\n",
      "\n",
      "    // write outfile's BITMAPFILEHEADER\n",
      "    fwrite(&bf, sizeof(BITMAPFILEHEADER), 1, outptr);\n",
      "\n",
      "    // write outfile's BITMAPINFOHEADER\n",
      "    fwrite(&bi, sizeof(BITMAPINFOHEADER), 1, outptr);\n",
      "\n",
      "    // write new pixels to outfile\n",
      "    for (int i = 0; i < height; i++)\n",
      "    {\n",
      "        // write row to outfile\n",
      "        fwrite(image[i], sizeof(RGBTRIPLE), width, outptr);\n",
      "\n",
      "        // write padding at end of row\n",
      "        for (int k = 0; k < padding; k++)\n",
      "        {\n",
      "            fputc(0x00, outptr);\n",
      "        }\n",
      "    }\n",
      "\n",
      "    // free memory for image\n",
      "    free(image);\n",
      "\n",
      "    // close infile\n",
      "    fclose(inptr);\n",
      "\n",
      "    // close outfile\n",
      "    fclose(outptr);\n",
      "\n",
      "    return 0;\n",
      "}\n"
     ]
    }
   ],
   "source": [
    "cat colorize.c"
   ]
  },
  {
   "cell_type": "markdown",
   "id": "80896e28-376b-4e03-b147-e80c2d0d48d1",
   "metadata": {},
   "source": [
    "**Thought Question**\n",
    "\n",
    "- How do you think you represent a black pixel when using a 24-bit color BMP file?\n",
    "- Is this the same or different when mixing paints to repesent various colors?"
   ]
  },
  {
   "cell_type": "markdown",
   "id": "89f53abb-5dac-4500-9f05-2ad7da684bf5",
   "metadata": {},
   "source": [
    "Your program should behave per the examples below.\n",
    "\n",
    "```\n",
    "smiley/ $ ./colorize smiley.bmp smiley_out.bmp\n",
    "```\n",
    "\n",
    "When your program is working correctly, you should see a new file, `smiley_out.bmp` in your `smiley` directory. Open it up and see if the black pixels are now the color you’ve specified."
   ]
  },
  {
   "cell_type": "markdown",
   "id": "c55aba58-f949-4a7b-8762-c86d7599e491",
   "metadata": {},
   "source": [
    "## Lab 4: [Volume](https://cs50.harvard.edu/x/2023/labs/4/volume/)"
   ]
  },
  {
   "cell_type": "markdown",
   "id": "9e588c88-4b97-4e12-8b79-b62b89523b02",
   "metadata": {},
   "source": [
    "Write a program to modify the volume of an audio file.\n",
    "\n",
    "```bash\n",
    "$ ./volume INPUT.wav OUTPUT.wav 2.0\n",
    "```\n",
    "\n",
    "Where `INPUT.wav` is the name of an original audio file and `OUTPUT.wav` is the name of an audio file with a volume that has been scaled by the given factor (e.g., 2.0).\n",
    "\n",
    "**WAV Files**\n",
    "\n",
    "[WAV files](https://docs.fileformat.com/audio/wav/) are a common file format for representing audio. WAV files store audio as a sequence of “samples”: numbers that represent the value of some audio signal at a particular point in time. WAV files begin with a **44-byte “header”** that contains information about \n",
    "- the file itself, including the size of the file, the number of samples per second, and \n",
    "- the size of each sample. \n",
    "\n",
    "After the header, the WAV file contains a **sequence of samples**, each a single **2-byte** (16-bit) integer representing the audio signal at a particular point in time.\n",
    "\n",
    "Scaling each sample value by a given factor has the effect of changing the volume of the audio. Multiplying each sample value by 2.0, for example, will have the effect of doubling the volume of the origin audio. Multiplying each sample by 0.5, meanwhile, will have the effect of cutting the volume in half.\n",
    "\n",
    "**Types**\n",
    "\n",
    "So far, we’ve seen a number of different types in C, including `int`, `bool`, `char`, `double`, `float`, and `long`. Inside a header file called `stdint.h `are the declarations of a number of other types that allow us to very precisely define \n",
    "- the size (in bits) and \n",
    "- sign (signed or unsigned) \n",
    "\n",
    "of an integer. Two types in particular will be useful to us in this lab.\n",
    "\n",
    "- `uint8_t` is a type that stores an 8-bit unsigned (i.e., not negative) integer. We can treat each byte of a WAV file’s header as a `uint8_t` value.\n",
    "- `int16_t` is a type that stores a 16-bit signed (i.e., positive or negative) integer. We can treat each sample of audio in a WAV file as an `int16_t` value.\n",
    "\n",
    "Use Bash:"
   ]
  },
  {
   "cell_type": "code",
   "execution_count": 1,
   "id": "813d5fa4-a480-4804-ba88-e3e6edfde7fd",
   "metadata": {
    "execution": {
     "iopub.execute_input": "2023-08-18T16:31:56.142368Z",
     "iopub.status.busy": "2023-08-18T16:31:56.141269Z",
     "iopub.status.idle": "2023-08-18T16:31:56.989839Z",
     "shell.execute_reply": "2023-08-18T16:31:56.988126Z",
     "shell.execute_reply.started": "2023-08-18T16:31:56.142317Z"
    },
    "tags": []
   },
   "outputs": [
    {
     "name": "stdout",
     "output_type": "stream",
     "text": [
      "--2023-08-18 21:31:56--  https://cdn.cs50.net/2022/fall/labs/4/volume.zip\n",
      "Resolving cdn.cs50.net (cdn.cs50.net)... 65.9.55.69, 65.9.55.105, 65.9.55.119, ...\n",
      "Connecting to cdn.cs50.net (cdn.cs50.net)|65.9.55.69|:443... connected.\n",
      "HTTP request sent, awaiting response... 200 OK\n",
      "Length: 313630 (306K) [application/zip]\n",
      "Saving to: ‘volume.zip’\n",
      "\n",
      "volume.zip          100%[===================>] 306,28K  --.-KB/s    in 0,1s    \n",
      "\n",
      "2023-08-18 21:31:56 (2,00 MB/s) - ‘volume.zip’ saved [313630/313630]\n",
      "\n",
      "Archive:  volume.zip\n",
      "   creating: volume/\n",
      "  inflating: volume/volume.c         \n",
      "  inflating: volume/input.wav        \n",
      "\u001b[0m\u001b[00;36minput.wav\u001b[0m  volume.c\n"
     ]
    }
   ],
   "source": [
    "cd Solutions\n",
    "wget https://cdn.cs50.net/2022/fall/labs/4/volume.zip\n",
    "unzip volume.zip\n",
    "rm volume.zip\n",
    "cd volume\n",
    "ls"
   ]
  },
  {
   "cell_type": "markdown",
   "id": "73b4bf64-9963-472d-b0b7-0e7150d2c2b2",
   "metadata": {},
   "source": [
    "and you should see a `volume.c` file alongside an `input.wav` file.\n",
    "\n",
    "**Implementation Details**\n",
    "\n",
    "Complete the implementation of `volume.c`, such that it changes the volume of a sound file by a given factor.\n",
    "\n",
    "- The program accepts three command-line arguments: `input` represents the name of the original audio file, `output` represents the name of the new audio file that should be generated, and `factor` is the amount by which the volume of the original audio file should be scaled.\n",
    "    - For example, if factor is 2.0, then your program should double the volume of the audio file in input and save the newly generated audio file in output.\n",
    "- Your program should first read the header from the input file and write the header to the output file. Recall that this header is always exactly 44 bytes long.\n",
    "    - Note that `volume.c` already defines a variable for you called `HEADER_SIZE`, equal to the number of bytes in the header.\n",
    "- Your program should then read the rest of the data from the WAV file, one 16-bit (2-byte) sample at a time. Your program should multiply each sample by the factor and write the new sample to the output file.\n",
    "    - You may assume that the WAV file will use 16-bit signed values as samples. In practice, WAV files can have varying numbers of bits per sample, but we’ll assume 16-bit samples for this lab.\n",
    "- Your program, if it uses `malloc`, must not leak any memory.\n"
   ]
  },
  {
   "cell_type": "markdown",
   "id": "644b5d9f-3e31-4229-ab98-e949bba27e1a",
   "metadata": {},
   "source": [
    "**Hints**\n",
    "\n",
    "You’ll likely want to create an array of bytes to store the data from the WAV file header that you’ll read from the input file. Using the `uint8_t` type to represent a byte, you can create an array of `n` bytes for your header with syntax like\n",
    "\n",
    "```bash\n",
    "uint8_t header[n];\n",
    "```\n",
    "\n",
    "replacing `n` with the number of bytes. You can then use header as an argument to fread or fwrite to read into or write from the header.\n",
    "\n",
    "You’ll likely want to create a “buffer” in which to store audio samples that you read from the WAV file. Using the `int16_t` type to store an audio sample, you can create a buffer variable with syntax like\n",
    "\n",
    "```bash\n",
    "int16_t buffer;\n",
    "```\n",
    "\n",
    "You can then use `&buffer` as an argument to fread or fwrite to read into or write from the buffer. (Recall that the `&` operator is used to get the address of the variable.)\n",
    "\n",
    "You may find the documentation for [fread](https://man.cs50.io/3/fread) and [fwrite](https://man.cs50.io/3/fwrite) helpful here.\n",
    "- In particular, note that both functions accept the following arguments:\n",
    "    - `ptr`: a pointer to the location in memory to store data (when reading from a file) or from which to write data (when writing data to a file)\n",
    "    - `size`: the number of bytes in an item of data\n",
    "    - `nmemb`: the number of items of data (each of size bytes) to read or write\n",
    "    - `stream`: the file pointer to be read from or written to\n",
    "- Per its documentation, fread will return the number of items of data successfully read. You may find this useful to check for when you’ve reached the end of the file!"
   ]
  },
  {
   "cell_type": "markdown",
   "id": "d9225b8e-2e60-4d76-84c4-9ce91fdd3ded",
   "metadata": {},
   "source": [
    "**How to Test Your Code**\n",
    "\n",
    "Your program should behave per the examples below.\n",
    "\n",
    "```bash\n",
    "$ ./volume input.wav output.wav 2.0\n",
    "```\n",
    "\n",
    "When you listen to `output.wav` (as by control-clicking on `output.wav` in the file browser, choosing `Download`, and then opening the file in an audio player on your computer), it should be twice as loud as `input.wav`!\n",
    "\n",
    "```bash\n",
    "$ ./volume input.wav output.wav 0.5\n",
    "```\n",
    "\n",
    "When you listen to `output.wav`, it should be half as loud as `input.wav`!"
   ]
  },
  {
   "cell_type": "markdown",
   "id": "e5910bfa-4ddb-4963-a391-c1c96239e0c1",
   "metadata": {},
   "source": [
    "## W4 [Filter](https://cs50.harvard.edu/x/2023/psets/4/filter/more/)"
   ]
  },
  {
   "cell_type": "markdown",
   "id": "25d246fb-1f65-4843-8bfc-04a8d9c18c66",
   "metadata": {},
   "source": [
    "Implement a program that applies filters to BMPs, per the below.\n",
    "\n",
    "```bash\n",
    "$ ./filter -r IMAGE.bmp REFLECTED.bmp\n",
    "```\n",
    "\n",
    "where `IMAGE.bmp` is the name of an image file and `REFLECTED.bmp` is the name given to an output image file, now reflected.\n",
    "\n",
    "**Background**\n",
    "\n",
    "**Bitmaps**\n",
    "\n",
    "Perhaps the simplest way to represent an image is with a grid of pixels (i.e., dots), each of which can be of a different color. For black-and-white images, we thus need 1 bit per pixel, as 0 could represent black and 1 could represent white, as in the below.\n",
    "\n",
    "![](data/images/bitmap.png)"
   ]
  },
  {
   "cell_type": "markdown",
   "id": "e3a0db11-8737-48e8-9c2a-8b8b1e7bed9f",
   "metadata": {},
   "source": [
    "In this sense, then, is an image just a bitmap (i.e., a map of bits). For more colorful images, you simply need more bits per pixel. A file format (like BMP, JPEG, or PNG) that supports “24-bit color” uses 24 bits per pixel. (BMP actually supports 1-, 4-, 8-, 16-, 24-, and 32-bit color.)\n",
    "\n",
    "A 24-bit BMP uses 8 bits to signify the amount of red in a pixel’s color, 8 bits to signify the amount of green in a pixel’s color, and 8 bits to signify the amount of blue in a pixel’s color. If you’ve ever heard of RGB color, well, there you have it: red, green, blue.\n",
    "\n",
    "If the R, G, and B values of some pixel in a BMP are, say, 0xff, 0x00, and 0x00 in hexadecimal, that pixel is purely red, as 0xff (otherwise known as 255 in decimal) implies “a lot of red,” while 0x00 and 0x00 imply “no green” and “no blue,” respectively.\n",
    "\n",
    "**A Bit(map) More Technical**\n",
    "\n",
    "Recall that a file is just a sequence of bits, arranged in some fashion. A 24-bit BMP file, then, is essentially just a sequence of bits, (almost) every 24 of which happen to represent some pixel’s color. But a BMP file also contains some “metadata,” information like an image’s height and width. That metadata is stored at the beginning of the file in the form of two data structures generally referred to as **“headers”**, not to be confused with C’s header files. (Incidentally, these headers have evolved over time. This problem uses the latest version of Microsoft’s BMP format, 4.0, which debuted with Windows 95.)\n",
    "\n",
    "The first of these headers, called **BITMAPFILEHEADER**, is 14 bytes long. (Recall that 1 byte equals 8 bits.) The second of these headers, called **BITMAPINFOHEADER**, is 40 bytes long. Immediately following these headers is the actual bitmap: an array of bytes, triples of which represent a pixel’s color. However, BMP stores these triples backwards (i.e., as BGR), with 8 bits for blue, followed by 8 bits for green, followed by 8 bits for red. (Some BMPs also store the entire bitmap backwards, with an image’s top row at the end of the BMP file. But we’ve stored this problem set’s BMPs as described herein, with each bitmap’s top row first and bottom row last.) In other words, were we to convert the 1-bit smiley above to a 24-bit smiley, substituting red for black, a 24-bit BMP would store this bitmap as follows, where 0000ff signifies red and ffffff signifies white; we’ve highlighted in red all instances of 0000ff."
   ]
  },
  {
   "cell_type": "markdown",
   "id": "a74beab0-64a0-4201-9370-4b77b6616be0",
   "metadata": {},
   "source": [
    "![](data/images/red_smile.png)"
   ]
  },
  {
   "cell_type": "markdown",
   "id": "87b5ea0a-9939-4977-b68f-06033a2729b1",
   "metadata": {},
   "source": [
    "Because we’ve presented these bits from left to right, top to bottom, in 8 columns, you can actually see the red smiley if you take a step back.\n",
    "\n",
    "To be clear, recall that a hexadecimal digit represents 4 bits. Accordingly, `ffffff` in hexadecimal actually signifies `111111111111111111111111` in binary.\n",
    "\n",
    "Notice that you could represent a bitmap as a 2-dimensional array of pixels: where the image is an array of rows, each row is an array of pixels. Indeed, that’s how we’ve chosen to represent bitmap images in this problem.\n",
    "\n",
    "**Image Filtering**\n",
    "\n",
    "What does it even mean to filter an image? You can think of filtering an image as taking the pixels of some original image, and modifying each pixel in such a way that a particular effect is apparent in the resulting image.\n",
    "\n",
    "**Grayscale**\n",
    "\n",
    "One common filter is the “grayscale” filter, where we take an image and want to convert it to black-and-white. How does that work?\n",
    "\n",
    "Recall that if the red, green, and blue values are all set to 0x00 (hexadecimal for 0), then the pixel is black. And if all values are set to 0xff (hexadecimal for 255), then the pixel is white. So long as the red, green, and blue values are all equal, the result will be varying shades of gray along the black-white spectrum, with higher values meaning lighter shades (closer to white) and lower values meaning darker shades (closer to black).\n",
    "\n",
    "So to convert a pixel to grayscale, we just need to make sure the red, green, and blue values are all the same value. But how do we know what value to make them? Well, it’s probably reasonable to expect that if the original red, green, and blue values were all pretty high, then the new value should also be pretty high. And if the original values were all low, then the new value should also be low.\n",
    "\n",
    "In fact, to ensure each pixel of the new image still has the same general brightness or darkness as the old image, we can take the average of the red, green, and blue values to determine what shade of grey to make the new pixel.\n",
    "\n",
    "If you apply that to each pixel in the image, the result will be an image converted to grayscale.\n",
    "\n",
    "**Reflection**\n",
    "\n",
    "Some filters might also move pixels around. Reflecting an image, for example, is a filter where the resulting image is what you would get by placing the original image in front of a mirror. So any pixels on the left side of the image should end up on the right, and vice versa.\n",
    "\n",
    "Note that all of the original pixels of the original image will still be present in the reflected image, it’s just that those pixels may have rearranged to be in a different place in the image.\n",
    "\n",
    "**Blur**\n",
    "\n",
    "There are a number of ways to create the effect of blurring or softening an image. For this problem, we’ll use the **“box blur”** which works by taking each pixel and, for each color value, giving it a new value by averaging the color values of neighboring pixels.\n",
    "\n",
    "Consider the following grid of pixels, where we’ve numbered each pixel."
   ]
  },
  {
   "cell_type": "markdown",
   "id": "815be238-a0df-44e1-b91b-04e2bd564b1e",
   "metadata": {},
   "source": [
    "![](data/images/grid.png)"
   ]
  },
  {
   "cell_type": "markdown",
   "id": "e80c56b2-0e80-42ce-a71d-2ac33ff25862",
   "metadata": {},
   "source": [
    "The new value of each pixel would be the average of the values of all of the pixels that are within 1 row and column of the original pixel (forming a 3x3 box). For example, each of the color values for pixel 6 would be obtained by averaging the original color values of pixels 1, 2, 3, 5, 6, 7, 9, 10, and 11 (note that pixel 6 itself is included in the average). Likewise, the color values for pixel 11 would be obtained by averaging the color values of pixels 6, 7, 8, 10, 11, 12, 14, 15 and 16.\n",
    "\n",
    "For a pixel along the edge or corner, like pixel 15, we would still look for all pixels within 1 row and column: in this case, pixels 10, 11, 12, 14, 15, and 16.\n",
    "\n",
    "**Edges**\n",
    "\n",
    "In artificial intelligence algorithms for image processing, it is often useful to detect edges in an image: lines in the image that create a boundary between one object and another. One way to achieve this effect is by applying the **Sobel operator** to the image.\n",
    "\n",
    "Like image blurring, edge detection also works by taking each pixel, and modifying it based on the `3x3` grid of pixels that surrounds that pixel. But instead of just taking the average of the nine pixels, the Sobel operator computes the new value of each pixel by taking a weighted sum of the values for the surrounding pixels. And since edges between objects could take place in both a vertical and a horizontal direction, you’ll actually compute two weighted sums: one for detecting edges in the x direction, and one for detecting edges in the y direction. In particular, you’ll use the following two “kernels”:"
   ]
  },
  {
   "cell_type": "markdown",
   "id": "2c4042c3-91a5-417f-83b8-e1a1d00de701",
   "metadata": {},
   "source": [
    "![](data/images/sobel.png)"
   ]
  },
  {
   "cell_type": "markdown",
   "id": "41825237-633c-49f8-9527-6292645bc03c",
   "metadata": {},
   "source": [
    "How to interpret these kernels? In short, for each of the three color values for each pixel, we’ll compute two values `Gx` and `Gy`. To compute `Gx` for the red channel value of a pixel, for instance, we’ll \n",
    "- take the original red values for the nine pixels that form a `3x3` box around the pixel, \n",
    "- multiply them each by the corresponding value in the `Gx` kernel, and \n",
    "- take the sum of the resulting values.\n",
    "\n",
    "Why these particular values for the kernel? In the `Gx` direction, for instance, we’re multiplying the pixels to the right of the target pixel by a positive number, and multiplying the pixels to the left of the target pixel by a negative number. When we take the sum, if the pixels on the right are a similar color to the pixels on the left, the result will be close to `0` (the numbers cancel out). But if the pixels on the right are very different from the pixels on the left, then the resulting value will be very positive or very negative, indicating a change in color that likely is the result of a boundary between objects. And a similar argument holds true for calculating edges in the `y` direction.\n",
    "\n",
    "Using these kernels, we can generate a `Gx` and `Gy` value for each of the red, green, and blue channels for a pixel. But each channel can only take on one value, not two: so we need some way to combine `Gx` and `Gy` into a single value. The Sobel filter algorithm combines `Gx` and `Gy` into a final value by calculating the square root of $Gx^2 + Gy^2$. And since channel values can only take on integer values from 0 to 255, be sure the resulting value is rounded to the nearest integer and capped at 255!\n",
    "\n",
    "And what about handling pixels at the edge, or in the corner of the image? There are many ways to handle pixels at the edge, but for the purposes of this problem, we’ll ask you to treat the image as if there was a 1 pixel solid black border around the edge of the image: therefore, trying to access a pixel past the edge of the image should be treated as a solid black pixel (values of `0` for each of red, green, and blue). This will effectively ignore those pixels from our calculations of `Gx` and `Gy`.\n",
    "\n",
    "**Getting Started**"
   ]
  },
  {
   "cell_type": "code",
   "execution_count": 1,
   "id": "eabf0e6f-f447-42a4-b9a2-00b2ad67b858",
   "metadata": {
    "tags": []
   },
   "outputs": [
    {
     "name": "stdout",
     "output_type": "stream",
     "text": [
      "--2023-09-04 12:18:23--  https://cdn.cs50.net/2022/fall/psets/4/filter-more.zip\n",
      "Resolving cdn.cs50.net (cdn.cs50.net)... 65.9.55.119, 65.9.55.105, 65.9.55.69, ...\n",
      "Connecting to cdn.cs50.net (cdn.cs50.net)|65.9.55.119|:443... connected.\n",
      "HTTP request sent, awaiting response... 200 OK\n",
      "Length: 2159629 (2,1M) [application/zip]\n",
      "Saving to: ‘filter-more.zip’\n",
      "\n",
      "filter-more.zip     100%[===================>]   2,06M  4,21MB/s    in 0,5s    \n",
      "\n",
      "2023-09-04 12:18:24 (4,21 MB/s) - ‘filter-more.zip’ saved [2159629/2159629]\n",
      "\n",
      "Archive:  filter-more.zip\n",
      "   creating: filter-more/\n",
      "   creating: filter-more/images/\n",
      "  inflating: filter-more/images/courtyard.bmp  \n",
      "  inflating: filter-more/images/tower.bmp  \n",
      "  inflating: filter-more/images/yard.bmp  \n",
      "  inflating: filter-more/images/stadium.bmp  \n",
      "  inflating: filter-more/Makefile    \n",
      "  inflating: filter-more/bmp.h       \n",
      "  inflating: filter-more/filter.c    \n",
      "  inflating: filter-more/helpers.c   \n",
      "  inflating: filter-more/helpers.h   \n",
      "bmp.h  filter.c  helpers.c  helpers.h  \u001b[0m\u001b[01;34mimages\u001b[0m  Makefile\n"
     ]
    }
   ],
   "source": [
    "cd Solutions\n",
    "wget https://cdn.cs50.net/2022/fall/psets/4/filter-more.zip\n",
    "unzip filter-more.zip\n",
    "rm filter-more.zip\n",
    "cd filter-more\n",
    "ls"
   ]
  },
  {
   "cell_type": "code",
   "execution_count": 2,
   "id": "7f7a68e3-e001-4ea3-ad34-8c777051482a",
   "metadata": {
    "tags": []
   },
   "outputs": [
    {
     "name": "stdout",
     "output_type": "stream",
     "text": [
      "/home/commi/Yandex.Disk/it_learning/02_CS/07_Harvard/Solutions/filter-more\n"
     ]
    }
   ],
   "source": [
    "pwd"
   ]
  },
  {
   "cell_type": "markdown",
   "id": "449e922c-6f3d-4106-bb62-add1e136f723",
   "metadata": {},
   "source": [
    "You should see a few files: `bmp.h`, `filter.c`, `helpers.h`, `helpers.c`, and `Makefile`. You should also see a folder called `images` with four BMP files.\n",
    "\n",
    "**Understanding**\n",
    "\n",
    "Let’s now take a look at some of the files provided to you as distribution code to get an understanding for what’s inside of them.\n",
    "\n",
    "```bash\n",
    "bmp.h\n",
    "```\n",
    "\n",
    "Open up `bmp.h` (as by double-clicking on it in the file browser) and have a look.\n",
    "\n",
    "You’ll see definitions of the headers we’ve mentioned (`BITMAPINFOHEADER` and `BITMAPFILEHEADER`). In addition, that file defines `BYTE`, `DWORD`, `LONG`, and `WORD`, data types normally found in the world of Windows programming. Notice how they’re just aliases for primitives with which you are (hopefully) already familiar. It appears that `BITMAPFILEHEADER` and `BITMAPINFOHEADER` make use of these types.\n",
    "\n",
    "Perhaps most importantly for you, this file also defines a struct called `RGBTRIPLE` that, quite simply, “encapsulates” three bytes: one blue, one green, and one red (the order, recall, in which we expect to find RGB triples actually on disk).\n",
    "\n",
    "Why are these structs useful? Well, recall that a file is just a sequence of bytes (or, ultimately, bits) on disk. But those bytes are generally ordered in such a way that the first few represent something, the next few represent something else, and so on. “File formats” exist because the world has standardized what bytes mean what. Now, we could just read a file from disk into RAM as one big array of bytes. And we could just remember that the byte at `array[i]` represents one thing, while the byte at `array[j]` represents another. But why not give some of those bytes names so that we can retrieve them from memory more easily? That’s precisely what the structs in `bmp.h` allow us to do. Rather than think of some file as one long sequence of bytes, we can instead think of it as a sequence of structs.\n",
    "\n",
    "```\n",
    "filter.c\n",
    "```\n",
    "\n",
    "Now, let’s open up `filter.c`. This file has been written already for you, but there are a couple important points worth noting here.\n",
    "\n",
    "First, notice the definition of filters on line `10`. That string tells the program what the allowable command-line arguments to the program are: `b`, `e`, `g`, and `r`. Each of them specifies a different filter that we might apply to our images: blur, edge detection, grayscale, and reflection.\n",
    "\n",
    "The next several lines open up an image file, make sure it’s indeed a BMP file, and read all of the pixel information into a 2D array called `image`.\n",
    "\n",
    "Scroll down to the `switch` statement that begins on line `101`. Notice that, depending on what filter we’ve chosen, a different function is called: if the user chooses filter `b`, the program calls the `blur` function; if `e`, then `edges` is called; if `g`, then `grayscale` is called; and if `r`, then `reflect` is called. Notice, too, that each of these functions take as arguments the height of the image, the width of the image, and the 2D array of pixels.\n",
    "\n",
    "These are the functions you’ll (soon!) implement. As you might imagine, the goal is for each of these functions to edit the 2D array of pixels in such a way that the desired filter is applied to the image.\n",
    "\n",
    "The remaining lines of the program take the resulting image and write them out to a new image file.\n",
    "\n",
    "```\n",
    "helpers.h\n",
    "```\n",
    "\n",
    "Next, take a look at `helpers.h`. This file is quite short, and just provides the function prototypes for the functions you saw earlier.\n",
    "\n",
    "Here, take note of the fact that each function takes a 2D array called `image` as an argument, where `image` is an array of height many rows, and each row is itself another array of width many `RGBTRIPLE`s. So if image represents the whole picture, then `image[0]` represents the first row, and `image[0][0]` represents the pixel in the upper-left corner of the image.\n",
    "\n",
    "```\n",
    "helpers.c\n",
    "```\n",
    "\n",
    "Now, open up `helpers.c`. Here’s where the implementation of the functions declared in `helpers.h` belong. But note that, right now, the implementations are missing! This part is up to you.\n",
    "\n",
    "```\n",
    "Makefile\n",
    "```\n",
    "\n",
    "Finally, let’s look at `Makefile`. This file specifies what should happen when we run a terminal command like `make` filter. Whereas programs you may have written before were confined to just one file, filter seems to use multiple files: `filter.c` and `helpers.c`. So we’ll need to tell `make` how to compile this file.\n",
    "\n",
    "Try compiling filter for yourself by going to your terminal and running\n",
    "\n",
    "```bash\n",
    "$ make filter\n",
    "```\n",
    "\n",
    "Then, you can run the program by running:\n",
    "\n",
    "```bash\n",
    "$ ./filter -g images/yard.bmp out.bmp\n",
    "```\n",
    "\n",
    "which takes the image at `images/yard.bmp`, and generates a new image called `out.bmp` after running the pixels through the `grayscale` function. `grayscale` doesn’t do anything just yet, though, so the output image should look the same as the original yard.\n",
    "\n",
    "**Specification**\n",
    "\n",
    "Implement the functions in `helpers.c` such that a user can apply `grayscale`, `reflection`, `blur`, or `edge` detection filters to their images.\n",
    "\n",
    "- The function `grayscale` should take an image and turn it into a black-and-white version of the same image.\n",
    "- The `reflect` function should take an image and reflect it horizontally.\n",
    "- The `blur` function should take an image and turn it into a box-blurred version of the same image.\n",
    "- The `edges` function should take an image and highlight the edges between objects, according to the Sobel operator.\n",
    "\n",
    "You should not modify any of the function signatures, nor should you modify any other files other than `helpers.c`.\n",
    "\n",
    "**Usage**\n",
    "\n",
    "Your program should behave per the examples below. `INFILE.bmp` is the name of the input image and `OUTFILE.bmp` is the name of the resulting image after a filter has been applied.\n",
    "\n",
    "```\n",
    "$ ./filter -g INFILE.bmp OUTFILE.bmp\n",
    "$ ./filter -r INFILE.bmp OUTFILE.bmp\n",
    "$ ./filter -b INFILE.bmp OUTFILE.bmp\n",
    "$ ./filter -e INFILE.bmp OUTFILE.bmp\n",
    "```\n",
    "\n",
    "**Hints**\n",
    "\n",
    "The values of a pixel’s `rgbtRed`, `rgbtGreen`, and `rgbtBlue` components are all integers, so be sure to round any floating-point numbers to the nearest integer when assigning them to a pixel value!"
   ]
  },
  {
   "cell_type": "code",
   "execution_count": null,
   "id": "d21b8215-adc7-4826-85cf-a396efa7be29",
   "metadata": {},
   "outputs": [],
   "source": []
  },
  {
   "cell_type": "code",
   "execution_count": null,
   "id": "ebe31b76-e7a9-4ce3-952d-51ae8a86052e",
   "metadata": {},
   "outputs": [],
   "source": []
  },
  {
   "cell_type": "code",
   "execution_count": null,
   "id": "fbb49c07-ba1d-47dd-b861-59db142b7a2b",
   "metadata": {},
   "outputs": [],
   "source": []
  },
  {
   "cell_type": "code",
   "execution_count": null,
   "id": "cb8072e4-82a4-4231-bd16-a02d1dd22c3f",
   "metadata": {},
   "outputs": [],
   "source": []
  },
  {
   "cell_type": "code",
   "execution_count": null,
   "id": "b77af305-e44a-40e2-9153-99a48b37d3c9",
   "metadata": {},
   "outputs": [],
   "source": []
  },
  {
   "cell_type": "code",
   "execution_count": null,
   "id": "8bbd7e82-159d-4eff-9744-a865212a05f7",
   "metadata": {},
   "outputs": [],
   "source": []
  },
  {
   "cell_type": "code",
   "execution_count": null,
   "id": "fb42a428-d2f2-477b-9e00-2cc3bb0eef3b",
   "metadata": {},
   "outputs": [],
   "source": []
  },
  {
   "cell_type": "code",
   "execution_count": null,
   "id": "17ef47d4-0f54-4209-b2bb-7feb991270f8",
   "metadata": {},
   "outputs": [],
   "source": []
  },
  {
   "cell_type": "code",
   "execution_count": null,
   "id": "deac863a-e902-454a-a7e3-ef1bd30c4e19",
   "metadata": {},
   "outputs": [],
   "source": []
  },
  {
   "cell_type": "code",
   "execution_count": null,
   "id": "7017c888-595f-45e4-a3d5-158bb504a66b",
   "metadata": {},
   "outputs": [],
   "source": []
  },
  {
   "cell_type": "code",
   "execution_count": null,
   "id": "02e96e93-d485-411d-aaf2-b0e68c046f4e",
   "metadata": {},
   "outputs": [],
   "source": []
  },
  {
   "cell_type": "code",
   "execution_count": null,
   "id": "2f4f29c2-319d-4fec-b755-b4e410249724",
   "metadata": {},
   "outputs": [],
   "source": []
  },
  {
   "cell_type": "code",
   "execution_count": null,
   "id": "9a60c267-be42-4487-8c49-f7131840ef31",
   "metadata": {},
   "outputs": [],
   "source": []
  },
  {
   "cell_type": "code",
   "execution_count": null,
   "id": "b1b905eb-8fa4-40e9-bee7-71eee2c5d6bc",
   "metadata": {},
   "outputs": [],
   "source": []
  },
  {
   "cell_type": "code",
   "execution_count": null,
   "id": "63bf8275-e5a9-4205-9fef-81e8aa19f7e6",
   "metadata": {},
   "outputs": [],
   "source": []
  },
  {
   "cell_type": "code",
   "execution_count": null,
   "id": "ccc7cf8d-284d-474f-9a95-7f59eb4ca8cd",
   "metadata": {},
   "outputs": [],
   "source": []
  }
 ],
 "metadata": {
  "kernelspec": {
   "display_name": "venv3.11",
   "language": "python",
   "name": "venv3.11"
  },
  "language_info": {
   "codemirror_mode": {
    "name": "ipython",
    "version": 3
   },
   "file_extension": ".py",
   "mimetype": "text/x-python",
   "name": "python",
   "nbconvert_exporter": "python",
   "pygments_lexer": "ipython3",
   "version": "3.11.2"
  }
 },
 "nbformat": 4,
 "nbformat_minor": 5
}
