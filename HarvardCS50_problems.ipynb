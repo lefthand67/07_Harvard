{
 "cells": [
  {
   "cell_type": "markdown",
   "id": "f9d20777-7200-4783-8e29-a318e8d7c756",
   "metadata": {},
   "source": [
    "# CS50 from [Harvard](https://learning.edx.org/course/course-v1:HarvardX+CS50+X/home) PROBLEMS"
   ]
  },
  {
   "cell_type": "markdown",
   "id": "d076d32f-76f5-41d3-9337-074ba15b4cf8",
   "metadata": {
    "jp-MarkdownHeadingCollapsed": true
   },
   "source": [
    "# Week 1"
   ]
  },
  {
   "cell_type": "markdown",
   "id": "6b6e67c2-225d-4d79-b8b3-cc9c9d1ef3e8",
   "metadata": {},
   "source": [
    "## W1 Prime numbers in a given range \n",
    "from [Harvard CS50](https://cs50.harvard.edu/x/2023/problems/1/prime/) 2023 Lecture 1"
   ]
  },
  {
   "cell_type": "code",
   "execution_count": 72,
   "id": "217acbcb-8995-49d7-b6b2-abd43445cdcc",
   "metadata": {
    "execution": {
     "iopub.execute_input": "2023-04-15T21:18:08.422593Z",
     "iopub.status.busy": "2023-04-15T21:18:08.421593Z",
     "iopub.status.idle": "2023-04-15T21:18:16.784528Z",
     "shell.execute_reply": "2023-04-15T21:18:16.783525Z",
     "shell.execute_reply.started": "2023-04-15T21:18:08.422593Z"
    },
    "tags": []
   },
   "outputs": [
    {
     "name": "stdin",
     "output_type": "stream",
     "text": [
      "Enter the range max:  10000\n"
     ]
    },
    {
     "name": "stdout",
     "output_type": "stream",
     "text": [
      "Total time: 5.18043065 sec.\n"
     ]
    }
   ],
   "source": [
    "import time\n",
    "\n",
    "rng = int(input(\"Enter the range max: \"))\n",
    "\n",
    "starting_time = time.time()\n",
    "primes = [] * rng\n",
    "primes.extend([1, 2, 3])\n",
    "for i in range(5, rng):\n",
    "    if i%2 == 0:\n",
    "        continue\n",
    "    else:\n",
    "        for j in primes[2:]:\n",
    "            if i%j == 0:\n",
    "                break\n",
    "            elif (i%j != 0 and\n",
    "                  primes.index(j) == len(primes) - 1):\n",
    "                primes.append(i)\n",
    "\n",
    "print(f'Total time: {((time.time() - starting_time)):.8f} sec.')"
   ]
  },
  {
   "cell_type": "code",
   "execution_count": 73,
   "id": "18982406-ad02-4c35-a698-698259ae296e",
   "metadata": {
    "execution": {
     "iopub.execute_input": "2023-04-15T21:54:15.477605Z",
     "iopub.status.busy": "2023-04-15T21:54:15.477605Z",
     "iopub.status.idle": "2023-04-15T21:54:24.596260Z",
     "shell.execute_reply": "2023-04-15T21:54:24.596260Z",
     "shell.execute_reply.started": "2023-04-15T21:54:15.477605Z"
    },
    "tags": []
   },
   "outputs": [
    {
     "name": "stdin",
     "output_type": "stream",
     "text": [
      "Enter the range max:  10000\n"
     ]
    },
    {
     "name": "stdout",
     "output_type": "stream",
     "text": [
      "Total time: 5.20025849 sec.\n"
     ]
    }
   ],
   "source": [
    "import time\n",
    "# import numpy as np\n",
    "\n",
    "rng = int(input(\"Enter the range max: \"))\n",
    "\n",
    "starting_time = time.time()\n",
    "primes = [] * int(rng/2)\n",
    "primes.extend([1, 2, 3])\n",
    "\n",
    "for i in range(5, rng, 2):\n",
    "    for j in primes[2:]:\n",
    "        if i%j == 0:\n",
    "            break\n",
    "        elif (i%j != 0 and\n",
    "              primes.index(j) == len(primes) - 1):\n",
    "            primes.append(i)\n",
    "\n",
    "print(f'Total time: {((time.time() - starting_time)):.8f} sec.')"
   ]
  },
  {
   "cell_type": "markdown",
   "id": "0de236f0-54df-453c-88d2-a1c2ed7faebc",
   "metadata": {},
   "source": [
    "## W1 Mario\n",
    "from [Harvard CS50](https://cs50.harvard.edu/x/2023/psets/1/mario/more/) 2023 Lecture 1"
   ]
  },
  {
   "cell_type": "markdown",
   "id": "210af605-7bb8-4f6b-85cb-700da89b6dd3",
   "metadata": {},
   "source": [
    "```\n",
    "   #  #\n",
    "  ##  ##\n",
    " ###  ###\n",
    "####  ####\n",
    "```"
   ]
  },
  {
   "cell_type": "code",
   "execution_count": 23,
   "id": "644b8857-a851-49a6-99dc-489a3c1594e2",
   "metadata": {
    "execution": {
     "iopub.execute_input": "2023-04-21T20:47:26.876351Z",
     "iopub.status.busy": "2023-04-21T20:47:26.875351Z",
     "iopub.status.idle": "2023-04-21T20:47:35.782690Z",
     "shell.execute_reply": "2023-04-21T20:47:35.781694Z",
     "shell.execute_reply.started": "2023-04-21T20:47:26.876351Z"
    },
    "tags": []
   },
   "outputs": [
    {
     "name": "stdin",
     "output_type": "stream",
     "text": [
      "Enter number between 1 and 8:  10\n",
      "Enter number between 1 and 8:  0\n",
      "Enter number between 1 and 8:  5\n"
     ]
    },
    {
     "name": "stdout",
     "output_type": "stream",
     "text": [
      "       \n",
      "    #  #\n",
      "   ##  ##\n",
      "  ###  ###\n",
      " ####  ####\n",
      "#####  #####\n"
     ]
    }
   ],
   "source": [
    "move = True\n",
    "while move:\n",
    "    n = int(input(\"Enter number between 1 and 8: \"))\n",
    "    if n > 0 and n < 9:\n",
    "        move = False\n",
    "\n",
    "for i in range(n+1):\n",
    "    str1 = ' ' * (n - i) + '#' * i\n",
    "    str2 = '#' * i\n",
    "    print(str1 + '  ' + str2)"
   ]
  },
  {
   "cell_type": "markdown",
   "id": "5bcd17c3-a77f-4aea-9e5e-6057c53d56e6",
   "metadata": {},
   "source": [
    "## W1 Credit cards"
   ]
  },
  {
   "cell_type": "markdown",
   "id": "b5315681-6ec1-419d-baf0-be966b3f4baf",
   "metadata": {},
   "source": [
    "from [Harvard CS50](https://cs50.harvard.edu/x/2023/psets/1/credit/) 2023 Lecture 1\n",
    "\n",
    "A credit (or debit) card, of course, is a plastic card with which you can pay for goods and services. Printed on that card is a number that’s also stored in a database somewhere, so that when your card is used to buy something, the creditor knows whom to bill. There are a lot of people with credit cards in this world, so those numbers are pretty long: American Express uses 15-digit numbers, MasterCard uses 16-digit numbers, and Visa uses 13- and 16-digit numbers. And those are decimal numbers (0 through 9), not binary, which means, for instance, that American Express could print as many as 10^15 = 1,000,000,000,000,000 unique cards! (That’s, um, a quadrillion.)\n",
    "\n",
    "Actually, that’s a bit of an exaggeration, because credit card numbers actually have some structure to them. All American Express numbers start with 34 or 37; most MasterCard numbers start with 51, 52, 53, 54, or 55 (they also have some other potential starting numbers which we won’t concern ourselves with for this problem); and all Visa numbers start with 4. But credit card numbers also have a “checksum” built into them, a mathematical relationship between at least one number and others. That checksum enables computers (or humans who like math) to detect typos (e.g., transpositions), if not fraudulent numbers, without having to query a database, which can be slow. Of course, a dishonest mathematician could certainly craft a fake number that nonetheless respects the mathematical constraint, so a database lookup is still necessary for more rigorous checks.\n",
    "\n",
    "So what’s the secret formula? Well, most cards use an algorithm invented by Hans Peter Luhn of IBM. According to Luhn’s algorithm, you can determine if a credit card number is (syntactically) valid as follows:\n",
    "\n",
    "1. Multiply every other digit by 2, starting with the number’s second-to-last digit, and then add those products’ digits together.\n",
    "2. Add the sum to the sum of the digits that weren’t multiplied by 2.\n",
    "3. If the total’s last digit is 0 (or, put more formally, if the total modulo 10 is congruent to 0), the number is valid!\n",
    "\n",
    "That’s kind of confusing, so let’s try an example with David’s Visa: 4003600000000014.\n",
    "\n",
    "1. For the sake of discussion, let’s first underline every other digit, starting with the number’s second-to-last digit:\n",
    "\n",
    "    <p><u>4</u>0<u>0</u>3<u>6</u>0<u>0</u>0<u>0</u>0<u>0</u>0<u>0</u>0<u>1</u>4</p>\n",
    "\n",
    "    Okay, let’s multiply each of the underlined digits by 2:\n",
    "\n",
    "    1•2 + 0•2 + 0•2 + 0•2 + 0•2 + 6•2 + 0•2 + 4•2\n",
    "\n",
    "    That gives us:\n",
    "\n",
    "    2 + 0 + 0 + 0 + 0 + 12 + 0 + 8\n",
    "\n",
    "2. Now let’s add those products’ digits (i.e., not the products themselves) together:\n",
    "\n",
    "    2 + 0 + 0 + 0 + 0 + 1 + 2 + 0 + 8 = 13\n",
    "\n",
    "    Now let’s add that sum (13) to the sum of the digits that weren’t multiplied by 2 (starting from the end):\n",
    "\n",
    "    13 + 4 + 0 + 0 + 0 + 0 + 0 + 3 + 0 = 20\n",
    "\n",
    "3. Yup, the last digit in that sum (20) is a 0, so David’s card is legit!\n",
    "\n",
    "So, validating credit card numbers isn’t hard, but it does get a bit tedious by hand. Let’s write a program."
   ]
  },
  {
   "cell_type": "code",
   "execution_count": 29,
   "id": "d1dad4fc-4efc-4f78-b236-b2a00ae4f84e",
   "metadata": {
    "execution": {
     "iopub.execute_input": "2023-05-03T12:52:38.964518Z",
     "iopub.status.busy": "2023-05-03T12:52:38.963519Z",
     "iopub.status.idle": "2023-05-03T12:52:38.973631Z",
     "shell.execute_reply": "2023-05-03T12:52:38.972625Z",
     "shell.execute_reply.started": "2023-05-03T12:52:38.963519Z"
    },
    "tags": []
   },
   "outputs": [
    {
     "name": "stdout",
     "output_type": "stream",
     "text": [
      "VISA\n"
     ]
    }
   ],
   "source": [
    "# number = input(\"Number: \")\n",
    "\n",
    "number = '4003600000000014'\n",
    "\n",
    "summ = int()\n",
    "for i in range(len(number)-2, -1, -2):\n",
    "    # adding every second-to-last digit\n",
    "    digit = int(number[i])*2\n",
    "    if digit > 10:\n",
    "        chars = str(digit)\n",
    "        for char in chars:\n",
    "                summ += int(char)\n",
    "    else:\n",
    "        summ += digit\n",
    "    # adding the rest of digits to sum\n",
    "    summ += int(number[i+1])\n",
    "\n",
    "if summ % 10 == 0:\n",
    "    print('VISA')\n",
    "else:\n",
    "    print('Invalid'.upper())"
   ]
  },
  {
   "cell_type": "markdown",
   "id": "044212cd-2898-468e-90a4-e1ba2f65aba7",
   "metadata": {
    "jp-MarkdownHeadingCollapsed": true
   },
   "source": [
    "# Week 2"
   ]
  },
  {
   "cell_type": "markdown",
   "id": "4920dc23-1a0c-4a9d-8a05-e15abecd54d4",
   "metadata": {},
   "source": [
    "## W2 [Scrabble](https://cs50.harvard.edu/x/2023/labs/2/)"
   ]
  },
  {
   "cell_type": "markdown",
   "id": "eeaec739-a777-4c78-b301-c326cc69f993",
   "metadata": {},
   "source": [
    "In the game of Scrabble, players create words to score points, and the number of points is the sum of the point values of each letter in the word.\n",
    "\n",
    "```\n",
    "// Points assigned to each letter of the alphabet\n",
    "int POINTS[] = {1, 3, 3, 2, 1, 4, 2, 4, 1, 8, 5, 1, 3, 1, 1, 3, 10, 1, 1, 1, 1, 4, 4, 8, 4, 10};\n",
    "```\n",
    "\n",
    "For example, if we wanted to score the word `Code`, we would note that in general Scrabble rules, the `C` is worth 3 points, the `o` is worth 1 point, the `d` is worth 2 points, and the `e` is worth 1 point. Summing these, we get that Code is worth `3 + 1 + 2 + 1 = 7` points.\n",
    "\n",
    "The program should determine the winner of a short scrabble-like game, where two players each enter their word, and the higher scoring player wins.\n",
    "\n",
    "Your program should compute, using the POINTS array, and return the score for the string argument. Characters that are not letters should be given zero points, and uppercase and lowercase letters should be given the same point values. For example, `!` is worth 0 points while `A` and `a` are both worth 1 point.\n",
    "\n",
    "Though Scrabble rules normally require that a word be in the dictionary, no need to check for that in this problem!\n",
    "\n",
    "In main(), your program should print, depending on the players’ scores, `Player 1 wins!`, `Player 2 wins!`, or `Tie!`."
   ]
  },
  {
   "cell_type": "code",
   "execution_count": 20,
   "id": "dc60e480-cab3-433c-93f7-fb3717b69618",
   "metadata": {
    "execution": {
     "iopub.execute_input": "2023-05-03T10:13:49.641767Z",
     "iopub.status.busy": "2023-05-03T10:13:49.639771Z",
     "iopub.status.idle": "2023-05-03T10:13:49.654836Z",
     "shell.execute_reply": "2023-05-03T10:13:49.653830Z",
     "shell.execute_reply.started": "2023-05-03T10:13:49.641767Z"
    },
    "tags": []
   },
   "outputs": [
    {
     "name": "stdout",
     "output_type": "stream",
     "text": [
      "Player 1 wins!\n"
     ]
    }
   ],
   "source": [
    "points = (1, 3, 3, 2, 1, 4, 2, 4, 1, 8, 5, 1, 3, 1, 1, 3, 10, 1, 1, 1, 1, 4, 4, 8, 4, 10)\n",
    "\n",
    "def get_score(word):\n",
    "    word = word.lower()\n",
    "    decrement_idx = ord('a')\n",
    "    score = 0\n",
    "    for i in word:\n",
    "        letter_idx = ord(i) - decrement_idx\n",
    "        if letter_idx >= 0 and letter_idx < 26:\n",
    "            score += points[letter_idx]\n",
    "    return score\n",
    "\n",
    "\n",
    "# word1 = input(\"First player's word: \")\n",
    "# word2 = input(\"Second player's word: \")\n",
    "\n",
    "word1 = '!aBc'\n",
    "word2 = 'Бабац a,C,'\n",
    "\n",
    "score1 = get_score(word1)\n",
    "score2 = get_score(word2)\n",
    "\n",
    "if score1 > score2:\n",
    "    print(\"Player 1 wins!\")\n",
    "elif score1 < score2:\n",
    "    print(\"Player 2 wins!\")\n",
    "else:\n",
    "    print(\"Tie!\")\n"
   ]
  },
  {
   "cell_type": "markdown",
   "id": "cb9709a3-8d75-4c3c-9a4f-89ab9060a713",
   "metadata": {},
   "source": [
    "## W2 [Substitution](https://cs50.harvard.edu/x/2023/psets/2/substitution/)"
   ]
  },
  {
   "cell_type": "markdown",
   "id": "2a9c1e9f-9538-43a0-8a9d-caece6e5c254",
   "metadata": {},
   "source": [
    "For this problem, you’ll write a program that implements a substitution cipher, per the below.\n",
    "\n",
    "```\n",
    "plaintext:  HELLO\n",
    "ciphertext: VKXXN\n",
    "```\n",
    "\n",
    "In a substitution cipher, we “encrypt” (i.e., conceal in a reversible way) a message by replacing every letter with another letter. To do so, we use a key: in this case, a mapping of each of the letters of the alphabet to the letter it should correspond to when we encrypt it. To “decrypt” the message, the receiver of the message would need to know the key, so that they can reverse the process: translating the encrypt text (generally called **ciphertext**) back into the original message (generally called **plaintext**).\n",
    "\n",
    "A key, for example, might be the string `NQXPOMAFTRHLZGECYJIUWSKDVB`. This 26-character key means that `A` (the first letter of the alphabet) should be converted into `N` (the first character of the key), `B` (the second letter of the alphabet) should be converted into `Q` (the second character of the key), and so forth.\n",
    "\n",
    "A message like `HELLO`, then, would be encrypted as `FOLLE`, replacing each of the letters according to the mapping determined by the key.\n",
    "\n",
    "Let’s write a program called `substitution` that enables you to encrypt messages using a substitution cipher. At the time the user executes the program, they should decide, by providing a command-line argument, on what the key should be in the secret message they’ll provide at runtime.\n",
    "\n",
    "Here are a few examples of how the program might work. For example, if the user inputs a key of `YTNSHKVEFXRBAUQZCLWDMIPGJO` and a plaintext of `HELLO`:\n",
    "\n",
    "```\n",
    "plaintext:  HELLO\n",
    "ciphertext: EHBBQ\n",
    "```\n",
    "\n",
    "Here’s how the program might work if the user provides a key of `VCHPRZGJNTLSKFBDQWAXEUYMOI` and a plaintext of `hello, world`:\n",
    "\n",
    "```\n",
    "plaintext:  hello, world\n",
    "ciphertext: jrssb, ybwsp\n",
    "```\n",
    "\n",
    "Notice that neither the comma nor the space were substituted by the cipher. Only substitute alphabetical characters! Notice, too, that the case of the original message has been preserved. Lowercase letters remain lowercase, and uppercase letters remain uppercase.\n",
    "\n",
    "Whether the characters in the key itself are uppercase or lowercase doesn’t matter. A key of `VCHPRZGJNTLSKFBDQWAXEUYMOI` is functionally identical to a key of `vchprzgjntlskfbdqwaxeuymoi` (as is, for that matter, `VcHpRzGjNtLsKfBdQwAxEuYmOi`).\n",
    "\n",
    "And what if a user doesn’t provide a valid key? The program should explain with an error message:\n",
    "\n",
    "```\n",
    "Key must contain 26 characters.\n",
    "```\n",
    "\n",
    "Or really doesn’t cooperate, providing no command-line argument at all? The program should remind the user how to use the program:\n",
    "\n",
    "```\n",
    "   \n",
    "Usage: ./substitution key\n",
    "```\n",
    "\n",
    "Or really, really doesn’t cooperate, providing too many command-line arguments? The program should also remind the user how to use the program:\n",
    "\n",
    "```\n",
    "1 2 3\n",
    "Usage: ./substitution key\n",
    "```\n",
    "\n",
    "**Specification**\n",
    "\n",
    "Design and implement a program, substitution, that encrypts messages using a substitution cipher.\n",
    "\n",
    "- Implement your program in a file called substitution.c in a directory called substitution.\n",
    "- Your program must accept a single command-line argument, the `key` to use for the substitution. The `key` itself should be case-insensitive, so whether any character in the `key` is uppercase or lowercase should not affect the behavior of your program.\n",
    "- If your program is executed without any command-line arguments or with more than one command-line argument, your program should print an error message of your choice (with `printf`) and return from main a value of `1` (which tends to signify an error) immediately.\n",
    "- If the `key` is invalid (as by not containing 26 characters, containing any character that is not an alphabetic character, or not containing each letter exactly once), your program should print an error message of your choice (with `printf`) and return from `main` a value of `1` immediately.\n",
    "- Your program must output `plaintext`: (without a newline) and then prompt the user for a string of `plaintext` (using `get_string`).\n",
    "- Your program must output `ciphertext`: (without a newline) followed by the plaintext’s corresponding ciphertext, with each alphabetical character in the plaintext substituted for the corresponding character in the ciphertext; non-alphabetical characters should be outputted unchanged.\n",
    "- Your program must preserve case: capitalized letters must remain capitalized letters; lowercase letters must remain lowercase letters.\n",
    "- After outputting ciphertext, you should print a newline. Your program should then exit by returning `0` from main."
   ]
  },
  {
   "cell_type": "markdown",
   "id": "a472df61-04ea-4e46-b487-ca807130b014",
   "metadata": {},
   "source": [
    "Solution given in java."
   ]
  },
  {
   "cell_type": "markdown",
   "id": "36417432-7b21-41dc-9280-4f75ea8c99ea",
   "metadata": {},
   "source": [
    "## W2 [Hours](https://cs50.harvard.edu/x/2023/problems/2/hours/)"
   ]
  },
  {
   "cell_type": "markdown",
   "id": "3c9d33a5-42c2-4051-81f9-c87820185e66",
   "metadata": {},
   "source": [
    "**Learning Goals**\n",
    "\n",
    "- Practice using arrays\n",
    "- Using an array as a parameter to a function\n",
    "- Adding values in a loop\n",
    "- Integer division and type casting"
   ]
  },
  {
   "cell_type": "markdown",
   "id": "9252a826-68e0-48ec-856c-75daca76871d",
   "metadata": {},
   "source": [
    "**Background**\n",
    "\n",
    "Suppose you’re taking CS50 (if you’re reading this you probably are!) and spending time every week on each problem set. You may be wondering how many hours you’ve spent learning computer science, on average or in total! In this program, you’ll complete a function that calculates, based on a user’s input, a total number of hours or an average number of hours across a given number of days.\n",
    "\n",
    "![demo](data/images/hoursDemo.gif)"
   ]
  },
  {
   "cell_type": "markdown",
   "id": "c20fd8c6-c69c-49d4-ab9e-a8fc63e61c33",
   "metadata": {},
   "source": [
    "**Implementation Details**\n",
    "\n",
    "The main function prompts the user for the number of weeks a user has been taking CS50, then creates an array with as many elements. Notice that, after retrieving some data, the program prompts the user to type in either “T” or “A”—”T” should (but doesn’t yet!) print the total number of hours the user entered, while “A” should (but doesn’t yet!) print the average hours the user entered. Notice that the `do while` loop uses `toupper` to capitalize the letter that’s input before it is saved in the variable output. Then, the printf function calls `calc_hours`. Note the syntax involved when passing an array to a function.\n",
    "\n",
    "To complete `calc_hours`, first total up the hours saved in the array into a new variable. Then, depending on the value of output, return either this sum, or the average number of hours."
   ]
  },
  {
   "cell_type": "markdown",
   "id": "605f1a2c-0e82-41c1-9306-e4c80db1f51a",
   "metadata": {},
   "source": [
    "**Thought Question**\n",
    "\n",
    "What is the advantage of using a function to calculate hours?"
   ]
  },
  {
   "cell_type": "markdown",
   "id": "ed793966-cb91-49e5-96a8-ecc70d65963b",
   "metadata": {},
   "source": [
    "**Your program should behave per the examples below**\n",
    "\n",
    "```\n",
    "hours/ $ ./hours\n",
    "Number of weeks taking CS50: 3\n",
    "Week 0 HW Hours: 3\n",
    "Week 1 HW Hours: 7\n",
    "Week 2 HW Hours: 10\n",
    "Enter T for total hours, A for average hours per week: A\n",
    "6.7 hours\n",
    "\n",
    "hours/ $ ./hours\n",
    "Number of weeks taking CS50: 2\n",
    "Week 0 HW Hours: 2\n",
    "Week 1 HW Hours: 8\n",
    "Enter T for total hours, A for average hours per week: T\n",
    "10.0 hours\n",
    "```"
   ]
  },
  {
   "cell_type": "markdown",
   "id": "3889222c-21e7-4934-9341-dba389eee274",
   "metadata": {},
   "source": [
    "## W2 [N0 V0w3ls](https://cs50.harvard.edu/x/2023/problems/2/no-vowels/)"
   ]
  },
  {
   "cell_type": "markdown",
   "id": "089fda56-58fe-4e62-a749-78eb128368b9",
   "metadata": {},
   "source": [
    "**Learning Goals**\n",
    "\n",
    "- Practice using strings\n",
    "- Practice using command-line arguments\n",
    "- Write a program entirely from scratch\n",
    "\n",
    "**Background**\n",
    "\n",
    "If you’ve been on the internet, you might have seen “[leetspeak](https://en.wikipedia.org/wiki/Leet)” (or “l33tsp36k” for our purposes!), which involves the substitution of symbols for alphabetical characters, where those symbols somewhat resemble their alphabetical counterparts. In this lab, you’ll write a program to replace certain vowels with digits!\n",
    "\n",
    "Up until now, you’ve frequently written programs for which you’ve been provided distribution code. You’ll notice when downloading the “distro” for this problem, you start with nothing more than a couple of commonly used libraries and an empty main function. In this problem, you will convert a word, which you will input at the command line, to a corresponding word with numbers replacing vowels.\n",
    "\n",
    "- Do note that the main function in the distribution code uses `argc` and `argv`. Be sure to use these!\n",
    "- Be sure to check for the correct number of command-line arguments before doing anything else in your main function.\n",
    "\n",
    "![demo](data/images/no-vowelsDemo.gif)"
   ]
  },
  {
   "cell_type": "markdown",
   "id": "86005bd0-37cc-41be-9ba7-4f71a619f872",
   "metadata": {},
   "source": [
    "**Implementation Details**\n",
    "\n",
    "1. Implement your program in a file called `no-vowels.c` in a directory called `no-vowels`.\n",
    "1. Your program must accept a single command-line argument, which will be the word that you want to convert.\n",
    "1. If your program is executed without any command-line arguments or with more than one command-line argument, your program should print an error message of your choice (with printf) and return from main a value of 1 (which tends to signify an error) immediately.\n",
    "1. Your program must contain a function called `replace` which takes a string input and returns a string output.\n",
    "1. This function will change the following vowels to numbers: `a` becomes 6, `e` becomes 3, `i` becomes 1, `o` becomes 0 and `u` does not change.\n",
    "1. The input parameter for the `replace` function will be `argv[1]` and the return value is the converted word.\n",
    "1. The main function will then print the converted word, followed by `\\n`.\n",
    "1. You may want to try using the `switch` statement in your replace function."
   ]
  },
  {
   "cell_type": "markdown",
   "id": "48c240ef-5326-4a76-adac-89634de2da38",
   "metadata": {},
   "source": [
    "**Thought Question**\n",
    "\n",
    "Why might you want to use command-line arguments rather than `get_string`, `get_int`, etc?\n",
    "\n",
    "**Your program should behave per the examples below.**\n",
    "\n",
    "```\n",
    "no-vowels/ $ ./no-vowels\n",
    "Usage: ./no-vowels word\n",
    "\n",
    "no-vowels/ $ ./no-vowels hello\n",
    "h3ll0\n",
    "\n",
    "no-vowels/ $ ./no-vowels pseudocode\n",
    "ps3ud0c0d3\n",
    "```"
   ]
  },
  {
   "cell_type": "markdown",
   "id": "b6660659-3f0c-4551-a6da-b0a72737341d",
   "metadata": {},
   "source": [
    "## W2 [Password](https://cs50.harvard.edu/x/2023/problems/2/password/)"
   ]
  },
  {
   "cell_type": "markdown",
   "id": "c684a4b0-cbd4-4030-a4b3-a438b97a724a",
   "metadata": {},
   "source": [
    "**Learning Goals**\n",
    "\n",
    "- Practice iterating through a string\n",
    "- Practice using the ctype library\n",
    "- Practice using Boolean variables\n",
    "\n",
    "As we all know by now, it’s important to use passwords that are not easy to guess! Many web apps now require passwords that require not only alphabetical characters, but also number and symbols.\n",
    "\n",
    "In this lab, the user is prompted for a password, which will then be validated using a function check that you will complete. If the password contains at least one upper case letter, one lower case letter, a number, and a symbol (meaning a printable character that’s not a letter or number, such as ‘!’, ‘$’ and ‘#’), the function should return `true`. If not it should return `false`.\n",
    "\n",
    "**Implementation Details**\n",
    "\n",
    "Your function will iterate through the password that’s supplied to it as an argument. Since you have to find at least \n",
    "- one lower case letter, \n",
    "- one upper case letter, \n",
    "- one number, and \n",
    "- one symbol, \n",
    "\n",
    "you may want to create a boolean variable for each and set each to false before you iterate through the string. If you then find a number, for instance you can set that boolean to `true`. If all booleans are `true` at the end of the function, it means all criteria are met, and you would return `true`.\n",
    "\n",
    "**Thought Question**\n",
    "\n",
    "How many different passwords do you think can be made that are 8 letters long, can use any of 95 printable ASCII characters?"
   ]
  },
  {
   "cell_type": "code",
   "execution_count": 1,
   "id": "725d5130-6547-4de2-981a-e2a4fbdda4f2",
   "metadata": {
    "execution": {
     "iopub.execute_input": "2023-06-16T17:48:10.147500Z",
     "iopub.status.busy": "2023-06-16T17:48:10.146500Z",
     "iopub.status.idle": "2023-06-16T17:48:10.882233Z",
     "shell.execute_reply": "2023-06-16T17:48:10.881241Z",
     "shell.execute_reply.started": "2023-06-16T17:48:10.147500Z"
    }
   },
   "outputs": [
    {
     "data": {
      "text/plain": [
       "6634204312890625"
      ]
     },
     "execution_count": 1,
     "metadata": {},
     "output_type": "execute_result"
    }
   ],
   "source": [
    "95**8"
   ]
  },
  {
   "cell_type": "markdown",
   "id": "7e5829fe-702f-4367-88d1-1303d068fade",
   "metadata": {
    "execution": {
     "iopub.execute_input": "2023-06-16T17:50:53.488478Z",
     "iopub.status.busy": "2023-06-16T17:50:53.488478Z",
     "iopub.status.idle": "2023-06-16T17:50:53.500468Z",
     "shell.execute_reply": "2023-06-16T17:50:53.499470Z",
     "shell.execute_reply.started": "2023-06-16T17:50:53.488478Z"
    }
   },
   "source": [
    "**How to Test Your Code**\n",
    "\n",
    "Your program should behave per the examples below.\n",
    "\n",
    "```\n",
    "password/ $ ./password\n",
    "Enter your password: hello\n",
    "Your password needs at least one uppercase letter, lowercase letter, number and symbol!\n",
    "\n",
    "password/ $ ./password\n",
    "Enter your password: h3ll(\n",
    "Your password needs at least one uppercase letter, lowercase letter, number and symbol!\n",
    "\n",
    "password/ $ ./password\n",
    "Enter your password: h3LL0!\n",
    "Your password is valid!\n",
    "```"
   ]
  },
  {
   "cell_type": "markdown",
   "id": "cf00dee0-1df6-4c15-9fc3-abf1cc80ff0c",
   "metadata": {
    "tags": []
   },
   "source": [
    "# Week 3"
   ]
  },
  {
   "cell_type": "markdown",
   "id": "f5e152ba-e77b-47bb-8795-2226e65aba4d",
   "metadata": {},
   "source": [
    "## W3 Recursion example"
   ]
  },
  {
   "cell_type": "code",
   "execution_count": 8,
   "id": "ba691e8d-f3d5-436e-a0db-128c44b29c9d",
   "metadata": {
    "execution": {
     "iopub.execute_input": "2023-07-07T08:33:37.651699Z",
     "iopub.status.busy": "2023-07-07T08:33:37.651251Z",
     "iopub.status.idle": "2023-07-07T08:33:38.605690Z",
     "shell.execute_reply": "2023-07-07T08:33:38.604882Z",
     "shell.execute_reply.started": "2023-07-07T08:33:37.651657Z"
    },
    "tags": []
   },
   "outputs": [
    {
     "name": "stdin",
     "output_type": "stream",
     "text": [
      "Height:  3\n"
     ]
    },
    {
     "name": "stdout",
     "output_type": "stream",
     "text": [
      "#\n",
      "##\n",
      "###\n"
     ]
    }
   ],
   "source": [
    "height = int(input(\"Height: \"))\n",
    "\n",
    "def draw(n):\n",
    "    \n",
    "    # base case\n",
    "    if n < 1:\n",
    "        return None\n",
    "    \n",
    "    # recursive case\n",
    "    draw(n - 1)\n",
    "    for i in range(n):\n",
    "        print('#', end='')\n",
    "    print('\\n', end='')\n",
    "\n",
    "draw(height)"
   ]
  },
  {
   "cell_type": "markdown",
   "id": "3310ef0f-9a0e-41ba-b178-7cde280405dd",
   "metadata": {
    "tags": []
   },
   "source": [
    "## W3 Factorial exercise"
   ]
  },
  {
   "cell_type": "markdown",
   "id": "917f4d41-70f2-41f8-94d8-c79dd9a3163f",
   "metadata": {},
   "source": [
    "Recursive function"
   ]
  },
  {
   "cell_type": "code",
   "execution_count": 4,
   "id": "d70a4887-fab1-46ac-8288-30633162d312",
   "metadata": {
    "execution": {
     "iopub.execute_input": "2023-07-07T18:58:35.053044Z",
     "iopub.status.busy": "2023-07-07T18:58:35.052467Z",
     "iopub.status.idle": "2023-07-07T18:58:35.064502Z",
     "shell.execute_reply": "2023-07-07T18:58:35.063222Z",
     "shell.execute_reply.started": "2023-07-07T18:58:35.052989Z"
    },
    "tags": []
   },
   "outputs": [
    {
     "data": {
      "text/plain": [
       "24"
      ]
     },
     "execution_count": 4,
     "metadata": {},
     "output_type": "execute_result"
    }
   ],
   "source": [
    "def factorial(n):\n",
    "\n",
    "    # base case\n",
    "    if n == 1:\n",
    "        return 1\n",
    "    # recursive case\n",
    "    elif n > 1:\n",
    "        return n * factorial(n-1)\n",
    "    else:\n",
    "        print(\"The number is not natural\")\n",
    "        exit(1)\n",
    "\n",
    "factorial(4)"
   ]
  },
  {
   "cell_type": "code",
   "execution_count": 6,
   "id": "795f67ea-7b5c-4149-9d83-9147062d138e",
   "metadata": {
    "execution": {
     "iopub.execute_input": "2023-07-07T18:58:52.994110Z",
     "iopub.status.busy": "2023-07-07T18:58:52.992298Z",
     "iopub.status.idle": "2023-07-07T18:58:53.007297Z",
     "shell.execute_reply": "2023-07-07T18:58:53.005352Z",
     "shell.execute_reply.started": "2023-07-07T18:58:52.994022Z"
    },
    "tags": []
   },
   "outputs": [
    {
     "data": {
      "text/plain": [
       "24"
      ]
     },
     "execution_count": 6,
     "metadata": {},
     "output_type": "execute_result"
    }
   ],
   "source": [
    "def factorial(n):\n",
    "    # base case\n",
    "    if n == 1:\n",
    "        return 1\n",
    "    # recursive case\n",
    "    return n * factorial(n-1)\n",
    "\n",
    "factorial(4)"
   ]
  },
  {
   "cell_type": "markdown",
   "id": "3465a740-d62b-44ba-8d95-2d2517724ea0",
   "metadata": {},
   "source": [
    "## W3 [Plurality](https://cs50.harvard.edu/x/2023/psets/3/plurality/)"
   ]
  },
  {
   "cell_type": "markdown",
   "id": "d43bac8e-523a-4aee-b44b-6e0f403b2e8e",
   "metadata": {},
   "source": [
    "For this program, you’ll implement a program that runs a plurality election, per the below.\n",
    "\n",
    "```sh\n",
    "$ ./plurality Alice Bob Charlie\n",
    "Number of voters: 4\n",
    "Vote: Alice\n",
    "Vote: Bob\n",
    "Vote: Charlie\n",
    "Vote: Alice\n",
    "Alice\n",
    "```\n",
    "\n",
    "**Background**\n",
    "\n",
    "Elections come in all shapes and sizes. In the UK, the Prime Minister is officially appointed by the monarch, who generally chooses the leader of the political party that wins the most seats in the House of Commons. The United States uses a multi-step Electoral College process where citizens vote on how each state should allocate Electors who then elect the President.\n",
    "\n",
    "Perhaps the simplest way to hold an election, though, is via a method commonly known as the “plurality vote” (also known as “first-past-the-post” or “winner take all”). In the plurality vote, every voter gets to vote for one candidate. At the end of the election, whichever candidate has the greatest number of votes is declared the winner of the election.\n",
    "\n",
    "**Understanding**\n",
    "\n",
    "Let’s take a look at `plurality.c` and read through the distribution code that’s been provided to you.\n",
    "\n",
    "The line `#define MAX 9` is some syntax used here to mean that `MAX` is a constant (equal to `9`) that can be used throughout the program. Here, it represents the maximum number of candidates an election can have.\n",
    "\n",
    "The file then defines a `struct` called a `candidate`. Each candidate has two fields: a `string` called `name` representing the candidate’s name, and an `int` called `votes` representing the number of votes the candidate has. Next, the file defines a `global array` of candidates, where each element is itself a candidate.\n",
    "\n",
    "Now, take a look at the `main` function itself. See if you can find where the program sets a global variable `candidate_count` representing the number of candidates in the election, copies command-line arguments into the array candidates, and asks the user to type in the number of voters. Then, the program lets every voter type in a vote (see how?), calling the vote function on each candidate voted for. Finally, main makes a call to the print_winner function to print out the winner (or winners) of the election.\n",
    "\n",
    "If you look further down in the file, though, you’ll notice that the `vote` and `print_winner` functions have been left blank. This part is up to you to complete!\n",
    "\n",
    "**Specification**\n",
    "\n",
    "Complete the implementation of `plurality.c` in such a way that the program simulates a plurality vote election.\n",
    "\n",
    "- Complete the `vote` function. `vote` takes a single argument, a string called name, representing the name of the candidate who was voted for.\n",
    "    - If name matches one of the names of the candidates in the election, then update that candidate’s vote total to account for the new vote. The vote function in this case should return `true` to indicate a successful ballot.\n",
    "    - If name does not match the name of any of the candidates in the election, no vote totals should change, and the `vote` function should return `false` to indicate an invalid ballot.\n",
    "    - You may assume that no two candidates will have the same name.\n",
    "\n",
    "- Complete the `print_winner` function.\n",
    "    - The function should print out the name of the candidate who received the most votes in the election, and then print a newline.\n",
    "    - It is possible that the election could end in a tie if multiple candidates each have the maximum number of votes. In that case, you should output the names of each of the winning candidates, each on a separate line.\n",
    "    \n",
    "You should not modify anything else in `plurality.c` other than the implementations of the `vote` and `print_winner` functions (and the inclusion of additional header files, if you’d like).\n",
    "\n",
    "**Usage**\n",
    "\n",
    "Your program should behave per the examples below.\n",
    "\n",
    "```sh\n",
    "$ ./plurality Alice Bob\n",
    "Number of voters: 3\n",
    "Vote: Alice\n",
    "Vote: Bob\n",
    "Vote: Alice\n",
    "Alice\n",
    "\n",
    "$ ./plurality Alice Bob\n",
    "Number of voters: 3\n",
    "Vote: Alice\n",
    "Vote: Charlie\n",
    "Invalid vote.\n",
    "Vote: Alice\n",
    "Alice\n",
    "\n",
    "$ ./plurality Alice Bob Charlie\n",
    "Number of voters: 5\n",
    "Vote: Alice\n",
    "Vote: Charlie\n",
    "Vote: Bob\n",
    "Vote: Bob\n",
    "Vote: Alice\n",
    "Alice\n",
    "Bob\n",
    "```"
   ]
  },
  {
   "cell_type": "markdown",
   "id": "48c540aa-5760-4614-b954-a6accbbfd9b7",
   "metadata": {},
   "source": [
    "```c\n",
    "#include <cs50.h>\n",
    "#include <stdio.h>\n",
    "#include <string.h>\n",
    "\n",
    "// Max number of candidates\n",
    "#define MAX 9\n",
    "\n",
    "// Candidates have name and vote count\n",
    "typedef struct\n",
    "{\n",
    "    string name;\n",
    "    int votes;\n",
    "}\n",
    "candidate;\n",
    "\n",
    "// Array of candidates\n",
    "candidate candidates[MAX];\n",
    "\n",
    "// Number of candidates\n",
    "int candidate_count;\n",
    "\n",
    "// Function prototypes\n",
    "bool vote(string name);\n",
    "void print_winner(void);\n",
    "\n",
    "int main(int argc, string argv[])\n",
    "{\n",
    "    // Check for invalid usage\n",
    "    if (argc < 2)\n",
    "    {\n",
    "        printf(\"Usage: plurality [candidate ...]\\n\");\n",
    "        return 1;\n",
    "    }\n",
    "\n",
    "    // Populate array of candidates\n",
    "    candidate_count = argc - 1;\n",
    "    if (candidate_count > MAX)\n",
    "    {\n",
    "        printf(\"Maximum number of candidates is %i\\n\", MAX);\n",
    "        return 2;\n",
    "    }\n",
    "    for (int i = 0; i < candidate_count; i++)\n",
    "    {\n",
    "        candidates[i].name = argv[i + 1];\n",
    "        candidates[i].votes = 0;\n",
    "    }\n",
    "\n",
    "    int voter_count = get_int(\"Number of voters: \");\n",
    "\n",
    "    // Loop over all voters\n",
    "    for (int i = 0; i < voter_count; i++)\n",
    "    {\n",
    "        string name = get_string(\"Vote: \");\n",
    "\n",
    "        // Check for invalid vote\n",
    "        if (!vote(name))\n",
    "        {\n",
    "            printf(\"Invalid vote.\\n\");\n",
    "        }\n",
    "    }\n",
    "\n",
    "    // Display winner of election\n",
    "    print_winner();\n",
    "}\n",
    "\n",
    "// Update vote totals given a new vote\n",
    "bool vote(string name)\n",
    "{\n",
    "    // TODO\n",
    "    return false;\n",
    "}\n",
    "\n",
    "// Print the winner (or winners) of the election\n",
    "void print_winner(void)\n",
    "{\n",
    "    // TODO\n",
    "    return;\n",
    "}\n",
    "```"
   ]
  },
  {
   "cell_type": "markdown",
   "id": "43481c9b-9e3b-42f0-a3ab-1ab264edd4d7",
   "metadata": {},
   "source": [
    "## W3 [Tideman](https://cs50.harvard.edu/x/2023/psets/3/tideman/)"
   ]
  },
  {
   "cell_type": "markdown",
   "id": "c666c262-2c25-46ac-afb4-a3f169a7ba09",
   "metadata": {},
   "source": [
    "For this program, you’ll implement a program that runs a Tideman election, per the below.\n",
    "\n",
    "```\n",
    "$ ./tideman Alice Bob Charlie\n",
    "Number of voters: 5\n",
    "Rank 1: Alice\n",
    "Rank 2: Charlie\n",
    "Rank 3: Bob\n",
    "\n",
    "Rank 1: Alice\n",
    "Rank 2: Charlie\n",
    "Rank 3: Bob\n",
    "\n",
    "Rank 1: Bob\n",
    "Rank 2: Charlie\n",
    "Rank 3: Alice\n",
    "\n",
    "Rank 1: Bob\n",
    "Rank 2: Charlie\n",
    "Rank 3: Alice\n",
    "\n",
    "Rank 1: Charlie\n",
    "Rank 2: Alice\n",
    "Rank 3: Bob\n",
    "\n",
    "Charlie\n",
    "```\n",
    "\n",
    "**Background**\n",
    "\n",
    "You already know about plurality elections, which follow a very simple algorithm for determining the winner of an election: every voter gets one vote, and the candidate with the most votes wins.\n",
    "\n",
    "But the plurality vote does have some disadvantages. What happens, for instance, in an election with three candidates, and the ballots below are cast?"
   ]
  },
  {
   "cell_type": "markdown",
   "id": "6d00066e-4c5f-41c1-ad2e-cec0cfba5260",
   "metadata": {},
   "source": [
    "<center>\n",
    "    <a name=\"\"><img src=\"data/images/fptp_ballot_1.png\" style=\"width: 900px\"></a>\n",
    "    <p style=\"text-align: center\"><i></i></p>"
   ]
  },
  {
   "cell_type": "markdown",
   "id": "e7d0befc-4c90-4c95-89c5-5ff455f4619b",
   "metadata": {},
   "source": [
    "A plurality vote would here declare a tie between Alice and Bob, since each has two votes. But is that the right outcome?\n",
    "\n",
    "There’s another kind of voting system known as a **ranked-choice voting system**. In a ranked-choice system, voters can vote for more than one candidate. Instead of just voting for their top choice, they can rank the candidates in order of preference. The resulting ballots might therefore look like the below."
   ]
  },
  {
   "cell_type": "markdown",
   "id": "3e64e79f-97cb-417a-8ffe-a87bf36091f7",
   "metadata": {},
   "source": [
    "<center>\n",
    "    <a name=\"\"><img src=\"data/images/ranked_ballot_1.png\" style=\"width: 900px\"></a>\n",
    "    <p style=\"text-align: center\"><i></i></p>"
   ]
  },
  {
   "cell_type": "markdown",
   "id": "0cee251f-058d-4553-a52a-38b8c4ecd782",
   "metadata": {},
   "source": [
    "Here, each voter, in addition to specifying their first preference candidate, has also indicated their second and third choices. And now, what was previously a tied election could now have a winner. The race was originally tied between Alice and Bob. But the voter who chose Charlie preferred Alice over Bob, so Alice could here be declared the winner.\n",
    "\n",
    "Ranked choice voting can also solve yet another potential drawback of plurality voting. Take a look at the following ballots."
   ]
  },
  {
   "cell_type": "markdown",
   "id": "75f5d829-7d8d-4dcd-bf3b-9eb89a696436",
   "metadata": {},
   "source": [
    "<center>\n",
    "    <a name=\"\"><img src=\"data/images/condorcet_1.png\" style=\"width: 900px\"></a>\n",
    "    <p style=\"text-align: center\"><i></i></p>"
   ]
  },
  {
   "cell_type": "markdown",
   "id": "d80fa758-9abe-48fc-b8be-3abb9460b801",
   "metadata": {},
   "source": [
    "Who should win this election? In a **plurality vote** where each voter chooses their first preference only, Charlie wins this election with four votes compared to only three for Bob and two for Alice. (Note that, if you’re familiar with the instant **runoff voting system**, Charlie wins here under that system as well). Alice, however, might reasonably make the argument that she should be the winner of the election instead of Charlie: after all, of the nine voters, a majority (five of them) preferred Alice over Charlie, so most people would be happier with Alice as the winner instead of Charlie.\n",
    "\n",
    "Alice is, in this election, the so-called “Condorcet winner” of the election: the person who would have won any head-to-head matchup against another candidate. If the election had been just Alice and Bob, or just Alice and Charlie, Alice would have won.\n",
    "\n",
    "The **Tideman voting method** (also known as “**ranked pairs**”) is a ranked-choice voting method that’s guaranteed to produce the Condorcet winner of the election if one exists.\n",
    "\n",
    "Generally speaking, the Tideman method works by constructing a “graph” of candidates, where an arrow (i.e. edge) from candidate `A` to candidate `B` indicates that candidate `A` wins against candidate `B` in a head-to-head matchup. The graph for the above election, then, would look like the below."
   ]
  },
  {
   "cell_type": "markdown",
   "id": "d279b19e-fe6f-400f-ad40-fa8618feef89",
   "metadata": {},
   "source": [
    "<center>\n",
    "    <a name=\"\"><img src=\"data/images/condorcet_graph_1.png\" style=\"width: 350px\"></a>\n",
    "    <p style=\"text-align: center\"><i></i></p>"
   ]
  },
  {
   "cell_type": "markdown",
   "id": "bf5335bc-f225-40ed-92b4-ad9345dacd99",
   "metadata": {},
   "source": [
    "The arrow from Alice to Bob means that more voters prefer Alice to Bob (5 prefer Alice, 4 prefer Bob). Likewise, the other arrows mean that more voters prefer Alice to Charlie, and more voters prefer Charlie to Bob.\n",
    "\n",
    "Looking at this graph, the Tideman method says the winner of the election should be the “source” of the graph (i.e. the candidate that has no arrow pointing at them). In this case, the source is Alice — Alice is the only one who has no arrow pointing at her, which means nobody is preferred head-to-head over Alice. Alice is thus declared the winner of the election.\n",
    "\n",
    "It’s possible, however, that when the arrows are drawn, there is no Condorcet winner. Consider the below ballots."
   ]
  },
  {
   "cell_type": "markdown",
   "id": "58edae25-bc16-4703-b346-ce829ed9618f",
   "metadata": {},
   "source": [
    "<center>\n",
    "    <a name=\"\"><img src=\"data/images/no_condorcet_1.png\" style=\"width: 900px\"></a>\n",
    "    <p style=\"text-align: center\"><i></i></p>"
   ]
  },
  {
   "cell_type": "code",
   "execution_count": 1,
   "id": "7bc4c41b-92dc-443b-9e52-49b7043d07a9",
   "metadata": {
    "execution": {
     "iopub.execute_input": "2023-07-01T18:22:06.803740Z",
     "iopub.status.busy": "2023-07-01T18:22:06.803382Z",
     "iopub.status.idle": "2023-07-01T18:22:07.106639Z",
     "shell.execute_reply": "2023-07-01T18:22:07.105433Z",
     "shell.execute_reply.started": "2023-07-01T18:22:06.803696Z"
    },
    "tags": []
   },
   "outputs": [
    {
     "name": "stdout",
     "output_type": "stream",
     "text": [
      "1.8888888888888888 2.2222222222222223 1.8888888888888888\n"
     ]
    }
   ],
   "source": [
    "import numpy as np\n",
    "\n",
    "alice = np.mean([1, 1, 1, 3, 3, 2, 2, 2, 2])\n",
    "bob = np.mean([2, 2, 2, 1, 1, 3, 3, 3, 3])\n",
    "charlie = np.mean([3, 3, 3, 2, 2, 1, 1, 1, 1])\n",
    "\n",
    "print(alice, bob, charlie)"
   ]
  },
  {
   "cell_type": "markdown",
   "id": "9edb621e-c629-4e48-90c1-43d103af11b0",
   "metadata": {},
   "source": [
    "Between Alice and Bob, Alice is preferred over Bob by a 7-2 margin. Between Bob and Charlie, Bob is preferred over Charlie by a 5-4 margin. But between Charlie and Alice, Charlie is preferred over Alice by a 6-3 margin. If we draw out the graph, there is no source! We have a cycle of candidates, where Alice beats Bob who beats Charlie who beats Alice (much like a game of rock-paper-scissors). In this case, it looks like there’s no way to pick a winner.\n",
    "\n",
    "To handle this, the Tideman algorithm must be careful to avoid creating cycles in the candidate graph. How does it do this? The algorithm locks in the strongest edges first, since those are arguably the most significant. In particular, the Tideman algorithm specifies that matchup edges should be “locked in” to the graph one at a time, based on the “strength” of the victory (the more people who prefer a candidate over their opponent, the stronger the victory). So long as the edge can be locked into the graph without creating a cycle, the edge is added; otherwise, the edge is ignored.\n",
    "\n",
    "How would this work in the case of the votes above? Well, the biggest margin of victory for a pair is Alice beating Bob, since 7 voters prefer Alice over Bob (no other head-to-head matchup has a winner preferred by more than 7 voters). So the Alice-Bob arrow is locked into the graph first. The next biggest margin of victory is Charlie’s 6-3 victory over Alice, so that arrow is locked in next.\n",
    "\n",
    "Next up is Bob’s 5-4 victory over Charlie. But notice: if we were to add an arrow from Bob to Charlie now, we would create a cycle! Since the graph can’t allow cycles, we should skip this edge, and not add it to the graph at all. If there were more arrows to consider, we would look to those next, but that was the last arrow, so the graph is complete.\n",
    "\n",
    "This step-by-step process is shown below, with the final graph at right."
   ]
  },
  {
   "cell_type": "markdown",
   "id": "deb9184e-9cd4-4aae-a4f9-5d17b0340d0f",
   "metadata": {},
   "source": [
    "<center>\n",
    "    <a name=\"\"><img src=\"data/images/lockin.png\" style=\"width: 900px\"></a>\n",
    "    <p style=\"text-align: center\"><i></i></p>"
   ]
  },
  {
   "cell_type": "markdown",
   "id": "15d38e1c-027f-43f0-a481-34af8ad969c1",
   "metadata": {},
   "source": [
    "Based on the resulting graph, Charlie is the source (there’s no arrow pointing towards Charlie), so Charlie is declared the winner of this election.\n",
    "\n",
    "Put more formally, the Tideman voting method consists of three parts:\n",
    "\n",
    "- Tally: Once all of the voters have indicated all of their preferences, determine, for each pair of candidates, who the preferred candidate is and by what margin they are preferred.\n",
    "- Sort: Sort the pairs of candidates in decreasing order of strength of victory, where strength of victory is defined to be the number of voters who prefer the preferred candidate.\n",
    "- Lock: Starting with the strongest pair, go through the pairs of candidates in order and “lock in” each pair to the candidate graph, so long as locking in that pair does not create a cycle in the graph.\n",
    "\n",
    "Once the graph is complete, the source of the graph (the one with no edges pointing towards it) is the winner!\n",
    "\n",
    "**Understanding**\n",
    "\n",
    "Let’s take a look at `tideman.c`.\n",
    "\n",
    "First, notice the two-dimensional array preferences. The integer `preferences[i][j]` will represent the number of voters who prefer candidate `i` over candidate `j`.\n",
    "\n",
    "The file also defines another two-dimensional array, called `locked`, which will represent the candidate graph. `locked` is a `boolean` array, so `locked[i][j]` being `true` represents the existence of an edge pointing from candidate `i` to candidate `j`; `false` means there is no edge. (If curious, this representation of a graph is known as an “[adjacency matrix](https://www.geeksforgeeks.org/graph-and-its-representations/)”).\n",
    "\n",
    "Next up is a `struct` called `pair`, used to represent a pair of candidates: each pair includes the `winner`’s candidate index and the `loser`’s candidate index.\n",
    "\n",
    "The candidates themselves are stored in the array `candidates`, which is an array of strings representing the names of each of the candidates. There’s also an array of `pairs`, which will represent all of the pairs of candidates (for which one is preferred over the other) in the election.\n",
    "\n",
    "The program also has two global variables: `pair_count` and `candidate_count`, representing the number of pairs and number of candidates in the arrays pairs and candidates, respectively.\n",
    "\n",
    "Now onto `main`. Notice that after determining the number of candidates, the program loops through the `locked` graph and initially sets all of the values to `false`, which means our initial graph will have no edges in it.\n",
    "\n",
    "Next, the program loops over all of the voters and collects their preferences in an array called `ranks` (via a call to `vote`), where `ranks[i]` is the index of the candidate who is the `i`th preference for the voter. These ranks are passed into the `record_preference` function, whose job is to take those ranks and update the global `preferences` variable.\n",
    "\n",
    "Once all of the votes are in, the pairs of candidates are added to the `pairs` array via a call to `add_pairs`, sorted via a call to `sort_pairs`, and locked into the graph via a call to `lock_pairs`. Finally, `print_winner` is called to print out the name of the election’s winner!\n",
    "\n",
    "Further down in the file, you’ll see that the functions vote, record_preference, add_pairs,sort_pairs, lock_pairs, and print_winner are left blank. That’s up to you!\n",
    "\n",
    "**Specification**\n",
    "\n",
    "Complete the implementation of `tideman.c` in such a way that it simulates a Tideman election.\n",
    "\n",
    "- Complete the `vote` function.\n",
    "    - The function takes arguments `rank`, `name`, and `ranks`. \n",
    "    - If name is a match for the name of a valid candidate, then you should update the `ranks` array to indicate that the voter has the candidate as their rank preference (where `0` is the first preference, `1` is the second preference, etc.). Recall that `ranks[i]` here represents the user’s `i`th preference.\n",
    "    - The function should return `true` if the rank was successfully recorded, and `false` otherwise (if, for instance, `name` is not the name of one of the candidates).\n",
    "    - You may assume that no two candidates will have the same name.\n",
    "- Complete the `record_preferences` function.\n",
    "    - The function is called once for each voter, and takes as argument the `ranks` array (recall that `ranks[i]` is the voter’s `i`th preference, where `ranks[0]` is the first preference). \n",
    "    - The function should update the global `preferences` array to add the current voter’s preferences. Recall that `preferences[i][j]` should represent the number of voters who prefer candidate `i` over candidate `j`.\n",
    "    - You may assume that every voter will rank each of the candidates.\n",
    "- Complete the `add_pairs` function.\n",
    "    - The function should add all pairs of candidates where one candidate is preferred to the `pairs` array. A pair of candidates who are tied (one is not preferred over the other) should not be added to the array. \n",
    "    - The function should update the global variable `pair_count` to be the number of pairs of candidates. (The pairs should thus all be stored between `pairs[0]` and `pairs[pair_count - 1]`, inclusive).\n",
    "- Complete the `sort_pairs` function.\n",
    "    - The function should sort the `pairs` array in decreasing order of strength of victory, where strength of victory is defined to be the number of voters who prefer the preferred candidate. \n",
    "    - If multiple pairs have the same strength of victory, you may assume that the order does not matter.\n",
    "- Complete the `lock_pairs` function.\n",
    "    - The function should create the `locked` graph, adding all edges in decreasing order of victory strength so long as the edge would not create a cycle.\n",
    "- Complete the `print_winner` function.\n",
    "    - The function should print out the name of the candidate who is the source of the graph. You may assume there will not be more than one source.\n",
    "    \n",
    "You should not modify anything else in `tideman.c` other than the implementations of the `vote`, `record_preferences`, `add_pairs`, `sort_pairs`, `lock_pairs`, and `print_winner` functions (and the inclusion of additional header files, if you’d like). You are permitted to add additional functions to `tideman.c`, so long as you do not change the declarations of any of the existing functions."
   ]
  },
  {
   "cell_type": "markdown",
   "id": "85e4a64d-a26c-4c63-b1ec-3c3cbc053b6b",
   "metadata": {},
   "source": [
    "```c\n",
    "#include <cs50.h>\n",
    "#include <stdio.h>\n",
    "\n",
    "// Max number of candidates\n",
    "#define MAX 9\n",
    "\n",
    "// preferences[i][j] is number of voters who prefer i over j\n",
    "int preferences[MAX][MAX];\n",
    "\n",
    "// locked[i][j] means i is locked in over j\n",
    "bool locked[MAX][MAX];\n",
    "\n",
    "// Each pair has a winner, loser\n",
    "typedef struct\n",
    "{\n",
    "    int winner;\n",
    "    int loser;\n",
    "}\n",
    "pair;\n",
    "\n",
    "// Array of candidates\n",
    "string candidates[MAX];\n",
    "pair pairs[MAX * (MAX - 1) / 2];\n",
    "\n",
    "int pair_count;\n",
    "int candidate_count;\n",
    "\n",
    "// Function prototypes\n",
    "bool vote(int rank, string name, int ranks[]);\n",
    "void record_preferences(int ranks[]);\n",
    "void add_pairs(void);\n",
    "void sort_pairs(void);\n",
    "void lock_pairs(void);\n",
    "void print_winner(void);\n",
    "\n",
    "int main(int argc, string argv[])\n",
    "{\n",
    "    // Check for invalid usage\n",
    "    if (argc < 2)\n",
    "    {\n",
    "        printf(\"Usage: tideman [candidate ...]\\n\");\n",
    "        return 1;\n",
    "    }\n",
    "\n",
    "    // Populate array of candidates\n",
    "    candidate_count = argc - 1;\n",
    "    if (candidate_count > MAX)\n",
    "    {\n",
    "        printf(\"Maximum number of candidates is %i\\n\", MAX);\n",
    "        return 2;\n",
    "    }\n",
    "    for (int i = 0; i < candidate_count; i++)\n",
    "    {\n",
    "        candidates[i] = argv[i + 1];\n",
    "    }\n",
    "\n",
    "    // Clear graph of locked in pairs\n",
    "    for (int i = 0; i < candidate_count; i++)\n",
    "    {\n",
    "        for (int j = 0; j < candidate_count; j++)\n",
    "        {\n",
    "            locked[i][j] = false;\n",
    "        }\n",
    "    }\n",
    "\n",
    "    pair_count = 0;\n",
    "    int voter_count = get_int(\"Number of voters: \");\n",
    "\n",
    "    // Query for votes\n",
    "    for (int i = 0; i < voter_count; i++)\n",
    "    {\n",
    "        // ranks[i] is voter's ith preference\n",
    "        int ranks[candidate_count];\n",
    "\n",
    "        // Query for each rank\n",
    "        for (int j = 0; j < candidate_count; j++)\n",
    "        {\n",
    "            string name = get_string(\"Rank %i: \", j + 1);\n",
    "\n",
    "            if (!vote(j, name, ranks))\n",
    "            {\n",
    "                printf(\"Invalid vote.\\n\");\n",
    "                return 3;\n",
    "            }\n",
    "        }\n",
    "\n",
    "        record_preferences(ranks);\n",
    "\n",
    "        printf(\"\\n\");\n",
    "    }\n",
    "\n",
    "    add_pairs();\n",
    "    sort_pairs();\n",
    "    lock_pairs();\n",
    "    print_winner();\n",
    "    return 0;\n",
    "}\n",
    "\n",
    "// Update ranks given a new vote\n",
    "bool vote(int rank, string name, int ranks[])\n",
    "{\n",
    "    // TODO\n",
    "    return false;\n",
    "}\n",
    "\n",
    "// Update preferences given one voter's ranks\n",
    "void record_preferences(int ranks[])\n",
    "{\n",
    "    // TODO\n",
    "    return;\n",
    "}\n",
    "\n",
    "// Record pairs of candidates where one is preferred over the other\n",
    "void add_pairs(void)\n",
    "{\n",
    "    // TODO\n",
    "    return;\n",
    "}\n",
    "\n",
    "// Sort pairs in decreasing order by strength of victory\n",
    "void sort_pairs(void)\n",
    "{\n",
    "    // TODO\n",
    "    return;\n",
    "}\n",
    "\n",
    "// Lock pairs into the candidate graph in order, without creating cycles\n",
    "void lock_pairs(void)\n",
    "{\n",
    "    // TODO\n",
    "    return;\n",
    "}\n",
    "\n",
    "// Print the winner of the election\n",
    "void print_winner(void)\n",
    "{\n",
    "    // TODO\n",
    "    return;\n",
    "}\n",
    "```"
   ]
  },
  {
   "cell_type": "markdown",
   "id": "f325761f-c781-497b-89cb-b3eb303abbd8",
   "metadata": {},
   "source": [
    "**Usage**\n",
    "\n",
    "Your program should behave per the example below:\n",
    "\n",
    "```\n",
    "./tideman Alice Bob Charlie\n",
    "Number of voters: 5\n",
    "Rank 1: Alice\n",
    "Rank 2: Charlie\n",
    "Rank 3: Bob\n",
    "\n",
    "Rank 1: Alice\n",
    "Rank 2: Charlie\n",
    "Rank 3: Bob\n",
    "\n",
    "Rank 1: Bob\n",
    "Rank 2: Charlie\n",
    "Rank 3: Alice\n",
    "\n",
    "Rank 1: Bob\n",
    "Rank 2: Charlie\n",
    "Rank 3: Alice\n",
    "\n",
    "Rank 1: Charlie\n",
    "Rank 2: Alice\n",
    "Rank 3: Bob\n",
    "\n",
    "Charlie\n",
    "```\n",
    "\n",
    "**Testing**\n",
    "\n",
    "Be sure to test your code to make sure it handles…\n",
    "\n",
    "- An election with any number of candidate (up to the MAX of 9)\n",
    "- Voting for a candidate by name\n",
    "- Invalid votes for candidates who are not on the ballot\n",
    "- Printing the winner of the election."
   ]
  },
  {
   "cell_type": "markdown",
   "id": "fb7b60b4-9f6a-4128-aa95-d9e479d15c8f",
   "metadata": {},
   "source": [
    "## W3 [Recursive `atoi`](https://cs50.harvard.edu/x/2023/problems/3/atoi/)"
   ]
  },
  {
   "cell_type": "markdown",
   "id": "c7740c5f-3641-47c3-8865-b7cf0f57c490",
   "metadata": {},
   "source": [
    "**Learning Goals**\n",
    "\n",
    "- Deepen an understanding of strings\n",
    "- Practice creating recursive functions\n",
    "\n",
    "**Background**\n",
    "\n",
    "Imagine that you travel back in time to the 1970’s, when the C programming language was first created. You are hired as a programmer to come up with a way to convert strings to ints. (You may have used a function just like this in Week 2, called [atoi](https://manual.cs50.io/3/atoi)). You want to be thorough in your development process and plan to try several approaches before deciding on the most efficient.\n",
    "\n",
    "In this problem, you will start with a simple implementation of `atoi` that handles positive ints using loops. You want to rework this into an implementation that uses recursion. Recusive functions can be memory intensive and are not always the best solution, but there are some problems in which using recursion can provide a simpler and more elegant solution.\n",
    "\n",
    "(Scroll to the [bottom](#atoi_recursive) of this page to see what an implementation of `atoi` might actually look like.)\n",
    "\n",
    "**Implementation Details**\n",
    "\n",
    "In the recursive version of convert, start with the last `char` and `convert` it into an integer value. Then shorten the string, removing the last `char`, and then recursively call `convert` using the shortened string as input, where the next `char` will be processed.\n",
    "\n",
    "**Thought Question**\n",
    "\n",
    "Why do you need a base case whenever you create a recursive function?\n",
    "\n",
    "**How to Test Your Code**\n",
    "\n",
    "Your program should behave per the examples below.\n",
    "\n",
    "```\n",
    "atoi/ $ ./atoi\n",
    "Enter a positive integer: 3432\n",
    "3432\n",
    "atoi/ $ ./atoi\n",
    "Enter a positive integer: 98765\n",
    "98765\n",
    "```\n",
    "\n",
    "<a name=\"atoi_recursive\">**A More Thorough Implementation**</a>\n",
    "\n",
    "The actual version of `atoi` must handle negative numbers, as well as leading spaces and non-numeric characters. It might look something like this:\n",
    "\n",
    "```c\n",
    "#include <stdio.h>\n",
    " \n",
    "// Iterative function to implement `atoi()` function in C\n",
    "long atoi(const char S[])\n",
    "{\n",
    "    long num = 0;\n",
    "    int i = 0, sign = 1;\n",
    " \n",
    "    // skip white space characters\n",
    "    while (S[i] == ' ' || S[i] == '\\n' || S[i] == '\\t') {\n",
    "        i++;\n",
    "    }\n",
    " \n",
    "    // note sign of the number\n",
    "    if (S[i] == '+' || S[i] == '-')\n",
    "    {\n",
    "        if (S[i] == '-') {\n",
    "            sign = -1;\n",
    "        }\n",
    "        i++;\n",
    "    }\n",
    " \n",
    "    // run till the end of the string is reached, or the\n",
    "    // current character is non-numeric\n",
    "    while (S[i] && (S[i] >= '0' && S[i] <= '9'))\n",
    "    {\n",
    "        num = num * 10 + (S[i] - '0');\n",
    "        i++;\n",
    "    }\n",
    " \n",
    "    return sign * num;\n",
    "}\n",
    " \n",
    "// Implement `atoi()` function in C\n",
    "int main(void)\n",
    "{\n",
    "    char S[] = \" -1234567890\";\n",
    " \n",
    "    printf(\"%ld \", atoi(S));\n",
    " \n",
    "    return 0;\n",
    "}\n",
    "```\n",
    "\n",
    "From techiedelight.com/implement-atoi-function-c-iterative-recursive."
   ]
  },
  {
   "cell_type": "markdown",
   "id": "d12b91b9-a5ef-4450-8ee1-9924ba83a280",
   "metadata": {},
   "source": [
    "# Week 4"
   ]
  },
  {
   "cell_type": "code",
   "execution_count": null,
   "id": "bae6cea1-0ecf-4c63-af4f-ee305b6b5f41",
   "metadata": {},
   "outputs": [],
   "source": []
  },
  {
   "cell_type": "code",
   "execution_count": null,
   "id": "5723bd85-4604-4ccc-81d0-2c6daec7a85f",
   "metadata": {},
   "outputs": [],
   "source": []
  },
  {
   "cell_type": "code",
   "execution_count": null,
   "id": "f1a54283-fe01-4df3-922e-d5f0c067faf9",
   "metadata": {},
   "outputs": [],
   "source": []
  },
  {
   "cell_type": "code",
   "execution_count": null,
   "id": "5f23c111-c0af-4efb-9495-8c2275b99df8",
   "metadata": {},
   "outputs": [],
   "source": []
  },
  {
   "cell_type": "code",
   "execution_count": null,
   "id": "a705f21c-f15f-40ac-8438-a4081d675b76",
   "metadata": {},
   "outputs": [],
   "source": []
  },
  {
   "cell_type": "code",
   "execution_count": null,
   "id": "ec51a745-7eca-4fd7-9de6-dcb33607accf",
   "metadata": {},
   "outputs": [],
   "source": []
  },
  {
   "cell_type": "code",
   "execution_count": null,
   "id": "69001d82-7160-4c9f-b0d4-29b900b70d64",
   "metadata": {},
   "outputs": [],
   "source": []
  },
  {
   "cell_type": "code",
   "execution_count": null,
   "id": "f4ca210d-9147-4ae8-9c35-7ad8774a5edf",
   "metadata": {},
   "outputs": [],
   "source": []
  },
  {
   "cell_type": "code",
   "execution_count": null,
   "id": "47a8ee0a-ded1-4311-b1a7-5e695e30e583",
   "metadata": {},
   "outputs": [],
   "source": []
  },
  {
   "cell_type": "code",
   "execution_count": null,
   "id": "0e7888f3-b510-4f81-bd6b-4b398fb08cec",
   "metadata": {},
   "outputs": [],
   "source": []
  },
  {
   "cell_type": "code",
   "execution_count": null,
   "id": "b8b4cc8a-02f9-4b70-8868-51731766c543",
   "metadata": {},
   "outputs": [],
   "source": []
  },
  {
   "cell_type": "code",
   "execution_count": null,
   "id": "e258a14a-8f86-455e-b00f-721a1caeaeb2",
   "metadata": {},
   "outputs": [],
   "source": []
  },
  {
   "cell_type": "code",
   "execution_count": null,
   "id": "163f8fad-eb01-49b2-99c2-d3f1785836ef",
   "metadata": {},
   "outputs": [],
   "source": []
  },
  {
   "cell_type": "code",
   "execution_count": null,
   "id": "5a99c55e-3d39-43fe-a91c-616a1974fb9e",
   "metadata": {},
   "outputs": [],
   "source": []
  },
  {
   "cell_type": "code",
   "execution_count": null,
   "id": "e58a0907-ec46-42bf-934a-f6e0f6ad5667",
   "metadata": {},
   "outputs": [],
   "source": []
  },
  {
   "cell_type": "code",
   "execution_count": null,
   "id": "813d5fa4-a480-4804-ba88-e3e6edfde7fd",
   "metadata": {},
   "outputs": [],
   "source": []
  },
  {
   "cell_type": "code",
   "execution_count": null,
   "id": "711d55ea-8289-4c58-b700-8977650fd371",
   "metadata": {},
   "outputs": [],
   "source": []
  },
  {
   "cell_type": "code",
   "execution_count": null,
   "id": "018d1947-7077-4774-9e8c-fdd59c7ac5e3",
   "metadata": {},
   "outputs": [],
   "source": []
  },
  {
   "cell_type": "code",
   "execution_count": null,
   "id": "2bd87074-41df-4b81-98d6-b7e4a2bd19f7",
   "metadata": {},
   "outputs": [],
   "source": []
  },
  {
   "cell_type": "code",
   "execution_count": null,
   "id": "b50a25aa-4cf7-4990-8524-d6b362501b52",
   "metadata": {},
   "outputs": [],
   "source": []
  },
  {
   "cell_type": "code",
   "execution_count": null,
   "id": "ba960064-7ee1-4785-84bf-1700f29f9ac8",
   "metadata": {},
   "outputs": [],
   "source": []
  },
  {
   "cell_type": "code",
   "execution_count": null,
   "id": "40746c1d-313d-482a-957f-7827a6402466",
   "metadata": {},
   "outputs": [],
   "source": []
  },
  {
   "cell_type": "code",
   "execution_count": null,
   "id": "9ebf69a8-7e9b-48e5-bc51-9df51c18c751",
   "metadata": {},
   "outputs": [],
   "source": []
  },
  {
   "cell_type": "code",
   "execution_count": null,
   "id": "2fc91154-01c4-4da9-9ec1-e775fff859b7",
   "metadata": {},
   "outputs": [],
   "source": []
  },
  {
   "cell_type": "code",
   "execution_count": null,
   "id": "32bde07b-82f9-4bde-89f8-1ec9563181fa",
   "metadata": {},
   "outputs": [],
   "source": []
  },
  {
   "cell_type": "code",
   "execution_count": null,
   "id": "483ae504-d645-42b8-8bdb-e14efb909513",
   "metadata": {},
   "outputs": [],
   "source": []
  },
  {
   "cell_type": "code",
   "execution_count": null,
   "id": "cc544e66-a5b6-4de6-b72e-9d1a6b2e68fa",
   "metadata": {},
   "outputs": [],
   "source": []
  },
  {
   "cell_type": "code",
   "execution_count": null,
   "id": "2f9c048a-ee20-404d-a712-0c23ad105d59",
   "metadata": {},
   "outputs": [],
   "source": []
  },
  {
   "cell_type": "code",
   "execution_count": null,
   "id": "d21b8215-adc7-4826-85cf-a396efa7be29",
   "metadata": {},
   "outputs": [],
   "source": []
  },
  {
   "cell_type": "code",
   "execution_count": null,
   "id": "ebe31b76-e7a9-4ce3-952d-51ae8a86052e",
   "metadata": {},
   "outputs": [],
   "source": []
  },
  {
   "cell_type": "code",
   "execution_count": null,
   "id": "fbb49c07-ba1d-47dd-b861-59db142b7a2b",
   "metadata": {},
   "outputs": [],
   "source": []
  },
  {
   "cell_type": "code",
   "execution_count": null,
   "id": "cb8072e4-82a4-4231-bd16-a02d1dd22c3f",
   "metadata": {},
   "outputs": [],
   "source": []
  },
  {
   "cell_type": "code",
   "execution_count": null,
   "id": "b77af305-e44a-40e2-9153-99a48b37d3c9",
   "metadata": {},
   "outputs": [],
   "source": []
  },
  {
   "cell_type": "code",
   "execution_count": null,
   "id": "8bbd7e82-159d-4eff-9744-a865212a05f7",
   "metadata": {},
   "outputs": [],
   "source": []
  },
  {
   "cell_type": "code",
   "execution_count": null,
   "id": "fb42a428-d2f2-477b-9e00-2cc3bb0eef3b",
   "metadata": {},
   "outputs": [],
   "source": []
  },
  {
   "cell_type": "code",
   "execution_count": null,
   "id": "17ef47d4-0f54-4209-b2bb-7feb991270f8",
   "metadata": {},
   "outputs": [],
   "source": []
  },
  {
   "cell_type": "code",
   "execution_count": null,
   "id": "deac863a-e902-454a-a7e3-ef1bd30c4e19",
   "metadata": {},
   "outputs": [],
   "source": []
  },
  {
   "cell_type": "code",
   "execution_count": null,
   "id": "7017c888-595f-45e4-a3d5-158bb504a66b",
   "metadata": {},
   "outputs": [],
   "source": []
  },
  {
   "cell_type": "code",
   "execution_count": null,
   "id": "02e96e93-d485-411d-aaf2-b0e68c046f4e",
   "metadata": {},
   "outputs": [],
   "source": []
  },
  {
   "cell_type": "code",
   "execution_count": null,
   "id": "2f4f29c2-319d-4fec-b755-b4e410249724",
   "metadata": {},
   "outputs": [],
   "source": []
  },
  {
   "cell_type": "code",
   "execution_count": null,
   "id": "9a60c267-be42-4487-8c49-f7131840ef31",
   "metadata": {},
   "outputs": [],
   "source": []
  },
  {
   "cell_type": "code",
   "execution_count": null,
   "id": "b1b905eb-8fa4-40e9-bee7-71eee2c5d6bc",
   "metadata": {},
   "outputs": [],
   "source": []
  },
  {
   "cell_type": "code",
   "execution_count": null,
   "id": "63bf8275-e5a9-4205-9fef-81e8aa19f7e6",
   "metadata": {},
   "outputs": [],
   "source": []
  },
  {
   "cell_type": "code",
   "execution_count": null,
   "id": "ccc7cf8d-284d-474f-9a95-7f59eb4ca8cd",
   "metadata": {},
   "outputs": [],
   "source": []
  }
 ],
 "metadata": {
  "kernelspec": {
   "display_name": "venv3.11",
   "language": "python",
   "name": "venv3.11"
  },
  "language_info": {
   "codemirror_mode": {
    "name": "ipython",
    "version": 3
   },
   "file_extension": ".py",
   "mimetype": "text/x-python",
   "name": "python",
   "nbconvert_exporter": "python",
   "pygments_lexer": "ipython3",
   "version": "3.11.4"
  }
 },
 "nbformat": 4,
 "nbformat_minor": 5
}
