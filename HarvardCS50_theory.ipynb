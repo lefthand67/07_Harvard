{
 "cells": [
  {
   "cell_type": "markdown",
   "id": "2d89a647-ffb9-4ec5-a488-1b279920f8d2",
   "metadata": {},
   "source": [
    "# CS50 from [Harvard](https://learning.edx.org/course/course-v1:HarvardX+CS50+X/home) THEORY"
   ]
  },
  {
   "cell_type": "markdown",
   "id": "db21a921-01f7-4a75-bbdc-f66c9aeddabb",
   "metadata": {},
   "source": [
    "# Required installations "
   ]
  },
  {
   "cell_type": "markdown",
   "id": "a1d2d6af-9b33-4de8-b3a7-a22e0d2de50e",
   "metadata": {},
   "source": [
    "(using bash or bash kernel):\n",
    "\n",
    "- jupyter [C kernel](https://github.com/brendan-rius/jupyter-c-kernel)"
   ]
  },
  {
   "cell_type": "code",
   "execution_count": 1,
   "id": "d0aaaad9-0163-426b-b8cf-f0b2e35e4783",
   "metadata": {
    "tags": []
   },
   "outputs": [
    {
     "name": "stdout",
     "output_type": "stream",
     "text": [
      "Defaulting to user installation because normal site-packages is not writeable\n",
      "\u001b[31mERROR: You must give at least one requirement to install (see \"pip help install\")\u001b[0m\u001b[31m\n",
      "\u001b[0m\n",
      "Defaulting to user installation because normal site-packages is not writeable\n",
      "Collecting jupyter-c-kernel\n",
      "  Using cached jupyter_c_kernel-1.2.2.tar.gz (4.4 kB)\n",
      "  Installing build dependencies ... \u001b[?25ldone\n",
      "\u001b[?25h  Getting requirements to build wheel ... \u001b[?25ldone\n",
      "\u001b[?25h  Preparing metadata (pyproject.toml) ... \u001b[?25ldone\n",
      "\u001b[?25hBuilding wheels for collected packages: jupyter-c-kernel\n",
      "  Building wheel for jupyter-c-kernel (pyproject.toml) ... \u001b[?25ldone\n",
      "\u001b[?25h  Created wheel for jupyter-c-kernel: filename=jupyter_c_kernel-1.2.2-py3-none-any.whl size=6593 sha256=c86d514331396a0e07e7aefe2edafab3f3397f6caf348c829f1982c3fbb18c7f\n",
      "  Stored in directory: /home/vadim/.cache/pip/wheels/19/d0/8e/d10dce3d4d69225b8deb1914977204513b517e51a22bfe4a11\n",
      "Successfully built jupyter-c-kernel\n",
      "Installing collected packages: jupyter-c-kernel\n",
      "Successfully installed jupyter-c-kernel-1.2.2\n"
     ]
    }
   ],
   "source": [
    "pip install --upgrade\n",
    "pip install jupyter-c-kernel"
   ]
  },
  {
   "cell_type": "code",
   "execution_count": 7,
   "id": "18bfbf4c-7c45-4cb7-aa82-b31962c15faa",
   "metadata": {
    "tags": []
   },
   "outputs": [
    {
     "name": "stdout",
     "output_type": "stream",
     "text": [
      "Installing IPython kernel spec\n",
      "/home/vadim/.local/bin/install_c_kernel:32: DeprecationWarning: replace is ignored. Installing a kernelspec always replaces an existing installation\n",
      "  KernelSpecManager().install_kernel_spec(td, 'c', user=user, replace=True, prefix=prefix)\n"
     ]
    }
   ],
   "source": [
    "install_c_kernel"
   ]
  },
  {
   "cell_type": "code",
   "execution_count": 2,
   "id": "ad7b72ad-c4f8-4e34-b3cd-fa41d231dcb5",
   "metadata": {
    "tags": []
   },
   "outputs": [
    {
     "name": "stdout",
     "output_type": "stream",
     "text": [
      "[ListKernelSpecs] WARNING | Native kernel (python3) is not available\n",
      "[ListKernelSpecs] WARNING | Native kernel (python3) is not available\n",
      "Available kernels:\n",
      "  bash        /home/vadim/.local/share/jupyter/kernels/bash\n",
      "  c           /home/vadim/.local/share/jupyter/kernels/c\n",
      "  java        /home/vadim/.local/share/jupyter/kernels/java\n",
      "  venv3.11    /home/vadim/.local/share/jupyter/kernels/venv3.11\n",
      "  venv3.8     /home/vadim/.local/share/jupyter/kernels/venv3.8\n"
     ]
    }
   ],
   "source": [
    "jupyter kernelspec list"
   ]
  },
  {
   "cell_type": "markdown",
   "id": "2992cb56-b8ef-45be-8974-0f77147bfd55",
   "metadata": {},
   "source": [
    "- [cs50 library](https://cs50.readthedocs.io/libraries/cs50/c/)"
   ]
  },
  {
   "cell_type": "code",
   "execution_count": null,
   "id": "cf0bf088-0ab2-4024-b254-58c8895f8dbe",
   "metadata": {},
   "outputs": [],
   "source": [
    "curl -s https://packagecloud.io/install/repositories/cs50/repo/script.deb.sh | sudo bash"
   ]
  },
  {
   "cell_type": "code",
   "execution_count": null,
   "id": "8d4e251a-7741-4d17-b82b-0847f3a14978",
   "metadata": {},
   "outputs": [],
   "source": [
    "sudo apt install libcs50"
   ]
  },
  {
   "cell_type": "markdown",
   "id": "101623fa-ca1f-43de-869b-27098123c666",
   "metadata": {
    "jp-MarkdownHeadingCollapsed": true,
    "tags": []
   },
   "source": [
    "# <b>Week 1 C</b>"
   ]
  },
  {
   "cell_type": "markdown",
   "id": "eec8c40b-ddaa-4006-a80f-240014c35bd7",
   "metadata": {
    "jp-MarkdownHeadingCollapsed": true,
    "tags": []
   },
   "source": [
    "## 1.1 Data Types"
   ]
  },
  {
   "cell_type": "markdown",
   "id": "efa9557d-3525-4e5f-b73d-cfdb5b40bb7f",
   "metadata": {},
   "source": [
    "### Built-in Types"
   ]
  },
  {
   "cell_type": "markdown",
   "id": "85b9a9ec-d036-40f0-b815-8e3512939ce1",
   "metadata": {},
   "source": [
    "|data type|description|\n",
    "|-|-|\n",
    "|`int`|integers, 4 bytes (32 bits) of memory, range [$-2^{31}$; $2^{31}-1$]|\n",
    "|`unsigned int`|positive integers, range [0; $2^{32}-1$]|\n",
    "|`char`|a single character, 1 byte (8 bits) of memory, range [-128; 127]|\n",
    "|`float`|real numbers, 4 bytes, limited precision|\n",
    "|`double`|\"double precision\", real numbers, 8 bytes, much higher precision|\n",
    "|`void`|type, not a data type; don't return a value|\n",
    "|`struct`|allows to create a new variable|\n",
    "|`typedef`||"
   ]
  },
  {
   "cell_type": "markdown",
   "id": "998c6bf5-4029-4120-b0ab-c28768a6c7e2",
   "metadata": {},
   "source": [
    "### `int`"
   ]
  },
  {
   "cell_type": "code",
   "execution_count": 1,
   "id": "e64d47ce-19e7-465a-8eb1-4d411ed78f6f",
   "metadata": {
    "execution": {
     "iopub.execute_input": "2023-07-10T12:18:40.540922Z",
     "iopub.status.busy": "2023-07-10T12:18:40.540247Z",
     "iopub.status.idle": "2023-07-10T12:18:40.556478Z",
     "shell.execute_reply": "2023-07-10T12:18:40.554879Z",
     "shell.execute_reply.started": "2023-07-10T12:18:40.540886Z"
    },
    "tags": []
   },
   "outputs": [
    {
     "data": {
      "text/plain": [
       "-2147483648"
      ]
     },
     "execution_count": 1,
     "metadata": {},
     "output_type": "execute_result"
    }
   ],
   "source": [
    "-2 ** 31"
   ]
  },
  {
   "cell_type": "code",
   "execution_count": 4,
   "id": "f8b01399-dd49-4cb7-9f5f-965545935b47",
   "metadata": {
    "execution": {
     "iopub.execute_input": "2023-07-10T12:26:06.578046Z",
     "iopub.status.busy": "2023-07-10T12:26:06.577487Z",
     "iopub.status.idle": "2023-07-10T12:26:06.584821Z",
     "shell.execute_reply": "2023-07-10T12:26:06.583442Z",
     "shell.execute_reply.started": "2023-07-10T12:26:06.578014Z"
    },
    "tags": []
   },
   "outputs": [
    {
     "data": {
      "text/plain": [
       "4294967295"
      ]
     },
     "execution_count": 4,
     "metadata": {},
     "output_type": "execute_result"
    }
   ],
   "source": [
    "2 ** 32 - 1  # minus zero"
   ]
  },
  {
   "cell_type": "markdown",
   "id": "2b69b281-168b-454b-8066-fcad766120f2",
   "metadata": {},
   "source": [
    "### Other Data Types"
   ]
  },
  {
   "cell_type": "markdown",
   "id": "ad06c699-006f-48e5-a7d5-fc23482003fa",
   "metadata": {},
   "source": [
    "```c\n",
    "#include <stdio.h>\n",
    "#include <cs50.h> \n",
    "```\n",
    "\n",
    "|data type|description|\n",
    "|-|-|\n",
    "|`bool`|stores a Boolean value `true` or `false`|\n",
    "|`string`|stores a series of `char`s like words and sentences|"
   ]
  },
  {
   "cell_type": "markdown",
   "id": "b415c638-1023-4c3b-a724-049631c31271",
   "metadata": {},
   "source": [
    "### Creating variables"
   ]
  },
  {
   "cell_type": "markdown",
   "id": "7c889986-8f37-4321-9e88-ad73944a5cba",
   "metadata": {},
   "source": [
    "```c\n",
    "int number;              // declaration\n",
    "number = 17;             // assignment\n",
    "char letter;             // declaration\n",
    "letter = 'a';            // assignment\n",
    "\n",
    "int height, width;       // declaration\n",
    "float sqrt1, sqrt2, pi;  // declaration\n",
    "\n",
    "int number = 17;         // initialization\n",
    "char letter = 'a';       // initialization\n",
    "```\n",
    "\n",
    "In general, it's good practice to only _declare_ variables when you need them.\n",
    "\n",
    "Be aware of re-declaring variables! It leads to unexpected consequences."
   ]
  },
  {
   "cell_type": "markdown",
   "id": "b5dc2ef2-f8af-49f5-b8e5-08e5b51c8217",
   "metadata": {
    "jp-MarkdownHeadingCollapsed": true
   },
   "source": [
    "## 1.2 Operators"
   ]
  },
  {
   "cell_type": "markdown",
   "id": "a3304eb5-85b2-4cc1-8b9d-9da2958444a6",
   "metadata": {},
   "source": [
    "### Arithmetic Operators"
   ]
  },
  {
   "cell_type": "markdown",
   "id": "ab5b5758-9ea5-46ec-80a6-43321fb850f6",
   "metadata": {},
   "source": [
    "|operator|description|\n",
    "|-|-|\n",
    "|`+`|addition|\n",
    "|`-`|subtraction|\n",
    "|`*`|multiplication|\n",
    "|`/`|division|\n",
    "|`%`|modulo division; behaves differently in different language when using negative values|\n",
    "\n",
    "||eqiuvalent||\n",
    "|-|-|-|\n",
    "|x++|<=>|x = x + 1|\n",
    "|x--|<=>|x = x - 1|\n",
    "|x \\*= 2|<=>|x = x\\*2|"
   ]
  },
  {
   "cell_type": "markdown",
   "id": "fead016d-0daa-48a2-9704-7d0c630f68d0",
   "metadata": {},
   "source": [
    "```c\n",
    "int x = y + 1;\n",
    "x = x * 5;\n",
    "\n",
    "int m = 13 % 4;  // m is 1\n",
    "```"
   ]
  },
  {
   "cell_type": "markdown",
   "id": "e816e00a-5c0c-44ce-8208-6b9600a0c737",
   "metadata": {},
   "source": [
    "#### Modulo `%` in different languages"
   ]
  },
  {
   "cell_type": "code",
   "execution_count": 7,
   "id": "45542851-5cc6-48b7-890a-fe28cb9927d1",
   "metadata": {
    "execution": {
     "iopub.execute_input": "2023-07-19T19:20:49.080578Z",
     "iopub.status.busy": "2023-07-19T19:20:49.080237Z",
     "iopub.status.idle": "2023-07-19T19:20:49.173465Z",
     "shell.execute_reply": "2023-07-19T19:20:49.171520Z",
     "shell.execute_reply.started": "2023-07-19T19:20:49.080556Z"
    },
    "tags": []
   },
   "outputs": [
    {
     "name": "stdout",
     "output_type": "stream",
     "text": [
      "7\n"
     ]
    }
   ],
   "source": [
    "// C\n",
    "\n",
    "#include <stdio.h>\n",
    "\n",
    "int main(void)\n",
    "{\n",
    "    int x, y;\n",
    "    int result;\n",
    "\n",
    "    x = 19;\n",
    "    y = -12;\n",
    "    result = x % y;\n",
    "\n",
    "    printf(\"%i\\n\", result);\n",
    "\n",
    "    return 0;\n",
    "}"
   ]
  },
  {
   "cell_type": "code",
   "execution_count": 1,
   "id": "e9f29700-ca65-42e8-9310-b754b5108359",
   "metadata": {
    "execution": {
     "iopub.execute_input": "2023-07-19T19:21+0000",
     "iopub.status.busy": "2023-07-19T19:21+0000",
     "iopub.status.idle": "2023-07-19T19:21+0000",
     "shell.execute_reply": "2023-07-19T19:21+0000"
    },
    "tags": []
   },
   "outputs": [
    {
     "name": "stdout",
     "output_type": "stream",
     "text": [
      "Modulo in Java:\n",
      "19 % -12 = 7\n",
      "\n",
      "Explanation:\n",
      "19 / -12 = -1\n",
      "-12 * -1 = 12\n",
      "19 - 12 = 7\n"
     ]
    }
   ],
   "source": [
    "// Java\n",
    "\n",
    "int a = 19;\n",
    "int b = -12;\n",
    "int c = a / b;\n",
    "\n",
    "System.out.println(\"Modulo in Java:\");\n",
    "System.out.println(a + \" % \" + b + \" = \" + a%b);\n",
    "System.out.println(\"\\nExplanation:\");\n",
    "System.out.println(a + \" / \" + b + \" = \" + c);\n",
    "System.out.println(b + \" * \" + c + \" = \" + b*c);\n",
    "System.out.println(a + \" - \" + b*c + \" = \" + (a - b*c));"
   ]
  },
  {
   "cell_type": "markdown",
   "id": "4885b9d0-e820-469e-9fe0-09243e714ba3",
   "metadata": {},
   "source": [
    "C and Java do not have built-in floor division, thus we get the plain integer part after division of two integers (remainding part is just cut off).\n",
    "\n",
    "Python does have built-in floor division which means we get the intger part rounded to the lower integer."
   ]
  },
  {
   "cell_type": "code",
   "execution_count": 1,
   "id": "76a3c81f-74d9-4150-9605-66c488b3df38",
   "metadata": {
    "execution": {
     "iopub.execute_input": "2023-07-19T19:21:39.316067Z",
     "iopub.status.busy": "2023-07-19T19:21:39.315587Z",
     "iopub.status.idle": "2023-07-19T19:21:39.327626Z",
     "shell.execute_reply": "2023-07-19T19:21:39.326106Z",
     "shell.execute_reply.started": "2023-07-19T19:21:39.316022Z"
    },
    "tags": []
   },
   "outputs": [
    {
     "name": "stdout",
     "output_type": "stream",
     "text": [
      "Modulo in Python:\n",
      "19 % -12 = -5\n",
      "\n",
      "Explanation:\n",
      "19 // -12 = -2\n",
      "-12 * -2 = 24\n",
      "19 - 24 = -5\n"
     ]
    }
   ],
   "source": [
    "a = 19\n",
    "b = -12\n",
    "c = a // b\n",
    "\n",
    "print(\"Modulo in Python:\")\n",
    "print(f\"{a} % {b} = {a%b}\")\n",
    "print(\"\\nExplanation:\")\n",
    "print(f\"{a} // {b} = {c}\")\n",
    "print(f\"{b} * {c} = {b * c}\")\n",
    "print(f\"{a} - {b * c} = {a - b*c}\")"
   ]
  },
  {
   "cell_type": "markdown",
   "id": "57b2192f-a26a-497b-a7d1-3459523706a3",
   "metadata": {},
   "source": [
    "### Boolean expressions"
   ]
  },
  {
   "cell_type": "markdown",
   "id": "12306e66-4f2a-4e88-ab0b-a3231bb49207",
   "metadata": {},
   "source": [
    "In C, every non-zero value is equivalent to `true` and zero is `false`.\n",
    "\n",
    "Two main types of Boolean expressions:\n",
    "\n",
    "- logical operators:\n",
    "    - logical AND `&&` (ampersand),\n",
    "    - logical OR `||` (vertical bars),\n",
    "    - logical NOT `!` (exclamation sign);<br>\n",
    "<br>    \n",
    "- relational operators:\n",
    "    - less than `x < y`,\n",
    "    - less than or equal to `x <= y`,\n",
    "    - greater than `x > y`,\n",
    "    - greater than or equal to `x >= y`,\n",
    "    - equality `x == y`,\n",
    "    - inequality `x != y`."
   ]
  },
  {
   "cell_type": "markdown",
   "id": "03771d55-1c71-4259-813e-c14e9443cf51",
   "metadata": {
    "jp-MarkdownHeadingCollapsed": true,
    "tags": []
   },
   "source": [
    "## 1.3 Conditional Statements (branches)"
   ]
  },
  {
   "cell_type": "markdown",
   "id": "f8d5d66e-7c1f-4c22-90c7-6ea267c805af",
   "metadata": {},
   "source": [
    "### If-else counstruction"
   ]
  },
  {
   "cell_type": "markdown",
   "id": "13542025-910e-4ff9-9639-7318fb7352f3",
   "metadata": {},
   "source": [
    "#### Mutually-exclusive branches"
   ]
  },
  {
   "cell_type": "markdown",
   "id": "0ad75d60-a4a5-4bd9-b424-ed4447af6b67",
   "metadata": {},
   "source": [
    "```c\n",
    "if (boolean-expression1)\n",
    "{\n",
    "    // first branch\n",
    "}\n",
    "else if (boolean-expression2)\n",
    "{\n",
    "    // second branch\n",
    "}\n",
    "else\n",
    "{\n",
    "    // third branch\n",
    "}\n",
    "```"
   ]
  },
  {
   "cell_type": "markdown",
   "id": "b88aa4de-e3dd-43c4-8261-646f16612b3e",
   "metadata": {},
   "source": [
    "#### Non-mutually exclusive branches"
   ]
  },
  {
   "cell_type": "markdown",
   "id": "2a9e7304-99a7-4ab9-9e33-35126b3e3309",
   "metadata": {},
   "source": [
    "```c\n",
    "if (boolean-expression1)\n",
    "{\n",
    "    // first branch\n",
    "}\n",
    "if (boolean-expression2)\n",
    "{\n",
    "    // second branch\n",
    "}\n",
    "else\n",
    "{\n",
    "    // third branch\n",
    "}\n",
    "```"
   ]
  },
  {
   "cell_type": "markdown",
   "id": "79772ea9-2c3a-48d3-af91-0134d51ae468",
   "metadata": {},
   "source": [
    "### Switch"
   ]
  },
  {
   "cell_type": "markdown",
   "id": "4d9ed5f7-78f9-40e4-98cb-054eba5b8453",
   "metadata": {},
   "source": [
    "```c\n",
    "int x = GetInt();\n",
    "switch(x)\n",
    "{\n",
    "    case 1:\n",
    "        printf(\"One!\"\\n);\n",
    "        break;\n",
    "    case 2:\n",
    "        printf(\"Two!\"\\n);\n",
    "        break;\n",
    "    default:\n",
    "        printf(\"Sorry!\"\\n);\n",
    "}\n",
    "```\n",
    "\n",
    "You have to break the tree otherwise you will have got all the branches till the end."
   ]
  },
  {
   "cell_type": "markdown",
   "id": "95e02b99-0c97-4be1-a31c-12583f97f4e4",
   "metadata": {},
   "source": [
    "### `?:`"
   ]
  },
  {
   "cell_type": "markdown",
   "id": "f60931c2-8e4d-4f20-90af-f82beb45fdea",
   "metadata": {},
   "source": [
    "**Ternary operator**:\n",
    "\n",
    "```c\n",
    "int x = (expr) ? 5 : 6;\n",
    "```\n",
    "which is the same as:\n",
    "\n",
    "```c\n",
    "int x;\n",
    "if(expr)\n",
    "{\n",
    "    x = 5;\n",
    "}\n",
    "else\n",
    "{\n",
    "    x = 6;\n",
    "}\n",
    "```"
   ]
  },
  {
   "cell_type": "markdown",
   "id": "ca544532-e894-4dad-a8a4-79ded4dc6ba4",
   "metadata": {
    "jp-MarkdownHeadingCollapsed": true,
    "tags": []
   },
   "source": [
    "## 1.4 Loops"
   ]
  },
  {
   "cell_type": "markdown",
   "id": "9307580b-c580-4bce-97a6-81202cbc9bce",
   "metadata": {},
   "source": [
    "### `while (true)`"
   ]
  },
  {
   "cell_type": "markdown",
   "id": "0248d1ed-ae03-462f-aa92-563d4dd3d0ad",
   "metadata": {},
   "source": [
    "Infinite loop:\n",
    "\n",
    "```c\n",
    "while(true)\n",
    "{\n",
    "    \n",
    "}\n",
    "```"
   ]
  },
  {
   "cell_type": "markdown",
   "id": "9dd7850d-585e-4b94-b9f7-fe84e822c77d",
   "metadata": {},
   "source": [
    "### `while (boolean expr)`"
   ]
  },
  {
   "cell_type": "markdown",
   "id": "b98d879a-8339-4d97-81d9-66c8de1c767b",
   "metadata": {},
   "source": [
    "```c\n",
    "while (boolean expr)\n",
    "{\n",
    "    \n",
    "}\n",
    "```"
   ]
  },
  {
   "cell_type": "markdown",
   "id": "ee76b32e-d16d-40b4-b9e0-9cd7006af18b",
   "metadata": {},
   "source": [
    "### `do while`"
   ]
  },
  {
   "cell_type": "markdown",
   "id": "ad3585a6-8ca8-4e75-aa93-bba649c18851",
   "metadata": {},
   "source": [
    "```c\n",
    "do\n",
    "{\n",
    "    \n",
    "}\n",
    "while (boolean expr);\n",
    "```"
   ]
  },
  {
   "cell_type": "markdown",
   "id": "35036383-1155-4c18-960c-f451528b1768",
   "metadata": {},
   "source": [
    "### `for` loop"
   ]
  },
  {
   "cell_type": "markdown",
   "id": "5e24dac4-c7c0-4f28-b34f-1bccbb48c1a0",
   "metadata": {},
   "source": [
    "```c\n",
    "for (int i = 0; i < 10; i++)\n",
    "{\n",
    "    \n",
    "}\n",
    "```"
   ]
  },
  {
   "cell_type": "markdown",
   "id": "92aa983e-88ab-43da-8b6a-92b279fabbbe",
   "metadata": {},
   "source": [
    "## 1.5 Command Line - bash"
   ]
  },
  {
   "cell_type": "markdown",
   "id": "a3a33fcb-c585-4488-9e70-84c10a845db2",
   "metadata": {},
   "source": [
    "|command|description|\n",
    "|-|-|\n",
    "|`ls`|list all the files and folders in my current directory|\n",
    "|`cd <directory>`|change directory|\n",
    "|`cd`|move to home dir|\n",
    "|`cd ./`|current directory|\n",
    "|`cd ..`|move to a directory above|\n",
    "|`pwd`|print working (current) directory|\n",
    "|`ctrl + L`, `clear`|clear the screen|\n",
    "|`mkdir <directory>`|make a new directory in current dir|\n",
    "|`cp <src> <dst>`|copy a file to the destination dir|\n",
    "|`cp -r <src dir> <dst dir>`|`-r` means _recursive_|\n",
    "|`rm <file>`|remove a file|\n",
    "|`rm -f <file>`|remove a file without confirmation (forcibly)|\n",
    "|`rm -r <directory>`|delete entire directory|\n",
    "|`rm -rf <directory>`|delete entire directory without confirmation|\n",
    "|mv <src> <dst>|move a file; let us rename files|\n",
    "|chmod||\n",
    "|rmdir||\n",
    "|sudo||\n",
    "|ln||\n",
    "|man||\n",
    "|touch||\n",
    "|diff||\n",
    "|telnet||\n",
    "|||"
   ]
  },
  {
   "cell_type": "markdown",
   "id": "31b5ed2e-878b-4c76-9ab8-66dbc8637aa8",
   "metadata": {
    "jp-MarkdownHeadingCollapsed": true
   },
   "source": [
    "# <b>Week 2 Arrays</b>"
   ]
  },
  {
   "cell_type": "markdown",
   "id": "fa07a891-8912-4772-9285-fb814827432b",
   "metadata": {},
   "source": [
    "## 2.1 Functions"
   ]
  },
  {
   "cell_type": "markdown",
   "id": "9ae119ff-0cf7-4dd3-b03e-f36a1ca7a6b6",
   "metadata": {},
   "source": [
    "Functions = methods = procedures = subroutines.\n",
    "\n",
    "A **fuction** is a black-box with a set of 0+ inputs and 1 output.\n",
    "\n",
    "```c\n",
    "func(a, b, c) => z\n",
    "```\n",
    "\n",
    "- **Function declaration** - should always go atop your code\n",
    "    - <span style=\"color: green\">return-type</span> <span style=\"color: red\">name</span> <span style=\"color: blue\">(argument-list)</span>;"
   ]
  },
  {
   "cell_type": "markdown",
   "id": "9aa754d1-faf2-44f2-a1c5-0af606fc2cad",
   "metadata": {},
   "source": [
    "```c\n",
    "int add_two_integers(int a, int b);\n",
    "float mult_two_integers(int x, int y);\n",
    "```"
   ]
  },
  {
   "cell_type": "markdown",
   "id": "385fc6f5-db9e-450b-ab5f-c1cdc70f98b9",
   "metadata": {},
   "source": [
    "- **Function expression**\n",
    "\n",
    "```c\n",
    "float mult_two_integers(int x, int y)\n",
    "{\n",
    "    float product = x * y;\n",
    "    return product;\n",
    "}\n",
    "```\n",
    "\n",
    "or \n",
    "\n",
    "```c\n",
    "float mult_two_integers(int x, int y)\n",
    "{\n",
    "    return x * y;\n",
    "}\n",
    "```"
   ]
  },
  {
   "cell_type": "markdown",
   "id": "c0118083-d2e6-4bc5-b9f5-92198f81229e",
   "metadata": {},
   "source": [
    "- **Function calls**"
   ]
  },
  {
   "cell_type": "code",
   "execution_count": 8,
   "id": "70393031-2be8-4b3e-a929-7e0f5b6fa09a",
   "metadata": {
    "execution": {
     "iopub.execute_input": "2023-07-26T20:43:05.259318Z",
     "iopub.status.busy": "2023-07-26T20:43:05.258786Z",
     "iopub.status.idle": "2023-07-26T20:43:05.319768Z",
     "shell.execute_reply": "2023-07-26T20:43:05.318666Z",
     "shell.execute_reply.started": "2023-07-26T20:43:05.259288Z"
    },
    "tags": []
   },
   "outputs": [
    {
     "name": "stdout",
     "output_type": "stream",
     "text": [
      "The sum of 5 and 6 is 11!\n"
     ]
    }
   ],
   "source": [
    "// includes\n",
    "#include <stdio.h>\n",
    "\n",
    "// declare function prototype\n",
    "int add_two_ints(int a, int b);\n",
    "\n",
    "int main(void)\n",
    "{\n",
    "    // ask user for input\n",
    "    int x = 5;\n",
    "    int y = 6;\n",
    "\n",
    "    // add the two numbers together via a function call\n",
    "    int z = add_two_ints(x, y);\n",
    "\n",
    "    // output the result\n",
    "    printf(\"The sum of %i and %i is %i!\\n\", x, y, z);\n",
    "\n",
    "}\n",
    "\n",
    "int add_two_ints(int a, int b)\n",
    "{\n",
    "    int sum = a + b;\n",
    "    return sum;\n",
    "}"
   ]
  },
  {
   "cell_type": "markdown",
   "id": "e6d5993d-35c7-4533-aca4-b9035e5f86a4",
   "metadata": {},
   "source": [
    "Return type of the function can also be void."
   ]
  },
  {
   "cell_type": "markdown",
   "id": "0731b317-4254-4736-a133-53b737e3f8f5",
   "metadata": {},
   "source": [
    "## 2.2 Variables and Scope"
   ]
  },
  {
   "cell_type": "markdown",
   "id": "73a0dbd3-562a-4b24-85f2-fa05bf947613",
   "metadata": {},
   "source": [
    "**Scope** is a characteristic of a variable that defines from which functions that variable may be accessed:\n",
    "\n",
    "- **Local variables** can only be accessed within the functions in which they're created. They can't be accessed by every other function that exists in your program, only the function in which it was created.\n",
    "\n",
    "- **Global variables**, on the other hand, can be accessed by any function in the program. And the reason for that is because they're not created inside of any particular function. We declare them outside of all of the functions, which means that every function knows where it is and can access and manipulate it."
   ]
  },
  {
   "cell_type": "markdown",
   "id": "b0dcdd59-37b4-4c62-b0eb-472924701ccb",
   "metadata": {},
   "source": [
    "Local variables in C are what's called **<a name=\"passing_by_value\">passed by value</a>** when we make a function call.\n",
    "\n",
    "When a variable is passed by value, the **callee**, which is another way of saying the function that is receiving the variable that gets passed in as an input, it actually doesn't receive that variable itself. It receives its own **copy** of it to work with.\n",
    "\n",
    "if we manipulate the global variable in one function, the effect in that one function carries through to every other function. \n",
    "\n",
    "But with local variables, that's not true. Each function when it receives variables as input receive copies of those variables, not the variables themselves.\n",
    "\n",
    "So what is the side effect of that? That means that the variable in the **caller**, the function that is making the function call, is unchanged unless you overwrite (re-assign) it."
   ]
  },
  {
   "cell_type": "markdown",
   "id": "58b31d8f-2feb-4bcb-87b8-75ab858106a0",
   "metadata": {
    "jp-MarkdownHeadingCollapsed": true
   },
   "source": [
    "## 2.3 Arrays"
   ]
  },
  {
   "cell_type": "markdown",
   "id": "8aa576cd-29b8-408d-8da8-3f13d18fc42b",
   "metadata": {},
   "source": [
    "Arrays are a really fundamental **data structure** for any programming language that you will use. And they're really, really useful, particularly, as we'll see, in CS 50.\n",
    "\n",
    "> We use arrays to hold values of the same data type at contiguous memory locations.\n",
    "\n",
    "An **array** is a giant block of contiguous memory. Arrays have been partitioned into small, identically sized blocks of space, each of which is called an **element**. Each element of the array can store a certain amount of **data**.\n",
    "\n",
    "What can be stored in each element of the array is variables of the same **data type**, such as `int` or `char`.\n",
    "\n",
    "Lastly, we can access each element of the array directly by **index** number. In C undexing starts with 0, so `n` elements array has an index range of `[0, n-1]` included. But C is very lenient and \n",
    "\n",
    "> it will not prevent you from \"going out of bonds\" of your array."
   ]
  },
  {
   "cell_type": "markdown",
   "id": "8adc7881-26fb-4a41-ba5d-b6d9cd5c1b21",
   "metadata": {},
   "source": [
    "### One-dimensional arrays"
   ]
  },
  {
   "cell_type": "markdown",
   "id": "23b7ee67-8fd7-48c0-8d47-e77cdf790f04",
   "metadata": {},
   "source": [
    "**Array declaration**\n",
    "\n",
    "<span style=\"color: green\">type</span> <span style=\"color: red\">name</span>[<span style=\"color: blue\">size</span>];\n",
    "\n",
    "- <span style=\"color: green\">double</span> <span style=\"color: red\">menu_prices</span>[<span style=\"color: blue\">40</span>];\n",
    "\n",
    "**Instantiation syntax**\n",
    "\n",
    "```c\n",
    "int array[3] = {1, 2, 3};\n",
    "```\n",
    "\n",
    "or \n",
    "\n",
    "```c\n",
    "int array[3];\n",
    "array[0] = 1;\n",
    "array[1] = 2;\n",
    "array[2] = 3;\n",
    "```\n",
    "\n",
    "or \n",
    "\n",
    "```c\n",
    "int array[] = {1, 2, 3};\n",
    "```"
   ]
  },
  {
   "cell_type": "markdown",
   "id": "338d9c58-629f-41c5-a2d4-d6dcee3c2115",
   "metadata": {},
   "source": [
    "### Two-dimensional arrays"
   ]
  },
  {
   "cell_type": "markdown",
   "id": "6b109acc-d3dc-4aa7-ae52-613231505281",
   "metadata": {},
   "source": [
    "```c\n",
    "int array[3][4] = {1, 2, 3};\n",
    "```\n",
    "\n",
    "In memory it is a one-dim array of $3*4=12$ elements so it only helps to humans to **abstract** complex representations."
   ]
  },
  {
   "cell_type": "markdown",
   "id": "de6120a9-90aa-4361-847c-4e975f39c590",
   "metadata": {},
   "source": [
    "### Ops with arrays"
   ]
  },
  {
   "cell_type": "markdown",
   "id": "41f55d57-ed30-41b2-8221-a2469861844a",
   "metadata": {},
   "source": [
    "We cannot treat entire arrays as themselves as variables in C. Thus, we cannot assign one array to another using assignment operator. Instead we must loop to copy over the elements one a time.\n",
    "\n",
    "```c\n",
    "int foo[5] = {1, 2, 3, 4, 5};\n",
    "int bar[5];\n",
    "\n",
    "for (int i = 0; i < 5; i++)\n",
    "{\n",
    "    bar[i] = foo[i];\n",
    "}\n",
    "```\n",
    "\n",
    "> Arrays are **passed by reference**!\n",
    "\n",
    "The callee receives the actual array, NOT the copy of it. This is done for resources economy."
   ]
  },
  {
   "cell_type": "code",
   "execution_count": 3,
   "id": "83261621-65f5-4270-a48e-86c491270291",
   "metadata": {
    "execution": {
     "iopub.execute_input": "2023-07-28T12:40:11.714902Z",
     "iopub.status.busy": "2023-07-28T12:40:11.714380Z",
     "iopub.status.idle": "2023-07-28T12:40:11.768903Z",
     "shell.execute_reply": "2023-07-28T12:40:11.767695Z",
     "shell.execute_reply.started": "2023-07-28T12:40:11.714870Z"
    },
    "tags": []
   },
   "outputs": [
    {
     "name": "stdout",
     "output_type": "stream",
     "text": [
      "Before functions: a = 10 b = 0\n",
      "After functions: a = 10 b = 22\n"
     ]
    }
   ],
   "source": [
    "#include <stdio.h>\n",
    "\n",
    "void set_int(int x);\n",
    "void set_array(int array[4]);\n",
    "\n",
    "int main(void)\n",
    "{\n",
    "    int a = 10;\n",
    "    int b[4] = {0, 1, 2, 3};\n",
    "    printf(\"Before functions: a = %d b = %d\\n\", a, b[0]);\n",
    "    set_int(a);\n",
    "    set_array(b);\n",
    "    printf(\"After functions: a = %d b = %d\\n\", a, b[0]);\n",
    "}\n",
    "\n",
    "void set_int(int x)\n",
    "{\n",
    "    x = 22;\n",
    "}\n",
    "\n",
    "void set_array(int array[4])\n",
    "{\n",
    "    array[0] = 22;\n",
    "}"
   ]
  },
  {
   "cell_type": "markdown",
   "id": "b2336ac9-47ac-421b-9c77-a3fb46ceb640",
   "metadata": {},
   "source": [
    "## 2.4 Command Line Arguments"
   ]
  },
  {
   "cell_type": "markdown",
   "id": "a29c630a-d740-4008-94ac-ad5529ced42b",
   "metadata": {},
   "source": [
    "To collect **command-line arguments** from the user, declare `main` as:\n",
    "\n",
    "```c\n",
    "int main(int argc, string argv[])\n",
    "```\n",
    "\n",
    "- `int argc` - **argument coount**, a number of the command-line arguments a user provided +1 (argc[0] is the name of the program)\n",
    "- `string argv[]` - **argument vector**, an array of strings, one string per element\n",
    "\n",
    "The last element of the `argv` is found at `argv[argc-1]`.\n",
    "\n",
    "```\n",
    "./greedy 1024 cs50\n",
    "```\n",
    "\n",
    "|argv indices|argv contents|\n",
    "|-|-|\n",
    "|argv[0]|\"./greedy\"|\n",
    "|argv[1]|\"1024\"|\n",
    "|argv[2]|\"cs50\"|\n",
    "|argv[3]|<span style=\"color: red\">???</span>|"
   ]
  },
  {
   "cell_type": "code",
   "execution_count": 3,
   "id": "8ee31d10-6ad5-448c-ab4b-15ac0b6581d9",
   "metadata": {
    "execution": {
     "iopub.execute_input": "2023-08-14T16:59:07.544379Z",
     "iopub.status.busy": "2023-08-14T16:59:07.543363Z",
     "iopub.status.idle": "2023-08-14T16:59:07.574919Z",
     "shell.execute_reply": "2023-08-14T16:59:07.573847Z",
     "shell.execute_reply.started": "2023-08-14T16:59:07.544335Z"
    },
    "tags": []
   },
   "outputs": [
    {
     "name": "stderr",
     "output_type": "stream",
     "text": [
      "/tmp/tmppt34n1gj.c:4:15: error: expected ‘)’ before ‘char’\n",
      "    4 | int main(argc, char *argv[])\n",
      "      |               ^~~~~\n",
      "      |               )\n",
      "[C kernel] GCC exited with code 1, the executable will not be executed"
     ]
    }
   ],
   "source": [
    "#include <stdio.h>\n",
    "#include <stdlib.h>\n",
    "\n",
    "int main(argc, char *argv[])\n",
    "{\n",
    "    argv[1];\n",
    "    printf(\"%s\", argv[1]);\n",
    "    // FILE *file = fopen(argv[1], \"w\");\n",
    "    // fclose(file);\n",
    "}"
   ]
  },
  {
   "cell_type": "markdown",
   "id": "c82fd852-a001-4cd5-bce1-89e1b7def840",
   "metadata": {
    "tags": []
   },
   "source": [
    "# <b>Week 3 Algorithms</b>"
   ]
  },
  {
   "cell_type": "markdown",
   "id": "133f1426-0441-4075-85c7-fd2de8d4e1f3",
   "metadata": {},
   "source": [
    "|sorting algorithm|worst scenario|best scenario|worst and best are equal|\n",
    "|-|-|-|-|\n",
    "|Bubble sort|O($n^2)$|$\\Omega(n)$||\n",
    "|Selection sort|O($n^2)$|$\\Omega$($n^2$)|$\\theta$($n^2$)|\n",
    "|Merge sort|O(n $log$ n)|$\\Omega$(n $log$ n)|$\\theta$(n $log$ n)|\n",
    "\n",
    "See more on sorting algorithms in \"Python for Data Analysis\" [Appendix A: Advanced NumPy](https://wesmckinney.com/book/advanced-numpy)."
   ]
  },
  {
   "cell_type": "markdown",
   "id": "57685f39-6bd4-483c-ba6a-a7d3ea830a01",
   "metadata": {},
   "source": [
    "## 3.1 Linear Search"
   ]
  },
  {
   "cell_type": "markdown",
   "id": "da5ffddf-b276-497d-a791-4c00a1a1a3e0",
   "metadata": {},
   "source": [
    "- iterate across the array from left to right, searching for a specified element.\n",
    "\n",
    "Big-O notation:\n",
    "- O(n) - the worst scenario (the element is not in the array),\n",
    "- $\\Omega$(1) - the best scenario (the searched element has index 0)."
   ]
  },
  {
   "cell_type": "markdown",
   "id": "3124eb97-f351-4971-b36e-d38170f4a3f1",
   "metadata": {
    "tags": []
   },
   "source": [
    "## 3.2 <a name=\"binary_search\">Binary Search</a>"
   ]
  },
  {
   "cell_type": "markdown",
   "id": "6884f044-109f-4f68-8c80-064eab7564ff",
   "metadata": {},
   "source": [
    "- divide and conquer, reducing the search area by half each time, trying to find a target number\n",
    "- the array must be sorted first"
   ]
  },
  {
   "cell_type": "markdown",
   "id": "ec2f77e6-7776-40ed-8970-fd13ae70042f",
   "metadata": {},
   "source": [
    "- O($log$ n)\n",
    "- $\\Omega$(1)"
   ]
  },
  {
   "cell_type": "markdown",
   "id": "bb92a46b-124a-429c-b117-34bb2ecd996a",
   "metadata": {},
   "source": [
    "## 3.3 Bubble Sort"
   ]
  },
  {
   "cell_type": "markdown",
   "id": "ec5566ad-fb57-4eb0-ba8f-5a49083b72a5",
   "metadata": {},
   "source": [
    "- move higher valued elements generally towards the right and lower value elements generally towards the left.\n",
    "\n",
    "Pseudocode:\n",
    "- Set swap counter to a non-zero value\n",
    "- Repeat until the swap counter is 0:\n",
    "    - Reset swap counter to 0\n",
    "    - Look at each adjacent pair\n",
    "        - If two adjacent elements are not in order, swap them and add one to the swap counter.\n",
    "\n",
    "<br>\n",
    "- O($n^2$)<br>\n",
    "- $\\Omega$(n)"
   ]
  },
  {
   "cell_type": "code",
   "execution_count": 2,
   "id": "2b18d7c9-41eb-4598-ac96-4eee8452d30f",
   "metadata": {
    "execution": {
     "iopub.execute_input": "2023-07-28T19:08:55.180258Z",
     "iopub.status.busy": "2023-07-28T19:08:55.179591Z",
     "iopub.status.idle": "2023-07-28T19:08:55.273287Z",
     "shell.execute_reply": "2023-07-28T19:08:55.271947Z",
     "shell.execute_reply.started": "2023-07-28T19:08:55.180231Z"
    },
    "tags": []
   },
   "outputs": [
    {
     "name": "stdout",
     "output_type": "stream",
     "text": [
      "6 4 3 5 2 1 \n",
      "1 2 3 4 5 6 \n"
     ]
    }
   ],
   "source": [
    "// VR implementation\n",
    "#include <stdio.h>\n",
    "\n",
    "int main(void)\n",
    "{\n",
    "    int n = 6;\n",
    "    int array_length = n;\n",
    "    int array[n];\n",
    "\n",
    "    // array initialization\n",
    "    array[0] = 6;\n",
    "    array[1] = 4;\n",
    "    array[2] = 3;\n",
    "    array[3] = 5;\n",
    "    array[4] = 2;\n",
    "    array[5] = 1;\n",
    "\n",
    "    // print initial array\n",
    "    for (int i = 0; i < array_length; i++)\n",
    "    {\n",
    "        printf(\"%i \", array[i]);\n",
    "    }\n",
    "\n",
    "    // sorting\n",
    "    int counter = -1;\n",
    "    while (counter != 0)\n",
    "    {\n",
    "        counter = 0;\n",
    "        // comparing pairs\n",
    "        for (int i = 0; i < array_length-1; i++)\n",
    "        {\n",
    "            // swap values\n",
    "            if (array[i] > array[i+1])\n",
    "            {\n",
    "                int temp = array[i];\n",
    "                array[i] = array[i+1];\n",
    "                array[i+1] = temp;\n",
    "                // add 1 to counter\n",
    "                counter++;\n",
    "            }\n",
    "        }\n",
    "        // reduce the cycle number by one\n",
    "        array_length--;\n",
    "    }\n",
    "\n",
    "    // print final array\n",
    "    printf(\"\\n\");\n",
    "    for (int i = 0; i < n; i++)\n",
    "    {\n",
    "        printf(\"%i \", array[i]);\n",
    "    }\n",
    "\n",
    "    printf(\"\\n\");\n",
    "}"
   ]
  },
  {
   "cell_type": "markdown",
   "id": "9f49750d-f944-463e-ac1b-8984e954f869",
   "metadata": {},
   "source": [
    "## 3.4 Selection Sort"
   ]
  },
  {
   "cell_type": "markdown",
   "id": "871272e6-390d-4cc1-aeed-a97dc44e1588",
   "metadata": {},
   "source": [
    "- find the smallest unsorted element and add it to the end of the sorted list.\n",
    "\n",
    "Pseudocode:\n",
    "- Repeat until no unsorted elements remain\n",
    "    - Search the unsorted part of the data to find smallest value\n",
    "    - Swap the smallest found value with the first element of the unsorted part\n",
    "    \n",
    "<br>\n",
    "- O($n^2$)<br>\n",
    "- $\\Omega$($n^2$)"
   ]
  },
  {
   "cell_type": "code",
   "execution_count": 6,
   "id": "efcb509b-ef47-4775-b901-110b0545b5ff",
   "metadata": {
    "execution": {
     "iopub.execute_input": "2023-07-28T19:37:44.209177Z",
     "iopub.status.busy": "2023-07-28T19:37:44.208053Z",
     "iopub.status.idle": "2023-07-28T19:37:44.271085Z",
     "shell.execute_reply": "2023-07-28T19:37:44.269660Z",
     "shell.execute_reply.started": "2023-07-28T19:37:44.209138Z"
    },
    "tags": []
   },
   "outputs": [
    {
     "name": "stdout",
     "output_type": "stream",
     "text": [
      "6 4 3 5 2 1 \n",
      "1 2 3 4 5 6 \n"
     ]
    }
   ],
   "source": [
    "// VR implementation\n",
    "#include <stdio.h>\n",
    "\n",
    "int main(void)\n",
    "{\n",
    "    int n = 6;\n",
    "    // int array_length = n;\n",
    "    int array[n];\n",
    "\n",
    "    // array initialization\n",
    "    array[0] = 6;\n",
    "    array[1] = 4;\n",
    "    array[2] = 3;\n",
    "    array[3] = 5;\n",
    "    array[4] = 2;\n",
    "    array[5] = 1;\n",
    "\n",
    "    // print initial array\n",
    "    for (int i = 0; i < n; i++)\n",
    "    {\n",
    "        printf(\"%i \", array[i]);\n",
    "    }\n",
    "\n",
    "    // sorting\n",
    "    for (int i = 0; i < n-1; i++)\n",
    "    {\n",
    "        // set array[i] as a minimal value\n",
    "        int min_value = array[i];\n",
    "        // fix the index of the minimal value\n",
    "        int min_val_index = i;\n",
    "\n",
    "        // compare each number to all the others\n",
    "        for (int j = i+1; j < n; j++)\n",
    "        {\n",
    "            // set a new miinimal value and its index\n",
    "            if (array[j] < min_value)\n",
    "            {\n",
    "                min_value = array[j];\n",
    "                min_val_index = j;\n",
    "            }\n",
    "        }\n",
    "\n",
    "        // swap values\n",
    "        int temp = array[i];\n",
    "        array[i] = min_value;\n",
    "        array[min_val_index] = temp;\n",
    "    }\n",
    "\n",
    "    // print final array\n",
    "    printf(\"\\n\");\n",
    "    for (int i = 0; i < n; i++)\n",
    "    {\n",
    "        printf(\"%i \", array[i]);\n",
    "    }\n",
    "    printf(\"\\n\");\n",
    "}"
   ]
  },
  {
   "cell_type": "markdown",
   "id": "01297dc5-e9d1-49c7-b0b0-1d0617af9818",
   "metadata": {},
   "source": [
    "## 3.5 Recursion"
   ]
  },
  {
   "cell_type": "markdown",
   "id": "f102b1f1-07d7-47e5-87ca-2a70362c7bd7",
   "metadata": {},
   "source": [
    "The part of the function repeats itself.\n",
    "\n",
    "- _base case_ - when triggered will terminate the recursive process;\n",
    "- _recursive case_ - where the recursion will actually occur."
   ]
  },
  {
   "cell_type": "code",
   "execution_count": 9,
   "id": "54357227-1b8b-409d-8be5-836775afe09a",
   "metadata": {
    "execution": {
     "iopub.execute_input": "2023-07-28T20:33:09.317746Z",
     "iopub.status.busy": "2023-07-28T20:33:09.317152Z",
     "iopub.status.idle": "2023-07-28T20:33:09.417206Z",
     "shell.execute_reply": "2023-07-28T20:33:09.415035Z",
     "shell.execute_reply.started": "2023-07-28T20:33:09.317705Z"
    },
    "tags": []
   },
   "outputs": [
    {
     "name": "stdout",
     "output_type": "stream",
     "text": [
      "24"
     ]
    }
   ],
   "source": [
    "#include <stdio.h>\n",
    "\n",
    "int fact(int n);\n",
    "\n",
    "int main(void)\n",
    "{\n",
    "    int n = 4;\n",
    "    printf(\"%i\", fact(n));\n",
    "}\n",
    "\n",
    "int fact(int n)\n",
    "{\n",
    "    // base case\n",
    "    if (n == 1)\n",
    "        return 1;\n",
    "    \n",
    "    // recursive case\n",
    "    else\n",
    "        return n * fact(n-1);\n",
    "}"
   ]
  },
  {
   "cell_type": "markdown",
   "id": "2b3ae5dd-a864-4b76-9e8c-ec00f919d5a5",
   "metadata": {},
   "source": [
    "There may be more than one base or recursive cases:\n",
    "\n",
    "- **Multiple base cases**: The Fibonacci number sequence is defined as follows:\n",
    "    - the 1st element is 0;\n",
    "    - the 2nd element is 1;\n",
    "    - the $n^{th}$ element is the sum of the $(n-1)^{th}$ and $(n-2)^{th}$ elements.<br>\n",
    "<br>\n",
    "- **Multiple recursive cases**: The Collatz conjencture:\n",
    "    - applied to integers and speculates that you always get back to 1 if you follow these steps:\n",
    "        - if n is 1, stop;\n",
    "        - otherwise, if n is even, repeat this process on n/2;\n",
    "        - otherwise, if n is odd, repeat this process on 3n + 1."
   ]
  },
  {
   "cell_type": "code",
   "execution_count": 2,
   "id": "7e093642-6e93-418a-b0d7-fb540e9a54df",
   "metadata": {
    "execution": {
     "iopub.execute_input": "2023-08-04T05:41:08.399494Z",
     "iopub.status.busy": "2023-08-04T05:41:08.398497Z",
     "iopub.status.idle": "2023-08-04T05:41:08.487341Z",
     "shell.execute_reply": "2023-08-04T05:41:08.485903Z",
     "shell.execute_reply.started": "2023-08-04T05:41:08.399457Z"
    },
    "tags": []
   },
   "outputs": [
    {
     "name": "stdout",
     "output_type": "stream",
     "text": [
      "118"
     ]
    }
   ],
   "source": [
    "#include <stdio.h>\n",
    "\n",
    "int collatz(int n);\n",
    "\n",
    "int main(void)\n",
    "{\n",
    "    int n = 132998;\n",
    "    printf(\"%i\", collatz(n));\n",
    "}\n",
    "\n",
    "int collatz(int n)\n",
    "{\n",
    "    // base case\n",
    "    if (n == 1)\n",
    "        return 0;\n",
    "    // even numbers\n",
    "    else if (n%2 == 0)\n",
    "        return 1 + collatz(n/2);\n",
    "    // odd numbers\n",
    "    else\n",
    "        return 1 + collatz(3*n + 1);\n",
    "}"
   ]
  },
  {
   "cell_type": "markdown",
   "id": "160429fb-9d17-4514-abcb-3fcd9dbdb548",
   "metadata": {},
   "source": [
    "ChatGPT helps:\n",
    "\n",
    "To improve your skills in recursive thinking in C, you can explore various online platforms that offer programming challenges and exercises. Here are some websites where you can find training tasks for mastering recursive thinking in C:\n",
    "\n",
    "[HackerRank (C Section)](https://www.hackerrank.com/domains/tutorials/10-days-of-c): HackerRank is a popular platform that provides a variety of programming challenges. The C section includes tasks that can help you practice recursive thinking.\n",
    "\n",
    "[GeeksforGeeks](https://www.geeksforgeeks.org/c-programming-language/): GeeksforGeeks is a comprehensive resource for computer science topics. They have a dedicated section for C programming with numerous examples and exercises, including recursive problems.\n",
    "\n",
    "[CodeSignal](https://codesignal.com/): CodeSignal offers coding challenges and competitions. You can find tasks that cover a wide range of difficulty levels, including recursive problems.\n",
    "\n",
    "[LeetCode (C Section)](https://leetcode.com/problemset/all/?search=&difficulty=Medium&language=C): LeetCode is a platform that provides coding challenges for various programming languages, including C. The C section includes problems that can help you practice recursion.\n",
    "\n",
    "[Exercism](https://exercism.io/tracks/c): Exercism provides coding exercises and mentorship. They have a track for C programming that includes recursive challenges.\n",
    "\n",
    "[CodeChef](https://www.codechef.com/problems/school/): CodeChef is a competitive programming platform that hosts contests and provides practice problems. You can find recursive problems in their practice section.\n",
    "\n",
    "[GitHub](https://github.com/): Explore GitHub repositories that focus on C programming and recursion. Many developers share their solutions to various problems, which can serve as valuable learning resources.\n",
    "\n",
    "Remember to start with simpler problems and gradually progress to more complex ones as you build your recursive thinking skills. Good luck with your learning journey!"
   ]
  },
  {
   "cell_type": "markdown",
   "id": "2d603ea0-a027-4788-87b7-93f681ffe328",
   "metadata": {},
   "source": [
    "## 3.6 Merge Sort"
   ]
  },
  {
   "cell_type": "markdown",
   "id": "f2a3d420-8cd0-41c1-81cb-619fbabb7d28",
   "metadata": {},
   "source": [
    "- to sort smaller arrays and then combine those arrays together (merge them) in sorted order\n",
    "- uses recursion\n",
    "- needs more memory for keeping the sorted elements\n",
    "\n",
    "In pseudocode:\n",
    "- Sort the left half of the array (assuming n > 1),\n",
    "- Sort the right half of the array (assuming n > 1),\n",
    "- Merge the two halves together."
   ]
  },
  {
   "cell_type": "markdown",
   "id": "0d741eb2-bf4e-42c4-9c56-a5429b338399",
   "metadata": {
    "jp-MarkdownHeadingCollapsed": true,
    "tags": []
   },
   "source": [
    "# <b>Week 4 Memory</b>"
   ]
  },
  {
   "cell_type": "markdown",
   "id": "70a815eb-7e6d-440b-84fa-348a5328054c",
   "metadata": {},
   "source": [
    "## Pointers"
   ]
  },
  {
   "cell_type": "markdown",
   "id": "b3a90e30-9171-4182-99d9-d2aa10d09734",
   "metadata": {},
   "source": [
    "- a variable that contains the address of some value, i.e. \"the address\" of something in the computer's memory"
   ]
  },
  {
   "cell_type": "code",
   "execution_count": 1,
   "id": "df393aaf-0216-43d8-b450-f9cee2012771",
   "metadata": {
    "execution": {
     "iopub.execute_input": "2023-11-09T15:23:04.054587Z",
     "iopub.status.busy": "2023-11-09T15:23:04.054068Z",
     "iopub.status.idle": "2023-11-09T15:23:04.297631Z",
     "shell.execute_reply": "2023-11-09T15:23:04.296090Z",
     "shell.execute_reply.started": "2023-11-09T15:23:04.054549Z"
    },
    "tags": []
   },
   "outputs": [
    {
     "name": "stdout",
     "output_type": "stream",
     "text": [
      "0x7fff162c039c\n"
     ]
    }
   ],
   "source": [
    "#include <stdio.h>\n",
    "\n",
    "int main(void)\n",
    "{\n",
    "    int n = 50;\n",
    "    printf(\"%p\\n\", &n);\n",
    "}"
   ]
  },
  {
   "cell_type": "code",
   "execution_count": 2,
   "id": "4cc0dfde-e4a1-40a6-9aea-39db5559f170",
   "metadata": {
    "execution": {
     "iopub.execute_input": "2023-11-09T15:23:07.314746Z",
     "iopub.status.busy": "2023-11-09T15:23:07.314306Z",
     "iopub.status.idle": "2023-11-09T15:23:07.401304Z",
     "shell.execute_reply": "2023-11-09T15:23:07.399947Z",
     "shell.execute_reply.started": "2023-11-09T15:23:07.314718Z"
    },
    "tags": []
   },
   "outputs": [
    {
     "name": "stdout",
     "output_type": "stream",
     "text": [
      "0x7ffcdc300214\n"
     ]
    }
   ],
   "source": [
    "#include <stdio.h>\n",
    "\n",
    "int main(void)\n",
    "{\n",
    "    int n = 50;\n",
    "    // storing the address in a pointer p\n",
    "    int *p = &n;\n",
    "    printf(\"%p\\n\", p);\n",
    "}"
   ]
  },
  {
   "cell_type": "markdown",
   "id": "17f6ef6b-388b-49c6-8c4c-462334ef2d73",
   "metadata": {},
   "source": [
    "`&x` takes `x` and gets its address.\n",
    "\n",
    "`type *` is a pointer that stores the address of a type.\n",
    "\n",
    "`*x` takes a pointer `x` and goes to the address stores at that pointer =>\n",
    "\n",
    "Dereferencing a pointer (\"go there!\", i.e. double pointer):"
   ]
  },
  {
   "cell_type": "code",
   "execution_count": 3,
   "id": "d8bf3586-c559-467a-b730-5f08a6a28275",
   "metadata": {
    "execution": {
     "iopub.execute_input": "2023-11-09T15:23:16.953178Z",
     "iopub.status.busy": "2023-11-09T15:23:16.952807Z",
     "iopub.status.idle": "2023-11-09T15:23:17.026622Z",
     "shell.execute_reply": "2023-11-09T15:23:17.025525Z",
     "shell.execute_reply.started": "2023-11-09T15:23:16.953152Z"
    },
    "tags": []
   },
   "outputs": [
    {
     "name": "stdout",
     "output_type": "stream",
     "text": [
      "50\n"
     ]
    }
   ],
   "source": [
    "#include <stdio.h>\n",
    "\n",
    "int main(void)\n",
    "{\n",
    "    int n = 50;\n",
    "    int *p = &n;\n",
    "    printf(\"%i\\n\", *p);\n",
    "}"
   ]
  },
  {
   "cell_type": "markdown",
   "id": "1500b1b4-3abc-44ac-bd1e-0a476a366ebf",
   "metadata": {},
   "source": [
    "### Strings in C"
   ]
  },
  {
   "cell_type": "markdown",
   "id": "44f42a9c-9932-488f-8a9b-8787c1a6612d",
   "metadata": {},
   "source": [
    "\"String\" is a pointer (i.e. address, not the content) to the first element of the thing we call \"string\", it is not a C built-in data type, it is a CS50 instrument.\n",
    "\n",
    "```c\n",
    "typedef char *string\n",
    "```\n",
    "\n",
    "<span>typedef <span style=\"color: brown\">char *</span>string</span>;"
   ]
  },
  {
   "cell_type": "code",
   "execution_count": 8,
   "id": "5a0868dc-b5b5-42ee-835c-193ab454a3c4",
   "metadata": {
    "execution": {
     "iopub.execute_input": "2023-08-09T06:37:01.290040Z",
     "iopub.status.busy": "2023-08-09T06:37:01.289480Z",
     "iopub.status.idle": "2023-08-09T06:37:01.380462Z",
     "shell.execute_reply": "2023-08-09T06:37:01.377797Z",
     "shell.execute_reply.started": "2023-08-09T06:37:01.290004Z"
    },
    "tags": []
   },
   "outputs": [
    {
     "name": "stdout",
     "output_type": "stream",
     "text": [
      "Hi!\n"
     ]
    }
   ],
   "source": [
    "#include <stdio.h>\n",
    "#include <cs50.h>\n",
    "\n",
    "int main(void)\n",
    "{\n",
    "    string s = \"Hi!\";\n",
    "    printf(\"%s\\n\", s);\n",
    "}"
   ]
  },
  {
   "cell_type": "markdown",
   "id": "b3e8c7b8-858b-4bb0-aa22-3d2d118bbd53",
   "metadata": {},
   "source": [
    "Now let's get rid of the CS50 lib help:"
   ]
  },
  {
   "cell_type": "code",
   "execution_count": 9,
   "id": "92d09d86-28b4-455d-8d3b-10bc64974913",
   "metadata": {
    "execution": {
     "iopub.execute_input": "2023-08-09T06:37:14.327369Z",
     "iopub.status.busy": "2023-08-09T06:37:14.326747Z",
     "iopub.status.idle": "2023-08-09T06:37:14.417175Z",
     "shell.execute_reply": "2023-08-09T06:37:14.415788Z",
     "shell.execute_reply.started": "2023-08-09T06:37:14.327336Z"
    },
    "tags": []
   },
   "outputs": [
    {
     "name": "stdout",
     "output_type": "stream",
     "text": [
      "HI!\n"
     ]
    }
   ],
   "source": [
    "#include <stdio.h>\n",
    "\n",
    "int main(void)\n",
    "{\n",
    "    char *s = \"HI!\";\n",
    "    // notice %s sign\n",
    "    printf(\"%s\\n\", s);\n",
    "}"
   ]
  },
  {
   "cell_type": "markdown",
   "id": "d776883a-dbc6-42a2-b064-479cd8beb67a",
   "metadata": {},
   "source": [
    "This works because the `string` unlike the `char` ends with the special byte `\\0` called **null** which tells the compiler where the string ends:\n",
    "\n",
    "```\n",
    "H I ! \\0\n",
    "```"
   ]
  },
  {
   "cell_type": "code",
   "execution_count": 10,
   "id": "ed147d1d-e80e-45b9-b9cb-d760bda5155f",
   "metadata": {
    "execution": {
     "iopub.execute_input": "2023-08-09T06:37:40.866360Z",
     "iopub.status.busy": "2023-08-09T06:37:40.865916Z",
     "iopub.status.idle": "2023-08-09T06:37:40.951183Z",
     "shell.execute_reply": "2023-08-09T06:37:40.949874Z",
     "shell.execute_reply.started": "2023-08-09T06:37:40.866333Z"
    },
    "tags": []
   },
   "outputs": [
    {
     "name": "stdout",
     "output_type": "stream",
     "text": [
      "H\n",
      "I\n",
      "!\n",
      "\u0000\n",
      "End"
     ]
    }
   ],
   "source": [
    "#include <stdio.h>\n",
    "\n",
    "int main(void)\n",
    "{\n",
    "    char *s = \"HI!\";\n",
    "    for (int i = 0; i < 4; i++)\n",
    "    {\n",
    "        printf(\"%c\\n\", s[i]);\n",
    "    }\n",
    "    printf(\"End\");\n",
    "}"
   ]
  },
  {
   "cell_type": "markdown",
   "id": "c40b336e-ac2b-4c7c-a7c9-ace2b6074ca9",
   "metadata": {},
   "source": [
    "So there is no the `string` data type but C knows how to deal with strings."
   ]
  },
  {
   "cell_type": "code",
   "execution_count": 11,
   "id": "b2efc87a-0fe7-4834-a5f3-f821f4b87456",
   "metadata": {
    "execution": {
     "iopub.execute_input": "2023-08-09T06:38:12.443489Z",
     "iopub.status.busy": "2023-08-09T06:38:12.443040Z",
     "iopub.status.idle": "2023-08-09T06:38:12.524995Z",
     "shell.execute_reply": "2023-08-09T06:38:12.523907Z",
     "shell.execute_reply.started": "2023-08-09T06:38:12.443462Z"
    },
    "tags": []
   },
   "outputs": [
    {
     "name": "stdout",
     "output_type": "stream",
     "text": [
      "0x7ff33857e000\n",
      "0x7ff33857e000\n"
     ]
    }
   ],
   "source": [
    "#include <stdio.h>\n",
    "\n",
    "int main(void)\n",
    "{\n",
    "    char *s = \"HI!\";\n",
    "    printf(\"%p\\n\", s);\n",
    "    printf(\"%p\\n\", &s[0]);\n",
    "}"
   ]
  },
  {
   "cell_type": "markdown",
   "id": "de76eb1d-0e91-45a5-92dd-4770d7103a0b",
   "metadata": {},
   "source": [
    "We see the **address** of the first char in both cases. \n",
    "\n",
    "Now look at the entire string with the null char:"
   ]
  },
  {
   "cell_type": "code",
   "execution_count": 12,
   "id": "931fd69d-338b-45bd-b47a-29fc7fbf540a",
   "metadata": {
    "execution": {
     "iopub.execute_input": "2023-08-09T06:38:22.167062Z",
     "iopub.status.busy": "2023-08-09T06:38:22.166658Z",
     "iopub.status.idle": "2023-08-09T06:38:22.248935Z",
     "shell.execute_reply": "2023-08-09T06:38:22.247421Z",
     "shell.execute_reply.started": "2023-08-09T06:38:22.167037Z"
    },
    "tags": []
   },
   "outputs": [
    {
     "name": "stdout",
     "output_type": "stream",
     "text": [
      "0x7fb8846ca000\n",
      "0x7fb8846ca000\n",
      "0x7fb8846ca001\n",
      "0x7fb8846ca002\n",
      "0x7fb8846ca003\n"
     ]
    }
   ],
   "source": [
    "#include <stdio.h>\n",
    "\n",
    "int main(void)\n",
    "{\n",
    "    char *s = \"HI!\";\n",
    "    printf(\"%p\\n\", s);\n",
    "    for (int i = 0; i < 4; i++)\n",
    "    {\n",
    "        printf(\"%p\\n\", &s[i]);\n",
    "    }\n",
    "}"
   ]
  },
  {
   "cell_type": "markdown",
   "id": "719eb71e-c12e-4f7e-b1b7-a0f1c5a71d5c",
   "metadata": {},
   "source": [
    "### Pointer arithmetic"
   ]
  },
  {
   "cell_type": "code",
   "execution_count": 13,
   "id": "545d2eaf-b309-42a0-9659-e70d7c12ce08",
   "metadata": {
    "execution": {
     "iopub.execute_input": "2023-08-09T06:38:58.085250Z",
     "iopub.status.busy": "2023-08-09T06:38:58.084219Z",
     "iopub.status.idle": "2023-08-09T06:38:58.150013Z",
     "shell.execute_reply": "2023-08-09T06:38:58.148533Z",
     "shell.execute_reply.started": "2023-08-09T06:38:58.085211Z"
    },
    "tags": []
   },
   "outputs": [
    {
     "name": "stdout",
     "output_type": "stream",
     "text": [
      "H\n",
      "I\n",
      "!\n"
     ]
    }
   ],
   "source": [
    "#include <stdio.h>\n",
    "\n",
    "int main(void)\n",
    "{\n",
    "    char *s = \"HI!\";\n",
    "    printf(\"%c\\n\", s[0]);\n",
    "    printf(\"%c\\n\", s[1]);\n",
    "    printf(\"%c\\n\", s[2]);\n",
    "}"
   ]
  },
  {
   "cell_type": "markdown",
   "id": "07f9849f-ed4a-44b2-8cb4-9d75247ac2d2",
   "metadata": {},
   "source": [
    "And this is what is happening underneath the hood:"
   ]
  },
  {
   "cell_type": "code",
   "execution_count": 14,
   "id": "2b93fddb-fbac-4e7d-b446-105155d6aadf",
   "metadata": {
    "execution": {
     "iopub.execute_input": "2023-08-09T06:40:10.990283Z",
     "iopub.status.busy": "2023-08-09T06:40:10.989063Z",
     "iopub.status.idle": "2023-08-09T06:40:11.075778Z",
     "shell.execute_reply": "2023-08-09T06:40:11.074140Z",
     "shell.execute_reply.started": "2023-08-09T06:40:10.990232Z"
    },
    "tags": []
   },
   "outputs": [
    {
     "name": "stdout",
     "output_type": "stream",
     "text": [
      "H\n",
      "I\n",
      "!\n"
     ]
    }
   ],
   "source": [
    "#include <stdio.h>\n",
    "\n",
    "int main(void)\n",
    "{\n",
    "    char *s = \"HI!\";\n",
    "    printf(\"%c\\n\", *s);\n",
    "    printf(\"%c\\n\", *(s+1));\n",
    "    printf(\"%c\\n\", *(s+2));\n",
    "}"
   ]
  },
  {
   "cell_type": "markdown",
   "id": "123577af-3466-467d-b99c-50d1f997ae85",
   "metadata": {},
   "source": [
    "And what is this?"
   ]
  },
  {
   "cell_type": "code",
   "execution_count": 105,
   "id": "bbd0cd1a-7549-4849-88e2-10e8cb0a7f0c",
   "metadata": {
    "execution": {
     "iopub.execute_input": "2023-08-04T14:09:56.535105Z",
     "iopub.status.busy": "2023-08-04T14:09:56.534000Z",
     "iopub.status.idle": "2023-08-04T14:09:56.588485Z",
     "shell.execute_reply": "2023-08-04T14:09:56.586890Z",
     "shell.execute_reply.started": "2023-08-04T14:09:56.535066Z"
    },
    "tags": []
   },
   "outputs": [
    {
     "name": "stdout",
     "output_type": "stream",
     "text": [
      "H\n",
      "I\n",
      "J\n",
      "K\n"
     ]
    }
   ],
   "source": [
    "#include <stdio.h>\n",
    "\n",
    "int main(void)\n",
    "{\n",
    "    char *s = \"HI!\";\n",
    "    printf(\"%c\\n\", *s);\n",
    "    printf(\"%c\\n\", *s+1);\n",
    "    printf(\"%c\\n\", *s+2);\n",
    "    printf(\"%c\\n\", *s+3);\n",
    "}"
   ]
  },
  {
   "cell_type": "markdown",
   "id": "9081f199-d7a1-41d1-a027-62eb26d20f2a",
   "metadata": {},
   "source": [
    "We add one byte to the first char `*s`, thus we get the next char in ASCII standard every new step."
   ]
  },
  {
   "cell_type": "code",
   "execution_count": 25,
   "id": "393754ee-b25f-4920-9f14-67ca0ab114e1",
   "metadata": {
    "execution": {
     "iopub.execute_input": "2023-08-09T06:50:41.704390Z",
     "iopub.status.busy": "2023-08-09T06:50:41.704006Z",
     "iopub.status.idle": "2023-08-09T06:50:41.789456Z",
     "shell.execute_reply": "2023-08-09T06:50:41.787989Z",
     "shell.execute_reply.started": "2023-08-09T06:50:41.704364Z"
    },
    "tags": []
   },
   "outputs": [
    {
     "name": "stdout",
     "output_type": "stream",
     "text": [
      "0x7ffc61bc2110\n",
      "0x7ffc61bc2118\n",
      "0x7ffc61bc2120\n",
      "0x7ffc61bc2128\n"
     ]
    }
   ],
   "source": [
    "#include <stdio.h>\n",
    "\n",
    "int main(void)\n",
    "{\n",
    "    char *s = \"HI!\";\n",
    "    printf(\"%p\\n\", &s);\n",
    "    printf(\"%p\\n\", &s+1);\n",
    "    printf(\"%p\\n\", &s+2);\n",
    "    printf(\"%p\\n\", &s+3);\n",
    "}"
   ]
  },
  {
   "cell_type": "markdown",
   "id": "f86aa158-25a1-4599-ba5a-210fadd73a20",
   "metadata": {},
   "source": [
    "Now look at the another example: "
   ]
  },
  {
   "cell_type": "code",
   "execution_count": 26,
   "id": "4ce9e6bf-a142-4a7c-952f-9a718c38ea1f",
   "metadata": {
    "execution": {
     "iopub.execute_input": "2023-08-09T06:52:26.271393Z",
     "iopub.status.busy": "2023-08-09T06:52:26.270954Z",
     "iopub.status.idle": "2023-08-09T06:52:26.330009Z",
     "shell.execute_reply": "2023-08-09T06:52:26.328789Z",
     "shell.execute_reply.started": "2023-08-09T06:52:26.271364Z"
    },
    "tags": []
   },
   "outputs": [
    {
     "name": "stdout",
     "output_type": "stream",
     "text": [
      "HI!\n",
      "I!\n",
      "!\n"
     ]
    }
   ],
   "source": [
    "#include <stdio.h>\n",
    "\n",
    "int main(void)\n",
    "{\n",
    "    char *s = \"HI!\";\n",
    "    printf(\"%s\\n\", s);\n",
    "    printf(\"%s\\n\", s+1);\n",
    "    printf(\"%s\\n\", s+2);\n",
    "}"
   ]
  },
  {
   "cell_type": "markdown",
   "id": "f7a02dda-12b0-4447-9f1d-9e1bb644d4b8",
   "metadata": {},
   "source": [
    "### Comparing strings"
   ]
  },
  {
   "cell_type": "markdown",
   "id": "0bd3fb87-0a62-49f5-b4ec-b54566eb1830",
   "metadata": {},
   "source": [
    "Here you need to use bash to correctly compile the file. Create a file `draft.c` in VSCode and use `clang` from [Week 2](https://www.youtube.com/watch?v=XmYnsO7iSI8&list=PLhQjrBD2T380F_inVRXMIHCqLaNUd7bN4&index=2&pp=iAQB). Commands are [here](https://cs50.readthedocs.io/libraries/cs50/c/).\n",
    "\n",
    "```bash\n",
    "clang -o draft draft.c -lcs50\n",
    "./draft\n",
    "```"
   ]
  },
  {
   "cell_type": "code",
   "execution_count": 4,
   "id": "1651c4bf-6079-4482-a182-4daffbdfefbf",
   "metadata": {
    "execution": {
     "iopub.execute_input": "2023-11-09T15:24:40.624438Z",
     "iopub.status.busy": "2023-11-09T15:24:40.623933Z",
     "iopub.status.idle": "2023-11-09T15:24:40.720577Z",
     "shell.execute_reply": "2023-11-09T15:24:40.719511Z",
     "shell.execute_reply.started": "2023-11-09T15:24:40.624404Z"
    },
    "tags": []
   },
   "outputs": [
    {
     "name": "stderr",
     "output_type": "stream",
     "text": [
      "/tmp/tmplnl9ghfm.out: symbol lookup error: /tmp/tmpu2km0o19.out: undefined symbol: get_int\n",
      "[C kernel] Executable exited with code 127"
     ]
    }
   ],
   "source": [
    "// use `clang -o draft draft.c -lcs50` to compile\n",
    "\n",
    "#include <stdio.h>\n",
    "#include <cs50.h>\n",
    "\n",
    "int main(void)\n",
    "{\n",
    "    int i = get_int(\"i: \");\n",
    "    int j = get_int(\"j: \");\n",
    "\n",
    "    if (i == j)\n",
    "        printf(\"Same\\n\");\n",
    "    else\n",
    "        printf(\"Different\\n\");\n",
    "}"
   ]
  },
  {
   "cell_type": "code",
   "execution_count": 29,
   "id": "c0487886-b6f0-49e6-81b9-fa60aef30f4e",
   "metadata": {
    "execution": {
     "iopub.execute_input": "2023-08-09T06:53:11.042843Z",
     "iopub.status.busy": "2023-08-09T06:53:11.042166Z",
     "iopub.status.idle": "2023-08-09T06:53:11.131139Z",
     "shell.execute_reply": "2023-08-09T06:53:11.129708Z",
     "shell.execute_reply.started": "2023-08-09T06:53:11.042816Z"
    },
    "tags": []
   },
   "outputs": [
    {
     "name": "stderr",
     "output_type": "stream",
     "text": [
      "/tmp/tmpxd9tpl3m.out: symbol lookup error: /tmp/tmplngctgkd.out: undefined symbol: get_string\n",
      "[C kernel] Executable exited with code 127"
     ]
    }
   ],
   "source": [
    "// use `clang -o draft draft.c -lcs50` to compile\n",
    "\n",
    "#include <stdio.h>\n",
    "#include <string.h>\n",
    "#include <cs50.h>\n",
    "\n",
    "int main(void)\n",
    "{\n",
    "    char *s = get_string(\"s: \");\n",
    "    char *t = get_string(\"t: \");\n",
    "    \n",
    "    if (strcmp(s, t) == 0)\n",
    "        printf(\"Same\\n\");\n",
    "    else\n",
    "        printf(\"Different\\n\");\n",
    "}"
   ]
  },
  {
   "cell_type": "markdown",
   "id": "01713778-6b8e-41ce-ac36-d8a4923e1ca8",
   "metadata": {},
   "source": [
    "I.e. the \"string\" is not a value, but only an address, that's why you cannot compare strings as is, you need to compare them lexicographically."
   ]
  },
  {
   "cell_type": "code",
   "execution_count": 2,
   "id": "2772335e-b7f0-4107-9c7f-66ea4b0dd748",
   "metadata": {
    "execution": {
     "iopub.execute_input": "2023-08-06T11:45:48.468481Z",
     "iopub.status.busy": "2023-08-06T11:45:48.468147Z",
     "iopub.status.idle": "2023-08-06T11:45:48.561627Z",
     "shell.execute_reply": "2023-08-06T11:45:48.560011Z",
     "shell.execute_reply.started": "2023-08-06T11:45:48.468458Z"
    },
    "tags": []
   },
   "outputs": [
    {
     "name": "stderr",
     "output_type": "stream",
     "text": [
      "[C kernel] Executable exited with code 127"
     ]
    }
   ],
   "source": [
    "// use `clang -o draft draft.c -lcs50` to compile\n",
    "\n",
    "#include <stdio.h>\n",
    "#include <ctype.h>\n",
    "#include <string.h>\n",
    "#include <cs50.h>\n",
    "\n",
    "int main(void)\n",
    "{\n",
    "    char *s = get_string(\"s: \");\n",
    "\n",
    "    char *t = s;\n",
    "    t[0] = toupper(t[0]);\n",
    "        \n",
    "    printf(\"%s\\n\", s);\n",
    "    printf(\"%s\\n\", t);\n",
    "}"
   ]
  },
  {
   "cell_type": "markdown",
   "id": "d503315e-58c3-4039-b8da-ff7e1fb89fc4",
   "metadata": {},
   "source": [
    "Here we get:\n",
    "\n",
    "```\n",
    "s: hi\n",
    "Hi\n",
    "Hi\n",
    "```\n",
    "\n",
    "That is because we copied the address of the `char *s`, i.e. the address of the first letter and then we changed it."
   ]
  },
  {
   "cell_type": "markdown",
   "id": "1e4322ac-662c-4f65-bc11-80db8103ef15",
   "metadata": {},
   "source": [
    "## Managing memory"
   ]
  },
  {
   "cell_type": "markdown",
   "id": "1dd6aeeb-2af7-4000-949e-9c391a8f44e9",
   "metadata": {},
   "source": [
    "### `malloc` - Memory Allocation"
   ]
  },
  {
   "cell_type": "markdown",
   "id": "1a9e085f-ce5b-4500-b197-8cf29543f694",
   "metadata": {},
   "source": [
    "Now we ask a system for additional memory for a copy - `malloc` means \"memory allocation\". Use `<stdlib.h>`.\n",
    "\n",
    "Why `malloc`? Because it gets memory from the **heap**, unlike normal variables which take memory from the **stack**, and the stack can be overflown with bigger and bigger memory allocations.\n",
    "\n",
    "A Stack is limited to the single function call, but the Heap can be shared across functions overall (all the memory allocation ops)."
   ]
  },
  {
   "cell_type": "markdown",
   "id": "065073ef-d935-4fc3-a660-639efedcea8d",
   "metadata": {},
   "source": [
    "<center>\n",
    "    <img src=\"./data/images/Screenshot from 2023-08-14 01-46-46.png\" alt=\"heap_and_stack\" style=\"width: 500px\">\n",
    "    <p style=\"text-align: center\"><i>Heap and stack</i></p>"
   ]
  },
  {
   "cell_type": "markdown",
   "id": "8aba05db-90ac-4c9d-80f8-51c1d41f88c2",
   "metadata": {
    "tags": []
   },
   "source": [
    "```c\n",
    "// use `clang -o draft draft.c -lcs50` to compile\n",
    "\n",
    "#include <stdio.h>\n",
    "#include <stdlib.h>\n",
    "#include <ctype.h>\n",
    "#include <string.h>\n",
    "#include <cs50.h>\n",
    "\n",
    "int main(void)\n",
    "{\n",
    "    char *s = get_string(\"s: \");\n",
    "\n",
    "    char *t = malloc(strlen(s) + 1);  // 1 for null char\n",
    "\n",
    "    for (int i = 0; i < strlen(s) + 1; i++)\n",
    "    {\n",
    "        t[i] = s[i];\n",
    "    }\n",
    "\n",
    "    if (strlen(t) > 0)\n",
    "    {\n",
    "        t[0] = toupper(t[0]);\n",
    "    }\n",
    "\n",
    "    printf(\"%s\\n\", s);\n",
    "    printf(\"%s\\n\", t);\n",
    "}\n",
    "```"
   ]
  },
  {
   "cell_type": "markdown",
   "id": "70be0cd8-df85-4661-8b31-20875a658717",
   "metadata": {},
   "source": [
    "Now we get a real copy:\n",
    "\n",
    "```\n",
    "s: hi\n",
    "hi\n",
    "Hi\n",
    "```"
   ]
  },
  {
   "cell_type": "markdown",
   "id": "ee708eb0-94f9-417e-929c-c4f884ddc72d",
   "metadata": {},
   "source": [
    "But there is a bad design element: there is a function in the loop. We could do this:\n",
    "\n",
    "```c\n",
    "for (int i = 0, n = strlen(s) + 1; i < n; i++)\n",
    "```\n",
    "\n",
    "Also there is a function for copying strings:\n",
    "\n",
    "```c\n",
    "strcpy(dst, src)  // strcpy(t, s) in our case\n",
    "```"
   ]
  },
  {
   "cell_type": "markdown",
   "id": "afa3391b-e27a-4874-b102-bc0e091f46dd",
   "metadata": {},
   "source": [
    "### `free`"
   ]
  },
  {
   "cell_type": "markdown",
   "id": "7fd01455-a252-4227-a843-e683219d8575",
   "metadata": {},
   "source": [
    "After finishing the program the programmer who asked for `malloc` should return this memory back:\n",
    "\n",
    "```c\n",
    "free(t)\n",
    "```\n",
    "\n",
    "This is needed because `char *t = malloc(strlen(s) + 1)` does not have a variable name, it has only address and thus it is kept in the heap instead of the stack, so you have to explicitly return this memory back."
   ]
  },
  {
   "cell_type": "markdown",
   "id": "580232fc-3f46-4a91-841f-e16b8431b512",
   "metadata": {},
   "source": [
    "### <a name='null'>`NULL`</a>"
   ]
  },
  {
   "cell_type": "markdown",
   "id": "f76a9960-db32-4efa-a3fb-0dca8e216cf8",
   "metadata": {},
   "source": [
    "- address of 0, i.e. the beginning of the memory.\n",
    "\n",
    "So if you get `NULL`, that means something went wrong."
   ]
  },
  {
   "cell_type": "code",
   "execution_count": 5,
   "id": "efe35345-cd18-4d95-aeda-e4c47979c132",
   "metadata": {
    "execution": {
     "iopub.execute_input": "2023-11-09T15:25:24.870680Z",
     "iopub.status.busy": "2023-11-09T15:25:24.870366Z",
     "iopub.status.idle": "2023-11-09T15:25:24.948332Z",
     "shell.execute_reply": "2023-11-09T15:25:24.947468Z",
     "shell.execute_reply.started": "2023-11-09T15:25:24.870661Z"
    },
    "tags": []
   },
   "outputs": [
    {
     "name": "stderr",
     "output_type": "stream",
     "text": [
      "/tmp/tmplnl9ghfm.out: symbol lookup error: /tmp/tmplm3w486n.out: undefined symbol: get_string\n",
      "[C kernel] Executable exited with code 127"
     ]
    }
   ],
   "source": [
    "// use `clang -o draft draft.c -lcs50` to compile\n",
    "\n",
    "#include <stdio.h>\n",
    "#include <stdlib.h>\n",
    "#include <ctype.h>\n",
    "#include <string.h>\n",
    "#include <cs50.h>\n",
    "\n",
    "int main(void)\n",
    "{\n",
    "    char *s = get_string(\"s: \");\n",
    "    \n",
    "    if (s == NULL)\n",
    "    {\n",
    "        return 1;\n",
    "    }\n",
    "\n",
    "    char *t = malloc(strlen(s) + 1);  // 1 for null char\n",
    "    \n",
    "    if (t == NULL)\n",
    "        {\n",
    "            return 1;\n",
    "        }\n",
    "    \n",
    "    for (int i = 0, n = strlen(s) + 1; i < n; i++)\n",
    "    {\n",
    "        t[i] = s[i];\n",
    "    }\n",
    "\n",
    "    if (strlen(t) > 0)\n",
    "    {\n",
    "        t[0] = toupper(t[0]);\n",
    "    }\n",
    "\n",
    "    printf(\"%s\\n\", s);\n",
    "    printf(\"%s\\n\", t);\n",
    "    \n",
    "    free(t);\n",
    "    \n",
    "    return 0;\n",
    "}"
   ]
  },
  {
   "cell_type": "markdown",
   "id": "958aaf06-5e62-49f6-b18d-aeafea16b364",
   "metadata": {},
   "source": [
    "If you try to dereference a pointer to NULL, you're going to get \"Segmentation Fault\" error."
   ]
  },
  {
   "cell_type": "markdown",
   "id": "975f9633-3ed4-4131-a1b0-6a476246aa96",
   "metadata": {},
   "source": [
    "### Common memory errors"
   ]
  },
  {
   "cell_type": "markdown",
   "id": "1345abaf-e7ff-4d34-a14f-4e4341b95a3c",
   "metadata": {},
   "source": [
    "- Failing to **free** every block of memory which we've **malloc**'ed;\n",
    "- Failing to **fсlose** every file we've **fopen**ed;\n",
    "- Using more memory than we've allocated."
   ]
  },
  {
   "cell_type": "markdown",
   "id": "8e8dcc47-0e1a-4c58-bbb9-0cca73aa6935",
   "metadata": {},
   "source": [
    "#### `valgrind` A memory error detector"
   ]
  },
  {
   "cell_type": "markdown",
   "id": "eeaf77a0-0656-4406-9de0-f1bd28b9c5b9",
   "metadata": {},
   "source": [
    "- searches for bugs in the code that compiles.\n",
    "\n",
    "```sh\n",
    "sudo apt install valgrind\n",
    "```"
   ]
  },
  {
   "cell_type": "code",
   "execution_count": 1,
   "id": "a79ef357-2066-4287-9a98-4e59d6a179a7",
   "metadata": {
    "execution": {
     "iopub.execute_input": "2023-08-06T12:52:06.529139Z",
     "iopub.status.busy": "2023-08-06T12:52:06.528287Z",
     "iopub.status.idle": "2023-08-06T12:52:06.618134Z",
     "shell.execute_reply": "2023-08-06T12:52:06.615832Z",
     "shell.execute_reply.started": "2023-08-06T12:52:06.529096Z"
    },
    "tags": []
   },
   "outputs": [],
   "source": [
    "#include <stdio.h>\n",
    "#include <stdlib.h>\n",
    "\n",
    "int main(void)\n",
    "{\n",
    "    int *x = malloc(3 * sizeof(int));  // 3 * 4 = 12\n",
    "    x[1] = 72;\n",
    "    x[2] = 73;\n",
    "    x[3] = 33;\n",
    "}"
   ]
  },
  {
   "cell_type": "markdown",
   "id": "c8549b9b-7579-45f8-ae4a-3b19819ee390",
   "metadata": {},
   "source": [
    "The program is compiled but it has at least two bugs:\n",
    "- `x` indexing should start from `0`;\n",
    "- the memory is not freed.\n",
    "\n",
    "Now use bash:"
   ]
  },
  {
   "cell_type": "code",
   "execution_count": 2,
   "id": "f2aac4c9-7332-45c3-a994-20a8138d4fdd",
   "metadata": {
    "execution": {
     "iopub.execute_input": "2023-08-06T12:59:21.965699Z",
     "iopub.status.busy": "2023-08-06T12:59:21.965020Z",
     "iopub.status.idle": "2023-08-06T12:59:22.070199Z",
     "shell.execute_reply": "2023-08-06T12:59:22.068700Z",
     "shell.execute_reply.started": "2023-08-06T12:59:21.965663Z"
    },
    "tags": []
   },
   "outputs": [],
   "source": [
    "# bash\n",
    "\n",
    "cd Solutions\n",
    "valgrind ./draft"
   ]
  },
  {
   "cell_type": "markdown",
   "id": "5b2a5443-4aa4-40f3-86a1-80a08b20885a",
   "metadata": {},
   "source": [
    "Incorrect indexing:\n",
    "\n",
    "```\n",
    "Invalid write of size 4\n",
    "at 0x109187: main (in /home/commi/Yandex.Disk/it_learning/02_CS/07_Harvard/Solutions/draft)\n",
    "Address 0x4a9804c is 0 bytes after a block of size 12 alloc'd\n",
    "at 0x4848899: malloc (in /usr/libexec/valgrind/vgpreload_memcheck-amd64-linux.so)\n",
    "by 0x10915E: main (in /home/commi/Yandex.Disk/it_learning/02_CS/07_Harvard/Solutions/draft)\n",
    "```"
   ]
  },
  {
   "cell_type": "markdown",
   "id": "a477fc8d-dfe8-4ebd-878c-a71dfbb5f796",
   "metadata": {},
   "source": [
    "Problems with memory:\n",
    "\n",
    "```\n",
    "total heap usage: 1 allocs, 0 frees, 12 bytes allocated\n",
    "==11548== \n",
    "==11548== LEAK SUMMARY:\n",
    "==11548==    definitely lost: 12 bytes in 1 blocks\n",
    "```"
   ]
  },
  {
   "cell_type": "code",
   "execution_count": 1,
   "id": "39c6507f-d7eb-481b-b1e3-eeaeadb16e93",
   "metadata": {
    "execution": {
     "iopub.execute_input": "2023-08-06T13:04:33.050175Z",
     "iopub.status.busy": "2023-08-06T13:04:33.049257Z",
     "iopub.status.idle": "2023-08-06T13:04:33.123851Z",
     "shell.execute_reply": "2023-08-06T13:04:33.122492Z",
     "shell.execute_reply.started": "2023-08-06T13:04:33.050134Z"
    },
    "tags": []
   },
   "outputs": [],
   "source": [
    "#include <stdio.h>\n",
    "#include <stdlib.h>\n",
    "\n",
    "int main(void)\n",
    "{\n",
    "    int *x = malloc(3 * sizeof(int));  // 3 * 4 = 12\n",
    "    if (x == NULL)\n",
    "    {\n",
    "        return 1;\n",
    "    }\n",
    "    x[0] = 72;\n",
    "    x[1] = 73;\n",
    "    x[2] = 33;\n",
    "    free(x);\n",
    "    return 0;\n",
    "}"
   ]
  },
  {
   "cell_type": "markdown",
   "id": "28b664ee-2c5c-4d4d-8b48-861c8d295580",
   "metadata": {},
   "source": [
    "Recompile in terminal and check again:"
   ]
  },
  {
   "cell_type": "code",
   "execution_count": 2,
   "id": "04c9d524-2e75-41cc-83e4-9246c24ad055",
   "metadata": {
    "execution": {
     "iopub.execute_input": "2023-08-06T13:06:06.019575Z",
     "iopub.status.busy": "2023-08-06T13:06:06.018724Z",
     "iopub.status.idle": "2023-08-06T13:06:07.070928Z",
     "shell.execute_reply": "2023-08-06T13:06:07.068986Z",
     "shell.execute_reply.started": "2023-08-06T13:06:06.019533Z"
    },
    "tags": []
   },
   "outputs": [
    {
     "name": "stdout",
     "output_type": "stream",
     "text": [
      "bash: cd: Solutions: No such file or directory\n",
      "==13007== Memcheck, a memory error detector\n",
      "==13007== Copyright (C) 2002-2017, and GNU GPL'd, by Julian Seward et al.\n",
      "==13007== Using Valgrind-3.18.1 and LibVEX; rerun with -h for copyright info\n",
      "==13007== Command: ./draft\n",
      "==13007== \n",
      "==13007== \n",
      "==13007== HEAP SUMMARY:\n",
      "==13007==     in use at exit: 0 bytes in 0 blocks\n",
      "==13007==   total heap usage: 1 allocs, 1 frees, 12 bytes allocated\n",
      "==13007== \n",
      "==13007== All heap blocks were freed -- no leaks are possible\n",
      "==13007== \n",
      "==13007== For lists of detected and suppressed errors, rerun with: -s\n",
      "==13007== ERROR SUMMARY: 0 errors from 0 contexts (suppressed: 0 from 0)\n"
     ]
    }
   ],
   "source": [
    "cd Solutions\n",
    "valgrind ./draft"
   ]
  },
  {
   "cell_type": "markdown",
   "id": "4d9c124d-c013-4e50-b8e8-b276460ad87a",
   "metadata": {},
   "source": [
    "### Garbage Values"
   ]
  },
  {
   "cell_type": "code",
   "execution_count": 6,
   "id": "f3b9418d-a0e6-4b0e-94bd-f0f13da3f9e9",
   "metadata": {
    "collapsed": true,
    "execution": {
     "iopub.execute_input": "2023-11-09T15:26:31.467935Z",
     "iopub.status.busy": "2023-11-09T15:26:31.467305Z",
     "iopub.status.idle": "2023-11-09T15:26:31.546487Z",
     "shell.execute_reply": "2023-11-09T15:26:31.545661Z",
     "shell.execute_reply.started": "2023-11-09T15:26:31.467911Z"
    },
    "jupyter": {
     "outputs_hidden": true
    },
    "tags": []
   },
   "outputs": [
    {
     "name": "stdout",
     "output_type": "stream",
     "text": [
      "1907552\n",
      "0\n",
      "1907552\n",
      "0\n",
      "512\n",
      "0\n",
      "512\n",
      "0\n",
      "8\n",
      "0\n",
      "4\n",
      "4\n",
      "848\n",
      "0\n",
      "848\n",
      "0\n",
      "848\n",
      "0\n",
      "32\n",
      "0\n",
      "32\n",
      "0\n",
      "8\n",
      "0\n",
      "4\n",
      "4\n",
      "880\n",
      "0\n",
      "880\n",
      "0\n",
      "880\n",
      "0\n",
      "68\n",
      "0\n",
      "68\n",
      "0\n",
      "4\n",
      "0\n",
      "7\n",
      "4\n",
      "1894608\n",
      "0\n",
      "1894608\n",
      "0\n",
      "1894608\n",
      "0\n",
      "16\n",
      "0\n",
      "144\n",
      "0\n",
      "8\n",
      "0\n",
      "1685382483\n",
      "4\n",
      "848\n",
      "0\n",
      "848\n",
      "0\n",
      "848\n",
      "0\n",
      "32\n",
      "0\n",
      "32\n",
      "0\n",
      "8\n",
      "0\n",
      "1685382480\n",
      "4\n",
      "1706764\n",
      "0\n",
      "1706764\n",
      "0\n",
      "1706764\n",
      "0\n",
      "29716\n",
      "0\n",
      "29716\n",
      "0\n",
      "4\n",
      "0\n",
      "1685382481\n",
      "6\n",
      "0\n",
      "0\n",
      "0\n",
      "0\n",
      "0\n",
      "0\n",
      "0\n",
      "0\n",
      "0\n",
      "0\n",
      "16\n",
      "0\n",
      "1685382482\n",
      "4\n",
      "1894608\n",
      "0\n",
      "1894608\n",
      "0\n",
      "1894608\n",
      "0\n",
      "14128\n",
      "0\n",
      "14128\n",
      "0\n",
      "1\n",
      "0\n",
      "-744775360\n",
      "32643\n",
      "-744741601\n",
      "32643\n",
      "-1400637664\n",
      "4095\n",
      "1679802656\n",
      "32765\n",
      "4096\n",
      "0\n",
      "1894608\n",
      "3\n",
      "1679801360\n",
      "32765\n",
      "0\n",
      "0\n",
      "-744558312\n",
      "32643\n",
      "0\n",
      "0\n",
      "-1400637664\n",
      "4095\n",
      "0\n",
      "32765\n",
      "1970000\n",
      "0\n",
      "-744775360\n",
      "32643\n",
      "1854395964\n",
      "21871\n",
      "-746843312\n",
      "32643\n",
      "0\n",
      "3\n",
      "0\n",
      "32765\n",
      "2050\n",
      "0\n",
      "407191\n",
      "0\n",
      "2050\n",
      "0\n",
      "407191\n",
      "0\n",
      "1\n",
      "0\n",
      "33261\n",
      "0\n",
      "0\n",
      "0\n",
      "0\n",
      "0\n",
      "1922136\n",
      "0\n",
      "4096\n",
      "0\n",
      "3760\n",
      "0\n",
      "1699463305\n",
      "0\n",
      "528006064\n",
      "0\n",
      "1696062665\n",
      "0\n",
      "0\n",
      "0\n",
      "1696400782\n",
      "0\n",
      "388314322\n",
      "0\n",
      "-744740749\n",
      "32643\n",
      "0\n",
      "0\n",
      "4096\n",
      "0\n",
      "1176\n",
      "0\n",
      "1176\n",
      "0\n",
      "4096\n",
      "0\n",
      "0\n",
      "0\n",
      "1\n",
      "32643\n",
      "4096\n",
      "0\n",
      "8192\n",
      "0\n",
      "4445\n",
      "0\n",
      "4445\n",
      "0\n",
      "4096\n",
      "0\n",
      "4096\n",
      "0\n",
      "5\n",
      "0\n",
      "8192\n",
      "0\n",
      "12288\n",
      "0\n",
      "8356\n",
      "0\n",
      "8356\n",
      "0\n",
      "4096\n",
      "0\n",
      "8192\n",
      "0\n",
      "1\n",
      "32643\n",
      "1679803200\n",
      "32765\n",
      "1679804336\n",
      "32765\n",
      "0\n",
      "0\n",
      "0\n",
      "0\n",
      "-744775328\n",
      "32643\n",
      "-746703422\n",
      "32643\n",
      "-744758655\n",
      "32643\n",
      "-8\n",
      "-1\n",
      "-745472502\n",
      "32643\n",
      "1679803168\n",
      "32765\n",
      "0\n",
      "0\n",
      "1679802912\n",
      "32765\n",
      "1881905088\n",
      "21871\n",
      "1881903808\n",
      "21871\n",
      "-744699744\n",
      "32643\n",
      "1881903808\n",
      "21871\n",
      "-744775328\n",
      "32643\n",
      "-744559920\n",
      "32643\n",
      "1981762540\n",
      "-1043178400\n",
      "0\n",
      "0\n",
      "0\n",
      "0\n",
      "-744775328\n",
      "32643\n",
      "-746221843\n",
      "32643\n",
      "2065648620\n",
      "-1043178400\n",
      "1881905088\n",
      "21871\n",
      "2\n",
      "0\n",
      "-744795247\n",
      "32643\n",
      "2078231532\n",
      "-1043178400\n",
      "1679802752\n",
      "32765\n",
      "2\n",
      "0\n",
      "-72\n",
      "16777215\n",
      "1679802720\n",
      "32765\n",
      "-744559920\n",
      "32643\n",
      "1679803264\n",
      "32765\n",
      "3\n",
      "0\n",
      "0\n",
      "0\n",
      "3\n",
      "0\n",
      "1881905088\n",
      "21871\n",
      "0\n",
      "0\n",
      "1679804336\n",
      "32765\n",
      "-744756188\n",
      "32643\n",
      "1\n",
      "0\n",
      "-744559920\n",
      "32643\n",
      "0\n",
      "0\n",
      "-744757782\n",
      "32643\n",
      "1\n",
      "0\n",
      "-744775328\n",
      "32643\n",
      "1679802928\n",
      "32765\n",
      "-744757782\n",
      "32643\n",
      "1\n",
      "32643\n",
      "1881903808\n",
      "21871\n",
      "1679802960\n",
      "32765\n",
      "1679803512\n",
      "32765\n",
      "16408\n",
      "0\n",
      "1881903776\n",
      "21871\n",
      "1679814685\n",
      "32765\n",
      "-744779752\n",
      "32643\n",
      "6\n",
      "3\n",
      "1679802432\n",
      "32765\n",
      "1679802960\n",
      "32765\n",
      "1679802992\n",
      "32765\n",
      "1679803264\n",
      "32765\n",
      "0\n",
      "-2147483648\n",
      "1881903808\n",
      "21871\n",
      "1679802960\n",
      "32765\n",
      "1000\n",
      "0\n",
      "0\n",
      "0\n",
      "0\n",
      "3\n",
      "1881903808\n",
      "21871\n",
      "0\n",
      "0\n",
      "0\n",
      "0\n",
      "0\n",
      "0\n",
      "0\n",
      "0\n",
      "0\n",
      "0\n",
      "1699543591\n",
      "0\n",
      "-744775328\n",
      "32643\n",
      "0\n",
      "-2147483648\n",
      "-746735728\n",
      "32643\n",
      "-746703422\n",
      "32643\n",
      "-744559920\n",
      "32643\n",
      "1679814685\n",
      "32765\n",
      "1679803264\n",
      "32765\n",
      "1024\n",
      "0\n",
      "-744562656\n",
      "32643\n",
      "1881903776\n",
      "21871\n",
      "0\n",
      "0\n",
      "-744734987\n",
      "32643\n",
      "2\n",
      "0\n",
      "-1879048191\n",
      "0\n",
      "1679803424\n",
      "32765\n",
      "0\n",
      "0\n",
      "32\n",
      "-1879048191\n",
      "2\n",
      "0\n",
      "0\n",
      "0\n",
      "1679803440\n",
      "32765\n",
      "0\n",
      "0\n",
      "1706764\n",
      "0\n",
      "29716\n",
      "0\n",
      "29716\n",
      "0\n",
      "4\n",
      "0\n",
      "268435456\n",
      "6\n",
      "0\n",
      "0\n",
      "1881903776\n",
      "21871\n",
      "1679806176\n",
      "32765\n",
      "0\n",
      "0\n",
      "832\n",
      "0\n",
      "1179403647\n",
      "65794\n",
      "0\n",
      "0\n",
      "4063235\n",
      "1\n",
      "0\n",
      "0\n",
      "64\n",
      "0\n",
      "13592\n",
      "0\n",
      "0\n",
      "3670080\n",
      "4194313\n",
      "1769500\n",
      "1\n",
      "4\n",
      "0\n",
      "0\n",
      "-744731868\n",
      "32643\n",
      "-744775328\n",
      "32643\n",
      "1842243024\n",
      "0\n",
      "-746812028\n",
      "32643\n",
      "-746808760\n",
      "32643\n",
      "1679803748\n",
      "32765\n",
      "-744730806\n",
      "32643\n",
      "2226\n",
      "0\n",
      "-746735728\n",
      "32643\n",
      "-744775328\n",
      "32643\n",
      "1679803752\n",
      "32765\n",
      "1679803748\n",
      "32765\n",
      "1\n",
      "4\n",
      "8192\n",
      "0\n",
      "-744795274\n",
      "32643\n",
      "-744795392\n",
      "32643\n",
      "1679803952\n",
      "32765\n",
      "1679803944\n",
      "32765\n",
      "28785047\n",
      "0\n",
      "-744773984\n",
      "32643\n",
      "3\n",
      "0\n",
      "0\n",
      "0\n",
      "15864\n",
      "0\n",
      "536\n",
      "0\n",
      "544\n",
      "0\n",
      "4096\n",
      "0\n",
      "2\n",
      "6\n",
      "11784\n",
      "0\n",
      "0\n",
      "0\n",
      "15880\n",
      "0\n",
      "-744795274\n",
      "32643\n",
      "1881904712\n",
      "21871\n",
      "1881905200\n",
      "21871\n",
      "1881903808\n",
      "21871\n",
      "1842243024\n",
      "0\n",
      "1679804216\n",
      "32765\n",
      "-744728376\n",
      "32643\n",
      "1\n",
      "0\n",
      "1881905200\n",
      "21871\n",
      "9\n",
      "0\n",
      "0\n",
      "0\n",
      "0\n",
      "0\n",
      "1881903808\n",
      "21871\n",
      "1679803944\n",
      "32765\n",
      "1679803952\n",
      "32765\n",
      "1881904712\n",
      "21871\n",
      "0\n",
      "0\n",
      "1685382481\n",
      "6\n",
      "0\n",
      "0\n",
      "0\n",
      "0\n",
      "0\n",
      "0\n",
      "0\n",
      "0\n",
      "-1\n",
      "0\n",
      "-746755336\n",
      "32643\n",
      "-744775328\n",
      "32643\n",
      "11768\n",
      "0\n",
      "1881905152\n",
      "21871\n",
      "3\n",
      "0\n",
      "520\n",
      "0\n",
      "520\n",
      "0\n",
      "-744795032\n",
      "32643\n",
      "1679804336\n",
      "32765\n",
      "-744795392\n",
      "32643\n",
      "6\n",
      "0\n",
      "6\n",
      "5\n",
      "1881903808\n",
      "21871\n",
      "-744711843\n",
      "32643\n",
      "0\n",
      "0\n",
      "-744707288\n",
      "32643\n",
      "6\n",
      "0\n",
      "0\n",
      "0\n",
      "1679804224\n",
      "32765\n",
      "-746221843\n",
      "32643\n",
      "0\n",
      "0\n",
      "1881905264\n",
      "21871\n",
      "143\n",
      "0\n",
      "-1662057984\n",
      "843490012\n",
      "1881905200\n",
      "21871\n",
      "-128\n",
      "-1\n",
      "0\n",
      "0\n",
      "0\n",
      "0\n",
      "1881905232\n",
      "21871\n",
      "-744558240\n",
      "32643\n",
      "1\n",
      "0\n",
      "-746218081\n",
      "32643\n",
      "-744795392\n",
      "32643\n",
      "-746755336\n",
      "32643\n",
      "1\n",
      "0\n",
      "1\n",
      "0\n",
      "0\n",
      "0\n",
      "-744731868\n",
      "32643\n",
      "-744775328\n",
      "32643\n",
      "256754862\n",
      "0\n",
      "-746812640\n",
      "32643\n",
      "-746808760\n",
      "32643\n",
      "1679804468\n",
      "32765\n",
      "-744730806\n",
      "32643\n",
      "2073\n",
      "0\n",
      "-746735728\n",
      "32643\n",
      "-744775328\n",
      "32643\n",
      "1679804472\n",
      "32765\n",
      "1679804468\n",
      "32765\n",
      "1679806208\n",
      "32765\n",
      "1881903808\n",
      "21871\n",
      "1854395928\n",
      "21871\n",
      "1854395568\n",
      "21871\n",
      "1679804672\n",
      "32765\n",
      "1679804664\n",
      "32765\n",
      "4011794\n",
      "-1\n",
      "-744773984\n",
      "32643\n",
      "3\n",
      "0\n",
      "0\n",
      "32765\n",
      "1854398985\n",
      "21871\n",
      "-744560088\n",
      "32643\n",
      "-745472412\n",
      "32643\n",
      "0\n",
      "0\n",
      "1679804864\n",
      "32765\n",
      "-744722176\n",
      "0\n",
      "0\n",
      "0\n",
      "1348420418\n",
      "1096173906\n",
      "1854395928\n",
      "21871\n",
      "-744556936\n",
      "32643\n",
      "-744773904\n",
      "32643\n",
      "-744557840\n",
      "32643\n",
      "256754862\n",
      "0\n",
      "1679804800\n",
      "32765\n",
      "-744728376\n",
      "32643\n",
      "1\n",
      "0\n",
      "-744773904\n",
      "32643\n",
      "1\n",
      "0\n",
      "0\n",
      "0\n",
      "1\n",
      "0\n",
      "-744732073\n",
      "32643\n",
      "1881903808\n",
      "21871\n",
      "2090499946\n",
      "0\n",
      "-744795520\n",
      "32643\n",
      "-744795512\n",
      "32643\n",
      "1679804804\n",
      "32765\n",
      "-744730806\n",
      "32643\n",
      "6\n",
      "0\n",
      "-744795344\n",
      "32643\n",
      "1881903808\n",
      "21871\n",
      "1679804808\n",
      "32765\n",
      "1679804804\n",
      "32765\n",
      "-744775328\n",
      "32643\n",
      "0\n",
      "0\n",
      "1854402644\n",
      "21871\n",
      "0\n",
      "0\n",
      "1679805008\n",
      "32765\n",
      "1679805000\n",
      "32765\n",
      "32664061\n",
      "32643\n",
      "1881905120\n",
      "21871\n",
      "3\n",
      "0\n",
      "0\n",
      "32765\n",
      "1854410200\n",
      "21871\n",
      "-744562656\n",
      "32643\n",
      "-744702658\n",
      "32643\n",
      "1\n",
      "0\n",
      "0\n",
      "0\n",
      "-746759008\n",
      "0\n",
      "0\n",
      "0\n",
      "1679805120\n",
      "32765\n",
      "1854402644\n",
      "21871\n",
      "1881904760\n",
      "21871\n",
      "0\n",
      "0\n",
      "1881903808\n",
      "21871\n",
      "2090499946\n",
      "0\n",
      "1679805144\n",
      "32765\n",
      "-744728376\n",
      "32643\n",
      "0\n",
      "0\n",
      "0\n",
      "0\n",
      "2\n",
      "0\n",
      "0\n",
      "0\n",
      "0\n",
      "0\n",
      "1881903808\n",
      "21871\n",
      "1679805000\n",
      "32765\n",
      "1679805008\n",
      "32765\n",
      "1881904760\n",
      "21871\n",
      "0\n",
      "0\n",
      "0\n",
      "0\n",
      "0\n",
      "0\n",
      "0\n",
      "0\n",
      "0\n",
      "32643\n",
      "13\n",
      "0\n",
      "-1\n",
      "0\n",
      "-744795368\n",
      "32643\n",
      "1881903808\n",
      "21871\n",
      "-744562656\n",
      "32643\n",
      "-744702658\n",
      "32643\n",
      "1\n",
      "0\n",
      "0\n",
      "0\n",
      "-744765320\n",
      "32643\n",
      "2\n",
      "0\n",
      "1854399072\n",
      "21871\n",
      "0\n",
      "0\n",
      "1854402644\n",
      "21871\n",
      "0\n",
      "0\n",
      "-744562656\n",
      "32643\n",
      "-745470384\n",
      "32643\n",
      "2\n",
      "0\n",
      "0\n",
      "0\n",
      "1600223331\n",
      "1634625894\n",
      "-744795368\n",
      "32643\n",
      "1702521196\n",
      "1767992576\n",
      "1919942766\n",
      "1718906473\n",
      "24\n",
      "0\n",
      "0\n",
      "0\n",
      "-744791799\n",
      "32643\n",
      "0\n",
      "0\n",
      "791621423\n",
      "791621423\n",
      "791621423\n",
      "791621423\n",
      "0\n",
      "0\n",
      "0\n",
      "0\n",
      "0\n",
      "0\n",
      "-1662057984\n",
      "843490012\n",
      "1679805760\n",
      "32765\n",
      "1679805696\n",
      "32765\n",
      "1679805688\n",
      "32765\n",
      "1679806208\n",
      "32765\n",
      "1854410200\n",
      "21871\n",
      "-746298316\n",
      "32643\n",
      "-8\n",
      "-1\n",
      "-745472502\n",
      "32643\n",
      "1679805600\n",
      "32765\n",
      "0\n",
      "0\n",
      "-746298336\n",
      "32643\n",
      "1679805760\n",
      "32765\n",
      "-746298640\n",
      "32643\n",
      "1679805776\n",
      "32765\n",
      "1679805600\n",
      "32765\n",
      "1679805356\n",
      "32765\n",
      "-8\n",
      "-1\n",
      "1669286892\n",
      "-1043178400\n",
      "1679805688\n",
      "32765\n",
      "1679806208\n",
      "32765\n",
      "1854410200\n",
      "21871\n",
      "-744562656\n",
      "32643\n",
      "1853836268\n",
      "-1043178400\n",
      "42683372\n",
      "-1053871234\n",
      "0\n",
      "0\n",
      "0\n",
      "0\n",
      "0\n",
      "0\n",
      "0\n",
      "0\n",
      "0\n",
      "0\n",
      "0\n",
      "0\n",
      "0\n",
      "0\n",
      "0\n",
      "0\n",
      "0\n",
      "0\n",
      "0\n",
      "0\n",
      "0\n",
      "0\n",
      "0\n",
      "0\n",
      "0\n",
      "0\n",
      "0\n",
      "0\n",
      "0\n",
      "0\n",
      "0\n",
      "0\n",
      "0\n",
      "0\n",
      "-1662057984\n",
      "843490012\n",
      "1679805687\n",
      "32765\n",
      "-745472321\n",
      "32643\n",
      "0\n",
      "0\n",
      "0\n",
      "0\n",
      "0\n",
      "0\n",
      "-1662057984\n",
      "843490012\n",
      "0\n",
      "0\n",
      "-80\n",
      "-1\n",
      "-744564064\n",
      "32643\n",
      "-746299849\n",
      "32643\n",
      "0\n",
      "0\n",
      "0\n",
      "0\n",
      "0\n",
      "16777216\n",
      "0\n",
      "0\n",
      "0\n",
      "0\n",
      "-1662057984\n",
      "843490012\n",
      "0\n",
      "0\n",
      "-744562656\n",
      "32643\n",
      "0\n",
      "0\n",
      "1679806208\n",
      "32765\n",
      "1854410200\n",
      "21871\n",
      "-746298150\n",
      "32643\n",
      "1881903808\n",
      "21871\n",
      "1854402644\n",
      "21871\n",
      "1854399072\n",
      "21871\n",
      "-744791799\n",
      "32643\n",
      "1881903808\n",
      "21871\n",
      "-1662057984\n",
      "843490012\n"
     ]
    }
   ],
   "source": [
    "#include <stdio.h>\n",
    "#include <stdlib.h>\n",
    "\n",
    "int main(void)\n",
    "{\n",
    "    int scores[1024];\n",
    "    for (int i = 0; i < 1024; i++)\n",
    "    {\n",
    "        printf(\"%i\\n\", scores[i]);\n",
    "    }\n",
    "}"
   ]
  },
  {
   "cell_type": "markdown",
   "id": "8420b83a-ea11-4d54-b372-0689f51133d5",
   "metadata": {},
   "source": [
    "The array is not initialized by a programmer, so it is initialized with the **garbage** values that are stored in the memory by default or kept after using other programs.\n",
    "\n",
    "> Thus, **always** initialize variables and arrays to something either yourself or a human prompted.\n",
    "\n",
    "Let's take a look at another example:"
   ]
  },
  {
   "cell_type": "code",
   "execution_count": 8,
   "id": "6b09b1a1-15f5-4591-b850-f5d52dbd7299",
   "metadata": {
    "execution": {
     "iopub.execute_input": "2023-11-09T15:27:19.222617Z",
     "iopub.status.busy": "2023-11-09T15:27:19.222162Z",
     "iopub.status.idle": "2023-11-09T15:27:19.327956Z",
     "shell.execute_reply": "2023-11-09T15:27:19.326743Z",
     "shell.execute_reply.started": "2023-11-09T15:27:19.222580Z"
    },
    "tags": []
   },
   "outputs": [],
   "source": [
    "#include <stdlib.h>\n",
    "\n",
    "int main(void)\n",
    "{\n",
    "    int *x;\n",
    "    int *y;\n",
    "    \n",
    "    // x is initialized with memory location\n",
    "    x = malloc(sizeof(int));\n",
    "    // now we can initialize a value to that location\n",
    "    *x = 42;\n",
    "    \n",
    "    // y is not initialized and has no its own memory location\n",
    "    *y = 13;\n",
    "\n",
    "}"
   ]
  },
  {
   "cell_type": "markdown",
   "id": "327e5e5d-9832-4478-8b92-e6a289747f3a",
   "metadata": {},
   "source": [
    "```\n",
    "Segmentation fault (core dumped)\n",
    "```"
   ]
  },
  {
   "cell_type": "code",
   "execution_count": 7,
   "id": "fb79ea86-d0d4-4110-a7f6-a472edda3f9c",
   "metadata": {
    "execution": {
     "iopub.execute_input": "2023-11-09T15:27:15.574346Z",
     "iopub.status.busy": "2023-11-09T15:27:15.573624Z",
     "iopub.status.idle": "2023-11-09T15:27:15.655074Z",
     "shell.execute_reply": "2023-11-09T15:27:15.654222Z",
     "shell.execute_reply.started": "2023-11-09T15:27:15.574322Z"
    },
    "tags": []
   },
   "outputs": [],
   "source": [
    "#include <stdlib.h>\n",
    "\n",
    "int main(void)\n",
    "{\n",
    "    int *x;\n",
    "    int *y;\n",
    "\n",
    "    x = malloc(sizeof(int));\n",
    "    *x = 42;\n",
    "\n",
    "    y = x;\n",
    "    *y = 13;\n",
    "}"
   ]
  },
  {
   "cell_type": "markdown",
   "id": "720e7d03-f504-47cf-98df-c57adfce6a5e",
   "metadata": {},
   "source": [
    "Now everything is okay."
   ]
  },
  {
   "cell_type": "markdown",
   "id": "b9883c6d-1964-47d2-b69c-fc03f7d6f257",
   "metadata": {},
   "source": [
    "### Video - Pointer Fun Video"
   ]
  },
  {
   "cell_type": "markdown",
   "id": "14ae2700-bb8f-4d2d-ba0a-2d6cd8e70a00",
   "metadata": {},
   "source": [
    "https://www.youtube.com/watch?v=9TZCnY2H8ac"
   ]
  },
  {
   "cell_type": "markdown",
   "id": "a12310e8-733f-4647-ba55-d955a424c9ba",
   "metadata": {},
   "source": [
    "## Swapping values"
   ]
  },
  {
   "cell_type": "markdown",
   "id": "d4cd500a-cce3-4aac-913c-d1d21baa0e7c",
   "metadata": {},
   "source": [
    "- using a temporary value"
   ]
  },
  {
   "cell_type": "code",
   "execution_count": 18,
   "id": "20d3fd81-0563-4f7c-9bc0-6216a13c3163",
   "metadata": {
    "execution": {
     "iopub.execute_input": "2023-08-09T08:17:15.543441Z",
     "iopub.status.busy": "2023-08-09T08:17:15.542464Z",
     "iopub.status.idle": "2023-08-09T08:17:15.640068Z",
     "shell.execute_reply": "2023-08-09T08:17:15.638388Z",
     "shell.execute_reply.started": "2023-08-09T08:17:15.543405Z"
    },
    "tags": []
   },
   "outputs": [
    {
     "name": "stdout",
     "output_type": "stream",
     "text": [
      "x: 0, y: 1\n",
      "x: 0, y: 1\n"
     ]
    }
   ],
   "source": [
    "#include <stdio.h>\n",
    "\n",
    "void swap(int a, int b);\n",
    "\n",
    "int main(void)\n",
    "{\n",
    "    int x = 0;\n",
    "    int y = 1;\n",
    "    printf(\"x: %i, y: %i\\n\", x, y);\n",
    "    swap(x, y);\n",
    "    printf(\"x: %i, y: %i\\n\", x, y);\n",
    "}\n",
    "\n",
    "void swap(int a, int b)\n",
    "{\n",
    "    int tmp = a;\n",
    "    a = b;\n",
    "    b = tmp;\n",
    "}"
   ]
  },
  {
   "cell_type": "markdown",
   "id": "f52f9705-5bbf-4040-9cb6-1acb73377867",
   "metadata": {},
   "source": [
    "The `swap` function copies the values to its variables `a` and `b` (passes variables [by value](#passing_by_value)), and it has no effect on the values `x` and `y`. \n",
    "\n",
    "<center>\n",
    "    <img src=\"./data/images/Screenshot from 2023-08-09 13-34-56.png\" alt=\"memory_structure\" style=\"width: 700px\">\n",
    "    <p style=\"text-align: center\"><i></i></p>\n",
    "\n",
    "What we need is to pass variables **by reference**, i.e. use the pointers:"
   ]
  },
  {
   "cell_type": "markdown",
   "id": "59c695fa-ab42-4fdf-9ad6-2bb0c4ba0720",
   "metadata": {
    "execution": {
     "iopub.execute_input": "2023-08-09T08:55:18.145724Z",
     "iopub.status.busy": "2023-08-09T08:55:18.145113Z",
     "iopub.status.idle": "2023-08-09T08:55:18.236979Z",
     "shell.execute_reply": "2023-08-09T08:55:18.235499Z",
     "shell.execute_reply.started": "2023-08-09T08:55:18.145688Z"
    },
    "tags": []
   },
   "source": [
    "```c\n",
    "#include <stdio.h>\n",
    "#include <stdlib.h>\n",
    "\n",
    "void swap(int *a, int *b);\n",
    "\n",
    "int main(void)\n",
    "{\n",
    "    int x = 0;\n",
    "    int y = 1;\n",
    "    printf(\"x: %i, y: %i\\n\", x, y);\n",
    "    // provide swap function with the addresses of x and y\n",
    "    // now a = &x, b = &y\n",
    "    swap(&x, &y);\n",
    "    printf(\"x: %i, y: %i\\n\", x, y);\n",
    "}\n",
    "\n",
    "// change the values in the addresses, not in variables\n",
    "// as a = &x, b = &y, we get *a = x, *b = y\n",
    "void swap(int *a, int *b)\n",
    "{\n",
    "    // tmp gets value of x\n",
    "    int tmp = *a;\n",
    "    // address of a gets value of y\n",
    "    *a = *b;\n",
    "    // address of b gets value of tmp = x\n",
    "    *b = tmp;\n",
    "}\n",
    "```"
   ]
  },
  {
   "cell_type": "markdown",
   "id": "9de04a62-e14e-4d78-9687-73f95de517fd",
   "metadata": {},
   "source": [
    "Remember: `*a` means \"go to the address a\", and variable `a` is the address of `x` in our case."
   ]
  },
  {
   "cell_type": "markdown",
   "id": "2bcc3d80-844f-4e15-b4b0-e2c73b1af78b",
   "metadata": {},
   "source": [
    "## `Get` functions"
   ]
  },
  {
   "cell_type": "markdown",
   "id": "7c70dc3d-190b-4c80-9f5e-1297f6577f6d",
   "metadata": {},
   "source": [
    "Use terminal:"
   ]
  },
  {
   "cell_type": "markdown",
   "id": "df86a393-0e18-4973-be2f-90ecf3c8ad8d",
   "metadata": {},
   "source": [
    "### `get_int` in C"
   ]
  },
  {
   "cell_type": "code",
   "execution_count": 38,
   "id": "264ddba2-5074-48f8-a3ac-128057489c6f",
   "metadata": {
    "execution": {
     "iopub.execute_input": "2023-08-09T08:59:45.329685Z",
     "iopub.status.busy": "2023-08-09T08:59:45.328818Z",
     "iopub.status.idle": "2023-08-09T08:59:45.389151Z",
     "shell.execute_reply": "2023-08-09T08:59:45.387653Z",
     "shell.execute_reply.started": "2023-08-09T08:59:45.329628Z"
    },
    "tags": []
   },
   "outputs": [
    {
     "name": "stdout",
     "output_type": "stream",
     "text": [
      "x: 0\n"
     ]
    }
   ],
   "source": [
    "#include <stdio.h>\n",
    "\n",
    "int main(void)\n",
    "{\n",
    "    int x;\n",
    "    printf(\"x: \");\n",
    "    scanf(\"%i\", &x);\n",
    "    printf(\"%i\\n\", x);\n",
    "}"
   ]
  },
  {
   "cell_type": "markdown",
   "id": "3298d8e9-b988-40c6-b2d8-6e47f6b9f1f5",
   "metadata": {},
   "source": [
    "### `get_string` in C"
   ]
  },
  {
   "cell_type": "code",
   "execution_count": 39,
   "id": "35718c31-879f-4df5-8c80-7239520a8df0",
   "metadata": {
    "execution": {
     "iopub.execute_input": "2023-08-09T09:03:46.216643Z",
     "iopub.status.busy": "2023-08-09T09:03:46.215607Z",
     "iopub.status.idle": "2023-08-09T09:03:46.309631Z",
     "shell.execute_reply": "2023-08-09T09:03:46.308019Z",
     "shell.execute_reply.started": "2023-08-09T09:03:46.216598Z"
    },
    "tags": []
   },
   "outputs": [
    {
     "name": "stdout",
     "output_type": "stream",
     "text": [
      "s: "
     ]
    }
   ],
   "source": [
    "#include <stdio.h>\n",
    "\n",
    "int main(void)\n",
    "{\n",
    "    char *s;\n",
    "    printf(\"s: \");\n",
    "    scanf(\"%s\", s);\n",
    "    printf(\"%s\\n\", s);\n",
    "}"
   ]
  },
  {
   "cell_type": "markdown",
   "id": "a2aa80a4-02f5-4b7c-94c4-087aa51f97da",
   "metadata": {},
   "source": [
    "```\n",
    "Segmentation fault (core dumped)\n",
    "```"
   ]
  },
  {
   "cell_type": "code",
   "execution_count": 40,
   "id": "8a6fd61e-9049-4dbf-94fa-7527af56696f",
   "metadata": {
    "execution": {
     "iopub.execute_input": "2023-08-09T09:06:25.909008Z",
     "iopub.status.busy": "2023-08-09T09:06:25.908123Z",
     "iopub.status.idle": "2023-08-09T09:06:26.003360Z",
     "shell.execute_reply": "2023-08-09T09:06:26.001699Z",
     "shell.execute_reply.started": "2023-08-09T09:06:25.908973Z"
    },
    "tags": []
   },
   "outputs": [
    {
     "name": "stdout",
     "output_type": "stream",
     "text": [
      "s: \n"
     ]
    }
   ],
   "source": [
    "#include <stdio.h>\n",
    "\n",
    "int main(void)\n",
    "{\n",
    "    char s[4];\n",
    "    printf(\"s: \");\n",
    "    scanf(\"%s\", s);\n",
    "    printf(\"%s\\n\", s);\n",
    "}"
   ]
  },
  {
   "cell_type": "markdown",
   "id": "15057db4-4c36-4600-8473-049c64c46b1e",
   "metadata": {},
   "source": [
    "It will work for a string of 3 letters (+ `\\0`), but it is going to be crashed if we input more letters. CS50 stuff used loop for their functions which is making baby steps, checking every new letter and asking a new byte of memory everytime. That's the difficulty of using C."
   ]
  },
  {
   "cell_type": "markdown",
   "id": "9eec2d44-7162-4d6f-9a7d-f4a24359f9f6",
   "metadata": {},
   "source": [
    "## Working with files"
   ]
  },
  {
   "cell_type": "code",
   "execution_count": null,
   "id": "a5001734-520b-46b1-85d4-d64f8ecf3717",
   "metadata": {
    "tags": []
   },
   "outputs": [],
   "source": [
    "// use `clang -o draft draft.c -lcs50` to compile\n",
    "// Saves names to a csv file\n",
    "\n",
    "#include <stdio.h>\n",
    "#include <string.h>\n",
    "#include <cs50.h>\n",
    "\n",
    "int main(void)\n",
    "{\n",
    "    FILE *file = fopen(\"phonebook.csv\", \"a\");\n",
    "    \n",
    "    char *name = get_string(\"Name: \");\n",
    "    char *number = get_string(\"Number: \");\n",
    "    \n",
    "    fprintf(file, \"%s, %s\\n\", name, number);\n",
    "    \n",
    "    fclose(file);\n",
    "}"
   ]
  },
  {
   "cell_type": "markdown",
   "id": "58902656-23ae-4a39-8bee-749576731086",
   "metadata": {},
   "source": [
    "```c\n",
    "fread(buffer, 1, 3, file)\n",
    "```\n",
    "\n",
    "- reads 3 bytes each of size 1 to buffer\n",
    "\n",
    "```c\n",
    "#include <stdint.h>\n",
    "\n",
    "uint8_t var;\n",
    "```"
   ]
  },
  {
   "cell_type": "markdown",
   "id": "244ea6f6-3d10-4b32-b7a1-51da74b24d76",
   "metadata": {},
   "source": [
    "## Call Stacks"
   ]
  },
  {
   "cell_type": "markdown",
   "id": "8fca109e-6109-469e-b0c1-b8dcbebde8ee",
   "metadata": {},
   "source": [
    "**Stack frames (function frames)** - chunks of memory that is set aside for functions's work when these functions are called.\n",
    "\n",
    "More than one function's stack may exist in memory at a given time. If `main()` calls `move()` which then calls `direction()` all three functions have open frames.\n",
    "\n",
    "These frames are arranged in a **stack** where the most recent function is always on the top of the stack and gets active. When a new function is called, a new frame is **pushed** onto the top of the stack and becomes the active frame. When the function finishes its work, its frame is **popped** off of the stack, and the frame immediately below it becomes the new, active function on the top  of the stack. This function picks up immediately where it left off."
   ]
  },
  {
   "cell_type": "markdown",
   "id": "29ed5d20-b1c9-4bca-93b7-9192ae8dcf9f",
   "metadata": {},
   "source": [
    "!['factorial function example'](data/images/Screenshot_20230918_134737.png)"
   ]
  },
  {
   "cell_type": "markdown",
   "id": "81c76079-16b2-404c-9d6d-9de56384176b",
   "metadata": {},
   "source": [
    "## File Pointers"
   ]
  },
  {
   "cell_type": "markdown",
   "id": "16b4a5f1-f530-4d50-aa7e-0b6d1f4fbaaa",
   "metadata": {},
   "source": [
    "|Function|Description|\n",
    "|-|-|\n",
    "|`fopen(\"<filname>\", \"<operation>\")`|[opens](https://www.geeksforgeeks.org/c-fopen-function-with-examples/) a file and returns a file pointer to it|\n",
    "|`fclose(<file pointer>)`|closes the file pointed to by the given file pointer|\n",
    "|`fgetc(<file pointer>)`|reads and returns the next character from the file pointed to|\n",
    "|`fputc(<character>, <file pointer>)`|writes or appends the specified character to the pointed-to file|\n",
    "|`fread(<buffer>, <size>, <qty>, <input_file_pointer>)`|reads \\<qty> units of size \\<size> from the file pointed to and stores them in memory in a buffer (usually an array) pointed to by \\<buffer>|\n",
    "|`fwrite(<buffer>, <size>, <qty>, <output_file_pointer>)`|writes \\<qty> units of size \\<size> to the file pointed to by reading them from a buffer (usually an array) pointed to by \\<buffer>|\n",
    "|`fgets()`|reads a full string from a file|\n",
    "|`fputs()`|writes a full string to a file|\n",
    "|`fprintf()`|writes a formatted string to a file|\n",
    "|`fseek(FILE *pointer, long int offset, int position)`|[allows](https://www.geeksforgeeks.org/fseek-in-c-with-example/) you rewind or fast-forward within a file (counted in bytes)|\n",
    "|`ftell()`|tells you at what (byte) position you are at within a file|\n",
    "|`feof()`|tells you whether you have read to the end of a file|\n",
    "|`ferror()`|indicates whether an error has occured in working with a file|\n",
    "\n",
    "All the file manipulation functions are in the `stdio.h` library, like:\n",
    "\n",
    "- `fopen()`\n",
    "- `fclose()`\n",
    "- `fgetc()`\n",
    "- `fputc()`\n",
    "- `fread()`\n",
    "- `fwrite()`\n",
    "\n",
    "All of them accept `FILE` as one of their paremeters, except for the function `fopen()` which is used to get a file pointer in the first place."
   ]
  },
  {
   "cell_type": "markdown",
   "id": "a3f65777-9671-4155-98cf-e0a5dc8e6207",
   "metadata": {},
   "source": [
    "### `fopen()`"
   ]
  },
  {
   "cell_type": "markdown",
   "id": "fbc0047e-9244-4193-86d0-68e6708702c1",
   "metadata": {},
   "source": [
    "- opens a file and returns a file pointer to it;\n",
    "- always check the return value to make sure you don't get back [NULL](#null).\n",
    "\n",
    "```c\n",
    "FILE *ptr = fopen(\"<filname>\", \"<operation>\");\n",
    "```\n",
    "\n",
    "Operations:\n",
    "- `r`ead\n",
    "- `w`rite\n",
    "- `a`ppend"
   ]
  },
  {
   "cell_type": "markdown",
   "id": "60bdbbfb-d2e8-4ddd-a792-dbdb286066f5",
   "metadata": {},
   "source": [
    "### `fclose()`"
   ]
  },
  {
   "cell_type": "markdown",
   "id": "e0ffeafa-88eb-45d1-955a-94f5d9216f20",
   "metadata": {},
   "source": [
    "- closes the file pointed to by the given file pointer.\n",
    "\n",
    "```c\n",
    "fclose(<file pointer>);\n",
    "```"
   ]
  },
  {
   "cell_type": "markdown",
   "id": "9fabf2f5-119d-4cf8-ae95-d75dcce56517",
   "metadata": {},
   "source": [
    "### `fgetc()`"
   ]
  },
  {
   "cell_type": "markdown",
   "id": "ba09eaa9-8a6d-4316-97f1-5ce4ccdca472",
   "metadata": {},
   "source": [
    "- reads and returns the next character from the file pointed to;\n",
    "- Note: The operation of the file pointer passed in as a parameter must be \"r\", otherwise you'll get the error.\n",
    "\n",
    "```c\n",
    "char ch = fgetc(<file pointer>);\n",
    "```\n",
    "\n",
    "Linux `cat.c` function:\n",
    "\n",
    "```c\n",
    "char ch;\n",
    "while ((ch = fgetc(ptr)) != EOF)\n",
    "    printf(\"%c\", ch);\n",
    "```"
   ]
  },
  {
   "cell_type": "markdown",
   "id": "a5686143-c9ac-47cf-8ffb-4b6a7a4e8663",
   "metadata": {},
   "source": [
    "### `fputc()`"
   ]
  },
  {
   "cell_type": "markdown",
   "id": "92d88e9e-326a-4ce3-af26-a81bd82cc9a3",
   "metadata": {},
   "source": [
    "- writes or appends the specified character to the pointed-to file;\n",
    "- Note: The operation of the file pointer passed in as a parameter must be \"w\" or \"a\", or you will suffer an error.\n",
    "\n",
    "```c\n",
    "fputc(<character>, <file pointer>);\n",
    "```\n",
    "\n",
    "Linux `cp.c` function:\n",
    "\n",
    "```c\n",
    "char ch;\n",
    "while ((ch = fget(ptr1)) != EOF)\n",
    "    fputc(ch, ptr2);\n",
    "```"
   ]
  },
  {
   "cell_type": "markdown",
   "id": "0eaa8157-ab7a-4f76-a98c-38d3b8120a5d",
   "metadata": {},
   "source": [
    "### `fread()`"
   ]
  },
  {
   "cell_type": "markdown",
   "id": "f08debe2-e892-4880-9732-87639a0a85b6",
   "metadata": {},
   "source": [
    "- reads \\<qty> units of size \\<size> from the file pointed to and stores them in memory in a buffer (usually an array) pointed to by \\<buffer>;\n",
    "- Note: The operation of the file pointer passed in as a parameter must be \"r\", or you will suffer an error.\n",
    "    \n",
    "```c\n",
    "fread(<buffer>, <size>, <qty>, <file pointer>);\n",
    "\n",
    "# in the stack\n",
    "int arr[10];\n",
    "fread(arr, sizeoff(int), 10, ptr);\n",
    "```\n",
    "\n",
    "i.e. take 40 bytes (4 byte * 10) from `ptr` and put them to `arr`.\n",
    "    \n",
    "```c\n",
    "# in the heap\n",
    "double *arr2 = malloc(sizeof(double) * 80);\n",
    "fread(arr2, sizeof(double), 80, ptr);\n",
    "```\n",
    "\n",
    "```c\n",
    "char c;\n",
    "fread(&c, sizeof(char), 1, ptr);\n",
    "```"
   ]
  },
  {
   "cell_type": "markdown",
   "id": "bc4be1e6-9bac-475e-a4f8-ec2b0ded33db",
   "metadata": {},
   "source": [
    "### `fwrite()`"
   ]
  },
  {
   "cell_type": "markdown",
   "id": "ca1dd130-3335-4e09-a651-4d52502c4bb8",
   "metadata": {},
   "source": [
    "- writes \\<qty> units of size \\<size> to the file pointed to by reading them from a buffer (usually an array) pointed to by \\<buffer>;\n",
    "- Note: The operation of the file pointer passed in as a parameter must be \"w\" or \"a\", or you will suffer an error.\n",
    "    \n",
    "```c\n",
    "int arr[10];\n",
    "fwrite(arr, sizeof(int), 10, ptr);\n",
    "\n",
    "double *arr2 = malloc(sizeof(double) * 80);\n",
    "fwrite(arr2, sizeof(double), 80, ptr);\n",
    "\n",
    "char c;\n",
    "fwrite(&c, sizeof(char), 1, ptr);\n",
    "```"
   ]
  },
  {
   "cell_type": "markdown",
   "id": "a77bb7e1-54a3-44cd-bc32-f15be420f75e",
   "metadata": {},
   "source": [
    "# <b>Week 5 Data Structures</b>"
   ]
  },
  {
   "cell_type": "markdown",
   "id": "932f4fb6-33d6-4366-ab52-42b4f8140f89",
   "metadata": {},
   "source": [
    "Prioritization when deciding what data structure to use:\n",
    "\n",
    "- search,\n",
    "- insertion,\n",
    "- deletion.\n",
    "\n",
    "|Data structure|arrays|linked lists|hash tables|tries|\n",
    "|-|-|-|-|-|\n",
    "|Insertion|bad - lots of shifting to fit an element in the middle|easy - just tack onto the front|two-step process(hash - add)|complex - a lot of dynamic memory allocation, but gets easier as you go|\n",
    "|Deletion|bad - lots of shifting after removing an element|easy - once you found the element|easy - once you found the element|ease - just free a node|\n",
    "|Search|fast - random access via indexing, constant time|bad - only linear search|more optimized linear search than in linked lists|fast - almost as the array, constant time|\n",
    "|Sorting|easy|relatively difficult|no|already sorted|\n",
    "|Size in memory|relatively small|relatively small|bigger than linked lists|huge|\n",
    "|Flexibility|no|yes|yes|yes|\n",
    "\n",
    "Whenver you want to speed up your algorithm, you have to use more space. This is the price."
   ]
  },
  {
   "cell_type": "markdown",
   "id": "2c006bed-5613-463f-b8de-0d1eca91ca32",
   "metadata": {
    "jp-MarkdownHeadingCollapsed": true
   },
   "source": [
    "# 5.1 Stack vs Queue"
   ]
  },
  {
   "cell_type": "markdown",
   "id": "b195eab2-6e84-4150-a8a2-ebfefba8cf2d",
   "metadata": {},
   "source": [
    "## Stack (Data Structure) - LIFO"
   ]
  },
  {
   "cell_type": "markdown",
   "id": "2ea5c07a-cb51-424b-a96f-fe05cea9c215",
   "metadata": {},
   "source": [
    "- **Stacks** - стопки, где последний положенный на стопку элемент окажется на самом верху.\n",
    "- **LIFO** - last in, first out\n",
    "\n",
    "Operations:\n",
    "- `push` - place on the top of the stack,\n",
    "- `pop` - remove from the top."
   ]
  },
  {
   "cell_type": "markdown",
   "id": "8c8792e6-e286-4ca1-8b4c-e68752ecb0f5",
   "metadata": {},
   "source": [
    "<center>\n",
    "    <img src=\"data/images/Screenshot_20231020_144336.png\" alt=\"Stack\" style=\"width: 400px\">\n",
    "    <p style=\"text-align: center\"><i>Stack</i></p>"
   ]
  },
  {
   "cell_type": "markdown",
   "id": "7f9275a9-e341-4e7a-959b-626a80d73f36",
   "metadata": {},
   "source": [
    "Array-based implementation:\n",
    "\n",
    "```c\n",
    "const int CAPACITY;\n",
    "\n",
    "typedef struct _stack\n",
    "{\n",
    "    VALUE array[CAPACITY];\n",
    "    int top;\n",
    "}\n",
    "stack;\n",
    "```"
   ]
  },
  {
   "cell_type": "markdown",
   "id": "b794de55-2be8-4d76-85eb-61f971dcede3",
   "metadata": {},
   "source": [
    "### Array-based implementation"
   ]
  },
  {
   "cell_type": "markdown",
   "id": "891a7c9e-8875-4b4a-805b-bf7d88a71f59",
   "metadata": {},
   "source": [
    "#### `push`"
   ]
  },
  {
   "cell_type": "markdown",
   "id": "d493a44a-5cac-4165-91be-2d387f145f33",
   "metadata": {},
   "source": [
    "- add to the top.\n",
    "\n",
    "`push()` needs to:\n",
    "- accept a pointer to the stack;\n",
    "- accept data of type VALUE to be added to the stack;\n",
    "- add that data to the stack at the top of the stack;\n",
    "- change the location of the top of the stack.\n",
    "\n",
    "```c\n",
    "stack s;\n",
    "s.top = 0;\n",
    "\n",
    "void push(stack *s, VALUE data);\n",
    "\n",
    "push(&s, 28);\n",
    "```\n",
    "\n",
    "after that we change `s.top = 1` and so on:\n",
    "\n",
    "```c\n",
    "push(&s, 33);  // s.top = 2;\n",
    "push(&s, 19);  // s.top = 3;\n",
    "```"
   ]
  },
  {
   "cell_type": "markdown",
   "id": "e440925c-26cd-47a0-8ad2-d6e5d39bb2b1",
   "metadata": {},
   "source": [
    "<center>\n",
    "    <img src=\"data/images/Screenshot_20231020_161456.png\" alt=\"Push - Array-based implementation\" style=\"width: 800px\">\n",
    "    <p style=\"text-align: center\"><i>Push - Array-based implementation</i></p>"
   ]
  },
  {
   "cell_type": "markdown",
   "id": "cc88c0ac-2a40-4c23-80fe-839672e2589e",
   "metadata": {},
   "source": [
    "#### `pop`"
   ]
  },
  {
   "cell_type": "markdown",
   "id": "5da36d1f-d94c-40a9-8bdc-cb03fb72af92",
   "metadata": {},
   "source": [
    "- remove from the top.\n",
    "\n",
    "`pop()` needs to:\n",
    "- accept a pointer to the stack;\n",
    "- change the location of the top of the stack;\n",
    "- return the value that was removed from the stack (to be able to use it later).\n",
    "\n",
    "```c\n",
    "VALUE pop(stack *s);\n",
    "\n",
    "int x = pop($s);\n",
    "```\n",
    "\n",
    "`s.top = 3` so we get `x = 19`. We do not delete `19` from the array but as we have just changed `s.top` to `2`, for our stack implementation `19` is gone. And when we `push($s, 40)` the `s.top = 3` will get `40`, e.g. it will be reassigned with another value."
   ]
  },
  {
   "cell_type": "markdown",
   "id": "8d496b61-ab75-45ba-a548-b83048abcdc4",
   "metadata": {},
   "source": [
    "<center>\n",
    "    <img src=\"data/images/Screenshot_20231020_161803.png\" alt=\"Pop - Array-based implementation\" style=\"width: 800px\">\n",
    "    <p style=\"text-align: center\"><i>Pop - Array-based implementation</i></p>"
   ]
  },
  {
   "cell_type": "markdown",
   "id": "e054cc9c-735e-42e7-9f34-d5a2f93192a3",
   "metadata": {},
   "source": [
    "### Linked list-based implementation"
   ]
  },
  {
   "cell_type": "markdown",
   "id": "3256f71f-5e57-4384-b076-ca9ee0255652",
   "metadata": {},
   "source": [
    "#### `push`"
   ]
  },
  {
   "cell_type": "markdown",
   "id": "4660ce7b-7bc0-4452-b44a-7680f39e0ef7",
   "metadata": {},
   "source": [
    "```c\n",
    "typedef struct _stack\n",
    "{\n",
    "    VALUE val;\n",
    "    struct _stack *next;\n",
    "}\n",
    "stack;\n",
    "```\n",
    "\n",
    "- always maintain a pointer to the head of the linked-list;\n",
    "- dynamically allocate a new node, \n",
    "- set its next pointer to point to the current head of the list,\n",
    "- move the head pointer to the newly created node.\n",
    "\n",
    "```c\n",
    "list = push(list, 12);\n",
    "\n",
    "```"
   ]
  },
  {
   "cell_type": "markdown",
   "id": "0b04a29e-6229-4959-8696-4b7e17d66712",
   "metadata": {},
   "source": [
    "<center>\n",
    "    <img src=\"data/images/Screenshot_20231020_164644.png\" alt=\"Push - Linked list-based implementation\" style=\"width: 800px\">\n",
    "    <p style=\"text-align: center\"><i>Push - Linked list-based implementation</i></p>"
   ]
  },
  {
   "cell_type": "markdown",
   "id": "6aa69162-2d7a-40a5-85b3-2ba1cf0944cf",
   "metadata": {},
   "source": [
    "#### `pop`"
   ]
  },
  {
   "cell_type": "markdown",
   "id": "b2dd453b-ff82-4f40-990e-14c99b860c15",
   "metadata": {},
   "source": [
    "- traverse the linked list to its second element (if it exists),\n",
    "- free the head of the list,\n",
    "- move the head pointer to the (former) second element. "
   ]
  },
  {
   "cell_type": "markdown",
   "id": "9574f15c-0f31-419c-b721-2e47f222e302",
   "metadata": {},
   "source": [
    "<center>\n",
    "    <img src=\"data/images/Screenshot_20231020_165127.png\" alt=\"Pop - Linked list-based implementation\" style=\"width: 800px\">\n",
    "    <p style=\"text-align: center\"><i>Pop - Linked list-based implementation</i></p>"
   ]
  },
  {
   "cell_type": "markdown",
   "id": "11e3a3da-a1b9-49e0-9465-b84ef86eb5ad",
   "metadata": {},
   "source": [
    "Another example:\n",
    "\n",
    "```c\n",
    "const int CAPACITY = 50;\n",
    "\n",
    "typedef struct\n",
    "{\n",
    "    person people[CAPACITY];\n",
    "    int size;\n",
    "}\n",
    "stack;\n",
    "```\n",
    "\n",
    "- capacity - how big the stack could be, how much free space there is\n",
    "- size - how big the stack is now, how many elements there is at the moment"
   ]
  },
  {
   "cell_type": "markdown",
   "id": "ae378b80-3bcc-4e84-9c85-a5d8e184118c",
   "metadata": {},
   "source": [
    "## Queue - FIFO"
   ]
  },
  {
   "cell_type": "markdown",
   "id": "2a3742cd-f550-46ec-b13e-f57305ac7095",
   "metadata": {},
   "source": [
    "- **Queue** - очередь\n",
    "- **FIFO**- first in, first out\n",
    "\n",
    "Operations:\n",
    "- `enqueue` - adding a new element to the end,\n",
    "- `dequeue` - taking out the first (oldest) element from the line."
   ]
  },
  {
   "cell_type": "markdown",
   "id": "ad97af3c-8ecf-4278-a7bb-9ae0c6d3f876",
   "metadata": {},
   "source": [
    "### Array-based implementation"
   ]
  },
  {
   "cell_type": "markdown",
   "id": "d35f4a3e-de8c-480b-ab54-d20eddd5b739",
   "metadata": {},
   "source": [
    "```c\n",
    "const int CAPACITY;\n",
    "\n",
    "typedef struct _queue\n",
    "{\n",
    "    VALUE array[CAPACITY];\n",
    "    int front;\n",
    "    int size;\n",
    "}\n",
    "queue;\n",
    "```\n",
    "\n",
    "- capacity - how big the stack could be, how much free space there is;\n",
    "- size - how big the queue is now, how many elements there at the moment is.\n",
    "\n",
    "```c\n",
    "queue q;\n",
    "\n",
    "q.front = 0;\n",
    "q.size = 0;\n",
    "```"
   ]
  },
  {
   "cell_type": "markdown",
   "id": "852896ab-6bc7-4750-b04d-292a8d217ebf",
   "metadata": {},
   "source": [
    "#### `enqueue`"
   ]
  },
  {
   "cell_type": "markdown",
   "id": "9f0b14c5-6072-4f54-9caf-4fb4bb1a69d2",
   "metadata": {},
   "source": [
    "- add a new element to the end of the queue.\n",
    "\n",
    "`enqueue()` needs to:\n",
    "- accept a pointer to the queue;\n",
    "- accept data of type VALUE to be added to the queue;\n",
    "- add the data to the queue at the end of the queue;\n",
    "- change the size of the queue.\n",
    "\n",
    "```c\n",
    "void enqueue(queue *q, VALUE data);\n",
    "\n",
    "enqueue($q, 28);\n",
    "enqueue($q, 33);\n",
    "enqueue($q, 19);\n",
    "```\n",
    "\n",
    "So, the oldest (front) element `28` has the index 0 and the size of the queue is `3`."
   ]
  },
  {
   "cell_type": "markdown",
   "id": "aa2e1a60-7b88-4c23-970d-5c20bdf51973",
   "metadata": {},
   "source": [
    "<center>\n",
    "    <img src=\"data/images/Screenshot_20231020_203614.png\" alt=\"Enqueue - Array-based implementation\" style=\"width: 800px\">\n",
    "    <p style=\"text-align: center\"><i>Enqueue - Array-based implementation</i></p>"
   ]
  },
  {
   "cell_type": "markdown",
   "id": "13327702-414f-4966-b59c-8bfbd92f5c01",
   "metadata": {},
   "source": [
    "#### `dequeue`"
   ]
  },
  {
   "cell_type": "markdown",
   "id": "5edc456f-66a8-4922-a104-fdaad1d3b15f",
   "metadata": {},
   "source": [
    "- remove the most recent element from the front of the queue.\n",
    "\n",
    "`dequeue` needs to:\n",
    "- accept a pointer to the queue;\n",
    "- change the location of the front of the queue;\n",
    "- decrease the size of the queue;\n",
    "- return the value that was removed from the queue.\n",
    "\n",
    "```c\n",
    "VALUE dequeue(queue *q);\n",
    "\n",
    "int x = dequeue($q);\n",
    "```\n",
    "\n",
    "The oldest element is `28`, we do not delete it from the array, we just change the `front` and `size` values, so it will be ignored next time we implement `dequeue()`."
   ]
  },
  {
   "cell_type": "markdown",
   "id": "5daa0c3e-f0c3-419b-8418-0213224d387d",
   "metadata": {},
   "source": [
    "<center>\n",
    "    <img src=\"data/images/Screenshot_20231020_204300.png\" alt=\"Dequeue - Array-based implementation\" style=\"width: 800px\">\n",
    "    <p style=\"text-align: center\"><i>Dequeue - Array-based implementation</i></p>"
   ]
  },
  {
   "cell_type": "markdown",
   "id": "2f202fa3-4ab9-4811-aa27-d235a3c2bc98",
   "metadata": {},
   "source": [
    "<center>\n",
    "    <img src=\"data/images/Screenshot_20231020_204831.png\" alt=\"Enqueue - Array-based implementation\" style=\"width: 400px\">\n",
    "    <p style=\"text-align: center\"><i>Enqueue - Array-based implementation</i></p>"
   ]
  },
  {
   "cell_type": "markdown",
   "id": "e8ed1b01-0c9c-4d51-805a-c564950e24ad",
   "metadata": {},
   "source": [
    "### Linked list-based implementation"
   ]
  },
  {
   "cell_type": "markdown",
   "id": "d383e041-a8be-4e3f-a3dd-efd90d486b34",
   "metadata": {},
   "source": [
    "```c\n",
    "typedef struct _queue\n",
    "{\n",
    "    VALUE val;\n",
    "    struct _queue *prev;\n",
    "    struct _queue *next'\n",
    "}\n",
    "queue;\n",
    "```\n",
    "\n",
    "\n",
    "\n",
    "```c\n",
    "queue q;\n",
    "\n",
    "q.front = 0;\n",
    "q.size = 0;\n",
    "```"
   ]
  },
  {
   "cell_type": "markdown",
   "id": "b3c80daf-3d4d-4851-902e-40ee76c72574",
   "metadata": {},
   "source": [
    "#### `enqueue`"
   ]
  },
  {
   "cell_type": "markdown",
   "id": "d60a92b4-fc4b-4cde-aafe-b6aaf8c8d32c",
   "metadata": {},
   "source": [
    "- always maintain pointers to the head **_and_** tail of the linked list;\n",
    "- dynamically allocate a new node (probably global);\n",
    "- set its next pointer to NULL, set its previous pointer to the tail;\n",
    "- set the tail's next pointer to the new node;\n",
    "- move the tail pointer to the newly-created node.\n",
    "\n",
    "```c\n",
    "void enqueue(queue *q, VALUE data);\n",
    "\n",
    "enqueue(tail, 10);\n",
    "```"
   ]
  },
  {
   "cell_type": "markdown",
   "id": "035e1188-5124-4973-9452-c3c60ce01199",
   "metadata": {},
   "source": [
    "<center>\n",
    "    <img src=\"data/images/Screenshot_20231020_205829.png\" alt=\"Enqueue - Linked list-based implementation\" style=\"width: 800px\">\n",
    "    <p style=\"text-align: center\"><i>Enqueue - Linked list-based implementation</i></p>"
   ]
  },
  {
   "cell_type": "markdown",
   "id": "e8adeef3-71f1-4646-b64e-df16a6e3e43f",
   "metadata": {},
   "source": [
    "#### `dequeue`"
   ]
  },
  {
   "cell_type": "markdown",
   "id": "bf49a029-7f47-4b53-97e2-a39c4ef669a5",
   "metadata": {},
   "source": [
    "- traverse the linked list to its second element (if it exists);\n",
    "- free the head of the list;\n",
    "- move the head pointer to the (former) second element;\n",
    "- make that node's  previous pointer point to NULL."
   ]
  },
  {
   "cell_type": "markdown",
   "id": "b092181b-cffc-4c49-b97c-a6c04fa3947d",
   "metadata": {},
   "source": [
    "<center>\n",
    "    <img src=\"data/images/Screenshot_20231020_210253.png\" alt=\"Dequeue - Linked list-based implementation\" style=\"width: 800px\">\n",
    "    <p style=\"text-align: center\"><i>Dequeue - Linked list-based implementation</i></p>"
   ]
  },
  {
   "cell_type": "markdown",
   "id": "eb646c4f-4e3e-4e36-8ea1-bd074a1c741f",
   "metadata": {},
   "source": [
    "# 5.2 Allocating an array of a new size"
   ]
  },
  {
   "cell_type": "markdown",
   "id": "b9f41da0-4eb5-4c3d-8261-b5beee72ebda",
   "metadata": {},
   "source": [
    "We have an array of 3 elements.\n",
    "\n",
    "```c\n",
    "#include <stdio.h>\n",
    "\n",
    "int main (void)\n",
    "{\n",
    "\tint list[3];\n",
    "\n",
    "\tlist[0] = 1;\n",
    "\tlist[1] = 2;\n",
    "\tlist[2] = 3;\n",
    "\n",
    "\tfor (int i = 0; i < 3; i++)\n",
    "\t{\n",
    "\t\tprintf(\"%i\\n\", list[i]);\n",
    "\t}\n",
    "}\n",
    "```"
   ]
  },
  {
   "cell_type": "markdown",
   "id": "9c224a37-0e4b-45ca-824a-f1a675cf9281",
   "metadata": {},
   "source": [
    "And now we need to add one element to it. This is the inefficient way to do that.\n",
    "\n",
    "```c\n",
    "    \n",
    "#include <stdio.h>\n",
    "#include <stdlib.h>\n",
    "\n",
    "int main (void)\n",
    "{\n",
    "\tint *list = malloc(3 * sizeof(int));\n",
    "\tif (list == NULL)\n",
    "\t{\n",
    "\t\treturn 1;\n",
    "\t}\n",
    "\n",
    "\tlist[0] = 1;\n",
    "\tlist[1] = 2;\n",
    "\tlist[2] = 3;\n",
    "\n",
    "\t// ...\n",
    "\n",
    "\tint *tmp = malloc(4 * sizeof(int));\n",
    "\tif (tmp == NULL)\n",
    "\t{\n",
    "\t\tfree(list);\n",
    "\t\treturn 1;\n",
    "\t}\n",
    "\n",
    "\tfor (int i = 0; i < 3; i++)\n",
    "\t{\n",
    "\t\ttmp[i] = list[i];\n",
    "\t}\n",
    "\ttmp[3] = 4;\n",
    "\n",
    "\tfree(list);\n",
    "\tlist = tmp;\n",
    "\n",
    "\tfor (int i = 0; i < 4; i++)\n",
    "\t{\n",
    "\t\tprintf(\"%i\\n\", list[i]);\n",
    "\t}\n",
    "\t\n",
    "    free(list);\n",
    "    return 0;\n",
    "}\n",
    "```"
   ]
  },
  {
   "cell_type": "markdown",
   "id": "525cc44d-6b80-4484-bd21-f00f13e1aac8",
   "metadata": {},
   "source": [
    "A better way is to use:"
   ]
  },
  {
   "cell_type": "markdown",
   "id": "a3df795d-36c5-45ee-a667-41aa7951903a",
   "metadata": {},
   "source": [
    "## `realloc`"
   ]
  },
  {
   "cell_type": "markdown",
   "id": "f3c4eca5-6c24-4d2b-bfcb-7ef82a30bba5",
   "metadata": {},
   "source": [
    "```c\n",
    "#include <stdio.h>\n",
    "#include <stdlib.h>\n",
    "\n",
    "int main (void)\n",
    "{\n",
    "\tint *list = malloc(3 * sizeof(int));\n",
    "\tif (list == NULL)\n",
    "\t{\n",
    "\t\treturn 1;\n",
    "\t}\n",
    "\n",
    "\tlist[0] = 1;\n",
    "\tlist[1] = 2;\n",
    "\tlist[2] = 3;\n",
    "\n",
    "\t// ...\n",
    "\n",
    "\tint *tmp = realloc(list, 4 * sizeof(int));\n",
    "\tif (tmp == NULL)\n",
    "\t{\n",
    "\t\tfree(list);\n",
    "\t\treturn 1;\n",
    "\t}\n",
    "\n",
    "\tlist = tmp;\n",
    "\tlist[3] = 4;\n",
    "\n",
    "\tfor (int i = 0; i < 4; i++)\n",
    "\t{\n",
    "\t\tprintf(\"%i\\n\", list[i]);\n",
    "\t}\n",
    "\tfree(list);\n",
    "}\n",
    "```"
   ]
  },
  {
   "cell_type": "markdown",
   "id": "a9d46ba0-e9a5-4f8e-99c8-3a02a36c4725",
   "metadata": {
    "jp-MarkdownHeadingCollapsed": true
   },
   "source": [
    "# 5.3 <b>Linked Lists</b>"
   ]
  },
  {
   "cell_type": "markdown",
   "id": "0e9b04d6-e356-4367-9092-96037151b7af",
   "metadata": {},
   "source": [
    "O(n) search"
   ]
  },
  {
   "cell_type": "markdown",
   "id": "06618ffe-f239-47b0-8a3e-c3c96df5ef93",
   "metadata": {},
   "source": [
    "<center>\n",
    "    <img src=\"data/images/Screenshot_20231010_160629.png\" alt=\"Singly-Linked List\" style=\"width: 700px\">\n",
    "    <p style=\"text-align: center\"><i>Singly-Linked List</i></p>"
   ]
  },
  {
   "cell_type": "markdown",
   "id": "b7fbdbe7-8bd5-4c1f-9405-de7db922e4a3",
   "metadata": {},
   "source": [
    "## Example of stack implementation"
   ]
  },
  {
   "cell_type": "markdown",
   "id": "e860f8fb-b81b-4637-92f5-8162c6a12fc2",
   "metadata": {},
   "source": [
    "```c\n",
    "#include <stdio.h>\n",
    "#include <stdlib.h>\n",
    "\n",
    "typedef struct node\n",
    "{\n",
    "    int number;\n",
    "    struct node *next;\n",
    "}\n",
    "node;\n",
    "\n",
    "int main(int argc, char *argv[])\n",
    "{\n",
    "    // create an empty list\n",
    "    node *list = NULL;\n",
    "\n",
    "    for (int i = 1; i < argc; i++)\n",
    "    {\n",
    "        // take command line argument as integer\n",
    "        int number = atoi(argv[i]);\n",
    "\n",
    "        // allocate memory for a new node\n",
    "        node *n = malloc(sizeof(node));\n",
    "        if (n == NULL)\n",
    "        {\n",
    "            return 1;\n",
    "        }\n",
    "        \n",
    "        n->number = number;\n",
    "        n->next = NULL;\n",
    "\n",
    "        n->next = list;\n",
    "        list = n;\n",
    "    }\n",
    "\n",
    "    node *ptr = list;\n",
    "    while (ptr != NULL)\n",
    "    // or in one line\n",
    "    // for (node *ptr = list; ptr != NULL; ptr = ptr->next)\n",
    "    {\n",
    "        printf(\"%i\\n\", ptr->number);\n",
    "        ptr = ptr->next;\n",
    "    }\n",
    "\n",
    "    ptr = list;\n",
    "    while (ptr != NULL)\n",
    "    {\n",
    "        node *next = ptr->next;\n",
    "        free(ptr);\n",
    "        ptr = next;\n",
    "    }\n",
    "}\n",
    "```\n",
    "We add each new number to the beginning of the list, not to its end."
   ]
  },
  {
   "cell_type": "markdown",
   "id": "2bb3a57d-a4a3-4bcf-ab6d-260f59c5756f",
   "metadata": {},
   "source": [
    "<center>\n",
    "    <img src=\"data/images/Screenshot_20231010_183642.png\" alt=\"Adding an element to the linked list\" style=\"width: 600px\">\n",
    "    <p style=\"text-align: center\"><i>Adding an element to the linked list</i></p>"
   ]
  },
  {
   "cell_type": "markdown",
   "id": "0c18103f-0536-461e-ae90-e3c5f1d3e220",
   "metadata": {},
   "source": [
    "```\n",
    "$ ./draft 1 2 3\n",
    "3\n",
    "2\n",
    "1\n",
    "```"
   ]
  },
  {
   "cell_type": "markdown",
   "id": "d726bb7b-712b-4fa3-8e49-ed9f1d83217a",
   "metadata": {},
   "source": [
    "## Singly Linked Lists"
   ]
  },
  {
   "cell_type": "markdown",
   "id": "28f204f1-2537-4f19-beb9-01b1fec56e36",
   "metadata": {},
   "source": [
    "```c\n",
    "typedef struct sllist\n",
    "{\n",
    "    VALUE val;\n",
    "    struct sllist *next;\n",
    "}\n",
    "sllnode\n",
    "```\n",
    "\n",
    "- create a new linked list,\n",
    "- search through a linked list to find an element,\n",
    "- insert a new node into the linked list,\n",
    "- delete a single element from a linked list (see [Doubly linked lists section](#doubly_linked_lists)),\n",
    "- delete an entire linked list."
   ]
  },
  {
   "cell_type": "markdown",
   "id": "71540679-7475-4d40-98ff-cd0613c1509c",
   "metadata": {},
   "source": [
    "### Create"
   ]
  },
  {
   "cell_type": "markdown",
   "id": "88f5e690-dc38-441d-bd1d-396cf54cca9f",
   "metadata": {},
   "source": [
    "```c\n",
    "int n = 6;\n",
    "sllnode *new = create(n);\n",
    "```\n",
    "\n",
    "a. Dynamically allocate space for a new sllnode.  \n",
    "b. Check to make sure we did not run out of memory.  \n",
    "c. Initialize the node's `val` field.  \n",
    "d. Initialize the node's `next` field.  \n",
    "e. Return a pointer to the newly created sllnode.  "
   ]
  },
  {
   "cell_type": "markdown",
   "id": "fc5120d9-10c6-48c5-b3da-784d6912d3f9",
   "metadata": {},
   "source": [
    "### Search"
   ]
  },
  {
   "cell_type": "markdown",
   "id": "bfea20c4-107f-4661-aa8d-03859ab5ec95",
   "metadata": {},
   "source": [
    "```c\n",
    "bool find(sllnode *head, VALUE val);\n",
    "```\n",
    "\n",
    "a. Create a traversal pointer pointing to the list's head.  \n",
    "b. If the current node's `val` field is what we're looking for, report success.  \n",
    "c. If not, set the traversal pointer to the next pointer in the list and go back to step b.  \n",
    "d. If you're reached the end of the list, report failure.  "
   ]
  },
  {
   "cell_type": "markdown",
   "id": "abe4ef90-4498-4708-9440-38077e90e420",
   "metadata": {},
   "source": [
    "<center>\n",
    "    <img src=\"data/images/Screenshot_20231017_132721.png\" alt=\"Search through a Singly-Linked List\" style=\"width: 800px\">\n",
    "    <p style=\"text-align: center\"><i>Search through a Singly-Linked List</i></p>"
   ]
  },
  {
   "cell_type": "markdown",
   "id": "a6a84c95-a366-4f1c-a5b7-3634bb3d6c90",
   "metadata": {},
   "source": [
    "### Insert (add)"
   ]
  },
  {
   "cell_type": "markdown",
   "id": "782bf35c-29ab-49fa-8f84-9d3d9e0551d5",
   "metadata": {},
   "source": [
    "```c\n",
    "sllnode *insert(sllnode *head, VALUE val);\n",
    "```\n",
    "\n",
    "a. Dynamically allocate space for a new sllnode.  \n",
    "b. Check to make sure we did not run out of memory.  \n",
    "c. Populate and insert the node at the beginning of the linked list.  \n",
    "d. Return a pointer to the new head of the linked list.  "
   ]
  },
  {
   "cell_type": "markdown",
   "id": "1a0d35df-db44-489c-85e7-7d326511b83b",
   "metadata": {},
   "source": [
    "<center>\n",
    "    <img src=\"data/images/Screenshot_20231017_135707.png\" alt=\"Insert into a Singly-Linked List\" style=\"width: 800px\">\n",
    "    <p style=\"text-align: center\"><i>Insert into a Singly-Linked List</i></p>"
   ]
  },
  {
   "cell_type": "markdown",
   "id": "8128c89f-fec7-4c69-9b0d-68671479401b",
   "metadata": {},
   "source": [
    "### Delete an entire list"
   ]
  },
  {
   "cell_type": "markdown",
   "id": "abeda988-84f4-4987-a2bc-0de953bb9baf",
   "metadata": {},
   "source": [
    "```c\n",
    "void destroy(sllnode *head);\n",
    "```\n",
    "\n",
    "a. If you have reached a null pointer, stop.  \n",
    "b. Delete the rest of the list (recursion).  \n",
    "c. Free the current node."
   ]
  },
  {
   "cell_type": "markdown",
   "id": "f40f79bb-1528-405c-a8fb-d923cd7a4fa4",
   "metadata": {},
   "source": [
    "<center>\n",
    "    <img src=\"data/images/Screenshot_20231017_140341.png\" alt=\"Delete an entire Singly-Linked List\" style=\"width: 800px\">\n",
    "    <p style=\"text-align: center\"><i>Delete an entire Singly-Linked List</i></p>"
   ]
  },
  {
   "cell_type": "markdown",
   "id": "025c36bc-955b-4932-b146-f2c75e0209d1",
   "metadata": {},
   "source": [
    "## <a name='doubly_linked_lists'>Doubly Linked Lists</a>"
   ]
  },
  {
   "cell_type": "markdown",
   "id": "70f7c0ef-74e8-4c89-b2c3-14da5b054f19",
   "metadata": {},
   "source": [
    "- bidirectional moving through the linked list.\n",
    "\n",
    "```c\n",
    "typedef struct dllist\n",
    "{\n",
    "    VALUE val;\n",
    "    struct dllist *prev;\n",
    "    struct dllist *next;\n",
    "}\n",
    "dllnode;\n",
    "```\n",
    "\n",
    "The operations are very similar to the singly linked lists, the only significant differences occur in:\n",
    "- inserting a new node into the linked list,\n",
    "- deleting a single node from the linked list."
   ]
  },
  {
   "cell_type": "markdown",
   "id": "a56b0201-3d16-4fdc-a7cf-6eb538b71734",
   "metadata": {},
   "source": [
    "### Insert (add)"
   ]
  },
  {
   "cell_type": "markdown",
   "id": "e882906a-d1ee-4bec-a460-4b741169ea44",
   "metadata": {},
   "source": [
    "```c\n",
    "dllnode *insert(dllnode *head, VALUE val);\n",
    "```\n",
    "\n",
    "a. Dynamically allocate space for a new dllnode.  \n",
    "b. Check to make sure we did not run out of memory.  \n",
    "c. Populate and insert the node at the beginning of the linked list.  \n",
    "d. _Fix the `prev` pointer of the old head of the linked list._  \n",
    "e. Return a pointer to the new head of the linked list.  "
   ]
  },
  {
   "cell_type": "markdown",
   "id": "64d3c95b-3145-4aa5-859b-9958e624c4e6",
   "metadata": {},
   "source": [
    "<center>\n",
    "    <img src=\"data/images/Screenshot_20231017_174300.png\" alt=\"Insert into a Doubly-Linked List\" style=\"width: 800px\">\n",
    "    <p style=\"text-align: center\"><i>Insert into a Doubly-Linked List</i></p>"
   ]
  },
  {
   "cell_type": "markdown",
   "id": "c6854c49-8f7b-404f-8a48-049fe9856331",
   "metadata": {},
   "source": [
    "### Delete a node from the linked list"
   ]
  },
  {
   "cell_type": "markdown",
   "id": "50d7f62b-bd41-4cd7-a60b-adf2822f0c28",
   "metadata": {},
   "source": [
    "```c\n",
    "void delete(dllnode *target);\n",
    "```\n",
    "\n",
    "a. Fix the pointers of the surrounding nodes to \"skip over\" target.  \n",
    "b. Free target."
   ]
  },
  {
   "cell_type": "markdown",
   "id": "c9a4cf62-88a3-4bb3-8967-48d7f5cd83bd",
   "metadata": {},
   "source": [
    "<center>\n",
    "    <img src=\"data/images/Screenshot_20231017_182317.png\" alt=\"Delete a node from the Singly-Linked List\" style=\"width: 800px\">\n",
    "    <p style=\"text-align: center\"><i>Delete a node from the Singly-Linked List</i></p>"
   ]
  },
  {
   "cell_type": "markdown",
   "id": "c1535d5d-9126-4317-800a-7f284d58c5e3",
   "metadata": {},
   "source": [
    "## Trade-offs"
   ]
  },
  {
   "cell_type": "markdown",
   "id": "f8a8e3b3-97ff-4980-976b-e5addbd4b0d7",
   "metadata": {},
   "source": [
    "- Instead of arrays, linked lists use more memory - to store the pointers.\n",
    "\n",
    "- Also you cannot use `[]` to navigate inside of the list because it is not contiguous - indexing is impossible.\n",
    "\n",
    "- And third, you cannot implement a [binary search](#binary_search) on that list, only a linear search."
   ]
  },
  {
   "cell_type": "markdown",
   "id": "67bd2b70-d733-4775-8b6a-b1bd39ff0f0a",
   "metadata": {},
   "source": [
    "## Problem - Append a list with phrases"
   ]
  },
  {
   "cell_type": "markdown",
   "id": "ba202745-6951-427c-a6f1-f21472aae017",
   "metadata": {},
   "source": [
    "```c\n",
    "#include <cs50.h>\n",
    "#include <stdio.h>\n",
    "#include <stdlib.h>\n",
    "#include <string.h>\n",
    "\n",
    "typedef struct node\n",
    "{\n",
    "\tchar *phrase;\n",
    "\tstruct node *next;\n",
    "} \n",
    "node;\n",
    "\n",
    "void unload(node *list);\n",
    "void visualize(node *list);\n",
    "\n",
    "int main(int argc, char *argv[])\n",
    "{\n",
    "\tif (argc < 2)\n",
    "\t{\n",
    "\t\tprintf(\"Usage: ./draft phrase1 phrase2 etc.\");\n",
    "\t\treturn 1;\n",
    "\t}\n",
    "\tnode *list = NULL;\n",
    "\n",
    "\t// Add items to list\n",
    "\tfor (int i = 1; i < argc; i++)\n",
    "\t{\n",
    "\t\tchar *phrase = argv[i];\n",
    "\n",
    "\t\t// TODO: add phrase to new node in list\n",
    "\t\tnode *n = malloc(sizeof(node));\n",
    "        if (n == NULL)\n",
    "        {\n",
    "            printf(\"Couldn't allocate memory\");\n",
    "            return 1;\n",
    "        }\n",
    "        n->phrase = phrase;\n",
    "\t\tn->next = list;\n",
    "\n",
    "\t\tlist = n;\n",
    "\n",
    "\t\t// Visualize list after adding a node\n",
    "\t\tvisualize(list); \n",
    "\t}\n",
    "\tunload(list);\n",
    "}\n",
    "\n",
    "void unload(node *list)\n",
    "{\n",
    "\t// TODO: Free all allocated nodes\n",
    "\twhile (list != NULL)\n",
    "\t{\n",
    "\t\tnode *tmp = list->next;\n",
    "\t\tfree(list);\n",
    "\t\tlist = tmp;\n",
    "\t}\n",
    "}\n",
    "\n",
    "void visualize(node *list)\n",
    "{\n",
    "\tprintf(\"\\n+-- List Visualizer --+\\n\\n\");\n",
    "\twhile (list != NULL)\n",
    "\t{\n",
    "\t\tprintf(\"Location: %p\\n\", list);\n",
    "\t\tprintf(\"Phrase: \\\"%s\\\"\\n\", list->phrase);\n",
    "\t\tprintf(\"Next: %p\\n\\n\", list->next);\n",
    "\t\tlist = list->next;\n",
    "\t}\n",
    "\tprintf(\"+--------------------+\\n\\n\");\n",
    "}\n",
    "```\n",
    "\n",
    "Result:\n",
    "\n",
    "```\n",
    "$ ./draft hey vadim\n",
    "\n",
    "+-- List Visualizer --+\n",
    "\n",
    "Location: 0x55792b4302a0\n",
    "Phrase: \"hey\"\n",
    "Next: (nil)\n",
    "\n",
    "+--------------+\n",
    "\n",
    "\n",
    "+-- List Visualizer --+\n",
    "\n",
    "Location: 0x55792b4306d0\n",
    "Phrase: \"vadim\"\n",
    "Next: 0x55792b4302a0\n",
    "\n",
    "Location: 0x55792b4302a0\n",
    "Phrase: \"hey\"\n",
    "Next: (nil)\n",
    "\n",
    "+--------------+\n",
    "```"
   ]
  },
  {
   "cell_type": "markdown",
   "id": "cf9f3ac5-26ee-40c9-ab78-68c28adb47c2",
   "metadata": {
    "jp-MarkdownHeadingCollapsed": true,
    "tags": []
   },
   "source": [
    "# 5.4 <b>Binary Search Trees (BST)</b>"
   ]
  },
  {
   "cell_type": "markdown",
   "id": "b16c267b-cccf-4bb7-993a-943c85ffa503",
   "metadata": {},
   "source": [
    "- all the values to the left are less than the values to the right;\n",
    "- every node can have no more than two children.\n",
    "\n",
    "O(log n) search"
   ]
  },
  {
   "cell_type": "markdown",
   "id": "3ae4b169-5dd5-4034-aa02-a0423d389040",
   "metadata": {},
   "source": [
    "<center>\n",
    "    <img src=\"data/images/Screenshot_20231012_201823.png\" alt=\"Binary Search Trees\" style=\"width: 600px\">\n",
    "    <p style=\"text-align: center\"><i>Binary Search Trees</i></p>"
   ]
  },
  {
   "cell_type": "markdown",
   "id": "ad20d65e-5960-41fb-83d9-0c1fea547af5",
   "metadata": {},
   "source": [
    "Implementing a search in the tree:\n",
    "\n",
    "```c\n",
    "#include <stdio.h>\n",
    "#include <stdlib.h>\n",
    "\n",
    "typedef struct node\n",
    "{\n",
    "\tint number;\n",
    "    struct node *left;\n",
    "\tstruct node *right;\n",
    "} \n",
    "\n",
    "node;\n",
    "\n",
    "bool (node *tree; int number)\n",
    "{\n",
    "\tif (tree == NULL)\n",
    "\t{\n",
    "\t\treturn false;\n",
    "\t}\n",
    "\telse if (number < tree->number)\n",
    "\t{\n",
    "\t\treturn search(tree->left, number);\n",
    "\t}\n",
    "\telse if (number > tree->number)\n",
    "\t{\n",
    "\t\treturn search(tree->right, number);\n",
    "\t}\n",
    "\telse\n",
    "\t{\n",
    "\t\treturn true;\n",
    "\t}\n",
    "}\n",
    "\n",
    "```\n",
    "\n",
    "There are balanced and unbalanaced binary trees:"
   ]
  },
  {
   "cell_type": "markdown",
   "id": "032d274b-309c-4e82-bc6d-cf14370865ec",
   "metadata": {},
   "source": [
    "<center>\n",
    "    <img src=\"data/images/n2CFS.png\" alt=\"Types of binary trees\" style=\"width: 600px\">\n",
    "    <p style=\"text-align: center\"><i>Types of binary trees</i></p>"
   ]
  },
  {
   "cell_type": "markdown",
   "id": "429a786f-b34f-4efa-a635-19c0b202f573",
   "metadata": {},
   "source": [
    "## Trade-offs"
   ]
  },
  {
   "cell_type": "markdown",
   "id": "7e3627d8-c08d-4ff9-a5b1-956b33ba9518",
   "metadata": {},
   "source": [
    "- Unbalanced trees may devolve into a singly linked lists and we return to a linear search."
   ]
  },
  {
   "cell_type": "markdown",
   "id": "bad1be43-1f8f-4885-a118-c8114ab2dc72",
   "metadata": {
    "jp-MarkdownHeadingCollapsed": true
   },
   "source": [
    "# 5.5 <b>Dictionaries - Hash tables</b>"
   ]
  },
  {
   "cell_type": "markdown",
   "id": "eaadb623-f5af-4c7a-aafe-11d794c2539f",
   "metadata": {},
   "source": [
    "- Key - value pairs: the key is the hash code of the data, the value is a linked list of data hashing to that hash code.\n",
    "- Hashes allow shrink one big array of possibilities into a range of chunks with these possibilities, so you reduce the time needed to find a certain possibility."
   ]
  },
  {
   "cell_type": "markdown",
   "id": "5df115b9-5c50-4915-862c-6d8d3f0d1167",
   "metadata": {},
   "source": [
    "## Hash tables"
   ]
  },
  {
   "cell_type": "markdown",
   "id": "be84a961-2f3a-409a-a04e-e413d824a99f",
   "metadata": {},
   "source": [
    "get close to the O(1) search - constant search."
   ]
  },
  {
   "cell_type": "markdown",
   "id": "e5e7acc1-07a4-4f7a-a304-89a326a13519",
   "metadata": {},
   "source": [
    "<center>\n",
    "    <img src=\"data/images/Screenshot_20231012_205412.png\" alt=\"Hash tables\" style=\"width: 600px\">\n",
    "    <p style=\"text-align: center\"><i>Hash tables</i></p>"
   ]
  },
  {
   "cell_type": "markdown",
   "id": "baac4410-ed27-4b9f-904d-3b4041cae5fa",
   "metadata": {},
   "source": [
    "```c\n",
    "typedef struct node\n",
    "{\n",
    "    char *name;\n",
    "    char *number;\n",
    "    struct node *next;\n",
    "}\n",
    "node;\n",
    "\n",
    "node *table[26];\n",
    "```"
   ]
  },
  {
   "cell_type": "markdown",
   "id": "bdc63e26-b89f-465c-97f8-6bbba5e2b73c",
   "metadata": {},
   "source": [
    "<center>\n",
    "    <img src=\"data/images/Screenshot_20231017_185105.png\" alt=\"Hash Tables\" style=\"width: 500px\">\n",
    "    <p style=\"text-align: center\"><i></i></p>"
   ]
  },
  {
   "cell_type": "markdown",
   "id": "f1ce7d00-455f-47e8-83e1-c28154b0b112",
   "metadata": {},
   "source": [
    "<center>\n",
    "    <img src=\"data/images/Screenshot_20231017_185504.png\" alt=\"Hash Tables\" style=\"width: 800px\">\n",
    "    <p style=\"text-align: center\"><i></i></p>"
   ]
  },
  {
   "cell_type": "markdown",
   "id": "d62f8dea-a164-45d4-a02b-f207d8d164d4",
   "metadata": {},
   "source": [
    "## Trade-offs"
   ]
  },
  {
   "cell_type": "markdown",
   "id": "2855fde3-2535-4c52-9531-37dc2d9cc044",
   "metadata": {},
   "source": [
    "- a lot of memory used."
   ]
  },
  {
   "cell_type": "markdown",
   "id": "4d191e3f-c815-4542-96e2-283c037d1a53",
   "metadata": {},
   "source": [
    "## Hash function"
   ]
  },
  {
   "cell_type": "markdown",
   "id": "8e29f26b-8481-449f-948b-87d380548071",
   "metadata": {},
   "source": [
    "A good hash function must:\n",
    "\n",
    "- be determenistic, i.e. always give the same value for the same input,\n",
    "- uniformly distributes data  across buckets,\n",
    "- uses all buckets,<br>\n",
    "<br>\n",
    "- uses only the data being hashed,\n",
    "- uses all of the data being hashed,\n",
    "- generates very different hash codes for every similar data.\n",
    "\n",
    "Hash function returning a hash code of a given word example:\n",
    "\n",
    "```c\n",
    "unsigned int hash(char *str)\n",
    "{\n",
    "    int sum = 0;\n",
    "    for (int j = 0; str[j] != '\\0'; j++)\n",
    "    {\n",
    "        sum += str[j];\n",
    "    }\n",
    "    return sum % HASH_MAX;\n",
    "}\n",
    "```"
   ]
  },
  {
   "cell_type": "markdown",
   "id": "c46df895-3d0f-4508-9fd8-aa167d3a3067",
   "metadata": {},
   "source": [
    "### Linear probing\n",
    "\n",
    "**Collision** occurs when two pieces of data, when run through the hash function, yield the same hash code. To resolve a collision, we use **linear probing**."
   ]
  },
  {
   "cell_type": "markdown",
   "id": "a034014c-a732-40b6-b611-05afef2dcb25",
   "metadata": {},
   "source": [
    "<center>\n",
    "    <img src=\"data/images/Screenshot_20231017_191820.png\" alt=\"Linear Probing\" style=\"width: 800px\">\n",
    "    <p style=\"text-align: center\"><i>Linear Probing</i></p>"
   ]
  },
  {
   "cell_type": "markdown",
   "id": "d23e6498-134b-40c4-a9da-482ac02d2083",
   "metadata": {},
   "source": [
    "Linear probing is subject to a problem called **clustering**. Once there's a miss, two adjacent cells will contain data making it more likely in the future that the cluster will grow.\n",
    "\n",
    "Even if we switch to another probing technique, we're still limited. We can only store as much data as we have locations in our array."
   ]
  },
  {
   "cell_type": "markdown",
   "id": "aca57b54-341d-4c5c-bf9b-dbe1de884051",
   "metadata": {},
   "source": [
    "### Chaining\n",
    "\n",
    "Another technique to resolve the collisions - each element of the array holds multiple pieces of data, i.e. this array is a linked list."
   ]
  },
  {
   "cell_type": "markdown",
   "id": "ea7ddcd5-e12c-474c-84cd-c01a06ec3a5d",
   "metadata": {},
   "source": [
    "<center>\n",
    "    <img src=\"data/images/Screenshot_20231017_193851.png\" alt=\"Chaining\" style=\"width: 850px\">\n",
    "    <p style=\"text-align: center\"><i>Chaining</i></p>"
   ]
  },
  {
   "cell_type": "markdown",
   "id": "ea38dd27-3e10-4f86-aa6b-35565a05d5c8",
   "metadata": {},
   "source": [
    "## Problem - Create a hash function"
   ]
  },
  {
   "cell_type": "markdown",
   "id": "9ce0c174-fd64-442c-bd50-3eefc975fe3c",
   "metadata": {},
   "source": [
    "```c\n",
    "#include <cs50.h>\n",
    "#include <ctype.h>\n",
    "#include <stdio.h>\n",
    "#include <stdlib.h>\n",
    "#include <string.h>\n",
    "\n",
    "typedef struct node\n",
    "{\n",
    "\tchar *phrase;\n",
    "\tstruct node *next;\n",
    "}\n",
    "node;\n",
    "\n",
    "node *table[26];\n",
    "\n",
    "int hash(char *phrase);\n",
    "\n",
    "int main(int argc, char *argv[])\n",
    "{\n",
    "\tfor (int i = 1; i < argc; i++)\n",
    "\t{\n",
    "\t\tchar *phrase = argv[i];\n",
    "\t\tint index = hash(phrase);\n",
    "\t\tprintf(\"%s hashes to %i\\n\", phrase, index);\n",
    "\t}\n",
    "}\n",
    "\n",
    "// TODO: return an index, 0-25, for a given phrase\n",
    "int hash(char *phrase)\n",
    "{\n",
    "\treturn toupper(phrase[0]) - 'A';\n",
    "}\n",
    "```\n",
    "\n",
    "```\n",
    "$ ./draft Hey hey Vadim move\n",
    "Hey hashes to 7\n",
    "hey hashes to 7\n",
    "Vadim hashes to 21\n",
    "move hashes to 12\n",
    "```"
   ]
  },
  {
   "cell_type": "markdown",
   "id": "37d5776e-9825-47c4-afd1-ca1b986cdecb",
   "metadata": {
    "jp-MarkdownHeadingCollapsed": true,
    "tags": []
   },
   "source": [
    "# 5.6 <b>Tries</b>"
   ]
  },
  {
   "cell_type": "markdown",
   "id": "5744a92c-cde1-4871-9eb9-fe03acfc96c5",
   "metadata": {},
   "source": [
    "- The key is is a hash and the value is a boolean that tells whether the data exits in the structure.\n",
    "- Trie is a roadmap.\n",
    "\n",
    "O(1) search - looking by letters, one by one, one name exactly."
   ]
  },
  {
   "cell_type": "markdown",
   "id": "e2e54675-cfc4-4b95-b2e6-f015e61045d0",
   "metadata": {},
   "source": [
    "<center>\n",
    "    <img src=\"data/images/Screenshot_20231012_223105.png\" alt=\"Tries\" style=\"width: 700px\">\n",
    "    <p style=\"text-align: center\"><i>Tries</i></p>"
   ]
  },
  {
   "cell_type": "markdown",
   "id": "6f33b823-4b0f-4b00-bcc3-5faae04e2cee",
   "metadata": {},
   "source": [
    "<center>\n",
    "    <img src=\"data/images/Screenshot_20231012_223247.png\" alt=\"Tries\" style=\"width: 700px\">\n",
    "    <p style=\"text-align: center\"><i>Tries</i></p>"
   ]
  },
  {
   "cell_type": "markdown",
   "id": "0fa54902-72f0-4c9f-ad12-824aad18f6e5",
   "metadata": {},
   "source": [
    "```c\n",
    "typedef struct node\n",
    "{\n",
    "    char *number;\n",
    "    struct node *children[26];\n",
    "}\n",
    "node;\n",
    "\n",
    "node *trie;\n",
    "```"
   ]
  },
  {
   "cell_type": "markdown",
   "id": "3a60a560-3448-4a6a-b0e6-9a59d205c8d0",
   "metadata": {},
   "source": [
    "<center>\n",
    "    <img src=\"data/images/Screenshot_20231017_195935.png\" alt=\"Year is a key, name of the University is value\" style=\"width: 850px\">\n",
    "    <p style=\"text-align: center\"><i>Year is a key, name of the University is value</i></p>"
   ]
  },
  {
   "cell_type": "markdown",
   "id": "f47578e6-ec20-464d-943c-3141d3b008ad",
   "metadata": {},
   "source": [
    "## Trade-offs"
   ]
  },
  {
   "cell_type": "markdown",
   "id": "c26a46bb-8dd9-4818-9c33-da89e2fe5da4",
   "metadata": {},
   "source": [
    "- a lot of memory used,\n",
    "- a lot of human effort and time used."
   ]
  },
  {
   "cell_type": "markdown",
   "id": "e5a96e7c-732f-4f17-b3eb-e62de1de12f1",
   "metadata": {},
   "source": [
    "# <b>Week 6 Python</b>"
   ]
  },
  {
   "cell_type": "markdown",
   "id": "b55e4001-b89c-495c-ac93-3ac7ba7354b8",
   "metadata": {},
   "source": [
    "## Good Design"
   ]
  },
  {
   "cell_type": "code",
   "execution_count": 6,
   "id": "64568cb6-1521-4f3c-856f-cef7259b79af",
   "metadata": {
    "tags": []
   },
   "outputs": [
    {
     "name": "stdin",
     "output_type": "stream",
     "text": [
      "x:  q\n"
     ]
    },
    {
     "name": "stdout",
     "output_type": "stream",
     "text": [
      "Not an Integer\n"
     ]
    },
    {
     "name": "stdin",
     "output_type": "stream",
     "text": [
      "x:  f\n"
     ]
    },
    {
     "name": "stdout",
     "output_type": "stream",
     "text": [
      "Not an Integer\n"
     ]
    },
    {
     "name": "stdin",
     "output_type": "stream",
     "text": [
      "x:  7\n",
      "y:  b\n"
     ]
    },
    {
     "name": "stdout",
     "output_type": "stream",
     "text": [
      "Not an Integer\n"
     ]
    },
    {
     "name": "stdin",
     "output_type": "stream",
     "text": [
      "y:  6\n"
     ]
    },
    {
     "name": "stdout",
     "output_type": "stream",
     "text": [
      "13\n"
     ]
    }
   ],
   "source": [
    "def main():\n",
    "    x = get_int(\"x: \")\n",
    "    y = get_int(\"y: \")\n",
    "    print(x + y)\n",
    "\n",
    "\n",
    "def get_int(prompt):\n",
    "    try:\n",
    "        return int(input(prompt))\n",
    "    except ValueError:\n",
    "        print(\"Not an Integer\")\n",
    "        return get_int(prompt)\n",
    "\n",
    "\n",
    "main()"
   ]
  },
  {
   "cell_type": "markdown",
   "id": "ecd285a0-0dfa-4e22-a5e8-7c3f311d64cf",
   "metadata": {},
   "source": [
    "Official CS50 version:"
   ]
  },
  {
   "cell_type": "code",
   "execution_count": 7,
   "id": "eadab1e3-72f3-4752-b397-de38d319f902",
   "metadata": {
    "tags": []
   },
   "outputs": [
    {
     "name": "stdin",
     "output_type": "stream",
     "text": [
      "Height:  a\n"
     ]
    },
    {
     "name": "stdout",
     "output_type": "stream",
     "text": [
      "Not an Integer\n"
     ]
    },
    {
     "name": "stdin",
     "output_type": "stream",
     "text": [
      "Height:  4\n"
     ]
    }
   ],
   "source": [
    "def main():\n",
    "    get_int(\"Height: \")\n",
    "\n",
    "def get_int(prompt):\n",
    "    while True:\n",
    "        try:\n",
    "            return int(input(prompt))\n",
    "        except ValueError:\n",
    "            print(\"Not an Integer\")\n",
    "    \n",
    "main()"
   ]
  },
  {
   "cell_type": "markdown",
   "id": "1b899284-f30a-4ffb-83c7-73f9ce4b60f1",
   "metadata": {},
   "source": [
    "## `for` loop and `else`"
   ]
  },
  {
   "cell_type": "code",
   "execution_count": 9,
   "id": "7ff50f1d-d1af-4bb2-8c80-3daec0d1bc42",
   "metadata": {
    "tags": []
   },
   "outputs": [
    {
     "name": "stdin",
     "output_type": "stream",
     "text": [
      "Name:  David\n"
     ]
    },
    {
     "name": "stdout",
     "output_type": "stream",
     "text": [
      "Found\n"
     ]
    }
   ],
   "source": [
    "names = ['Carter', 'David', 'John']\n",
    "\n",
    "name = input('Name: ')\n",
    "\n",
    "for n in names:\n",
    "    if n == name:\n",
    "        print('Found')\n",
    "        break\n",
    "else:\n",
    "    print('Not found')"
   ]
  },
  {
   "cell_type": "markdown",
   "id": "71cd6ca4-9770-4074-9ccf-af6eec9c1339",
   "metadata": {},
   "source": [
    "## `argv`"
   ]
  },
  {
   "cell_type": "markdown",
   "id": "89ff5779-db0a-4a44-8454-8e0eae7365b7",
   "metadata": {},
   "source": [
    "```python\n",
    "from sys import argv\n",
    "\n",
    "if len(argv) == 2:\n",
    "    print(f\"Hello, {argv[1]}\")\n",
    "else:\n",
    "    print('Hello, world')\n",
    "```"
   ]
  },
  {
   "cell_type": "markdown",
   "id": "18ca8be1-860e-4ecb-97a2-6d15cfe9fd2f",
   "metadata": {},
   "source": [
    "<center>\n",
    "    <img src=\"data/images/Screenshot_20231104_150424.png\" alt=\"argv\" style=\"width: 1200px\">\n",
    "    <p style=\"text-align: center\"><i>argv</i></p>"
   ]
  },
  {
   "cell_type": "markdown",
   "id": "c60b9548-c8fe-4454-8eac-d78bd5f79713",
   "metadata": {},
   "source": [
    "## `sys.exit`"
   ]
  },
  {
   "cell_type": "markdown",
   "id": "fb516a9a-c9c1-4203-b39f-9ba8d8dc21b5",
   "metadata": {},
   "source": [
    "```python\n",
    "import sys\n",
    "\n",
    "if len(sys.argv) != 2:\n",
    "    print(\"Missing command-line arguments\")\n",
    "    sys.exit(1)\n",
    "\n",
    "print(f\"Hello, {sys.argv[1]}\")\n",
    "sys.exit(0)\n",
    "```"
   ]
  },
  {
   "cell_type": "markdown",
   "id": "241cf6d7-1489-42d3-9d3b-435a8cb97025",
   "metadata": {},
   "source": [
    "<center>\n",
    "    <img src=\"data/images/Screenshot_20231104_150945.png\" alt=\"sys.exit\" style=\"width: 1200px\">\n",
    "    <p style=\"text-align: center\"><i>sys.exit</i></p>"
   ]
  },
  {
   "cell_type": "markdown",
   "id": "5b47171a-5541-431e-bf01-dcc087db30f5",
   "metadata": {},
   "source": []
  },
  {
   "cell_type": "markdown",
   "id": "4e0a4815-ab43-484f-9927-6549aa34263f",
   "metadata": {},
   "source": []
  },
  {
   "cell_type": "markdown",
   "id": "323a317c-606e-44e5-971e-95460bd3cc79",
   "metadata": {},
   "source": []
  },
  {
   "cell_type": "markdown",
   "id": "3d50f434-f320-4a9a-b4c0-1260dd31d7a3",
   "metadata": {},
   "source": []
  },
  {
   "cell_type": "markdown",
   "id": "8bee07bc-07b0-4d05-8bb4-c1a69fe6acae",
   "metadata": {},
   "source": []
  },
  {
   "cell_type": "markdown",
   "id": "a7bec813-da1c-4bf0-9f69-e9d7e81940f9",
   "metadata": {},
   "source": []
  },
  {
   "cell_type": "markdown",
   "id": "e52187aa-6fc3-450f-95cf-d03d12b5d1c6",
   "metadata": {},
   "source": []
  },
  {
   "cell_type": "markdown",
   "id": "7ccdfb28-90c4-45fe-a9ae-6820721de0b4",
   "metadata": {},
   "source": []
  },
  {
   "cell_type": "markdown",
   "id": "2e3472c9-9e2a-4a4c-9879-daa5b26cc4c6",
   "metadata": {},
   "source": []
  },
  {
   "cell_type": "markdown",
   "id": "5fa5f81d-c000-413c-b401-c97d7863b169",
   "metadata": {},
   "source": []
  },
  {
   "cell_type": "markdown",
   "id": "99165460-509a-4473-b3da-fb95178afc44",
   "metadata": {},
   "source": []
  },
  {
   "cell_type": "markdown",
   "id": "94e97807-6758-4e7a-8bb3-7d88ae24f064",
   "metadata": {},
   "source": []
  },
  {
   "cell_type": "markdown",
   "id": "a1087d8a-9891-4c59-8e34-5262b72bbf23",
   "metadata": {},
   "source": []
  },
  {
   "cell_type": "markdown",
   "id": "dfd73f58-9e1f-46db-8d6c-7ab8dfc5740f",
   "metadata": {},
   "source": []
  },
  {
   "cell_type": "markdown",
   "id": "1366f1b0-a4f4-4c3c-8e59-323678562b04",
   "metadata": {},
   "source": []
  },
  {
   "cell_type": "markdown",
   "id": "04de45d2-94d9-431d-97da-52a742859385",
   "metadata": {},
   "source": []
  },
  {
   "cell_type": "markdown",
   "id": "27582d31-31a1-4f8d-baf8-9662f9ae8b17",
   "metadata": {},
   "source": []
  },
  {
   "cell_type": "markdown",
   "id": "bc8746f9-d39c-4243-9d26-1df785be2215",
   "metadata": {},
   "source": []
  },
  {
   "cell_type": "markdown",
   "id": "f0a10727-29f6-4599-a4ef-168c3a852365",
   "metadata": {},
   "source": []
  },
  {
   "cell_type": "markdown",
   "id": "826ce09c-456c-45fd-9b14-67940b99901c",
   "metadata": {},
   "source": []
  },
  {
   "cell_type": "markdown",
   "id": "fb7c447e-ae39-43aa-abf0-ce7f89212394",
   "metadata": {},
   "source": []
  },
  {
   "cell_type": "markdown",
   "id": "4b144494-5393-4b9b-a015-cfb19da6c66d",
   "metadata": {},
   "source": []
  },
  {
   "cell_type": "markdown",
   "id": "54c0c2ad-8e06-4b3c-b17d-39f1e706a62f",
   "metadata": {},
   "source": []
  },
  {
   "cell_type": "markdown",
   "id": "48b306d5-02f6-494a-82b3-a86fcec08837",
   "metadata": {},
   "source": []
  },
  {
   "cell_type": "markdown",
   "id": "f4aef3c2-9bbe-45cd-a66a-99e7a22ee935",
   "metadata": {},
   "source": []
  },
  {
   "cell_type": "markdown",
   "id": "f870720f-9c50-49fa-9fb7-41b73efc2314",
   "metadata": {},
   "source": []
  },
  {
   "cell_type": "markdown",
   "id": "fe0133e8-f078-499c-9058-0aeb8ce51ae8",
   "metadata": {},
   "source": []
  },
  {
   "cell_type": "markdown",
   "id": "b1af3e97-ca29-43e5-b5e0-b71091c9d6a5",
   "metadata": {},
   "source": []
  },
  {
   "cell_type": "markdown",
   "id": "14a79334-4827-47cf-9b5f-72c68b87bdd7",
   "metadata": {},
   "source": []
  },
  {
   "cell_type": "markdown",
   "id": "e92441ef-0fe3-43a4-be7a-24033ddf9d14",
   "metadata": {},
   "source": []
  },
  {
   "cell_type": "markdown",
   "id": "2e117545-e28e-4782-b644-bb28ab8b617a",
   "metadata": {},
   "source": []
  },
  {
   "cell_type": "markdown",
   "id": "00951589-07a5-4267-b002-d492c46af80f",
   "metadata": {},
   "source": []
  },
  {
   "cell_type": "markdown",
   "id": "e1d2004e-d054-475b-a161-21b776e7408a",
   "metadata": {},
   "source": []
  },
  {
   "cell_type": "markdown",
   "id": "6d179a37-964c-4cfe-b88f-bac09e0557e9",
   "metadata": {},
   "source": []
  },
  {
   "cell_type": "markdown",
   "id": "f387ee0c-aadf-4634-8764-48fedaef77b3",
   "metadata": {},
   "source": []
  },
  {
   "cell_type": "markdown",
   "id": "20edc978-beb5-40f1-b706-805f7872cb06",
   "metadata": {},
   "source": []
  },
  {
   "cell_type": "markdown",
   "id": "ad36991d-e117-4051-9fe3-8caabcb8263a",
   "metadata": {},
   "source": []
  },
  {
   "cell_type": "markdown",
   "id": "7b3bd34e-0fff-4437-add3-b33f0b544f8b",
   "metadata": {},
   "source": []
  },
  {
   "cell_type": "markdown",
   "id": "e58f287c-ea15-4d20-b727-bdb2a7c1e715",
   "metadata": {},
   "source": []
  },
  {
   "cell_type": "markdown",
   "id": "f5349463-8e30-41d6-a462-68f075920a48",
   "metadata": {},
   "source": []
  },
  {
   "cell_type": "markdown",
   "id": "0e56c927-8033-49a7-8be0-6da9ed6129d8",
   "metadata": {},
   "source": []
  },
  {
   "cell_type": "markdown",
   "id": "9bbbc87f-cff8-4a6b-80f8-c9fd0f86b8d1",
   "metadata": {},
   "source": []
  },
  {
   "cell_type": "markdown",
   "id": "e37c0e19-ceea-46c6-b3fd-35c3866734e1",
   "metadata": {},
   "source": []
  },
  {
   "cell_type": "markdown",
   "id": "a9c7d8a4-1a4e-4a28-bcbf-be8fd1289b0d",
   "metadata": {},
   "source": []
  },
  {
   "cell_type": "markdown",
   "id": "8bcff85e-f5e5-421c-9f6f-088a4a8d1839",
   "metadata": {},
   "source": []
  },
  {
   "cell_type": "markdown",
   "id": "b305f81d-d2dd-4e66-b454-501302ae308a",
   "metadata": {},
   "source": []
  },
  {
   "cell_type": "markdown",
   "id": "4a5700d3-d7c0-4f47-be48-17b54673e03d",
   "metadata": {},
   "source": []
  },
  {
   "cell_type": "markdown",
   "id": "3a7b2244-f959-4251-87b3-9a547852f30f",
   "metadata": {},
   "source": []
  },
  {
   "cell_type": "markdown",
   "id": "2bf1056c-f633-4e7c-bef9-98cd0a6b7b5b",
   "metadata": {},
   "source": []
  },
  {
   "cell_type": "markdown",
   "id": "6da02c26-755d-4b60-a583-8e5d9691a438",
   "metadata": {},
   "source": []
  },
  {
   "cell_type": "markdown",
   "id": "10026109-4736-4f0c-b672-ec2a8280d12f",
   "metadata": {},
   "source": []
  },
  {
   "cell_type": "markdown",
   "id": "3323ebf5-c2f9-42e5-b3cf-ad6af7f5d79b",
   "metadata": {},
   "source": []
  },
  {
   "cell_type": "markdown",
   "id": "2c14a213-5b9f-4b0a-b715-48212b587b55",
   "metadata": {},
   "source": []
  },
  {
   "cell_type": "markdown",
   "id": "6afb0099-1ecd-434c-9965-1e6ceda04eff",
   "metadata": {},
   "source": []
  },
  {
   "cell_type": "markdown",
   "id": "ec54d892-d84c-4346-9ec2-20c5c0d939bb",
   "metadata": {},
   "source": []
  },
  {
   "cell_type": "markdown",
   "id": "d6b12e7c-1c0b-4961-b65e-656017353be7",
   "metadata": {},
   "source": []
  },
  {
   "cell_type": "markdown",
   "id": "3a74c9d1-f1c7-4b75-8f6d-b64940857a7a",
   "metadata": {},
   "source": []
  },
  {
   "cell_type": "markdown",
   "id": "7a7d8567-95d8-4b87-bc08-e75af2442015",
   "metadata": {},
   "source": []
  },
  {
   "cell_type": "markdown",
   "id": "bfb0d0c3-1636-4106-a08a-049770108ce4",
   "metadata": {},
   "source": []
  },
  {
   "cell_type": "markdown",
   "id": "5ec8f9c8-38b8-494e-ab99-1bae9081e5cf",
   "metadata": {},
   "source": []
  },
  {
   "cell_type": "markdown",
   "id": "17ba36c7-67e7-4fc6-bf81-3b2ac49f9a0b",
   "metadata": {},
   "source": []
  },
  {
   "cell_type": "markdown",
   "id": "33616969-eef0-4dc9-9d6e-33ce9f919dbc",
   "metadata": {},
   "source": []
  },
  {
   "cell_type": "markdown",
   "id": "fe766e77-ff44-4d7b-aff0-447cd00ba2af",
   "metadata": {},
   "source": []
  },
  {
   "cell_type": "markdown",
   "id": "ce08f745-33ce-4fd2-a787-3007f10b91fa",
   "metadata": {},
   "source": []
  },
  {
   "cell_type": "markdown",
   "id": "7d22d52e-ab2a-4ce0-8763-eafa476c8a67",
   "metadata": {},
   "source": []
  },
  {
   "cell_type": "markdown",
   "id": "739a4f46-8d67-4d67-989f-38ee10c29830",
   "metadata": {},
   "source": []
  }
 ],
 "metadata": {
  "kernelspec": {
   "display_name": "C",
   "language": "c",
   "name": "c"
  },
  "language_info": {
   "codemirror_mode": {
    "name": "ipython",
    "version": 3
   },
   "file_extension": ".py",
   "mimetype": "text/x-python",
   "name": "python",
   "nbconvert_exporter": "python",
   "pygments_lexer": "ipython3",
   "version": "3.12.0"
  }
 },
 "nbformat": 4,
 "nbformat_minor": 5
}
