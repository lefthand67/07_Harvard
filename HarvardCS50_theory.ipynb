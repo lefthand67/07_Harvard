{
 "cells": [
  {
   "cell_type": "markdown",
   "id": "2d89a647-ffb9-4ec5-a488-1b279920f8d2",
   "metadata": {},
   "source": [
    "# CS50 from [Harvard](https://learning.edx.org/course/course-v1:HarvardX+CS50+X/home) THEORY"
   ]
  },
  {
   "cell_type": "markdown",
   "id": "db21a921-01f7-4a75-bbdc-f66c9aeddabb",
   "metadata": {},
   "source": [
    "# Required installations "
   ]
  },
  {
   "cell_type": "markdown",
   "id": "a1d2d6af-9b33-4de8-b3a7-a22e0d2de50e",
   "metadata": {},
   "source": [
    "(using bash or bash kernel):\n",
    "\n",
    "- jupyter [C kernel](https://github.com/brendan-rius/jupyter-c-kernel)"
   ]
  },
  {
   "cell_type": "code",
   "execution_count": 1,
   "id": "d0aaaad9-0163-426b-b8cf-f0b2e35e4783",
   "metadata": {
    "tags": []
   },
   "outputs": [
    {
     "name": "stdout",
     "output_type": "stream",
     "text": [
      "Defaulting to user installation because normal site-packages is not writeable\n",
      "\u001b[31mERROR: You must give at least one requirement to install (see \"pip help install\")\u001b[0m\u001b[31m\n",
      "\u001b[0m\n",
      "Defaulting to user installation because normal site-packages is not writeable\n",
      "Collecting jupyter-c-kernel\n",
      "  Using cached jupyter_c_kernel-1.2.2.tar.gz (4.4 kB)\n",
      "  Installing build dependencies ... \u001b[?25ldone\n",
      "\u001b[?25h  Getting requirements to build wheel ... \u001b[?25ldone\n",
      "\u001b[?25h  Preparing metadata (pyproject.toml) ... \u001b[?25ldone\n",
      "\u001b[?25hBuilding wheels for collected packages: jupyter-c-kernel\n",
      "  Building wheel for jupyter-c-kernel (pyproject.toml) ... \u001b[?25ldone\n",
      "\u001b[?25h  Created wheel for jupyter-c-kernel: filename=jupyter_c_kernel-1.2.2-py3-none-any.whl size=6593 sha256=c86d514331396a0e07e7aefe2edafab3f3397f6caf348c829f1982c3fbb18c7f\n",
      "  Stored in directory: /home/vadim/.cache/pip/wheels/19/d0/8e/d10dce3d4d69225b8deb1914977204513b517e51a22bfe4a11\n",
      "Successfully built jupyter-c-kernel\n",
      "Installing collected packages: jupyter-c-kernel\n",
      "Successfully installed jupyter-c-kernel-1.2.2\n"
     ]
    }
   ],
   "source": [
    "pip install --upgrade\n",
    "pip install jupyter-c-kernel"
   ]
  },
  {
   "cell_type": "code",
   "execution_count": 7,
   "id": "18bfbf4c-7c45-4cb7-aa82-b31962c15faa",
   "metadata": {
    "tags": []
   },
   "outputs": [
    {
     "name": "stdout",
     "output_type": "stream",
     "text": [
      "Installing IPython kernel spec\n",
      "/home/vadim/.local/bin/install_c_kernel:32: DeprecationWarning: replace is ignored. Installing a kernelspec always replaces an existing installation\n",
      "  KernelSpecManager().install_kernel_spec(td, 'c', user=user, replace=True, prefix=prefix)\n"
     ]
    }
   ],
   "source": [
    "install_c_kernel"
   ]
  },
  {
   "cell_type": "code",
   "execution_count": 2,
   "id": "ad7b72ad-c4f8-4e34-b3cd-fa41d231dcb5",
   "metadata": {
    "tags": []
   },
   "outputs": [
    {
     "name": "stdout",
     "output_type": "stream",
     "text": [
      "[ListKernelSpecs] WARNING | Native kernel (python3) is not available\n",
      "[ListKernelSpecs] WARNING | Native kernel (python3) is not available\n",
      "Available kernels:\n",
      "  bash        /home/vadim/.local/share/jupyter/kernels/bash\n",
      "  c           /home/vadim/.local/share/jupyter/kernels/c\n",
      "  java        /home/vadim/.local/share/jupyter/kernels/java\n",
      "  venv3.11    /home/vadim/.local/share/jupyter/kernels/venv3.11\n",
      "  venv3.8     /home/vadim/.local/share/jupyter/kernels/venv3.8\n"
     ]
    }
   ],
   "source": [
    "jupyter kernelspec list"
   ]
  },
  {
   "cell_type": "markdown",
   "id": "2992cb56-b8ef-45be-8974-0f77147bfd55",
   "metadata": {},
   "source": [
    "- [cs50 library](https://cs50.readthedocs.io/libraries/cs50/c/)"
   ]
  },
  {
   "cell_type": "code",
   "execution_count": null,
   "id": "cf0bf088-0ab2-4024-b254-58c8895f8dbe",
   "metadata": {},
   "outputs": [],
   "source": [
    "curl -s https://packagecloud.io/install/repositories/cs50/repo/script.deb.sh | sudo bash"
   ]
  },
  {
   "cell_type": "code",
   "execution_count": null,
   "id": "8d4e251a-7741-4d17-b82b-0847f3a14978",
   "metadata": {},
   "outputs": [],
   "source": [
    "sudo apt install libcs50"
   ]
  },
  {
   "cell_type": "markdown",
   "id": "101623fa-ca1f-43de-869b-27098123c666",
   "metadata": {
    "jp-MarkdownHeadingCollapsed": true
   },
   "source": [
    "# <b>Week 1 C</b>"
   ]
  },
  {
   "cell_type": "markdown",
   "id": "eec8c40b-ddaa-4006-a80f-240014c35bd7",
   "metadata": {
    "jp-MarkdownHeadingCollapsed": true,
    "tags": []
   },
   "source": [
    "## 1.1 Data Types"
   ]
  },
  {
   "cell_type": "markdown",
   "id": "efa9557d-3525-4e5f-b73d-cfdb5b40bb7f",
   "metadata": {},
   "source": [
    "### Built-in Types"
   ]
  },
  {
   "cell_type": "markdown",
   "id": "85b9a9ec-d036-40f0-b815-8e3512939ce1",
   "metadata": {},
   "source": [
    "|data type|description|\n",
    "|-|-|\n",
    "|`int`|integers, 4 bytes (32 bits) of memory, range [$-2^{31}$; $2^{31}-1$]|\n",
    "|`unsigned int`|positive integers, range [0; $2^{32}-1$]|\n",
    "|`char`|a single character, 1 byte (8 bits) of memory, range [-128; 127]|\n",
    "|`float`|real numbers, 4 bytes, limited precision|\n",
    "|`double`|\"double precision\", real numbers, 8 bytes, much higher precision|\n",
    "|`void`|type, not a data type; don't return a value|\n",
    "|`struct`|allows to create a new variable|\n",
    "|`typedef`||"
   ]
  },
  {
   "cell_type": "markdown",
   "id": "998c6bf5-4029-4120-b0ab-c28768a6c7e2",
   "metadata": {},
   "source": [
    "### `int`"
   ]
  },
  {
   "cell_type": "code",
   "execution_count": 1,
   "id": "e64d47ce-19e7-465a-8eb1-4d411ed78f6f",
   "metadata": {
    "execution": {
     "iopub.execute_input": "2023-07-10T12:18:40.540922Z",
     "iopub.status.busy": "2023-07-10T12:18:40.540247Z",
     "iopub.status.idle": "2023-07-10T12:18:40.556478Z",
     "shell.execute_reply": "2023-07-10T12:18:40.554879Z",
     "shell.execute_reply.started": "2023-07-10T12:18:40.540886Z"
    },
    "tags": []
   },
   "outputs": [
    {
     "data": {
      "text/plain": [
       "-2147483648"
      ]
     },
     "execution_count": 1,
     "metadata": {},
     "output_type": "execute_result"
    }
   ],
   "source": [
    "-2 ** 31"
   ]
  },
  {
   "cell_type": "code",
   "execution_count": 4,
   "id": "f8b01399-dd49-4cb7-9f5f-965545935b47",
   "metadata": {
    "execution": {
     "iopub.execute_input": "2023-07-10T12:26:06.578046Z",
     "iopub.status.busy": "2023-07-10T12:26:06.577487Z",
     "iopub.status.idle": "2023-07-10T12:26:06.584821Z",
     "shell.execute_reply": "2023-07-10T12:26:06.583442Z",
     "shell.execute_reply.started": "2023-07-10T12:26:06.578014Z"
    },
    "tags": []
   },
   "outputs": [
    {
     "data": {
      "text/plain": [
       "4294967295"
      ]
     },
     "execution_count": 4,
     "metadata": {},
     "output_type": "execute_result"
    }
   ],
   "source": [
    "2 ** 32 - 1  # minus zero"
   ]
  },
  {
   "cell_type": "markdown",
   "id": "2b69b281-168b-454b-8066-fcad766120f2",
   "metadata": {},
   "source": [
    "### Other Data Types"
   ]
  },
  {
   "cell_type": "markdown",
   "id": "ad06c699-006f-48e5-a7d5-fc23482003fa",
   "metadata": {},
   "source": [
    "```c\n",
    "#include <stdio.h>\n",
    "#include <cs50.h> \n",
    "```\n",
    "\n",
    "|data type|description|\n",
    "|-|-|\n",
    "|`bool`|stores a Boolean value `true` or `false`|\n",
    "|`string`|stores a series of `char`s like words and sentences|"
   ]
  },
  {
   "cell_type": "markdown",
   "id": "b415c638-1023-4c3b-a724-049631c31271",
   "metadata": {},
   "source": [
    "### Creating variables"
   ]
  },
  {
   "cell_type": "markdown",
   "id": "7c889986-8f37-4321-9e88-ad73944a5cba",
   "metadata": {},
   "source": [
    "```c\n",
    "int number;              // declaration\n",
    "number = 17;             // assignment\n",
    "char letter;             // declaration\n",
    "letter = 'a';            // assignment\n",
    "\n",
    "int height, width;       // declaration\n",
    "float sqrt1, sqrt2, pi;  // declaration\n",
    "\n",
    "int number = 17;         // initialization\n",
    "char letter = 'a';       // initialization\n",
    "```\n",
    "\n",
    "In general, it's good practice to only _declare_ variables when you need them.\n",
    "\n",
    "Be aware of re-declaring variables! It leads to unexpected consequences."
   ]
  },
  {
   "cell_type": "markdown",
   "id": "b5dc2ef2-f8af-49f5-b8e5-08e5b51c8217",
   "metadata": {
    "jp-MarkdownHeadingCollapsed": true
   },
   "source": [
    "## 1.2 Operators"
   ]
  },
  {
   "cell_type": "markdown",
   "id": "a3304eb5-85b2-4cc1-8b9d-9da2958444a6",
   "metadata": {},
   "source": [
    "### Arithmetic Operators"
   ]
  },
  {
   "cell_type": "markdown",
   "id": "ab5b5758-9ea5-46ec-80a6-43321fb850f6",
   "metadata": {},
   "source": [
    "|operator|description|\n",
    "|-|-|\n",
    "|`+`|addition|\n",
    "|`-`|subtraction|\n",
    "|`*`|multiplication|\n",
    "|`/`|division|\n",
    "|`%`|modulo division; behaves differently in different language when using negative values|\n",
    "\n",
    "||eqiuvalent||\n",
    "|-|-|-|\n",
    "|x++|<=>|x = x + 1|\n",
    "|x--|<=>|x = x - 1|\n",
    "|x \\*= 2|<=>|x = x\\*2|"
   ]
  },
  {
   "cell_type": "markdown",
   "id": "fead016d-0daa-48a2-9704-7d0c630f68d0",
   "metadata": {},
   "source": [
    "```c\n",
    "int x = y + 1;\n",
    "x = x * 5;\n",
    "\n",
    "int m = 13 % 4;  // m is 1\n",
    "```"
   ]
  },
  {
   "cell_type": "markdown",
   "id": "e816e00a-5c0c-44ce-8208-6b9600a0c737",
   "metadata": {},
   "source": [
    "#### Modulo `%` in different languages"
   ]
  },
  {
   "cell_type": "code",
   "execution_count": 7,
   "id": "45542851-5cc6-48b7-890a-fe28cb9927d1",
   "metadata": {
    "execution": {
     "iopub.execute_input": "2023-07-19T19:20:49.080578Z",
     "iopub.status.busy": "2023-07-19T19:20:49.080237Z",
     "iopub.status.idle": "2023-07-19T19:20:49.173465Z",
     "shell.execute_reply": "2023-07-19T19:20:49.171520Z",
     "shell.execute_reply.started": "2023-07-19T19:20:49.080556Z"
    },
    "tags": []
   },
   "outputs": [
    {
     "name": "stdout",
     "output_type": "stream",
     "text": [
      "7\n"
     ]
    }
   ],
   "source": [
    "// C\n",
    "\n",
    "#include <stdio.h>\n",
    "\n",
    "int main(void)\n",
    "{\n",
    "    int x, y;\n",
    "    int result;\n",
    "\n",
    "    x = 19;\n",
    "    y = -12;\n",
    "    result = x % y;\n",
    "\n",
    "    printf(\"%i\\n\", result);\n",
    "\n",
    "    return 0;\n",
    "}"
   ]
  },
  {
   "cell_type": "code",
   "execution_count": 1,
   "id": "e9f29700-ca65-42e8-9310-b754b5108359",
   "metadata": {
    "execution": {
     "iopub.execute_input": "2023-07-19T19:21+0000",
     "iopub.status.busy": "2023-07-19T19:21+0000",
     "iopub.status.idle": "2023-07-19T19:21+0000",
     "shell.execute_reply": "2023-07-19T19:21+0000"
    },
    "tags": []
   },
   "outputs": [
    {
     "name": "stdout",
     "output_type": "stream",
     "text": [
      "Modulo in Java:\n",
      "19 % -12 = 7\n",
      "\n",
      "Explanation:\n",
      "19 / -12 = -1\n",
      "-12 * -1 = 12\n",
      "19 - 12 = 7\n"
     ]
    }
   ],
   "source": [
    "// Java\n",
    "\n",
    "int a = 19;\n",
    "int b = -12;\n",
    "int c = a / b;\n",
    "\n",
    "System.out.println(\"Modulo in Java:\");\n",
    "System.out.println(a + \" % \" + b + \" = \" + a%b);\n",
    "System.out.println(\"\\nExplanation:\");\n",
    "System.out.println(a + \" / \" + b + \" = \" + c);\n",
    "System.out.println(b + \" * \" + c + \" = \" + b*c);\n",
    "System.out.println(a + \" - \" + b*c + \" = \" + (a - b*c));"
   ]
  },
  {
   "cell_type": "markdown",
   "id": "4885b9d0-e820-469e-9fe0-09243e714ba3",
   "metadata": {},
   "source": [
    "C and Java do not have built-in floor division, thus we get the plain integer part after division of two integers (remainding part is just cut off).\n",
    "\n",
    "Python does have built-in floor division which means we get the intger part rounded to the lower integer."
   ]
  },
  {
   "cell_type": "code",
   "execution_count": 1,
   "id": "76a3c81f-74d9-4150-9605-66c488b3df38",
   "metadata": {
    "execution": {
     "iopub.execute_input": "2023-07-19T19:21:39.316067Z",
     "iopub.status.busy": "2023-07-19T19:21:39.315587Z",
     "iopub.status.idle": "2023-07-19T19:21:39.327626Z",
     "shell.execute_reply": "2023-07-19T19:21:39.326106Z",
     "shell.execute_reply.started": "2023-07-19T19:21:39.316022Z"
    },
    "tags": []
   },
   "outputs": [
    {
     "name": "stdout",
     "output_type": "stream",
     "text": [
      "Modulo in Python:\n",
      "19 % -12 = -5\n",
      "\n",
      "Explanation:\n",
      "19 // -12 = -2\n",
      "-12 * -2 = 24\n",
      "19 - 24 = -5\n"
     ]
    }
   ],
   "source": [
    "a = 19\n",
    "b = -12\n",
    "c = a // b\n",
    "\n",
    "print(\"Modulo in Python:\")\n",
    "print(f\"{a} % {b} = {a%b}\")\n",
    "print(\"\\nExplanation:\")\n",
    "print(f\"{a} // {b} = {c}\")\n",
    "print(f\"{b} * {c} = {b * c}\")\n",
    "print(f\"{a} - {b * c} = {a - b*c}\")"
   ]
  },
  {
   "cell_type": "markdown",
   "id": "57b2192f-a26a-497b-a7d1-3459523706a3",
   "metadata": {},
   "source": [
    "### Boolean expressions"
   ]
  },
  {
   "cell_type": "markdown",
   "id": "12306e66-4f2a-4e88-ab0b-a3231bb49207",
   "metadata": {},
   "source": [
    "In C, every non-zero value is equivalent to `true` and zero is `false`.\n",
    "\n",
    "Two main types of Boolean expressions:\n",
    "\n",
    "- logical operators:\n",
    "    - logical AND `&&` (ampersand),\n",
    "    - logical OR `||` (vertical bars),\n",
    "    - logical NOT `!` (exclamation sign);<br>\n",
    "<br>    \n",
    "- relational operators:\n",
    "    - less than `x < y`,\n",
    "    - less than or equal to `x <= y`,\n",
    "    - greater than `x > y`,\n",
    "    - greater than or equal to `x >= y`,\n",
    "    - equality `x == y`,\n",
    "    - inequality `x != y`."
   ]
  },
  {
   "cell_type": "markdown",
   "id": "03771d55-1c71-4259-813e-c14e9443cf51",
   "metadata": {
    "jp-MarkdownHeadingCollapsed": true,
    "tags": []
   },
   "source": [
    "## 1.3 Conditional Statements (branches)"
   ]
  },
  {
   "cell_type": "markdown",
   "id": "f8d5d66e-7c1f-4c22-90c7-6ea267c805af",
   "metadata": {},
   "source": [
    "### If-else counstruction"
   ]
  },
  {
   "cell_type": "markdown",
   "id": "13542025-910e-4ff9-9639-7318fb7352f3",
   "metadata": {},
   "source": [
    "#### Mutually-exclusive branches"
   ]
  },
  {
   "cell_type": "markdown",
   "id": "0ad75d60-a4a5-4bd9-b424-ed4447af6b67",
   "metadata": {},
   "source": [
    "```c\n",
    "if (boolean-expression1)\n",
    "{\n",
    "    // first branch\n",
    "}\n",
    "else if (boolean-expression2)\n",
    "{\n",
    "    // second branch\n",
    "}\n",
    "else\n",
    "{\n",
    "    // third branch\n",
    "}\n",
    "```"
   ]
  },
  {
   "cell_type": "markdown",
   "id": "b88aa4de-e3dd-43c4-8261-646f16612b3e",
   "metadata": {},
   "source": [
    "#### Non-mutually exclusive branches"
   ]
  },
  {
   "cell_type": "markdown",
   "id": "2a9e7304-99a7-4ab9-9e33-35126b3e3309",
   "metadata": {},
   "source": [
    "```c\n",
    "if (boolean-expression1)\n",
    "{\n",
    "    // first branch\n",
    "}\n",
    "if (boolean-expression2)\n",
    "{\n",
    "    // second branch\n",
    "}\n",
    "else\n",
    "{\n",
    "    // third branch\n",
    "}\n",
    "```"
   ]
  },
  {
   "cell_type": "markdown",
   "id": "79772ea9-2c3a-48d3-af91-0134d51ae468",
   "metadata": {},
   "source": [
    "### Switch"
   ]
  },
  {
   "cell_type": "markdown",
   "id": "4d9ed5f7-78f9-40e4-98cb-054eba5b8453",
   "metadata": {},
   "source": [
    "```c\n",
    "int x = GetInt();\n",
    "switch(x)\n",
    "{\n",
    "    case 1:\n",
    "        printf(\"One!\"\\n);\n",
    "        break;\n",
    "    case 2:\n",
    "        printf(\"Two!\"\\n);\n",
    "        break;\n",
    "    default:\n",
    "        printf(\"Sorry!\"\\n);\n",
    "}\n",
    "```\n",
    "\n",
    "You have to break the tree otherwise you will have got all the branches till the end."
   ]
  },
  {
   "cell_type": "markdown",
   "id": "95e02b99-0c97-4be1-a31c-12583f97f4e4",
   "metadata": {},
   "source": [
    "### `?:`"
   ]
  },
  {
   "cell_type": "markdown",
   "id": "f60931c2-8e4d-4f20-90af-f82beb45fdea",
   "metadata": {},
   "source": [
    "**Ternary operator**:\n",
    "\n",
    "```c\n",
    "int x = (expr) ? 5 : 6;\n",
    "```\n",
    "which is the same as:\n",
    "\n",
    "```c\n",
    "int x;\n",
    "if(expr)\n",
    "{\n",
    "    x = 5;\n",
    "}\n",
    "else\n",
    "{\n",
    "    x = 6;\n",
    "}\n",
    "```"
   ]
  },
  {
   "cell_type": "markdown",
   "id": "ca544532-e894-4dad-a8a4-79ded4dc6ba4",
   "metadata": {
    "jp-MarkdownHeadingCollapsed": true
   },
   "source": [
    "## 1.4 Loops"
   ]
  },
  {
   "cell_type": "markdown",
   "id": "9307580b-c580-4bce-97a6-81202cbc9bce",
   "metadata": {},
   "source": [
    "### `while (true)`"
   ]
  },
  {
   "cell_type": "markdown",
   "id": "0248d1ed-ae03-462f-aa92-563d4dd3d0ad",
   "metadata": {},
   "source": [
    "Infinite loop:\n",
    "\n",
    "```c\n",
    "while(true)\n",
    "{\n",
    "    \n",
    "}\n",
    "```"
   ]
  },
  {
   "cell_type": "markdown",
   "id": "9dd7850d-585e-4b94-b9f7-fe84e822c77d",
   "metadata": {},
   "source": [
    "### `while (boolean expr)`"
   ]
  },
  {
   "cell_type": "markdown",
   "id": "b98d879a-8339-4d97-81d9-66c8de1c767b",
   "metadata": {},
   "source": [
    "```c\n",
    "while (boolean expr)\n",
    "{\n",
    "    \n",
    "}\n",
    "```"
   ]
  },
  {
   "cell_type": "markdown",
   "id": "ee76b32e-d16d-40b4-b9e0-9cd7006af18b",
   "metadata": {},
   "source": [
    "### `do while`"
   ]
  },
  {
   "cell_type": "markdown",
   "id": "ad3585a6-8ca8-4e75-aa93-bba649c18851",
   "metadata": {},
   "source": [
    "```c\n",
    "do\n",
    "{\n",
    "    \n",
    "}\n",
    "while (boolean expr);\n",
    "```"
   ]
  },
  {
   "cell_type": "markdown",
   "id": "35036383-1155-4c18-960c-f451528b1768",
   "metadata": {},
   "source": [
    "### `for` loop"
   ]
  },
  {
   "cell_type": "markdown",
   "id": "5e24dac4-c7c0-4f28-b34f-1bccbb48c1a0",
   "metadata": {},
   "source": [
    "```c\n",
    "for (int i = 0; i < 10; i++)\n",
    "{\n",
    "    \n",
    "}\n",
    "```"
   ]
  },
  {
   "cell_type": "markdown",
   "id": "92aa983e-88ab-43da-8b6a-92b279fabbbe",
   "metadata": {},
   "source": [
    "## 1.5 Command Line - bash"
   ]
  },
  {
   "cell_type": "markdown",
   "id": "a3a33fcb-c585-4488-9e70-84c10a845db2",
   "metadata": {},
   "source": [
    "|command|description|\n",
    "|-|-|\n",
    "|`ls`|list all the files and folders in my current directory|\n",
    "|`cd <directory>`|change directory|\n",
    "|`cd`|move to home dir|\n",
    "|`cd ./`|current directory|\n",
    "|`cd ..`|move to a directory above|\n",
    "|`pwd`|print working (current) directory|\n",
    "|`ctrl + L`, `clear`|clear the screen|\n",
    "|`mkdir <directory>`|make a new directory in current dir|\n",
    "|`cp <src> <dst>`|copy a file to the destination dir|\n",
    "|`cp -r <src dir> <dst dir>`|`-r` means _recursive_|\n",
    "|`rm <file>`|remove a file|\n",
    "|`rm -f <file>`|remove a file without confirmation (forcibly)|\n",
    "|`rm -r <directory>`|delete entire directory|\n",
    "|`rm -rf <directory>`|delete entire directory without confirmation|\n",
    "|mv <src> <dst>|move a file; let us rename files|\n",
    "|chmod||\n",
    "|rmdir||\n",
    "|sudo||\n",
    "|ln||\n",
    "|man||\n",
    "|touch||\n",
    "|diff||\n",
    "|telnet||\n",
    "|||"
   ]
  },
  {
   "cell_type": "markdown",
   "id": "31b5ed2e-878b-4c76-9ab8-66dbc8637aa8",
   "metadata": {
    "jp-MarkdownHeadingCollapsed": true
   },
   "source": [
    "# <b>Week 2 Arrays</b>"
   ]
  },
  {
   "cell_type": "markdown",
   "id": "fa07a891-8912-4772-9285-fb814827432b",
   "metadata": {},
   "source": [
    "## 2.1 Functions"
   ]
  },
  {
   "cell_type": "markdown",
   "id": "9ae119ff-0cf7-4dd3-b03e-f36a1ca7a6b6",
   "metadata": {},
   "source": [
    "Functions = methods = procedures = subroutines.\n",
    "\n",
    "A **fuction** is a black-box with a set of 0+ inputs and 1 output.\n",
    "\n",
    "```c\n",
    "func(a, b, c) => z\n",
    "```\n",
    "\n",
    "- **Function declaration** - should always go atop your code\n",
    "    - <span style=\"color: green\">return-type</span> <span style=\"color: red\">name</span> <span style=\"color: blue\">(argument-list)</span>;"
   ]
  },
  {
   "cell_type": "markdown",
   "id": "9aa754d1-faf2-44f2-a1c5-0af606fc2cad",
   "metadata": {},
   "source": [
    "```c\n",
    "int add_two_integers(int a, int b);\n",
    "float mult_two_integers(int x, int y);\n",
    "```"
   ]
  },
  {
   "cell_type": "markdown",
   "id": "385fc6f5-db9e-450b-ab5f-c1cdc70f98b9",
   "metadata": {},
   "source": [
    "- **Function expression**\n",
    "\n",
    "```c\n",
    "float mult_two_integers(int x, int y)\n",
    "{\n",
    "    float product = x * y;\n",
    "    return product;\n",
    "}\n",
    "```\n",
    "\n",
    "or \n",
    "\n",
    "```c\n",
    "float mult_two_integers(int x, int y)\n",
    "{\n",
    "    return x * y;\n",
    "}\n",
    "```"
   ]
  },
  {
   "cell_type": "markdown",
   "id": "c0118083-d2e6-4bc5-b9f5-92198f81229e",
   "metadata": {},
   "source": [
    "- **Function calls**"
   ]
  },
  {
   "cell_type": "code",
   "execution_count": 8,
   "id": "70393031-2be8-4b3e-a929-7e0f5b6fa09a",
   "metadata": {
    "execution": {
     "iopub.execute_input": "2023-07-26T20:43:05.259318Z",
     "iopub.status.busy": "2023-07-26T20:43:05.258786Z",
     "iopub.status.idle": "2023-07-26T20:43:05.319768Z",
     "shell.execute_reply": "2023-07-26T20:43:05.318666Z",
     "shell.execute_reply.started": "2023-07-26T20:43:05.259288Z"
    },
    "tags": []
   },
   "outputs": [
    {
     "name": "stdout",
     "output_type": "stream",
     "text": [
      "The sum of 5 and 6 is 11!\n"
     ]
    }
   ],
   "source": [
    "// includes\n",
    "#include <stdio.h>\n",
    "\n",
    "// declare function prototype\n",
    "int add_two_ints(int a, int b);\n",
    "\n",
    "int main(void)\n",
    "{\n",
    "    // ask user for input\n",
    "    int x = 5;\n",
    "    int y = 6;\n",
    "\n",
    "    // add the two numbers together via a function call\n",
    "    int z = add_two_ints(x, y);\n",
    "\n",
    "    // output the result\n",
    "    printf(\"The sum of %i and %i is %i!\\n\", x, y, z);\n",
    "\n",
    "}\n",
    "\n",
    "int add_two_ints(int a, int b)\n",
    "{\n",
    "    int sum = a + b;\n",
    "    return sum;\n",
    "}"
   ]
  },
  {
   "cell_type": "markdown",
   "id": "e6d5993d-35c7-4533-aca4-b9035e5f86a4",
   "metadata": {},
   "source": [
    "Return type of the function can also be void."
   ]
  },
  {
   "cell_type": "markdown",
   "id": "0731b317-4254-4736-a133-53b737e3f8f5",
   "metadata": {},
   "source": [
    "## 2.2 Variables and Scope"
   ]
  },
  {
   "cell_type": "markdown",
   "id": "73a0dbd3-562a-4b24-85f2-fa05bf947613",
   "metadata": {},
   "source": [
    "**Scope** is a characteristic of a variable that defines from which functions that variable may be accessed:\n",
    "\n",
    "- **Local variables** can only be accessed within the functions in which they're created. They can't be accessed by every other function that exists in your program, only the function in which it was created.\n",
    "\n",
    "- **Global variables**, on the other hand, can be accessed by any function in the program. And the reason for that is because they're not created inside of any particular function. We declare them outside of all of the functions, which means that every function knows where it is and can access and manipulate it."
   ]
  },
  {
   "cell_type": "markdown",
   "id": "b0dcdd59-37b4-4c62-b0eb-472924701ccb",
   "metadata": {},
   "source": [
    "Local variables in C are what's called **<a name=\"passing_by_value\">passed by value</a>** when we make a function call.\n",
    "\n",
    "When a variable is passed by value, the **callee**, which is another way of saying the function that is receiving the variable that gets passed in as an input, it actually doesn't receive that variable itself. It receives its own **copy** of it to work with.\n",
    "\n",
    "if we manipulate the global variable in one function, the effect in that one function carries through to every other function. \n",
    "\n",
    "But with local variables, that's not true. Each function when it receives variables as input receive copies of those variables, not the variables themselves.\n",
    "\n",
    "So what is the side effect of that? That means that the variable in the **caller**, the function that is making the function call, is unchanged unless you overwrite (re-assign) it."
   ]
  },
  {
   "cell_type": "markdown",
   "id": "58b31d8f-2feb-4bcb-87b8-75ab858106a0",
   "metadata": {
    "jp-MarkdownHeadingCollapsed": true
   },
   "source": [
    "## 2.3 Arrays"
   ]
  },
  {
   "cell_type": "markdown",
   "id": "8aa576cd-29b8-408d-8da8-3f13d18fc42b",
   "metadata": {},
   "source": [
    "Arrays are a really fundamental **data structure** for any programming language that you will use. And they're really, really useful, particularly, as we'll see, in CS 50.\n",
    "\n",
    "> We use arrays to hold values of the same data type at contiguous memory locations.\n",
    "\n",
    "An **array** is a giant block of contiguous memory. Arrays have been partitioned into small, identically sized blocks of space, each of which is called an **element**. Each element of the array can store a certain amount of **data**.\n",
    "\n",
    "What can be stored in each element of the array is variables of the same **data type**, such as `int` or `char`.\n",
    "\n",
    "Lastly, we can access each element of the array directly by **index** number. In C undexing starts with 0, so `n` elements array has an index range of `[0, n-1]` included. But C is very lenient and \n",
    "\n",
    "> it will not prevent you from \"going out of bonds\" of your array."
   ]
  },
  {
   "cell_type": "markdown",
   "id": "8adc7881-26fb-4a41-ba5d-b6d9cd5c1b21",
   "metadata": {},
   "source": [
    "### One-dimensional arrays"
   ]
  },
  {
   "cell_type": "markdown",
   "id": "23b7ee67-8fd7-48c0-8d47-e77cdf790f04",
   "metadata": {},
   "source": [
    "**Array declaration**\n",
    "\n",
    "<span style=\"color: green\">type</span> <span style=\"color: red\">name</span>[<span style=\"color: blue\">size</span>];\n",
    "\n",
    "- <span style=\"color: green\">double</span> <span style=\"color: red\">menu_prices</span>[<span style=\"color: blue\">40</span>];\n",
    "\n",
    "**Instantiation syntax**\n",
    "\n",
    "```c\n",
    "int array[3] = {1, 2, 3};\n",
    "```\n",
    "\n",
    "or \n",
    "\n",
    "```c\n",
    "int array[3];\n",
    "array[0] = 1;\n",
    "array[1] = 2;\n",
    "array[2] = 3;\n",
    "```\n",
    "\n",
    "or \n",
    "\n",
    "```c\n",
    "int array[] = {1, 2, 3};\n",
    "```"
   ]
  },
  {
   "cell_type": "markdown",
   "id": "338d9c58-629f-41c5-a2d4-d6dcee3c2115",
   "metadata": {},
   "source": [
    "### Two-dimensional arrays"
   ]
  },
  {
   "cell_type": "markdown",
   "id": "6b109acc-d3dc-4aa7-ae52-613231505281",
   "metadata": {},
   "source": [
    "```c\n",
    "int array[3][4] = {1, 2, 3};\n",
    "```\n",
    "\n",
    "In memory it is a one-dim array of $3*4=12$ elements so it only helps to humans to **abstract** complex representations."
   ]
  },
  {
   "cell_type": "markdown",
   "id": "de6120a9-90aa-4361-847c-4e975f39c590",
   "metadata": {},
   "source": [
    "### Ops with arrays"
   ]
  },
  {
   "cell_type": "markdown",
   "id": "41f55d57-ed30-41b2-8221-a2469861844a",
   "metadata": {},
   "source": [
    "We cannot treat entire arrays as themselves as variables in C. Thus, we cannot assign one array to another using assignment operator. Instead we must loop to copy over the elements one a time.\n",
    "\n",
    "```c\n",
    "int foo[5] = {1, 2, 3, 4, 5};\n",
    "int bar[5];\n",
    "\n",
    "for (int i = 0; i < 5; i++)\n",
    "{\n",
    "    bar[i] = foo[i];\n",
    "}\n",
    "```\n",
    "\n",
    "> Arrays are **passed by reference**!\n",
    "\n",
    "The callee receives the actual array, NOT the copy of it. This is done for resources economy."
   ]
  },
  {
   "cell_type": "code",
   "execution_count": 3,
   "id": "83261621-65f5-4270-a48e-86c491270291",
   "metadata": {
    "execution": {
     "iopub.execute_input": "2023-07-28T12:40:11.714902Z",
     "iopub.status.busy": "2023-07-28T12:40:11.714380Z",
     "iopub.status.idle": "2023-07-28T12:40:11.768903Z",
     "shell.execute_reply": "2023-07-28T12:40:11.767695Z",
     "shell.execute_reply.started": "2023-07-28T12:40:11.714870Z"
    },
    "tags": []
   },
   "outputs": [
    {
     "name": "stdout",
     "output_type": "stream",
     "text": [
      "Before functions: a = 10 b = 0\n",
      "After functions: a = 10 b = 22\n"
     ]
    }
   ],
   "source": [
    "#include <stdio.h>\n",
    "\n",
    "void set_int(int x);\n",
    "void set_array(int array[4]);\n",
    "\n",
    "int main(void)\n",
    "{\n",
    "    int a = 10;\n",
    "    int b[4] = {0, 1, 2, 3};\n",
    "    printf(\"Before functions: a = %d b = %d\\n\", a, b[0]);\n",
    "    set_int(a);\n",
    "    set_array(b);\n",
    "    printf(\"After functions: a = %d b = %d\\n\", a, b[0]);\n",
    "}\n",
    "\n",
    "void set_int(int x)\n",
    "{\n",
    "    x = 22;\n",
    "}\n",
    "\n",
    "void set_array(int array[4])\n",
    "{\n",
    "    array[0] = 22;\n",
    "}"
   ]
  },
  {
   "cell_type": "markdown",
   "id": "b2336ac9-47ac-421b-9c77-a3fb46ceb640",
   "metadata": {},
   "source": [
    "## 2.4 Command Line Arguments"
   ]
  },
  {
   "cell_type": "markdown",
   "id": "a29c630a-d740-4008-94ac-ad5529ced42b",
   "metadata": {},
   "source": [
    "To collect **command-line arguments** from the user, declare `main` as:\n",
    "\n",
    "```c\n",
    "int main(int argc, string argv[])\n",
    "```\n",
    "\n",
    "- `int argc` - **argument coount**, a number of the command-line arguments a user provided +1 (argc[0] is the name of the program)\n",
    "- `string argv[]` - **argument vector**, an array of strings, one string per element\n",
    "\n",
    "The last element of the `argv` is found at `argv[argc-1]`.\n",
    "\n",
    "```\n",
    "./greedy 1024 cs50\n",
    "```\n",
    "\n",
    "|argv indices|argv contents|\n",
    "|-|-|\n",
    "|argv[0]|\"./greedy\"|\n",
    "|argv[1]|\"1024\"|\n",
    "|argv[2]|\"cs50\"|\n",
    "|argv[3]|<span style=\"color: red\">???</span>|"
   ]
  },
  {
   "cell_type": "code",
   "execution_count": 3,
   "id": "8ee31d10-6ad5-448c-ab4b-15ac0b6581d9",
   "metadata": {
    "execution": {
     "iopub.execute_input": "2023-08-14T16:59:07.544379Z",
     "iopub.status.busy": "2023-08-14T16:59:07.543363Z",
     "iopub.status.idle": "2023-08-14T16:59:07.574919Z",
     "shell.execute_reply": "2023-08-14T16:59:07.573847Z",
     "shell.execute_reply.started": "2023-08-14T16:59:07.544335Z"
    },
    "tags": []
   },
   "outputs": [
    {
     "name": "stderr",
     "output_type": "stream",
     "text": [
      "/tmp/tmppt34n1gj.c:4:15: error: expected ‘)’ before ‘char’\n",
      "    4 | int main(argc, char *argv[])\n",
      "      |               ^~~~~\n",
      "      |               )\n",
      "[C kernel] GCC exited with code 1, the executable will not be executed"
     ]
    }
   ],
   "source": [
    "#include <stdio.h>\n",
    "#include <stdlib.h>\n",
    "\n",
    "int main(argc, char *argv[])\n",
    "{\n",
    "    argv[1];\n",
    "    printf(\"%s\", argv[1]);\n",
    "    // FILE *file = fopen(argv[1], \"w\");\n",
    "    // fclose(file);\n",
    "}"
   ]
  },
  {
   "cell_type": "markdown",
   "id": "c82fd852-a001-4cd5-bce1-89e1b7def840",
   "metadata": {
    "jp-MarkdownHeadingCollapsed": true,
    "tags": []
   },
   "source": [
    "# <b>Week 3 Algorithms</b>"
   ]
  },
  {
   "cell_type": "markdown",
   "id": "133f1426-0441-4075-85c7-fd2de8d4e1f3",
   "metadata": {},
   "source": [
    "|sorting algorithm|worst scenario|best scenario|\n",
    "|-|-|-|\n",
    "|Bubble sort|O($n^2)$|$\\Omega(n)$|\n",
    "|Selection sort|O($n^2)$|$\\Omega$($n^2$)|\n",
    "|Merge sort|O(n $log$ n)|$\\Omega$(n $log$ n)|\n",
    "\n",
    "See more on sorting algorithms in \"Python for Data Analysis\" [Appendix A: Advanced NumPy](https://wesmckinney.com/book/advanced-numpy)."
   ]
  },
  {
   "cell_type": "markdown",
   "id": "57685f39-6bd4-483c-ba6a-a7d3ea830a01",
   "metadata": {},
   "source": [
    "## 3.1 Linear Search"
   ]
  },
  {
   "cell_type": "markdown",
   "id": "da5ffddf-b276-497d-a791-4c00a1a1a3e0",
   "metadata": {},
   "source": [
    "- iterate across the array from left to right, searching for a specified element.\n",
    "\n",
    "Big-O notation:\n",
    "- O(n) - the worst scenario (the element is not in the array),\n",
    "- $\\Omega$(1) - the best scenario (the searched element has index 0)."
   ]
  },
  {
   "cell_type": "markdown",
   "id": "3124eb97-f351-4971-b36e-d38170f4a3f1",
   "metadata": {},
   "source": [
    "## 3.2 Binary Search"
   ]
  },
  {
   "cell_type": "markdown",
   "id": "6884f044-109f-4f68-8c80-064eab7564ff",
   "metadata": {},
   "source": [
    "- divide and conquer, reducing the search area by half each time, trying to find a target number\n",
    "- the array must be sorted first"
   ]
  },
  {
   "cell_type": "markdown",
   "id": "ec2f77e6-7776-40ed-8970-fd13ae70042f",
   "metadata": {},
   "source": [
    "- O($log$ n)\n",
    "- $\\Omega$(1)"
   ]
  },
  {
   "cell_type": "markdown",
   "id": "bb92a46b-124a-429c-b117-34bb2ecd996a",
   "metadata": {},
   "source": [
    "## 3.3 Bubble Sort"
   ]
  },
  {
   "cell_type": "markdown",
   "id": "ec5566ad-fb57-4eb0-ba8f-5a49083b72a5",
   "metadata": {},
   "source": [
    "- move higher valued elements generally towards the right and lower value elements generally towards the left.\n",
    "\n",
    "Pseudocode:\n",
    "- Set swap counter to a non-zero value\n",
    "- Repeat until the swap counter is 0:\n",
    "    - Reset swap counter to 0\n",
    "    - Look at each adjacent pair\n",
    "        - If two adjacent elements are not in order, swap them and add one to the swap counter.\n",
    "\n",
    "<br>\n",
    "- O($n^2$)<br>\n",
    "- $\\Omega$(n)"
   ]
  },
  {
   "cell_type": "code",
   "execution_count": 2,
   "id": "2b18d7c9-41eb-4598-ac96-4eee8452d30f",
   "metadata": {
    "execution": {
     "iopub.execute_input": "2023-07-28T19:08:55.180258Z",
     "iopub.status.busy": "2023-07-28T19:08:55.179591Z",
     "iopub.status.idle": "2023-07-28T19:08:55.273287Z",
     "shell.execute_reply": "2023-07-28T19:08:55.271947Z",
     "shell.execute_reply.started": "2023-07-28T19:08:55.180231Z"
    },
    "tags": []
   },
   "outputs": [
    {
     "name": "stdout",
     "output_type": "stream",
     "text": [
      "6 4 3 5 2 1 \n",
      "1 2 3 4 5 6 \n"
     ]
    }
   ],
   "source": [
    "// VR implementation\n",
    "#include <stdio.h>\n",
    "\n",
    "int main(void)\n",
    "{\n",
    "    int n = 6;\n",
    "    int array_length = n;\n",
    "    int array[n];\n",
    "\n",
    "    // array initialization\n",
    "    array[0] = 6;\n",
    "    array[1] = 4;\n",
    "    array[2] = 3;\n",
    "    array[3] = 5;\n",
    "    array[4] = 2;\n",
    "    array[5] = 1;\n",
    "\n",
    "    // print initial array\n",
    "    for (int i = 0; i < array_length; i++)\n",
    "    {\n",
    "        printf(\"%i \", array[i]);\n",
    "    }\n",
    "\n",
    "    // sorting\n",
    "    int counter = -1;\n",
    "    while (counter != 0)\n",
    "    {\n",
    "        counter = 0;\n",
    "        // comparing pairs\n",
    "        for (int i = 0; i < array_length-1; i++)\n",
    "        {\n",
    "            // swap values\n",
    "            if (array[i] > array[i+1])\n",
    "            {\n",
    "                int temp = array[i];\n",
    "                array[i] = array[i+1];\n",
    "                array[i+1] = temp;\n",
    "                // add 1 to counter\n",
    "                counter++;\n",
    "            }\n",
    "        }\n",
    "        // reduce the cycle number by one\n",
    "        array_length--;\n",
    "    }\n",
    "\n",
    "    // print final array\n",
    "    printf(\"\\n\");\n",
    "    for (int i = 0; i < n; i++)\n",
    "    {\n",
    "        printf(\"%i \", array[i]);\n",
    "    }\n",
    "\n",
    "    printf(\"\\n\");\n",
    "}"
   ]
  },
  {
   "cell_type": "markdown",
   "id": "9f49750d-f944-463e-ac1b-8984e954f869",
   "metadata": {},
   "source": [
    "## 3.4 Selection Sort"
   ]
  },
  {
   "cell_type": "markdown",
   "id": "871272e6-390d-4cc1-aeed-a97dc44e1588",
   "metadata": {},
   "source": [
    "- find the smallest unsorted element and add it to the end of the sorted list.\n",
    "\n",
    "Pseudocode:\n",
    "- Repeat until no unsorted elements remain\n",
    "    - Search the unsorted part of the data to find smallest value\n",
    "    - Swap the smallest found value with the first element of the unsorted part\n",
    "    \n",
    "<br>\n",
    "- O($n^2$)<br>\n",
    "- $\\Omega$($n^2$)"
   ]
  },
  {
   "cell_type": "code",
   "execution_count": 6,
   "id": "efcb509b-ef47-4775-b901-110b0545b5ff",
   "metadata": {
    "execution": {
     "iopub.execute_input": "2023-07-28T19:37:44.209177Z",
     "iopub.status.busy": "2023-07-28T19:37:44.208053Z",
     "iopub.status.idle": "2023-07-28T19:37:44.271085Z",
     "shell.execute_reply": "2023-07-28T19:37:44.269660Z",
     "shell.execute_reply.started": "2023-07-28T19:37:44.209138Z"
    },
    "tags": []
   },
   "outputs": [
    {
     "name": "stdout",
     "output_type": "stream",
     "text": [
      "6 4 3 5 2 1 \n",
      "1 2 3 4 5 6 \n"
     ]
    }
   ],
   "source": [
    "// VR implementation\n",
    "#include <stdio.h>\n",
    "\n",
    "int main(void)\n",
    "{\n",
    "    int n = 6;\n",
    "    // int array_length = n;\n",
    "    int array[n];\n",
    "\n",
    "    // array initialization\n",
    "    array[0] = 6;\n",
    "    array[1] = 4;\n",
    "    array[2] = 3;\n",
    "    array[3] = 5;\n",
    "    array[4] = 2;\n",
    "    array[5] = 1;\n",
    "\n",
    "    // print initial array\n",
    "    for (int i = 0; i < n; i++)\n",
    "    {\n",
    "        printf(\"%i \", array[i]);\n",
    "    }\n",
    "\n",
    "    // sorting\n",
    "    for (int i = 0; i < n-1; i++)\n",
    "    {\n",
    "        // set array[i] as a minimal value\n",
    "        int min_value = array[i];\n",
    "        // fix the index of the minimal value\n",
    "        int min_val_index = i;\n",
    "\n",
    "        // compare each number to all the others\n",
    "        for (int j = i+1; j < n; j++)\n",
    "        {\n",
    "            // set a new miinimal value and its index\n",
    "            if (array[j] < min_value)\n",
    "            {\n",
    "                min_value = array[j];\n",
    "                min_val_index = j;\n",
    "            }\n",
    "        }\n",
    "\n",
    "        // swap values\n",
    "        int temp = array[i];\n",
    "        array[i] = min_value;\n",
    "        array[min_val_index] = temp;\n",
    "    }\n",
    "\n",
    "    // print final array\n",
    "    printf(\"\\n\");\n",
    "    for (int i = 0; i < n; i++)\n",
    "    {\n",
    "        printf(\"%i \", array[i]);\n",
    "    }\n",
    "    printf(\"\\n\");\n",
    "}"
   ]
  },
  {
   "cell_type": "markdown",
   "id": "01297dc5-e9d1-49c7-b0b0-1d0617af9818",
   "metadata": {},
   "source": [
    "## 3.5 Recursion"
   ]
  },
  {
   "cell_type": "markdown",
   "id": "f102b1f1-07d7-47e5-87ca-2a70362c7bd7",
   "metadata": {},
   "source": [
    "The part of the function repeats itself.\n",
    "\n",
    "- _base case_ - when triggered will terminate the recursive process;\n",
    "- _recursive case_ - where the recursion will actually occur."
   ]
  },
  {
   "cell_type": "code",
   "execution_count": 9,
   "id": "54357227-1b8b-409d-8be5-836775afe09a",
   "metadata": {
    "execution": {
     "iopub.execute_input": "2023-07-28T20:33:09.317746Z",
     "iopub.status.busy": "2023-07-28T20:33:09.317152Z",
     "iopub.status.idle": "2023-07-28T20:33:09.417206Z",
     "shell.execute_reply": "2023-07-28T20:33:09.415035Z",
     "shell.execute_reply.started": "2023-07-28T20:33:09.317705Z"
    },
    "tags": []
   },
   "outputs": [
    {
     "name": "stdout",
     "output_type": "stream",
     "text": [
      "24"
     ]
    }
   ],
   "source": [
    "#include <stdio.h>\n",
    "\n",
    "int fact(int n);\n",
    "\n",
    "int main(void)\n",
    "{\n",
    "    int n = 4;\n",
    "    printf(\"%i\", fact(n));\n",
    "}\n",
    "\n",
    "int fact(int n)\n",
    "{\n",
    "    // base case\n",
    "    if (n == 1)\n",
    "        return 1;\n",
    "    \n",
    "    // recursive case\n",
    "    else\n",
    "        return n * fact(n-1);\n",
    "}"
   ]
  },
  {
   "cell_type": "markdown",
   "id": "2b3ae5dd-a864-4b76-9e8c-ec00f919d5a5",
   "metadata": {},
   "source": [
    "There may be more than one base or recursive cases:\n",
    "\n",
    "- **Multiple base cases**: The Fibonacci number sequence is defined as follows:\n",
    "    - the 1st element is 0;\n",
    "    - the 2nd element is 1;\n",
    "    - the $n^{th}$ element is the sum of the $(n-1)^{th}$ and $(n-2)^{th}$ elements.<br>\n",
    "<br>\n",
    "- **Multiple recursive cases**: The Collatz conjencture:\n",
    "    - applied to integers and speculates that you always get back to 1 if you follow these steps:\n",
    "        - if n is 1, stop;\n",
    "        - otherwise, if n is even, repeat this process on n/2;\n",
    "        - otherwise, if n is odd, repeat this process on 3n + 1."
   ]
  },
  {
   "cell_type": "code",
   "execution_count": 2,
   "id": "7e093642-6e93-418a-b0d7-fb540e9a54df",
   "metadata": {
    "execution": {
     "iopub.execute_input": "2023-08-04T05:41:08.399494Z",
     "iopub.status.busy": "2023-08-04T05:41:08.398497Z",
     "iopub.status.idle": "2023-08-04T05:41:08.487341Z",
     "shell.execute_reply": "2023-08-04T05:41:08.485903Z",
     "shell.execute_reply.started": "2023-08-04T05:41:08.399457Z"
    },
    "tags": []
   },
   "outputs": [
    {
     "name": "stdout",
     "output_type": "stream",
     "text": [
      "118"
     ]
    }
   ],
   "source": [
    "#include <stdio.h>\n",
    "\n",
    "int collatz(int n);\n",
    "\n",
    "int main(void)\n",
    "{\n",
    "    int n = 132998;\n",
    "    printf(\"%i\", collatz(n));\n",
    "}\n",
    "\n",
    "int collatz(int n)\n",
    "{\n",
    "    // base case\n",
    "    if (n == 1)\n",
    "        return 0;\n",
    "    // even numbers\n",
    "    else if (n%2 == 0)\n",
    "        return 1 + collatz(n/2);\n",
    "    // odd numbers\n",
    "    else\n",
    "        return 1 + collatz(3*n + 1);\n",
    "}"
   ]
  },
  {
   "cell_type": "markdown",
   "id": "2d603ea0-a027-4788-87b7-93f681ffe328",
   "metadata": {},
   "source": [
    "## 3.6 Merge Sort"
   ]
  },
  {
   "cell_type": "markdown",
   "id": "f2a3d420-8cd0-41c1-81cb-619fbabb7d28",
   "metadata": {},
   "source": [
    "- to sort smaller arrays and then combine those arrays together (merge them) in sorted order\n",
    "- uses recursion\n",
    "- needs more memory for keeping the sorted elements\n",
    "\n",
    "In pseudocode:\n",
    "- Sort the left half of the array (assuming n > 1),\n",
    "- Sort the right half of the array (assuming n > 1),\n",
    "- Merge the two halves together."
   ]
  },
  {
   "cell_type": "markdown",
   "id": "0d741eb2-bf4e-42c4-9c56-a5429b338399",
   "metadata": {},
   "source": [
    "# <b>Week 4 Memory</b>"
   ]
  },
  {
   "cell_type": "markdown",
   "id": "70a815eb-7e6d-440b-84fa-348a5328054c",
   "metadata": {},
   "source": [
    "## Pointers"
   ]
  },
  {
   "cell_type": "markdown",
   "id": "b3a90e30-9171-4182-99d9-d2aa10d09734",
   "metadata": {},
   "source": [
    "- a variable that contains the address of some value, i.e. \"the address\" of something in the computer's memory"
   ]
  },
  {
   "cell_type": "code",
   "execution_count": null,
   "id": "df393aaf-0216-43d8-b450-f9cee2012771",
   "metadata": {
    "tags": []
   },
   "outputs": [],
   "source": [
    "#include <stdio.h>\n",
    "\n",
    "int main(void)\n",
    "{\n",
    "    int n = 50;\n",
    "    printf(\"%p\\n\", &n);\n",
    "}"
   ]
  },
  {
   "cell_type": "code",
   "execution_count": null,
   "id": "4cc0dfde-e4a1-40a6-9aea-39db5559f170",
   "metadata": {
    "tags": []
   },
   "outputs": [],
   "source": [
    "#include <stdio.h>\n",
    "\n",
    "int main(void)\n",
    "{\n",
    "    int n = 50;\n",
    "    // storing the address in a pointer p\n",
    "    int *p = &n;\n",
    "    printf(\"%p\\n\", p);\n",
    "}"
   ]
  },
  {
   "cell_type": "markdown",
   "id": "17f6ef6b-388b-49c6-8c4c-462334ef2d73",
   "metadata": {},
   "source": [
    "`&x` takes `x` and gets its address.\n",
    "\n",
    "`type *` is a pointer that stores the address of a type.\n",
    "\n",
    "`*x` takes a pointer `x` and goes to the address stores at that pointer =>\n",
    "\n",
    "Dereferencing a pointer (\"go there!\", i.e. double pointer):"
   ]
  },
  {
   "cell_type": "code",
   "execution_count": 7,
   "id": "d8bf3586-c559-467a-b730-5f08a6a28275",
   "metadata": {
    "execution": {
     "iopub.execute_input": "2023-08-09T06:36:04.246543Z",
     "iopub.status.busy": "2023-08-09T06:36:04.245857Z",
     "iopub.status.idle": "2023-08-09T06:36:04.345182Z",
     "shell.execute_reply": "2023-08-09T06:36:04.344161Z",
     "shell.execute_reply.started": "2023-08-09T06:36:04.246501Z"
    },
    "tags": []
   },
   "outputs": [
    {
     "name": "stdout",
     "output_type": "stream",
     "text": [
      "50\n"
     ]
    }
   ],
   "source": [
    "#include <stdio.h>\n",
    "\n",
    "int main(void)\n",
    "{\n",
    "    int n = 50;\n",
    "    int *p = &n;\n",
    "    printf(\"%i\\n\", *p);\n",
    "}"
   ]
  },
  {
   "cell_type": "markdown",
   "id": "1500b1b4-3abc-44ac-bd1e-0a476a366ebf",
   "metadata": {},
   "source": [
    "### Strings in C"
   ]
  },
  {
   "cell_type": "markdown",
   "id": "44f42a9c-9932-488f-8a9b-8787c1a6612d",
   "metadata": {},
   "source": [
    "\"String\" is a pointer (i.e. address, not the content) to the first element of the thing we call \"string\", it is not a C built-in data type, it is a CS50 instrument.\n",
    "\n",
    "```c\n",
    "typedef char *string\n",
    "```\n",
    "\n",
    "<span>typedef <span style=\"color: brown\">char *</span>string</span>;"
   ]
  },
  {
   "cell_type": "code",
   "execution_count": 8,
   "id": "5a0868dc-b5b5-42ee-835c-193ab454a3c4",
   "metadata": {
    "execution": {
     "iopub.execute_input": "2023-08-09T06:37:01.290040Z",
     "iopub.status.busy": "2023-08-09T06:37:01.289480Z",
     "iopub.status.idle": "2023-08-09T06:37:01.380462Z",
     "shell.execute_reply": "2023-08-09T06:37:01.377797Z",
     "shell.execute_reply.started": "2023-08-09T06:37:01.290004Z"
    },
    "tags": []
   },
   "outputs": [
    {
     "name": "stdout",
     "output_type": "stream",
     "text": [
      "Hi!\n"
     ]
    }
   ],
   "source": [
    "#include <stdio.h>\n",
    "#include <cs50.h>\n",
    "\n",
    "int main(void)\n",
    "{\n",
    "    string s = \"Hi!\";\n",
    "    printf(\"%s\\n\", s);\n",
    "}"
   ]
  },
  {
   "cell_type": "markdown",
   "id": "b3e8c7b8-858b-4bb0-aa22-3d2d118bbd53",
   "metadata": {},
   "source": [
    "Now let's get rid of the CS50 lib help:"
   ]
  },
  {
   "cell_type": "code",
   "execution_count": 9,
   "id": "92d09d86-28b4-455d-8d3b-10bc64974913",
   "metadata": {
    "execution": {
     "iopub.execute_input": "2023-08-09T06:37:14.327369Z",
     "iopub.status.busy": "2023-08-09T06:37:14.326747Z",
     "iopub.status.idle": "2023-08-09T06:37:14.417175Z",
     "shell.execute_reply": "2023-08-09T06:37:14.415788Z",
     "shell.execute_reply.started": "2023-08-09T06:37:14.327336Z"
    },
    "tags": []
   },
   "outputs": [
    {
     "name": "stdout",
     "output_type": "stream",
     "text": [
      "HI!\n"
     ]
    }
   ],
   "source": [
    "#include <stdio.h>\n",
    "\n",
    "int main(void)\n",
    "{\n",
    "    char *s = \"HI!\";\n",
    "    // notice %s sign\n",
    "    printf(\"%s\\n\", s);\n",
    "}"
   ]
  },
  {
   "cell_type": "markdown",
   "id": "d776883a-dbc6-42a2-b064-479cd8beb67a",
   "metadata": {},
   "source": [
    "This works because the `string` unlike the `char` ends with the special byte `\\0` called **null** which tells the compiler where the string ends:\n",
    "\n",
    "```\n",
    "H I ! \\0\n",
    "```"
   ]
  },
  {
   "cell_type": "code",
   "execution_count": 10,
   "id": "ed147d1d-e80e-45b9-b9cb-d760bda5155f",
   "metadata": {
    "execution": {
     "iopub.execute_input": "2023-08-09T06:37:40.866360Z",
     "iopub.status.busy": "2023-08-09T06:37:40.865916Z",
     "iopub.status.idle": "2023-08-09T06:37:40.951183Z",
     "shell.execute_reply": "2023-08-09T06:37:40.949874Z",
     "shell.execute_reply.started": "2023-08-09T06:37:40.866333Z"
    },
    "tags": []
   },
   "outputs": [
    {
     "name": "stdout",
     "output_type": "stream",
     "text": [
      "H\n",
      "I\n",
      "!\n",
      "\u0000\n",
      "End"
     ]
    }
   ],
   "source": [
    "#include <stdio.h>\n",
    "\n",
    "int main(void)\n",
    "{\n",
    "    char *s = \"HI!\";\n",
    "    for (int i = 0; i < 4; i++)\n",
    "    {\n",
    "        printf(\"%c\\n\", s[i]);\n",
    "    }\n",
    "    printf(\"End\");\n",
    "}"
   ]
  },
  {
   "cell_type": "markdown",
   "id": "c40b336e-ac2b-4c7c-a7c9-ace2b6074ca9",
   "metadata": {},
   "source": [
    "So there is no the `string` data type but C knows how to deal with strings."
   ]
  },
  {
   "cell_type": "code",
   "execution_count": 11,
   "id": "b2efc87a-0fe7-4834-a5f3-f821f4b87456",
   "metadata": {
    "execution": {
     "iopub.execute_input": "2023-08-09T06:38:12.443489Z",
     "iopub.status.busy": "2023-08-09T06:38:12.443040Z",
     "iopub.status.idle": "2023-08-09T06:38:12.524995Z",
     "shell.execute_reply": "2023-08-09T06:38:12.523907Z",
     "shell.execute_reply.started": "2023-08-09T06:38:12.443462Z"
    },
    "tags": []
   },
   "outputs": [
    {
     "name": "stdout",
     "output_type": "stream",
     "text": [
      "0x7ff33857e000\n",
      "0x7ff33857e000\n"
     ]
    }
   ],
   "source": [
    "#include <stdio.h>\n",
    "\n",
    "int main(void)\n",
    "{\n",
    "    char *s = \"HI!\";\n",
    "    printf(\"%p\\n\", s);\n",
    "    printf(\"%p\\n\", &s[0]);\n",
    "}"
   ]
  },
  {
   "cell_type": "markdown",
   "id": "de76eb1d-0e91-45a5-92dd-4770d7103a0b",
   "metadata": {},
   "source": [
    "We see the **address** of the first char in both cases. \n",
    "\n",
    "Now look at the entire string with the null char:"
   ]
  },
  {
   "cell_type": "code",
   "execution_count": 12,
   "id": "931fd69d-338b-45bd-b47a-29fc7fbf540a",
   "metadata": {
    "execution": {
     "iopub.execute_input": "2023-08-09T06:38:22.167062Z",
     "iopub.status.busy": "2023-08-09T06:38:22.166658Z",
     "iopub.status.idle": "2023-08-09T06:38:22.248935Z",
     "shell.execute_reply": "2023-08-09T06:38:22.247421Z",
     "shell.execute_reply.started": "2023-08-09T06:38:22.167037Z"
    },
    "tags": []
   },
   "outputs": [
    {
     "name": "stdout",
     "output_type": "stream",
     "text": [
      "0x7fb8846ca000\n",
      "0x7fb8846ca000\n",
      "0x7fb8846ca001\n",
      "0x7fb8846ca002\n",
      "0x7fb8846ca003\n"
     ]
    }
   ],
   "source": [
    "#include <stdio.h>\n",
    "\n",
    "int main(void)\n",
    "{\n",
    "    char *s = \"HI!\";\n",
    "    printf(\"%p\\n\", s);\n",
    "    for (int i = 0; i < 4; i++)\n",
    "    {\n",
    "        printf(\"%p\\n\", &s[i]);\n",
    "    }\n",
    "}"
   ]
  },
  {
   "cell_type": "markdown",
   "id": "719eb71e-c12e-4f7e-b1b7-a0f1c5a71d5c",
   "metadata": {},
   "source": [
    "### Pointer arithmetic"
   ]
  },
  {
   "cell_type": "code",
   "execution_count": 13,
   "id": "545d2eaf-b309-42a0-9659-e70d7c12ce08",
   "metadata": {
    "execution": {
     "iopub.execute_input": "2023-08-09T06:38:58.085250Z",
     "iopub.status.busy": "2023-08-09T06:38:58.084219Z",
     "iopub.status.idle": "2023-08-09T06:38:58.150013Z",
     "shell.execute_reply": "2023-08-09T06:38:58.148533Z",
     "shell.execute_reply.started": "2023-08-09T06:38:58.085211Z"
    },
    "tags": []
   },
   "outputs": [
    {
     "name": "stdout",
     "output_type": "stream",
     "text": [
      "H\n",
      "I\n",
      "!\n"
     ]
    }
   ],
   "source": [
    "#include <stdio.h>\n",
    "\n",
    "int main(void)\n",
    "{\n",
    "    char *s = \"HI!\";\n",
    "    printf(\"%c\\n\", s[0]);\n",
    "    printf(\"%c\\n\", s[1]);\n",
    "    printf(\"%c\\n\", s[2]);\n",
    "}"
   ]
  },
  {
   "cell_type": "markdown",
   "id": "07f9849f-ed4a-44b2-8cb4-9d75247ac2d2",
   "metadata": {},
   "source": [
    "And this is what is happening underneath the hood:"
   ]
  },
  {
   "cell_type": "code",
   "execution_count": 14,
   "id": "2b93fddb-fbac-4e7d-b446-105155d6aadf",
   "metadata": {
    "execution": {
     "iopub.execute_input": "2023-08-09T06:40:10.990283Z",
     "iopub.status.busy": "2023-08-09T06:40:10.989063Z",
     "iopub.status.idle": "2023-08-09T06:40:11.075778Z",
     "shell.execute_reply": "2023-08-09T06:40:11.074140Z",
     "shell.execute_reply.started": "2023-08-09T06:40:10.990232Z"
    },
    "tags": []
   },
   "outputs": [
    {
     "name": "stdout",
     "output_type": "stream",
     "text": [
      "H\n",
      "I\n",
      "!\n"
     ]
    }
   ],
   "source": [
    "#include <stdio.h>\n",
    "\n",
    "int main(void)\n",
    "{\n",
    "    char *s = \"HI!\";\n",
    "    printf(\"%c\\n\", *s);\n",
    "    printf(\"%c\\n\", *(s+1));\n",
    "    printf(\"%c\\n\", *(s+2));\n",
    "}"
   ]
  },
  {
   "cell_type": "markdown",
   "id": "123577af-3466-467d-b99c-50d1f997ae85",
   "metadata": {},
   "source": [
    "And what is this?"
   ]
  },
  {
   "cell_type": "code",
   "execution_count": 105,
   "id": "bbd0cd1a-7549-4849-88e2-10e8cb0a7f0c",
   "metadata": {
    "execution": {
     "iopub.execute_input": "2023-08-04T14:09:56.535105Z",
     "iopub.status.busy": "2023-08-04T14:09:56.534000Z",
     "iopub.status.idle": "2023-08-04T14:09:56.588485Z",
     "shell.execute_reply": "2023-08-04T14:09:56.586890Z",
     "shell.execute_reply.started": "2023-08-04T14:09:56.535066Z"
    },
    "tags": []
   },
   "outputs": [
    {
     "name": "stdout",
     "output_type": "stream",
     "text": [
      "H\n",
      "I\n",
      "J\n",
      "K\n"
     ]
    }
   ],
   "source": [
    "#include <stdio.h>\n",
    "\n",
    "int main(void)\n",
    "{\n",
    "    char *s = \"HI!\";\n",
    "    printf(\"%c\\n\", *s);\n",
    "    printf(\"%c\\n\", *s+1);\n",
    "    printf(\"%c\\n\", *s+2);\n",
    "    printf(\"%c\\n\", *s+3);\n",
    "}"
   ]
  },
  {
   "cell_type": "markdown",
   "id": "9081f199-d7a1-41d1-a027-62eb26d20f2a",
   "metadata": {},
   "source": [
    "We add one byte to the first char `*s`, thus we get the next char in ASCII standard every new step."
   ]
  },
  {
   "cell_type": "code",
   "execution_count": 25,
   "id": "393754ee-b25f-4920-9f14-67ca0ab114e1",
   "metadata": {
    "execution": {
     "iopub.execute_input": "2023-08-09T06:50:41.704390Z",
     "iopub.status.busy": "2023-08-09T06:50:41.704006Z",
     "iopub.status.idle": "2023-08-09T06:50:41.789456Z",
     "shell.execute_reply": "2023-08-09T06:50:41.787989Z",
     "shell.execute_reply.started": "2023-08-09T06:50:41.704364Z"
    },
    "tags": []
   },
   "outputs": [
    {
     "name": "stdout",
     "output_type": "stream",
     "text": [
      "0x7ffc61bc2110\n",
      "0x7ffc61bc2118\n",
      "0x7ffc61bc2120\n",
      "0x7ffc61bc2128\n"
     ]
    }
   ],
   "source": [
    "#include <stdio.h>\n",
    "\n",
    "int main(void)\n",
    "{\n",
    "    char *s = \"HI!\";\n",
    "    printf(\"%p\\n\", &s);\n",
    "    printf(\"%p\\n\", &s+1);\n",
    "    printf(\"%p\\n\", &s+2);\n",
    "    printf(\"%p\\n\", &s+3);\n",
    "}"
   ]
  },
  {
   "cell_type": "markdown",
   "id": "f86aa158-25a1-4599-ba5a-210fadd73a20",
   "metadata": {},
   "source": [
    "Now look at the another example: "
   ]
  },
  {
   "cell_type": "code",
   "execution_count": 26,
   "id": "4ce9e6bf-a142-4a7c-952f-9a718c38ea1f",
   "metadata": {
    "execution": {
     "iopub.execute_input": "2023-08-09T06:52:26.271393Z",
     "iopub.status.busy": "2023-08-09T06:52:26.270954Z",
     "iopub.status.idle": "2023-08-09T06:52:26.330009Z",
     "shell.execute_reply": "2023-08-09T06:52:26.328789Z",
     "shell.execute_reply.started": "2023-08-09T06:52:26.271364Z"
    },
    "tags": []
   },
   "outputs": [
    {
     "name": "stdout",
     "output_type": "stream",
     "text": [
      "HI!\n",
      "I!\n",
      "!\n"
     ]
    }
   ],
   "source": [
    "#include <stdio.h>\n",
    "\n",
    "int main(void)\n",
    "{\n",
    "    char *s = \"HI!\";\n",
    "    printf(\"%s\\n\", s);\n",
    "    printf(\"%s\\n\", s+1);\n",
    "    printf(\"%s\\n\", s+2);\n",
    "}"
   ]
  },
  {
   "cell_type": "markdown",
   "id": "f7a02dda-12b0-4447-9f1d-9e1bb644d4b8",
   "metadata": {},
   "source": [
    "### Comparing strings"
   ]
  },
  {
   "cell_type": "markdown",
   "id": "0bd3fb87-0a62-49f5-b4ec-b54566eb1830",
   "metadata": {},
   "source": [
    "Here you need to use bash to correctly compile the file. Create a file `draft.c` in VSCode and use `clang` from [Week 2](https://www.youtube.com/watch?v=XmYnsO7iSI8&list=PLhQjrBD2T380F_inVRXMIHCqLaNUd7bN4&index=2&pp=iAQB). Commands are [here](https://cs50.readthedocs.io/libraries/cs50/c/).\n",
    "\n",
    "```bash\n",
    "clang -o draft draft.c -lcs50\n",
    "./draft\n",
    "```"
   ]
  },
  {
   "cell_type": "code",
   "execution_count": 28,
   "id": "1651c4bf-6079-4482-a182-4daffbdfefbf",
   "metadata": {
    "execution": {
     "iopub.execute_input": "2023-08-09T06:53:06.562947Z",
     "iopub.status.busy": "2023-08-09T06:53:06.562423Z",
     "iopub.status.idle": "2023-08-09T06:53:06.648893Z",
     "shell.execute_reply": "2023-08-09T06:53:06.647957Z",
     "shell.execute_reply.started": "2023-08-09T06:53:06.562915Z"
    },
    "tags": []
   },
   "outputs": [
    {
     "name": "stderr",
     "output_type": "stream",
     "text": [
      "/tmp/tmpxd9tpl3m.out: symbol lookup error: /tmp/tmp29iy5pom.out: undefined symbol: get_int\n",
      "[C kernel] Executable exited with code 127"
     ]
    }
   ],
   "source": [
    "// use `clang -o draft draft.c -lcs50` to compile\n",
    "\n",
    "#include <stdio.h>\n",
    "#include <cs50.h>\n",
    "\n",
    "int main(void)\n",
    "{\n",
    "    int i = get_int(\"i: \");\n",
    "    int j = get_int(\"j: \");\n",
    "\n",
    "    if (i == j)\n",
    "        printf(\"Same\\n\");\n",
    "    else\n",
    "        printf(\"Different\\n\");\n",
    "}"
   ]
  },
  {
   "cell_type": "code",
   "execution_count": 29,
   "id": "c0487886-b6f0-49e6-81b9-fa60aef30f4e",
   "metadata": {
    "execution": {
     "iopub.execute_input": "2023-08-09T06:53:11.042843Z",
     "iopub.status.busy": "2023-08-09T06:53:11.042166Z",
     "iopub.status.idle": "2023-08-09T06:53:11.131139Z",
     "shell.execute_reply": "2023-08-09T06:53:11.129708Z",
     "shell.execute_reply.started": "2023-08-09T06:53:11.042816Z"
    },
    "tags": []
   },
   "outputs": [
    {
     "name": "stderr",
     "output_type": "stream",
     "text": [
      "/tmp/tmpxd9tpl3m.out: symbol lookup error: /tmp/tmplngctgkd.out: undefined symbol: get_string\n",
      "[C kernel] Executable exited with code 127"
     ]
    }
   ],
   "source": [
    "// use `clang -o draft draft.c -lcs50` to compile\n",
    "\n",
    "#include <stdio.h>\n",
    "#include <string.h>\n",
    "#include <cs50.h>\n",
    "\n",
    "int main(void)\n",
    "{\n",
    "    char *s = get_string(\"s: \");\n",
    "    char *t = get_string(\"t: \");\n",
    "    \n",
    "    if (strcmp(s, t) == 0)\n",
    "        printf(\"Same\\n\");\n",
    "    else\n",
    "        printf(\"Different\\n\");\n",
    "}"
   ]
  },
  {
   "cell_type": "markdown",
   "id": "01713778-6b8e-41ce-ac36-d8a4923e1ca8",
   "metadata": {},
   "source": [
    "I.e. the \"string\" is not a value, but only an address, that's why you cannot compare strings as is, you need to compare them lexicographically."
   ]
  },
  {
   "cell_type": "code",
   "execution_count": 2,
   "id": "2772335e-b7f0-4107-9c7f-66ea4b0dd748",
   "metadata": {
    "execution": {
     "iopub.execute_input": "2023-08-06T11:45:48.468481Z",
     "iopub.status.busy": "2023-08-06T11:45:48.468147Z",
     "iopub.status.idle": "2023-08-06T11:45:48.561627Z",
     "shell.execute_reply": "2023-08-06T11:45:48.560011Z",
     "shell.execute_reply.started": "2023-08-06T11:45:48.468458Z"
    },
    "tags": []
   },
   "outputs": [
    {
     "name": "stderr",
     "output_type": "stream",
     "text": [
      "[C kernel] Executable exited with code 127"
     ]
    }
   ],
   "source": [
    "// use `clang -o draft draft.c -lcs50` to compile\n",
    "\n",
    "#include <stdio.h>\n",
    "#include <ctype.h>\n",
    "#include <string.h>\n",
    "#include <cs50.h>\n",
    "\n",
    "int main(void)\n",
    "{\n",
    "    char *s = get_string(\"s: \");\n",
    "\n",
    "    char *t = s;\n",
    "    t[0] = toupper(t[0]);\n",
    "        \n",
    "    printf(\"%s\\n\", s);\n",
    "    printf(\"%s\\n\", t);\n",
    "}"
   ]
  },
  {
   "cell_type": "markdown",
   "id": "d503315e-58c3-4039-b8da-ff7e1fb89fc4",
   "metadata": {},
   "source": [
    "Here we get:\n",
    "\n",
    "```\n",
    "s: hi\n",
    "Hi\n",
    "Hi\n",
    "```\n",
    "\n",
    "That is because we copied the address of the `char *s`, i.e. the address of the first letter and then we changed it."
   ]
  },
  {
   "cell_type": "markdown",
   "id": "1e4322ac-662c-4f65-bc11-80db8103ef15",
   "metadata": {},
   "source": [
    "## Managing memory"
   ]
  },
  {
   "cell_type": "markdown",
   "id": "1dd6aeeb-2af7-4000-949e-9c391a8f44e9",
   "metadata": {},
   "source": [
    "### `malloc`"
   ]
  },
  {
   "cell_type": "markdown",
   "id": "1a9e085f-ce5b-4500-b197-8cf29543f694",
   "metadata": {},
   "source": [
    "Now we ask a system for additional memory for a copy - `malloc` means \"memory allocation\". Use `<stdlib.h>`.\n",
    "\n",
    "Why `malloc`? Because it gets memory from the heap, unlike normal variables which take memory from the stack, and the stack can be overflown with bigger and bigger memory allocations.\n",
    "\n",
    "A Stack is limited to the single function call, but the Heap can be shared across functions overall."
   ]
  },
  {
   "cell_type": "markdown",
   "id": "065073ef-d935-4fc3-a660-639efedcea8d",
   "metadata": {},
   "source": [
    "<center>\n",
    "    <img src=\"./data/images/Screenshot from 2023-08-14 01-46-46.png\" alt=\"heap_and_stack\" style=\"width: 500px\">\n",
    "    <p style=\"text-align: center\"><i>Heap and stack</i></p>"
   ]
  },
  {
   "cell_type": "code",
   "execution_count": 3,
   "id": "cd8adbaf-5b27-40e3-94fc-016f6d2958fa",
   "metadata": {
    "execution": {
     "iopub.execute_input": "2023-08-06T12:01:49.958245Z",
     "iopub.status.busy": "2023-08-06T12:01:49.957261Z",
     "iopub.status.idle": "2023-08-06T12:01:50.050021Z",
     "shell.execute_reply": "2023-08-06T12:01:50.048637Z",
     "shell.execute_reply.started": "2023-08-06T12:01:49.958202Z"
    },
    "tags": []
   },
   "outputs": [
    {
     "name": "stderr",
     "output_type": "stream",
     "text": [
      "[C kernel] Executable exited with code 127"
     ]
    }
   ],
   "source": [
    "// use `clang -o draft draft.c -lcs50` to compile\n",
    "\n",
    "#include <stdio.h>\n",
    "#include <stdlib.h>\n",
    "#include <ctype.h>\n",
    "#include <string.h>\n",
    "#include <cs50.h>\n",
    "\n",
    "int main(void)\n",
    "{\n",
    "    char *s = get_string(\"s: \");\n",
    "\n",
    "    char *t = malloc(strlen(s) + 1);  // 1 for null char\n",
    "\n",
    "    for (int i = 0; i < strlen(s) + 1; i++)\n",
    "    {\n",
    "        t[i] = s[i];\n",
    "    }\n",
    "\n",
    "    if (strlen(t) > 0)\n",
    "    {\n",
    "        t[0] = toupper(t[0]);\n",
    "    }\n",
    "\n",
    "    printf(\"%s\\n\", s);\n",
    "    printf(\"%s\\n\", t);\n",
    "}"
   ]
  },
  {
   "cell_type": "markdown",
   "id": "70be0cd8-df85-4661-8b31-20875a658717",
   "metadata": {},
   "source": [
    "Now we get a real copy:\n",
    "\n",
    "```\n",
    "s: hi\n",
    "hi\n",
    "Hi\n",
    "```"
   ]
  },
  {
   "cell_type": "markdown",
   "id": "ee708eb0-94f9-417e-929c-c4f884ddc72d",
   "metadata": {},
   "source": [
    "But there is a bad design element: there is a function in the loop. We could do this:\n",
    "\n",
    "```c\n",
    "for (int i = 0, n = strlen(s) + 1; i < n; i++)\n",
    "```\n",
    "\n",
    "Also there is a function for copying strings:\n",
    "\n",
    "```c\n",
    "strcpy(dst, src)  // strcpy(t, s) in our case\n",
    "```"
   ]
  },
  {
   "cell_type": "markdown",
   "id": "afa3391b-e27a-4874-b102-bc0e091f46dd",
   "metadata": {},
   "source": [
    "### `free`"
   ]
  },
  {
   "cell_type": "markdown",
   "id": "7fd01455-a252-4227-a843-e683219d8575",
   "metadata": {},
   "source": [
    "After finishing the program the programmer who asked for `malloc` should return this memory back:\n",
    "\n",
    "```c\n",
    "free(t)\n",
    "```"
   ]
  },
  {
   "cell_type": "markdown",
   "id": "580232fc-3f46-4a91-841f-e16b8431b512",
   "metadata": {},
   "source": [
    "### `NULL`"
   ]
  },
  {
   "cell_type": "markdown",
   "id": "f76a9960-db32-4efa-a3fb-0dca8e216cf8",
   "metadata": {},
   "source": [
    "- address of 0, i.e. the beginning of the memory.\n",
    "\n",
    "So if you get `NULL`, that means something went wrong."
   ]
  },
  {
   "cell_type": "code",
   "execution_count": 46,
   "id": "278ac6aa-d35d-4e8d-a071-f5309d99dd48",
   "metadata": {
    "execution": {
     "iopub.execute_input": "2023-08-09T07:30:31.469981Z",
     "iopub.status.busy": "2023-08-09T07:30:31.469162Z",
     "iopub.status.idle": "2023-08-09T07:30:31.550210Z",
     "shell.execute_reply": "2023-08-09T07:30:31.548800Z",
     "shell.execute_reply.started": "2023-08-09T07:30:31.469954Z"
    },
    "tags": []
   },
   "outputs": [
    {
     "name": "stderr",
     "output_type": "stream",
     "text": [
      "/tmp/tmpxd9tpl3m.out: symbol lookup error: /tmp/tmpa5m0utc_.out: undefined symbol: get_string\n",
      "[C kernel] Executable exited with code 127"
     ]
    }
   ],
   "source": [
    "// use `clang -o draft draft.c -lcs50` to compile\n",
    "\n",
    "#include <stdio.h>\n",
    "#include <stdlib.h>\n",
    "#include <ctype.h>\n",
    "#include <string.h>\n",
    "#include <cs50.h>\n",
    "\n",
    "int main(void)\n",
    "{\n",
    "    char *s = get_string(\"s: \");\n",
    "    \n",
    "    if (s == NULL)\n",
    "    {\n",
    "        return 1;\n",
    "    }\n",
    "\n",
    "    char *t = malloc(strlen(s) + 1);  // 1 for null char\n",
    "    \n",
    "    if (t == NULL)\n",
    "        {\n",
    "            return 1;\n",
    "        }\n",
    "    \n",
    "    for (int i = 0, n = strlen(s) + 1; i < n; i++)\n",
    "    {\n",
    "        t[i] = s[i];\n",
    "    }\n",
    "\n",
    "    if (strlen(t) > 0)\n",
    "    {\n",
    "        t[0] = toupper(t[0]);\n",
    "    }\n",
    "\n",
    "    printf(\"%s\\n\", s);\n",
    "    printf(\"%s\\n\", t);\n",
    "    \n",
    "    free(t);\n",
    "    \n",
    "    return 0;\n",
    "}"
   ]
  },
  {
   "cell_type": "markdown",
   "id": "975f9633-3ed4-4131-a1b0-6a476246aa96",
   "metadata": {},
   "source": [
    "### Common memory errors"
   ]
  },
  {
   "cell_type": "markdown",
   "id": "1345abaf-e7ff-4d34-a14f-4e4341b95a3c",
   "metadata": {},
   "source": [
    "- Failing to **free** every block of memory which we've **malloc**'ed;\n",
    "- Failing to **flose** every file we've **fopen**ed;\n",
    "- Using more memory than we've allocated."
   ]
  },
  {
   "cell_type": "markdown",
   "id": "8e8dcc47-0e1a-4c58-bbb9-0cca73aa6935",
   "metadata": {},
   "source": [
    "#### `valgrind` A memory error detector"
   ]
  },
  {
   "cell_type": "markdown",
   "id": "eeaf77a0-0656-4406-9de0-f1bd28b9c5b9",
   "metadata": {},
   "source": [
    "- searches for bugs in the code that compiles.\n",
    "\n",
    "```sh\n",
    "sudo apt install valgrind\n",
    "```"
   ]
  },
  {
   "cell_type": "code",
   "execution_count": 1,
   "id": "a79ef357-2066-4287-9a98-4e59d6a179a7",
   "metadata": {
    "execution": {
     "iopub.execute_input": "2023-08-06T12:52:06.529139Z",
     "iopub.status.busy": "2023-08-06T12:52:06.528287Z",
     "iopub.status.idle": "2023-08-06T12:52:06.618134Z",
     "shell.execute_reply": "2023-08-06T12:52:06.615832Z",
     "shell.execute_reply.started": "2023-08-06T12:52:06.529096Z"
    },
    "tags": []
   },
   "outputs": [],
   "source": [
    "#include <stdio.h>\n",
    "#include <stdlib.h>\n",
    "\n",
    "int main(void)\n",
    "{\n",
    "    int *x = malloc(3 * sizeof(int));  // 3 * 4 = 12\n",
    "    x[1] = 72;\n",
    "    x[2] = 73;\n",
    "    x[3] = 33;\n",
    "}"
   ]
  },
  {
   "cell_type": "markdown",
   "id": "c8549b9b-7579-45f8-ae4a-3b19819ee390",
   "metadata": {},
   "source": [
    "The program is compiled but it has at least two bugs:\n",
    "- `x` indexing should start from `0`;\n",
    "- the memory is not freed.\n",
    "\n",
    "Now use bash:"
   ]
  },
  {
   "cell_type": "code",
   "execution_count": 2,
   "id": "34ff508b-f96f-4f68-88b2-b4b1e3713845",
   "metadata": {
    "execution": {
     "iopub.execute_input": "2023-08-06T12:59:21.965699Z",
     "iopub.status.busy": "2023-08-06T12:59:21.965020Z",
     "iopub.status.idle": "2023-08-06T12:59:22.070199Z",
     "shell.execute_reply": "2023-08-06T12:59:22.068700Z",
     "shell.execute_reply.started": "2023-08-06T12:59:21.965663Z"
    },
    "tags": []
   },
   "outputs": [],
   "source": [
    "cd Solutions"
   ]
  },
  {
   "cell_type": "code",
   "execution_count": 3,
   "id": "40a68b65-14c2-434a-81f2-efc38decd1ad",
   "metadata": {
    "execution": {
     "iopub.execute_input": "2023-08-06T12:59:25.637959Z",
     "iopub.status.busy": "2023-08-06T12:59:25.637620Z",
     "iopub.status.idle": "2023-08-06T12:59:26.580312Z",
     "shell.execute_reply": "2023-08-06T12:59:26.579237Z",
     "shell.execute_reply.started": "2023-08-06T12:59:25.637935Z"
    },
    "tags": []
   },
   "outputs": [
    {
     "name": "stdout",
     "output_type": "stream",
     "text": [
      "==11548== Memcheck, a memory error detector\n",
      "==11548== Copyright (C) 2002-2017, and GNU GPL'd, by Julian Seward et al.\n",
      "==11548== Using Valgrind-3.18.1 and LibVEX; rerun with -h for copyright info\n",
      "==11548== Command: ./draft\n",
      "==11548== \n",
      "==11548== Invalid write of size 4\n",
      "==11548==    at 0x109187: main (in /home/commi/Yandex.Disk/it_learning/02_CS/07_Harvard/Solutions/draft)\n",
      "==11548==  Address 0x4a9804c is 0 bytes after a block of size 12 alloc'd\n",
      "==11548==    at 0x4848899: malloc (in /usr/libexec/valgrind/vgpreload_memcheck-amd64-linux.so)\n",
      "==11548==    by 0x10915E: main (in /home/commi/Yandex.Disk/it_learning/02_CS/07_Harvard/Solutions/draft)\n",
      "==11548== \n",
      "==11548== \n",
      "==11548== HEAP SUMMARY:\n",
      "==11548==     in use at exit: 12 bytes in 1 blocks\n",
      "==11548==   total heap usage: 1 allocs, 0 frees, 12 bytes allocated\n",
      "==11548== \n",
      "==11548== LEAK SUMMARY:\n",
      "==11548==    definitely lost: 12 bytes in 1 blocks\n",
      "==11548==    indirectly lost: 0 bytes in 0 blocks\n",
      "==11548==      possibly lost: 0 bytes in 0 blocks\n",
      "==11548==    still reachable: 0 bytes in 0 blocks\n",
      "==11548==         suppressed: 0 bytes in 0 blocks\n",
      "==11548== Rerun with --leak-check=full to see details of leaked memory\n",
      "==11548== \n",
      "==11548== For lists of detected and suppressed errors, rerun with: -s\n",
      "==11548== ERROR SUMMARY: 1 errors from 1 contexts (suppressed: 0 from 0)\n"
     ]
    }
   ],
   "source": [
    "valgrind ./draft"
   ]
  },
  {
   "cell_type": "markdown",
   "id": "5b2a5443-4aa4-40f3-86a1-80a08b20885a",
   "metadata": {},
   "source": [
    "Incorrect indexing:\n",
    "\n",
    "```\n",
    "Invalid write of size 4\n",
    "at 0x109187: main (in /home/commi/Yandex.Disk/it_learning/02_CS/07_Harvard/Solutions/draft)\n",
    "Address 0x4a9804c is 0 bytes after a block of size 12 alloc'd\n",
    "at 0x4848899: malloc (in /usr/libexec/valgrind/vgpreload_memcheck-amd64-linux.so)\n",
    "by 0x10915E: main (in /home/commi/Yandex.Disk/it_learning/02_CS/07_Harvard/Solutions/draft)\n",
    "```"
   ]
  },
  {
   "cell_type": "markdown",
   "id": "a477fc8d-dfe8-4ebd-878c-a71dfbb5f796",
   "metadata": {},
   "source": [
    "Problems with memory:\n",
    "\n",
    "```\n",
    "total heap usage: 1 allocs, 0 frees, 12 bytes allocated\n",
    "==11548== \n",
    "==11548== LEAK SUMMARY:\n",
    "==11548==    definitely lost: 12 bytes in 1 blocks\n",
    "```"
   ]
  },
  {
   "cell_type": "code",
   "execution_count": 1,
   "id": "39c6507f-d7eb-481b-b1e3-eeaeadb16e93",
   "metadata": {
    "execution": {
     "iopub.execute_input": "2023-08-06T13:04:33.050175Z",
     "iopub.status.busy": "2023-08-06T13:04:33.049257Z",
     "iopub.status.idle": "2023-08-06T13:04:33.123851Z",
     "shell.execute_reply": "2023-08-06T13:04:33.122492Z",
     "shell.execute_reply.started": "2023-08-06T13:04:33.050134Z"
    },
    "tags": []
   },
   "outputs": [],
   "source": [
    "#include <stdio.h>\n",
    "#include <stdlib.h>\n",
    "\n",
    "int main(void)\n",
    "{\n",
    "    int *x = malloc(3 * sizeof(int));  // 3 * 4 = 12\n",
    "    if (x == NULL)\n",
    "    {\n",
    "        return 1;\n",
    "    }\n",
    "    x[0] = 72;\n",
    "    x[1] = 73;\n",
    "    x[2] = 33;\n",
    "    free(x);\n",
    "    return 0;\n",
    "}"
   ]
  },
  {
   "cell_type": "markdown",
   "id": "28b664ee-2c5c-4d4d-8b48-861c8d295580",
   "metadata": {},
   "source": [
    "Recompile in terminal and check again:"
   ]
  },
  {
   "cell_type": "code",
   "execution_count": 2,
   "id": "04c9d524-2e75-41cc-83e4-9246c24ad055",
   "metadata": {
    "execution": {
     "iopub.execute_input": "2023-08-06T13:06:06.019575Z",
     "iopub.status.busy": "2023-08-06T13:06:06.018724Z",
     "iopub.status.idle": "2023-08-06T13:06:07.070928Z",
     "shell.execute_reply": "2023-08-06T13:06:07.068986Z",
     "shell.execute_reply.started": "2023-08-06T13:06:06.019533Z"
    },
    "tags": []
   },
   "outputs": [
    {
     "name": "stdout",
     "output_type": "stream",
     "text": [
      "bash: cd: Solutions: No such file or directory\n",
      "==13007== Memcheck, a memory error detector\n",
      "==13007== Copyright (C) 2002-2017, and GNU GPL'd, by Julian Seward et al.\n",
      "==13007== Using Valgrind-3.18.1 and LibVEX; rerun with -h for copyright info\n",
      "==13007== Command: ./draft\n",
      "==13007== \n",
      "==13007== \n",
      "==13007== HEAP SUMMARY:\n",
      "==13007==     in use at exit: 0 bytes in 0 blocks\n",
      "==13007==   total heap usage: 1 allocs, 1 frees, 12 bytes allocated\n",
      "==13007== \n",
      "==13007== All heap blocks were freed -- no leaks are possible\n",
      "==13007== \n",
      "==13007== For lists of detected and suppressed errors, rerun with: -s\n",
      "==13007== ERROR SUMMARY: 0 errors from 0 contexts (suppressed: 0 from 0)\n"
     ]
    }
   ],
   "source": [
    "cd Solutions\n",
    "valgrind ./draft"
   ]
  },
  {
   "cell_type": "markdown",
   "id": "4d9c124d-c013-4e50-b8e8-b276460ad87a",
   "metadata": {},
   "source": [
    "### Garbage Values"
   ]
  },
  {
   "cell_type": "code",
   "execution_count": 32,
   "id": "f3b9418d-a0e6-4b0e-94bd-f0f13da3f9e9",
   "metadata": {
    "collapsed": true,
    "execution": {
     "iopub.execute_input": "2023-08-09T07:14:00.138751Z",
     "iopub.status.busy": "2023-08-09T07:14:00.137564Z",
     "iopub.status.idle": "2023-08-09T07:14:00.197812Z",
     "shell.execute_reply": "2023-08-09T07:14:00.196639Z",
     "shell.execute_reply.started": "2023-08-09T07:14:00.138707Z"
    },
    "jupyter": {
     "outputs_hidden": true
    },
    "tags": []
   },
   "outputs": [
    {
     "name": "stdout",
     "output_type": "stream",
     "text": [
      "4\n",
      "0\n",
      "7\n",
      "4\n",
      "2181360\n",
      "0\n",
      "2185456\n",
      "0\n",
      "2185456\n",
      "0\n",
      "16\n",
      "0\n",
      "144\n",
      "0\n",
      "8\n",
      "0\n",
      "1685382483\n",
      "4\n",
      "848\n",
      "0\n",
      "848\n",
      "0\n",
      "848\n",
      "0\n",
      "48\n",
      "0\n",
      "48\n",
      "0\n",
      "8\n",
      "0\n",
      "1685382480\n",
      "4\n",
      "1982028\n",
      "0\n",
      "1982028\n",
      "0\n",
      "1982028\n",
      "0\n",
      "28876\n",
      "0\n",
      "28876\n",
      "0\n",
      "4\n",
      "0\n",
      "1685382481\n",
      "6\n",
      "0\n",
      "0\n",
      "0\n",
      "0\n",
      "0\n",
      "0\n",
      "0\n",
      "0\n",
      "0\n",
      "0\n",
      "16\n",
      "0\n",
      "1685382482\n",
      "4\n",
      "2181360\n",
      "0\n",
      "2185456\n",
      "0\n",
      "2185456\n",
      "0\n",
      "14096\n",
      "0\n",
      "14096\n",
      "0\n",
      "1\n",
      "0\n",
      "0\n",
      "0\n",
      "947477635\n",
      "32517\n",
      "4\n",
      "0\n",
      "2052826944\n",
      "32764\n",
      "4096\n",
      "0\n",
      "2162691\n",
      "0\n",
      "-1890880378\n",
      "4095\n",
      "2052826944\n",
      "32764\n",
      "3\n",
      "0\n",
      "0\n",
      "0\n",
      "0\n",
      "0\n",
      "947683608\n",
      "32517\n",
      "4\n",
      "32764\n",
      "1\n",
      "0\n",
      "2260560\n",
      "0\n",
      "-1058306484\n",
      "21853\n",
      "947433792\n",
      "32517\n",
      "3\n",
      "0\n",
      "943718464\n",
      "32517\n",
      "0\n",
      "3\n",
      "2051\n",
      "0\n",
      "3434643\n",
      "0\n",
      "2051\n",
      "0\n",
      "3434643\n",
      "0\n",
      "1\n",
      "0\n",
      "33188\n",
      "0\n",
      "0\n",
      "0\n",
      "0\n",
      "0\n",
      "2216304\n",
      "0\n",
      "4096\n",
      "0\n",
      "4336\n",
      "0\n",
      "1691518551\n",
      "0\n",
      "104470851\n",
      "0\n",
      "1657149803\n",
      "0\n",
      "0\n",
      "0\n",
      "1687275891\n",
      "0\n",
      "118830885\n",
      "0\n",
      "947478572\n",
      "32517\n",
      "0\n",
      "0\n",
      "4096\n",
      "0\n",
      "1416\n",
      "0\n",
      "1416\n",
      "0\n",
      "4096\n",
      "0\n",
      "0\n",
      "0\n",
      "1\n",
      "0\n",
      "4096\n",
      "0\n",
      "8192\n",
      "0\n",
      "4557\n",
      "0\n",
      "4557\n",
      "0\n",
      "4096\n",
      "0\n",
      "4096\n",
      "0\n",
      "5\n",
      "0\n",
      "8192\n",
      "0\n",
      "12288\n",
      "0\n",
      "8388\n",
      "0\n",
      "8388\n",
      "0\n",
      "4096\n",
      "0\n",
      "8192\n",
      "0\n",
      "1\n",
      "32517\n",
      "12288\n",
      "0\n",
      "20480\n",
      "0\n",
      "16432\n",
      "0\n",
      "16440\n",
      "0\n",
      "4096\n",
      "0\n",
      "8192\n",
      "0\n",
      "3\n",
      "0\n",
      "832\n",
      "0\n",
      "1179403647\n",
      "50397442\n",
      "0\n",
      "0\n",
      "0\n",
      "0\n",
      "0\n",
      "0\n",
      "32\n",
      "0\n",
      "2212080\n",
      "67\n",
      "1213\n",
      "0\n",
      "4194318\n",
      "2\n",
      "2052828928\n",
      "32764\n",
      "2052830064\n",
      "32764\n",
      "0\n",
      "0\n",
      "943842233\n",
      "32517\n",
      "0\n",
      "0\n",
      "947433824\n",
      "32517\n",
      "947455125\n",
      "32517\n",
      "0\n",
      "0\n",
      "945245224\n",
      "32517\n",
      "0\n",
      "0\n",
      "2052828480\n",
      "32764\n",
      "2052828640\n",
      "32764\n",
      "2\n",
      "0\n",
      "0\n",
      "0\n",
      "947522444\n",
      "32517\n",
      "-1039007040\n",
      "21853\n",
      "947433824\n",
      "32517\n",
      "947682032\n",
      "32517\n",
      "1740912831\n",
      "26564497\n",
      "1\n",
      "0\n",
      "4\n",
      "49\n",
      "0\n",
      "0\n",
      "0\n",
      "0\n",
      "0\n",
      "0\n",
      "124\n",
      "119\n",
      "110\n",
      "91\n",
      "-1039007040\n",
      "21853\n",
      "1527003327\n",
      "26564497\n",
      "945921152\n",
      "32517\n",
      "56\n",
      "0\n",
      "2\n",
      "0\n",
      "2052828448\n",
      "32764\n",
      "-1039007040\n",
      "21853\n",
      "947682032\n",
      "32517\n",
      "-1039005776\n",
      "21853\n",
      "3\n",
      "0\n",
      "3\n",
      "0\n",
      "-1039007040\n",
      "21853\n",
      "0\n",
      "0\n",
      "2052830064\n",
      "32764\n",
      "947458757\n",
      "32517\n",
      "1\n",
      "32517\n",
      "947682032\n",
      "32517\n",
      "0\n",
      "0\n",
      "947457148\n",
      "32517\n",
      "1\n",
      "32517\n",
      "947433824\n",
      "32517\n",
      "2052828656\n",
      "32764\n",
      "947457148\n",
      "32517\n",
      "1\n",
      "0\n",
      "-1039007040\n",
      "21853\n",
      "2052828688\n",
      "32764\n",
      "0\n",
      "0\n",
      "16440\n",
      "0\n",
      "2052834024\n",
      "32764\n",
      "-1039007072\n",
      "21853\n",
      "3\n",
      "0\n",
      "947413056\n",
      "32517\n",
      "2052828720\n",
      "32764\n",
      "0\n",
      "0\n",
      "2052828992\n",
      "32764\n",
      "2052828688\n",
      "32764\n",
      "0\n",
      "-2147483648\n",
      "-1039007040\n",
      "21853\n",
      "3\n",
      "1000\n",
      "2052828656\n",
      "32764\n",
      "2052828656\n",
      "32764\n",
      "0\n",
      "0\n",
      "4096\n",
      "0\n",
      "0\n",
      "0\n",
      "0\n",
      "32517\n",
      "0\n",
      "0\n",
      "0\n",
      "0\n",
      "0\n",
      "0\n",
      "1691565240\n",
      "0\n",
      "947433824\n",
      "32517\n",
      "0\n",
      "-2147483648\n",
      "943810128\n",
      "32517\n",
      "943842233\n",
      "32517\n",
      "947682032\n",
      "32517\n",
      "-1879048191\n",
      "0\n",
      "2052828992\n",
      "32764\n",
      "1024\n",
      "0\n",
      "0\n",
      "0\n",
      "947679296\n",
      "32517\n",
      "0\n",
      "0\n",
      "947484161\n",
      "32517\n",
      "2\n",
      "0\n",
      "-1879048191\n",
      "0\n",
      "2052829152\n",
      "32764\n",
      "0\n",
      "0\n",
      "1685382482\n",
      "4\n",
      "2181360\n",
      "2\n",
      "2052829168\n",
      "32764\n",
      "0\n",
      "268435456\n",
      "0\n",
      "0\n",
      "0\n",
      "0\n",
      "943842233\n",
      "32517\n",
      "0\n",
      "0\n",
      "947433824\n",
      "32517\n",
      "947455125\n",
      "32517\n",
      "0\n",
      "0\n",
      "-1039007072\n",
      "21853\n",
      "2052831904\n",
      "32764\n",
      "2052829232\n",
      "32764\n",
      "832\n",
      "0\n",
      "1179403647\n",
      "65794\n",
      "0\n",
      "0\n",
      "4063235\n",
      "1\n",
      "0\n",
      "0\n",
      "64\n",
      "0\n",
      "13712\n",
      "0\n",
      "947487612\n",
      "32517\n",
      "947433824\n",
      "32517\n",
      "943737552\n",
      "32517\n",
      "1842243024\n",
      "0\n",
      "943726344\n",
      "32517\n",
      "-1039005640\n",
      "21853\n",
      "947488745\n",
      "32517\n",
      "223\n",
      "0\n",
      "943810128\n",
      "32517\n",
      "947433824\n",
      "32517\n",
      "2052829464\n",
      "32764\n",
      "2052829460\n",
      "32764\n",
      "4096\n",
      "0\n",
      "943810128\n",
      "32517\n",
      "1842243024\n",
      "0\n",
      "2052829460\n",
      "32764\n",
      "28785047\n",
      "0\n",
      "947435152\n",
      "32517\n",
      "8192\n",
      "0\n",
      "0\n",
      "0\n",
      "947414046\n",
      "32517\n",
      "947413928\n",
      "32517\n",
      "2052829664\n",
      "32764\n",
      "2052829648\n",
      "32764\n",
      "11792\n",
      "0\n",
      "0\n",
      "0\n",
      "3\n",
      "0\n",
      "544\n",
      "0\n",
      "552\n",
      "0\n",
      "4096\n",
      "0\n",
      "0\n",
      "0\n",
      "11808\n",
      "0\n",
      "1842243024\n",
      "0\n",
      "2052829944\n",
      "32764\n",
      "947414046\n",
      "32517\n",
      "-1039006160\n",
      "21853\n",
      "2052829648\n",
      "32764\n",
      "2052829664\n",
      "32764\n",
      "947491345\n",
      "32517\n",
      "1\n",
      "0\n",
      "-1039005640\n",
      "21853\n",
      "9\n",
      "0\n",
      "0\n",
      "0\n",
      "4\n",
      "0\n",
      "-1039007040\n",
      "21853\n",
      "-1039005640\n",
      "21853\n",
      "-1039007040\n",
      "21853\n",
      "0\n",
      "4\n",
      "-1039006160\n",
      "21853\n",
      "0\n",
      "0\n",
      "0\n",
      "0\n",
      "8\n",
      "7\n",
      "0\n",
      "0\n",
      "-1\n",
      "0\n",
      "680\n",
      "0\n",
      "943742904\n",
      "32517\n",
      "947433824\n",
      "32517\n",
      "1\n",
      "0\n",
      "7\n",
      "49\n",
      "0\n",
      "0\n",
      "0\n",
      "0\n",
      "0\n",
      "0\n",
      "124\n",
      "119\n",
      "0\n",
      "0\n",
      "0\n",
      "0\n",
      "2052830064\n",
      "32764\n",
      "6\n",
      "0\n",
      "947413928\n",
      "84\n",
      "2304\n",
      "0\n",
      "-1039007040\n",
      "21853\n",
      "947512552\n",
      "32517\n",
      "9\n",
      "0\n",
      "947514857\n",
      "32517\n",
      "36\n",
      "0\n",
      "145\n",
      "84\n",
      "4\n",
      "0\n",
      "0\n",
      "0\n",
      "0\n",
      "0\n",
      "124\n",
      "119\n",
      "110\n",
      "95\n",
      "-180198400\n",
      "904874507\n",
      "0\n",
      "0\n",
      "-128\n",
      "-1\n",
      "0\n",
      "0\n",
      "1\n",
      "0\n",
      "-1039005600\n",
      "21853\n",
      "-1039005568\n",
      "21853\n",
      "947683680\n",
      "32517\n",
      "944395475\n",
      "32517\n",
      "947413928\n",
      "32517\n",
      "943742904\n",
      "32517\n",
      "1\n",
      "0\n",
      "0\n",
      "0\n",
      "0\n",
      "0\n",
      "947465555\n",
      "32517\n",
      "947414360\n",
      "32517\n",
      "2304\n",
      "0\n",
      "63\n",
      "0\n",
      "1\n",
      "0\n",
      "947436520\n",
      "32517\n",
      "2052830880\n",
      "32764\n",
      "0\n",
      "0\n",
      "3\n",
      "0\n",
      "1\n",
      "0\n",
      "947467390\n",
      "32517\n",
      "0\n",
      "0\n",
      "2\n",
      "0\n",
      "2052831912\n",
      "32764\n",
      "2052831936\n",
      "32764\n",
      "-1039007040\n",
      "21853\n",
      "947467624\n",
      "32517\n",
      "1819435365\n",
      "1852399481\n",
      "2052830880\n",
      "32764\n",
      "-1039007040\n",
      "21853\n",
      "-8\n",
      "-1\n",
      "2052830464\n",
      "32764\n",
      "2\n",
      "0\n",
      "-2147483647\n",
      "0\n",
      "945245317\n",
      "32517\n",
      "0\n",
      "0\n",
      "2052830592\n",
      "32764\n",
      "947498816\n",
      "32517\n",
      "2052830464\n",
      "32764\n",
      "947682032\n",
      "32517\n",
      "947443088\n",
      "32517\n",
      "2052830464\n",
      "32764\n",
      "2052830220\n",
      "32764\n",
      "2052830880\n",
      "32764\n",
      "1814313151\n",
      "26564497\n",
      "-8\n",
      "-1\n",
      "947487399\n",
      "32517\n",
      "-1039007040\n",
      "21853\n",
      "947413784\n",
      "32517\n",
      "2090499946\n",
      "0\n",
      "947413776\n",
      "32517\n",
      "0\n",
      "0\n",
      "947488745\n",
      "32517\n",
      "7\n",
      "0\n",
      "947413976\n",
      "32517\n",
      "-1039007040\n",
      "21853\n",
      "2052830504\n",
      "32764\n",
      "2052830500\n",
      "32764\n",
      "943832954\n",
      "32517\n",
      "947413976\n",
      "32517\n",
      "2090499946\n",
      "0\n",
      "2052830500\n",
      "32764\n",
      "32664061\n",
      "0\n",
      "-1039005744\n",
      "21853\n",
      "3\n",
      "0\n",
      "0\n",
      "0\n",
      "-1058299820\n",
      "21853\n",
      "0\n",
      "0\n",
      "2052830704\n",
      "32764\n",
      "2052830688\n",
      "32764\n",
      "947498998\n",
      "0\n",
      "0\n",
      "21853\n",
      "3\n",
      "0\n",
      "2052831912\n",
      "32764\n",
      "2052831936\n",
      "32764\n",
      "2052830640\n",
      "0\n",
      "0\n",
      "0\n",
      "2052830848\n",
      "32764\n",
      "2090499946\n",
      "0\n",
      "2052830856\n",
      "32764\n",
      "-1058299820\n",
      "21853\n",
      "-1039006112\n",
      "21853\n",
      "2052830688\n",
      "32764\n",
      "2052830704\n",
      "32764\n",
      "947491345\n",
      "32517\n",
      "0\n",
      "0\n",
      "0\n",
      "0\n",
      "2\n",
      "0\n",
      "0\n",
      "0\n",
      "0\n",
      "0\n",
      "-1039007040\n",
      "21853\n",
      "0\n",
      "0\n",
      "-1039007040\n",
      "21853\n",
      "2\n",
      "0\n",
      "-1039006112\n",
      "21853\n",
      "0\n",
      "0\n",
      "2\n",
      "6804360\n",
      "0\n",
      "0\n",
      "0\n",
      "0\n",
      "-1\n",
      "0\n",
      "0\n",
      "0\n",
      "947413952\n",
      "32517\n",
      "-1039007040\n",
      "21853\n",
      "947433824\n",
      "32517\n",
      "945918392\n",
      "32517\n",
      "-1058303543\n",
      "21853\n",
      "-1058292320\n",
      "21853\n",
      "947679296\n",
      "32517\n",
      "947519345\n",
      "32517\n",
      "1\n",
      "0\n",
      "2052831488\n",
      "32764\n",
      "-1058303308\n",
      "21853\n",
      "0\n",
      "0\n",
      "-1058299820\n",
      "21853\n",
      "-1058292320\n",
      "21853\n",
      "947679296\n",
      "32517\n",
      "945248733\n",
      "32517\n",
      "2\n",
      "0\n",
      "0\n",
      "0\n",
      "0\n",
      "0\n",
      "947413952\n",
      "32517\n",
      "0\n",
      "0\n",
      "0\n",
      "0\n",
      "2052834024\n",
      "32764\n",
      "-2147483647\n",
      "32517\n",
      "947417401\n",
      "32517\n",
      "-1039007040\n",
      "21853\n",
      "0\n",
      "0\n",
      "0\n",
      "257\n",
      "2\n",
      "0\n",
      "2052831912\n",
      "32764\n",
      "2052831936\n",
      "32764\n",
      "-180198400\n",
      "904874507\n",
      "0\n",
      "32\n",
      "2052831408\n",
      "32764\n",
      "0\n",
      "0\n",
      "-1058303543\n",
      "21853\n",
      "-1058292320\n",
      "21853\n",
      "944310200\n",
      "32517\n",
      "2052831399\n",
      "32764\n",
      "945245224\n",
      "32517\n",
      "2052831312\n",
      "32764\n",
      "0\n",
      "0\n",
      "944310176\n",
      "32517\n",
      "2052831488\n",
      "32764\n",
      "2052831344\n",
      "32764\n",
      "0\n",
      "0\n",
      "2052831312\n",
      "32764\n",
      "2052831068\n",
      "32764\n",
      "2052831399\n",
      "32764\n",
      "1883519167\n",
      "26564497\n",
      "-8\n",
      "-1\n",
      "-1058303543\n",
      "21853\n",
      "-1058292320\n",
      "21853\n",
      "947679296\n",
      "32517\n",
      "1866741951\n",
      "26564497\n",
      "-1723975489\n",
      "6804360\n",
      "0\n",
      "21853\n",
      "947679296\n",
      "32517\n",
      "1870936255\n",
      "26564497\n",
      "-1723975489\n",
      "6804360\n",
      "0\n",
      "0\n",
      "0\n",
      "0\n",
      "0\n",
      "0\n",
      "0\n",
      "0\n",
      "0\n",
      "0\n",
      "0\n",
      "0\n",
      "0\n",
      "0\n",
      "0\n",
      "0\n",
      "0\n",
      "0\n",
      "0\n",
      "0\n",
      "0\n",
      "0\n",
      "0\n",
      "0\n",
      "0\n",
      "0\n",
      "-180198400\n",
      "904874507\n",
      "2052831400\n",
      "32764\n",
      "945245427\n",
      "32517\n",
      "0\n",
      "0\n",
      "0\n",
      "0\n",
      "0\n",
      "0\n",
      "-180198400\n",
      "904874507\n",
      "-80\n",
      "-1\n",
      "0\n",
      "0\n",
      "947677920\n",
      "32517\n",
      "944308654\n",
      "32517\n",
      "-80\n",
      "-1\n",
      "0\n",
      "0\n",
      "947677920\n",
      "16809733\n",
      "0\n",
      "0\n",
      "0\n",
      "0\n",
      "-180198400\n",
      "904874507\n",
      "0\n",
      "0\n",
      "947681864\n",
      "32517\n",
      "0\n",
      "0\n",
      "-1058303543\n",
      "21853\n",
      "-1058292320\n",
      "21853\n",
      "944310340\n",
      "32517\n",
      "2052831912\n",
      "32764\n",
      "-1058299820\n",
      "21853\n",
      "-1039007040\n",
      "21853\n",
      "-1058299820\n",
      "21853\n",
      "-1058303308\n",
      "21853\n",
      "947417401\n",
      "32517\n",
      "-1039007040\n",
      "21853\n",
      "-180198400\n",
      "904874507\n"
     ]
    }
   ],
   "source": [
    "#include <stdio.h>\n",
    "#include <stdlib.h>\n",
    "\n",
    "int main(void)\n",
    "{\n",
    "    int scores[1024];\n",
    "    for (int i = 0; i < 1024; i++)\n",
    "    {\n",
    "        printf(\"%i\\n\", scores[i]);\n",
    "    }\n",
    "}"
   ]
  },
  {
   "cell_type": "markdown",
   "id": "8420b83a-ea11-4d54-b372-0689f51133d5",
   "metadata": {},
   "source": [
    "The array is not initialized by a programmer, so it is initialized with the **garbage** values that are stored in the memory by default or kept after using other programs.\n",
    "\n",
    "> Thus, **always** initialize variables and arrays to something either yourself or a human prompted.\n",
    "\n",
    "Let's take a look at another example:"
   ]
  },
  {
   "cell_type": "code",
   "execution_count": 4,
   "id": "6b09b1a1-15f5-4591-b850-f5d52dbd7299",
   "metadata": {
    "execution": {
     "iopub.execute_input": "2023-08-09T07:38:39.103066Z",
     "iopub.status.busy": "2023-08-09T07:38:39.102421Z",
     "iopub.status.idle": "2023-08-09T07:38:39.188683Z",
     "shell.execute_reply": "2023-08-09T07:38:39.187630Z",
     "shell.execute_reply.started": "2023-08-09T07:38:39.103037Z"
    },
    "tags": []
   },
   "outputs": [],
   "source": [
    "#include <stdlib.h>\n",
    "\n",
    "int main(void)\n",
    "{\n",
    "    int *x;\n",
    "    int *y;\n",
    "    \n",
    "    // x is initialized with memory location\n",
    "    x = malloc(sizeof(int));\n",
    "    // now we can initialize a value to that location\n",
    "    *x = 42;\n",
    "    \n",
    "    // y is not initialized and has no its own memory location\n",
    "    *y = 13;\n",
    "\n",
    "}"
   ]
  },
  {
   "cell_type": "markdown",
   "id": "327e5e5d-9832-4478-8b92-e6a289747f3a",
   "metadata": {},
   "source": [
    "```\n",
    "Segmentation fault (core dumped)\n",
    "```"
   ]
  },
  {
   "cell_type": "code",
   "execution_count": 3,
   "id": "fb79ea86-d0d4-4110-a7f6-a472edda3f9c",
   "metadata": {
    "execution": {
     "iopub.execute_input": "2023-08-09T07:37:22.690061Z",
     "iopub.status.busy": "2023-08-09T07:37:22.689456Z",
     "iopub.status.idle": "2023-08-09T07:37:22.744748Z",
     "shell.execute_reply": "2023-08-09T07:37:22.743618Z",
     "shell.execute_reply.started": "2023-08-09T07:37:22.690034Z"
    },
    "tags": []
   },
   "outputs": [],
   "source": [
    "#include <stdlib.h>\n",
    "\n",
    "int main(void)\n",
    "{\n",
    "    int *x;\n",
    "    int *y;\n",
    "\n",
    "    x = malloc(sizeof(int));\n",
    "    *x = 42;\n",
    "\n",
    "    y = x;\n",
    "    *y = 13;\n",
    "}"
   ]
  },
  {
   "cell_type": "markdown",
   "id": "720e7d03-f504-47cf-98df-c57adfce6a5e",
   "metadata": {},
   "source": [
    "Now everything is okay."
   ]
  },
  {
   "cell_type": "markdown",
   "id": "b9883c6d-1964-47d2-b69c-fc03f7d6f257",
   "metadata": {},
   "source": [
    "### Video - Pointer Fun Video"
   ]
  },
  {
   "cell_type": "markdown",
   "id": "14ae2700-bb8f-4d2d-ba0a-2d6cd8e70a00",
   "metadata": {},
   "source": [
    "https://www.youtube.com/watch?v=9TZCnY2H8ac"
   ]
  },
  {
   "cell_type": "markdown",
   "id": "a12310e8-733f-4647-ba55-d955a424c9ba",
   "metadata": {},
   "source": [
    "## Swapping values"
   ]
  },
  {
   "cell_type": "markdown",
   "id": "d4cd500a-cce3-4aac-913c-d1d21baa0e7c",
   "metadata": {},
   "source": [
    "- using a temporary value"
   ]
  },
  {
   "cell_type": "code",
   "execution_count": 18,
   "id": "20d3fd81-0563-4f7c-9bc0-6216a13c3163",
   "metadata": {
    "execution": {
     "iopub.execute_input": "2023-08-09T08:17:15.543441Z",
     "iopub.status.busy": "2023-08-09T08:17:15.542464Z",
     "iopub.status.idle": "2023-08-09T08:17:15.640068Z",
     "shell.execute_reply": "2023-08-09T08:17:15.638388Z",
     "shell.execute_reply.started": "2023-08-09T08:17:15.543405Z"
    },
    "tags": []
   },
   "outputs": [
    {
     "name": "stdout",
     "output_type": "stream",
     "text": [
      "x: 0, y: 1\n",
      "x: 0, y: 1\n"
     ]
    }
   ],
   "source": [
    "#include <stdio.h>\n",
    "\n",
    "void swap(int a, int b);\n",
    "\n",
    "int main(void)\n",
    "{\n",
    "    int x = 0;\n",
    "    int y = 1;\n",
    "    printf(\"x: %i, y: %i\\n\", x, y);\n",
    "    swap(x, y);\n",
    "    printf(\"x: %i, y: %i\\n\", x, y);\n",
    "}\n",
    "\n",
    "void swap(int a, int b)\n",
    "{\n",
    "    int tmp = a;\n",
    "    a = b;\n",
    "    b = tmp;\n",
    "}"
   ]
  },
  {
   "cell_type": "markdown",
   "id": "f52f9705-5bbf-4040-9cb6-1acb73377867",
   "metadata": {},
   "source": [
    "The `swap` function copies the values to its variables `a` and `b` (passes variables [by value](#passing_by_value)), and it has no effect on the values `x` and `y`. \n",
    "\n",
    "<center>\n",
    "    <img src=\"./data/images/Screenshot from 2023-08-09 13-34-56.png\" alt=\"memory_structure\" style=\"width: 700px\">\n",
    "    <p style=\"text-align: center\"><i></i></p>\n",
    "\n",
    "What we need is to pass variables **by reference**, i.e. use the pointers:"
   ]
  },
  {
   "cell_type": "code",
   "execution_count": 36,
   "id": "df25309a-1a2c-4b44-9662-a1b9e5d90d45",
   "metadata": {
    "execution": {
     "iopub.execute_input": "2023-08-09T08:55:18.145724Z",
     "iopub.status.busy": "2023-08-09T08:55:18.145113Z",
     "iopub.status.idle": "2023-08-09T08:55:18.236979Z",
     "shell.execute_reply": "2023-08-09T08:55:18.235499Z",
     "shell.execute_reply.started": "2023-08-09T08:55:18.145688Z"
    },
    "tags": []
   },
   "outputs": [
    {
     "name": "stdout",
     "output_type": "stream",
     "text": [
      "x: 0, y: 1\n",
      "x: 1, y: 0\n"
     ]
    }
   ],
   "source": [
    "#include <stdio.h>\n",
    "#include <stdlib.h>\n",
    "\n",
    "void swap(int *a, int *b);\n",
    "\n",
    "int main(void)\n",
    "{\n",
    "    int x = 0;\n",
    "    int y = 1;\n",
    "    printf(\"x: %i, y: %i\\n\", x, y);\n",
    "    // provide swap function with the addresses of x and y\n",
    "    // now a = &x, b = &y\n",
    "    swap(&x, &y);\n",
    "    printf(\"x: %i, y: %i\\n\", x, y);\n",
    "}\n",
    "\n",
    "// change the values in the addresses, not in variables\n",
    "// as a = &x, b = &y, we get *a = x, *b = y\n",
    "void swap(int *a, int *b)\n",
    "{\n",
    "    // tmp gets value of x\n",
    "    int tmp = *a;\n",
    "    // address of a gets value of y\n",
    "    *a = *b;\n",
    "    // address of b gets value of tmp = x\n",
    "    *b = tmp;\n",
    "}"
   ]
  },
  {
   "cell_type": "markdown",
   "id": "9de04a62-e14e-4d78-9687-73f95de517fd",
   "metadata": {},
   "source": [
    "Remember: `*a` means \"go to the address a\", and variable `a` is the address of `x` in our case."
   ]
  },
  {
   "cell_type": "markdown",
   "id": "2bcc3d80-844f-4e15-b4b0-e2c73b1af78b",
   "metadata": {},
   "source": [
    "## `Get` functions"
   ]
  },
  {
   "cell_type": "markdown",
   "id": "7c70dc3d-190b-4c80-9f5e-1297f6577f6d",
   "metadata": {},
   "source": [
    "Use terminal:"
   ]
  },
  {
   "cell_type": "markdown",
   "id": "df86a393-0e18-4973-be2f-90ecf3c8ad8d",
   "metadata": {},
   "source": [
    "### `get_int` in C"
   ]
  },
  {
   "cell_type": "code",
   "execution_count": 38,
   "id": "264ddba2-5074-48f8-a3ac-128057489c6f",
   "metadata": {
    "execution": {
     "iopub.execute_input": "2023-08-09T08:59:45.329685Z",
     "iopub.status.busy": "2023-08-09T08:59:45.328818Z",
     "iopub.status.idle": "2023-08-09T08:59:45.389151Z",
     "shell.execute_reply": "2023-08-09T08:59:45.387653Z",
     "shell.execute_reply.started": "2023-08-09T08:59:45.329628Z"
    },
    "tags": []
   },
   "outputs": [
    {
     "name": "stdout",
     "output_type": "stream",
     "text": [
      "x: 0\n"
     ]
    }
   ],
   "source": [
    "#include <stdio.h>\n",
    "\n",
    "int main(void)\n",
    "{\n",
    "    int x;\n",
    "    printf(\"x: \");\n",
    "    scanf(\"%i\", &x);\n",
    "    printf(\"%i\\n\", x);\n",
    "}"
   ]
  },
  {
   "cell_type": "markdown",
   "id": "3298d8e9-b988-40c6-b2d8-6e47f6b9f1f5",
   "metadata": {},
   "source": [
    "### `get_string` in C"
   ]
  },
  {
   "cell_type": "code",
   "execution_count": 39,
   "id": "35718c31-879f-4df5-8c80-7239520a8df0",
   "metadata": {
    "execution": {
     "iopub.execute_input": "2023-08-09T09:03:46.216643Z",
     "iopub.status.busy": "2023-08-09T09:03:46.215607Z",
     "iopub.status.idle": "2023-08-09T09:03:46.309631Z",
     "shell.execute_reply": "2023-08-09T09:03:46.308019Z",
     "shell.execute_reply.started": "2023-08-09T09:03:46.216598Z"
    },
    "tags": []
   },
   "outputs": [
    {
     "name": "stdout",
     "output_type": "stream",
     "text": [
      "s: "
     ]
    }
   ],
   "source": [
    "#include <stdio.h>\n",
    "\n",
    "int main(void)\n",
    "{\n",
    "    char *s;\n",
    "    printf(\"s: \");\n",
    "    scanf(\"%s\", s);\n",
    "    printf(\"%s\\n\", s);\n",
    "}"
   ]
  },
  {
   "cell_type": "markdown",
   "id": "a2aa80a4-02f5-4b7c-94c4-087aa51f97da",
   "metadata": {},
   "source": [
    "```\n",
    "Segmentation fault (core dumped)\n",
    "```"
   ]
  },
  {
   "cell_type": "code",
   "execution_count": 40,
   "id": "8a6fd61e-9049-4dbf-94fa-7527af56696f",
   "metadata": {
    "execution": {
     "iopub.execute_input": "2023-08-09T09:06:25.909008Z",
     "iopub.status.busy": "2023-08-09T09:06:25.908123Z",
     "iopub.status.idle": "2023-08-09T09:06:26.003360Z",
     "shell.execute_reply": "2023-08-09T09:06:26.001699Z",
     "shell.execute_reply.started": "2023-08-09T09:06:25.908973Z"
    },
    "tags": []
   },
   "outputs": [
    {
     "name": "stdout",
     "output_type": "stream",
     "text": [
      "s: \n"
     ]
    }
   ],
   "source": [
    "#include <stdio.h>\n",
    "\n",
    "int main(void)\n",
    "{\n",
    "    char s[4];\n",
    "    printf(\"s: \");\n",
    "    scanf(\"%s\", s);\n",
    "    printf(\"%s\\n\", s);\n",
    "}"
   ]
  },
  {
   "cell_type": "markdown",
   "id": "15057db4-4c36-4600-8473-049c64c46b1e",
   "metadata": {},
   "source": [
    "It will work for a string of 3 letters (+ `\\0`), but it is going to be crashed if we input more letters. CS50 stuff used loop for their functions which is making baby steps, checking every new letter and asking a new byte of memory everytime. That's the difficulty of using C."
   ]
  },
  {
   "cell_type": "markdown",
   "id": "9eec2d44-7162-4d6f-9a7d-f4a24359f9f6",
   "metadata": {},
   "source": [
    "## Working with files"
   ]
  },
  {
   "cell_type": "code",
   "execution_count": null,
   "id": "a5001734-520b-46b1-85d4-d64f8ecf3717",
   "metadata": {},
   "outputs": [],
   "source": [
    "// use `clang -o draft draft.c -lcs50` to compile\n",
    "// Saves names to a csv file\n",
    "\n",
    "#include <stdio.h>\n",
    "#include <string.h>\n",
    "#include <cs50.h>\n",
    "\n",
    "int main(void)\n",
    "{\n",
    "    FILE *file = fopen(\"phonebook.csv\", \"a\");\n",
    "    \n",
    "    char *name = get_string(\"Name: \");\n",
    "    char *number = get_string(\"Number: \");\n",
    "    \n",
    "    fprintf(file, \"%s, %s\\n\", name, number);\n",
    "    \n",
    "    fclose(file);\n",
    "}"
   ]
  },
  {
   "cell_type": "markdown",
   "id": "58902656-23ae-4a39-8bee-749576731086",
   "metadata": {},
   "source": [
    "```c\n",
    "fread(buffer, 1, 3, file)\n",
    "```\n",
    "\n",
    "- reads 3 bytes each of size 1 to buffer\n",
    "\n",
    "```c\n",
    "#include <stdint.h>\n",
    "\n",
    "uint8_t var;\n",
    "```"
   ]
  },
  {
   "cell_type": "markdown",
   "id": "3e9ebcf6-6a56-4c56-b8f4-e7f3c44653d6",
   "metadata": {},
   "source": []
  },
  {
   "cell_type": "markdown",
   "id": "69b80387-9f1b-41c5-aaab-412363b996f9",
   "metadata": {},
   "source": []
  },
  {
   "cell_type": "markdown",
   "id": "244ea6f6-3d10-4b32-b7a1-51da74b24d76",
   "metadata": {},
   "source": []
  },
  {
   "cell_type": "markdown",
   "id": "8fca109e-6109-469e-b0c1-b8dcbebde8ee",
   "metadata": {},
   "source": []
  },
  {
   "cell_type": "markdown",
   "id": "29ed5d20-b1c9-4bca-93b7-9192ae8dcf9f",
   "metadata": {},
   "source": []
  },
  {
   "cell_type": "markdown",
   "id": "81c76079-16b2-404c-9d6d-9de56384176b",
   "metadata": {},
   "source": []
  },
  {
   "cell_type": "markdown",
   "id": "16b4a5f1-f530-4d50-aa7e-0b6d1f4fbaaa",
   "metadata": {},
   "source": []
  },
  {
   "cell_type": "markdown",
   "id": "a3f65777-9671-4155-98cf-e0a5dc8e6207",
   "metadata": {},
   "source": []
  },
  {
   "cell_type": "markdown",
   "id": "fbc0047e-9244-4193-86d0-68e6708702c1",
   "metadata": {},
   "source": []
  },
  {
   "cell_type": "markdown",
   "id": "60bdbbfb-d2e8-4ddd-a792-dbdb286066f5",
   "metadata": {},
   "source": []
  },
  {
   "cell_type": "markdown",
   "id": "e0ffeafa-88eb-45d1-955a-94f5d9216f20",
   "metadata": {},
   "source": []
  },
  {
   "cell_type": "markdown",
   "id": "9fabf2f5-119d-4cf8-ae95-d75dcce56517",
   "metadata": {},
   "source": []
  },
  {
   "cell_type": "markdown",
   "id": "ba09eaa9-8a6d-4316-97f1-5ce4ccdca472",
   "metadata": {},
   "source": []
  },
  {
   "cell_type": "markdown",
   "id": "a5686143-c9ac-47cf-8ffb-4b6a7a4e8663",
   "metadata": {},
   "source": []
  },
  {
   "cell_type": "markdown",
   "id": "92d88e9e-326a-4ce3-af26-a81bd82cc9a3",
   "metadata": {},
   "source": []
  },
  {
   "cell_type": "markdown",
   "id": "0eaa8157-ab7a-4f76-a98c-38d3b8120a5d",
   "metadata": {},
   "source": []
  },
  {
   "cell_type": "markdown",
   "id": "f08debe2-e892-4880-9732-87639a0a85b6",
   "metadata": {},
   "source": []
  },
  {
   "cell_type": "markdown",
   "id": "bc4be1e6-9bac-475e-a4f8-ec2b0ded33db",
   "metadata": {},
   "source": []
  },
  {
   "cell_type": "markdown",
   "id": "739a4f46-8d67-4d67-989f-38ee10c29830",
   "metadata": {},
   "source": []
  }
 ],
 "metadata": {
  "kernelspec": {
   "display_name": "Python 3 (ipykernel)",
   "language": "python",
   "name": "python3"
  },
  "language_info": {
   "codemirror_mode": {
    "name": "ipython",
    "version": 3
   },
   "file_extension": ".py",
   "mimetype": "text/x-python",
   "name": "python",
   "nbconvert_exporter": "python",
   "pygments_lexer": "ipython3",
   "version": "3.11.2"
  }
 },
 "nbformat": 4,
 "nbformat_minor": 5
}
