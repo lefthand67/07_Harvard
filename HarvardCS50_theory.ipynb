{
 "cells": [
  {
   "cell_type": "markdown",
   "id": "2d89a647-ffb9-4ec5-a488-1b279920f8d2",
   "metadata": {},
   "source": [
    "# CS50 from [Harvard](https://learning.edx.org/course/course-v1:HarvardX+CS50+X/home) THEORY"
   ]
  },
  {
   "cell_type": "markdown",
   "id": "101623fa-ca1f-43de-869b-27098123c666",
   "metadata": {},
   "source": [
    "# Week 1 C"
   ]
  },
  {
   "cell_type": "markdown",
   "id": "eec8c40b-ddaa-4006-a80f-240014c35bd7",
   "metadata": {},
   "source": [
    "## Data Types"
   ]
  },
  {
   "cell_type": "markdown",
   "id": "efa9557d-3525-4e5f-b73d-cfdb5b40bb7f",
   "metadata": {},
   "source": [
    "### Built-in Types"
   ]
  },
  {
   "cell_type": "markdown",
   "id": "85b9a9ec-d036-40f0-b815-8e3512939ce1",
   "metadata": {},
   "source": [
    "|data type|description|\n",
    "|-|-|\n",
    "|`int`|integers, 4 bytes (32 bits) of memory, range [$-2^{31}$; $2^{31}-1$]|\n",
    "|`unsigned int`|positive integers, range [0; $2^{32}-1$]|\n",
    "|`char`|a single character, 1 byte (8 bits) of memory, range [-128; 127]|\n",
    "|`float`|real numbers, 4 bytes, limited precision|\n",
    "|`double`|\"double precision\", real numbers, 8 bytes, much higher precision|\n",
    "|`void`|type, not a data type; don't return a value|\n",
    "|`struct`|allows to create a new variable|\n",
    "|`typedef`||"
   ]
  },
  {
   "cell_type": "markdown",
   "id": "998c6bf5-4029-4120-b0ab-c28768a6c7e2",
   "metadata": {},
   "source": [
    "### `int`"
   ]
  },
  {
   "cell_type": "code",
   "execution_count": 1,
   "id": "e64d47ce-19e7-465a-8eb1-4d411ed78f6f",
   "metadata": {
    "execution": {
     "iopub.execute_input": "2023-07-10T12:18:40.540922Z",
     "iopub.status.busy": "2023-07-10T12:18:40.540247Z",
     "iopub.status.idle": "2023-07-10T12:18:40.556478Z",
     "shell.execute_reply": "2023-07-10T12:18:40.554879Z",
     "shell.execute_reply.started": "2023-07-10T12:18:40.540886Z"
    },
    "tags": []
   },
   "outputs": [
    {
     "data": {
      "text/plain": [
       "-2147483648"
      ]
     },
     "execution_count": 1,
     "metadata": {},
     "output_type": "execute_result"
    }
   ],
   "source": [
    "-2 ** 31"
   ]
  },
  {
   "cell_type": "code",
   "execution_count": 4,
   "id": "f8b01399-dd49-4cb7-9f5f-965545935b47",
   "metadata": {
    "execution": {
     "iopub.execute_input": "2023-07-10T12:26:06.578046Z",
     "iopub.status.busy": "2023-07-10T12:26:06.577487Z",
     "iopub.status.idle": "2023-07-10T12:26:06.584821Z",
     "shell.execute_reply": "2023-07-10T12:26:06.583442Z",
     "shell.execute_reply.started": "2023-07-10T12:26:06.578014Z"
    },
    "tags": []
   },
   "outputs": [
    {
     "data": {
      "text/plain": [
       "4294967295"
      ]
     },
     "execution_count": 4,
     "metadata": {},
     "output_type": "execute_result"
    }
   ],
   "source": [
    "2 ** 32 - 1  # minus zero"
   ]
  },
  {
   "cell_type": "markdown",
   "id": "2b69b281-168b-454b-8066-fcad766120f2",
   "metadata": {},
   "source": [
    "### Other Data Types"
   ]
  },
  {
   "cell_type": "markdown",
   "id": "ad06c699-006f-48e5-a7d5-fc23482003fa",
   "metadata": {},
   "source": [
    "```c\n",
    "#include <stdio.h>\n",
    "#include <cs50.h> \n",
    "```\n",
    "\n",
    "|data type|description|\n",
    "|-|-|\n",
    "|`bool`|stores a Boolean value `true` or `false`|\n",
    "|`string`|stores a series of `char`s like words and sentences|"
   ]
  },
  {
   "cell_type": "markdown",
   "id": "b415c638-1023-4c3b-a724-049631c31271",
   "metadata": {},
   "source": [
    "### Creating variables"
   ]
  },
  {
   "cell_type": "markdown",
   "id": "7c889986-8f37-4321-9e88-ad73944a5cba",
   "metadata": {},
   "source": [
    "```c\n",
    "int number;              // declaration\n",
    "number = 17;             // assignment\n",
    "char letter;             // declaration\n",
    "letter = 'a';            // assignment\n",
    "\n",
    "int height, width;       // declaration\n",
    "float sqrt1, sqrt2, pi;  // declaration\n",
    "\n",
    "int number = 17;         // initialization\n",
    "char letter = 'a';       // initialization\n",
    "```\n",
    "\n",
    "In general, it's good practice to only _declare_ variables when you need them.\n",
    "\n",
    "Be aware of re-declaring variables! It leads to unexpected consequences."
   ]
  },
  {
   "cell_type": "markdown",
   "id": "b5dc2ef2-f8af-49f5-b8e5-08e5b51c8217",
   "metadata": {},
   "source": [
    "## Operators"
   ]
  },
  {
   "cell_type": "markdown",
   "id": "a3304eb5-85b2-4cc1-8b9d-9da2958444a6",
   "metadata": {},
   "source": [
    "### Arithmetic Operators"
   ]
  },
  {
   "cell_type": "markdown",
   "id": "ab5b5758-9ea5-46ec-80a6-43321fb850f6",
   "metadata": {},
   "source": [
    "|operator|description|\n",
    "|-|-|\n",
    "|`+`|addition|\n",
    "|`-`|subtraction|\n",
    "|`*`|multiplication|\n",
    "|`/`|division|\n",
    "|`%`|modulo division; behaves differently in different language when using negative values|"
   ]
  },
  {
   "cell_type": "markdown",
   "id": "fead016d-0daa-48a2-9704-7d0c630f68d0",
   "metadata": {},
   "source": [
    "```c\n",
    "int x = y + 1;\n",
    "x = x * 5;\n",
    "\n",
    "int m = 13 % 4;  // m is 1\n",
    "```"
   ]
  },
  {
   "cell_type": "markdown",
   "id": "e816e00a-5c0c-44ce-8208-6b9600a0c737",
   "metadata": {},
   "source": [
    "### Modulo `%` in Python"
   ]
  },
  {
   "cell_type": "code",
   "execution_count": 25,
   "id": "76a3c81f-74d9-4150-9605-66c488b3df38",
   "metadata": {
    "execution": {
     "iopub.execute_input": "2023-07-10T13:27:22.824740Z",
     "iopub.status.busy": "2023-07-10T13:27:22.824321Z",
     "iopub.status.idle": "2023-07-10T13:27:22.831471Z",
     "shell.execute_reply": "2023-07-10T13:27:22.830357Z",
     "shell.execute_reply.started": "2023-07-10T13:27:22.824702Z"
    },
    "tags": []
   },
   "outputs": [
    {
     "name": "stdout",
     "output_type": "stream",
     "text": [
      "Modulo in Python:\n",
      "19 % (-12) = -5\n",
      "\n",
      "Explanation:\n",
      "19 // -12 = -2\n",
      "-12 * -2 = 24\n",
      "19 - 24 = -5\n"
     ]
    }
   ],
   "source": [
    "a = 19\n",
    "b = -12\n",
    "c = a // b\n",
    "\n",
    "print(\"Modulo in Python:\")\n",
    "print(f\"{a} % ({b}) = {a%b}\")\n",
    "print(\"\\nExplanation:\")\n",
    "print(f\"{a} // {b} = {c}\")\n",
    "print(f\"{b} * {c} = {b * c}\")\n",
    "print(f\"{a} - {b * c} = {a - b*c}\")"
   ]
  },
  {
   "cell_type": "markdown",
   "id": "e76af219-39ab-49e8-9921-c558f81c3e9d",
   "metadata": {},
   "source": []
  },
  {
   "cell_type": "markdown",
   "id": "57b2192f-a26a-497b-a7d1-3459523706a3",
   "metadata": {},
   "source": []
  },
  {
   "cell_type": "markdown",
   "id": "739a4f46-8d67-4d67-989f-38ee10c29830",
   "metadata": {},
   "source": []
  }
 ],
 "metadata": {
  "kernelspec": {
   "display_name": "venv3.11",
   "language": "python",
   "name": "venv3.11"
  },
  "language_info": {
   "codemirror_mode": {
    "name": "ipython",
    "version": 3
   },
   "file_extension": ".py",
   "mimetype": "text/x-python",
   "name": "python",
   "nbconvert_exporter": "python",
   "pygments_lexer": "ipython3",
   "version": "3.11.4"
  }
 },
 "nbformat": 4,
 "nbformat_minor": 5
}
